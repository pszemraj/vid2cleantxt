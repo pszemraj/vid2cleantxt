{
 "nbformat": 4,
 "nbformat_minor": 0,
 "metadata": {
  "colab": {
   "name": "vid2cleantext - transcriber - multi-file version.ipynb",
   "provenance": [],
   "collapsed_sections": [
    "4aIqkxLVQA7R",
    "STyM3PrkCPzk",
    "9gqce-JlruPm"
   ],
   "toc_visible": true,
   "machine_shape": "hm",
   "mount_file_id": "1t-8lcxkhWzZOEroPzuA-2lgczCK--pno",
   "authorship_tag": "ABX9TyNLwdxnxyyGyy0u7BEbF4Ig",
   "include_colab_link": true
  },
  "kernelspec": {
   "name": "python3",
   "display_name": "Python 3"
  },
  "accelerator": "GPU",
  "widgets": {
   "application/vnd.jupyter.widget-state+json": {
    "671b160ff4874270a7d7fa4099629185": {
     "model_module": "@jupyter-widgets/controls",
     "model_name": "HBoxModel",
     "model_module_version": "1.5.0",
     "state": {
      "_view_name": "HBoxView",
      "_dom_classes": [],
      "_model_name": "HBoxModel",
      "_view_module": "@jupyter-widgets/controls",
      "_model_module_version": "1.5.0",
      "_view_count": null,
      "_view_module_version": "1.5.0",
      "box_style": "",
      "layout": "IPY_MODEL_490993f471934cf59dcdfdd1901727e3",
      "_model_module": "@jupyter-widgets/controls",
      "children": [
       "IPY_MODEL_9e64ca587c2b45e296f887fe7ec44bf4",
       "IPY_MODEL_591ef446a90841b3949adef76bdcbd39",
       "IPY_MODEL_1d7aedf0ddb845aea3a0b0fc9bc8c181"
      ]
     }
    },
    "490993f471934cf59dcdfdd1901727e3": {
     "model_module": "@jupyter-widgets/base",
     "model_name": "LayoutModel",
     "model_module_version": "1.2.0",
     "state": {
      "_view_name": "LayoutView",
      "grid_template_rows": null,
      "right": null,
      "justify_content": null,
      "_view_module": "@jupyter-widgets/base",
      "overflow": null,
      "_model_module_version": "1.2.0",
      "_view_count": null,
      "flex_flow": null,
      "width": null,
      "min_width": null,
      "border": null,
      "align_items": null,
      "bottom": null,
      "_model_module": "@jupyter-widgets/base",
      "top": null,
      "grid_column": null,
      "overflow_y": null,
      "overflow_x": null,
      "grid_auto_flow": null,
      "grid_area": null,
      "grid_template_columns": null,
      "flex": null,
      "_model_name": "LayoutModel",
      "justify_items": null,
      "grid_row": null,
      "max_height": null,
      "align_content": null,
      "visibility": null,
      "align_self": null,
      "height": null,
      "min_height": null,
      "padding": null,
      "grid_auto_rows": null,
      "grid_gap": null,
      "max_width": null,
      "order": null,
      "_view_module_version": "1.2.0",
      "grid_template_areas": null,
      "object_position": null,
      "object_fit": null,
      "grid_auto_columns": null,
      "margin": null,
      "display": null,
      "left": null
     }
    },
    "9e64ca587c2b45e296f887fe7ec44bf4": {
     "model_module": "@jupyter-widgets/controls",
     "model_name": "HTMLModel",
     "model_module_version": "1.5.0",
     "state": {
      "_view_name": "HTMLView",
      "style": "IPY_MODEL_aa62492fbe744f308097c5a805b4eada",
      "_dom_classes": [],
      "description": "",
      "_model_name": "HTMLModel",
      "placeholder": "​",
      "_view_module": "@jupyter-widgets/controls",
      "_model_module_version": "1.5.0",
      "value": "Downloading: 100%",
      "_view_count": null,
      "_view_module_version": "1.5.0",
      "description_tooltip": null,
      "_model_module": "@jupyter-widgets/controls",
      "layout": "IPY_MODEL_22463286d0b149c8ac95e4b2ac7dc6d3"
     }
    },
    "591ef446a90841b3949adef76bdcbd39": {
     "model_module": "@jupyter-widgets/controls",
     "model_name": "FloatProgressModel",
     "model_module_version": "1.5.0",
     "state": {
      "_view_name": "ProgressView",
      "style": "IPY_MODEL_f96df7b5449940578eada4c2f3416aed",
      "_dom_classes": [],
      "description": "",
      "_model_name": "FloatProgressModel",
      "bar_style": "success",
      "max": 291,
      "_view_module": "@jupyter-widgets/controls",
      "_model_module_version": "1.5.0",
      "value": 291,
      "_view_count": null,
      "_view_module_version": "1.5.0",
      "orientation": "horizontal",
      "min": 0,
      "description_tooltip": null,
      "_model_module": "@jupyter-widgets/controls",
      "layout": "IPY_MODEL_50fe9d8179f749cda5ca56208277a3fb"
     }
    },
    "1d7aedf0ddb845aea3a0b0fc9bc8c181": {
     "model_module": "@jupyter-widgets/controls",
     "model_name": "HTMLModel",
     "model_module_version": "1.5.0",
     "state": {
      "_view_name": "HTMLView",
      "style": "IPY_MODEL_659476a53fe247ad8cdb2767fe18bc28",
      "_dom_classes": [],
      "description": "",
      "_model_name": "HTMLModel",
      "placeholder": "​",
      "_view_module": "@jupyter-widgets/controls",
      "_model_module_version": "1.5.0",
      "value": " 291/291 [00:00&lt;00:00, 7.79kB/s]",
      "_view_count": null,
      "_view_module_version": "1.5.0",
      "description_tooltip": null,
      "_model_module": "@jupyter-widgets/controls",
      "layout": "IPY_MODEL_dc097d4ab895433badc441d080298dae"
     }
    },
    "aa62492fbe744f308097c5a805b4eada": {
     "model_module": "@jupyter-widgets/controls",
     "model_name": "DescriptionStyleModel",
     "model_module_version": "1.5.0",
     "state": {
      "_view_name": "StyleView",
      "_model_name": "DescriptionStyleModel",
      "description_width": "",
      "_view_module": "@jupyter-widgets/base",
      "_model_module_version": "1.5.0",
      "_view_count": null,
      "_view_module_version": "1.2.0",
      "_model_module": "@jupyter-widgets/controls"
     }
    },
    "22463286d0b149c8ac95e4b2ac7dc6d3": {
     "model_module": "@jupyter-widgets/base",
     "model_name": "LayoutModel",
     "model_module_version": "1.2.0",
     "state": {
      "_view_name": "LayoutView",
      "grid_template_rows": null,
      "right": null,
      "justify_content": null,
      "_view_module": "@jupyter-widgets/base",
      "overflow": null,
      "_model_module_version": "1.2.0",
      "_view_count": null,
      "flex_flow": null,
      "width": null,
      "min_width": null,
      "border": null,
      "align_items": null,
      "bottom": null,
      "_model_module": "@jupyter-widgets/base",
      "top": null,
      "grid_column": null,
      "overflow_y": null,
      "overflow_x": null,
      "grid_auto_flow": null,
      "grid_area": null,
      "grid_template_columns": null,
      "flex": null,
      "_model_name": "LayoutModel",
      "justify_items": null,
      "grid_row": null,
      "max_height": null,
      "align_content": null,
      "visibility": null,
      "align_self": null,
      "height": null,
      "min_height": null,
      "padding": null,
      "grid_auto_rows": null,
      "grid_gap": null,
      "max_width": null,
      "order": null,
      "_view_module_version": "1.2.0",
      "grid_template_areas": null,
      "object_position": null,
      "object_fit": null,
      "grid_auto_columns": null,
      "margin": null,
      "display": null,
      "left": null
     }
    },
    "f96df7b5449940578eada4c2f3416aed": {
     "model_module": "@jupyter-widgets/controls",
     "model_name": "ProgressStyleModel",
     "model_module_version": "1.5.0",
     "state": {
      "_view_name": "StyleView",
      "_model_name": "ProgressStyleModel",
      "description_width": "",
      "_view_module": "@jupyter-widgets/base",
      "_model_module_version": "1.5.0",
      "_view_count": null,
      "_view_module_version": "1.2.0",
      "bar_color": null,
      "_model_module": "@jupyter-widgets/controls"
     }
    },
    "50fe9d8179f749cda5ca56208277a3fb": {
     "model_module": "@jupyter-widgets/base",
     "model_name": "LayoutModel",
     "model_module_version": "1.2.0",
     "state": {
      "_view_name": "LayoutView",
      "grid_template_rows": null,
      "right": null,
      "justify_content": null,
      "_view_module": "@jupyter-widgets/base",
      "overflow": null,
      "_model_module_version": "1.2.0",
      "_view_count": null,
      "flex_flow": null,
      "width": null,
      "min_width": null,
      "border": null,
      "align_items": null,
      "bottom": null,
      "_model_module": "@jupyter-widgets/base",
      "top": null,
      "grid_column": null,
      "overflow_y": null,
      "overflow_x": null,
      "grid_auto_flow": null,
      "grid_area": null,
      "grid_template_columns": null,
      "flex": null,
      "_model_name": "LayoutModel",
      "justify_items": null,
      "grid_row": null,
      "max_height": null,
      "align_content": null,
      "visibility": null,
      "align_self": null,
      "height": null,
      "min_height": null,
      "padding": null,
      "grid_auto_rows": null,
      "grid_gap": null,
      "max_width": null,
      "order": null,
      "_view_module_version": "1.2.0",
      "grid_template_areas": null,
      "object_position": null,
      "object_fit": null,
      "grid_auto_columns": null,
      "margin": null,
      "display": null,
      "left": null
     }
    },
    "659476a53fe247ad8cdb2767fe18bc28": {
     "model_module": "@jupyter-widgets/controls",
     "model_name": "DescriptionStyleModel",
     "model_module_version": "1.5.0",
     "state": {
      "_view_name": "StyleView",
      "_model_name": "DescriptionStyleModel",
      "description_width": "",
      "_view_module": "@jupyter-widgets/base",
      "_model_module_version": "1.5.0",
      "_view_count": null,
      "_view_module_version": "1.2.0",
      "_model_module": "@jupyter-widgets/controls"
     }
    },
    "dc097d4ab895433badc441d080298dae": {
     "model_module": "@jupyter-widgets/base",
     "model_name": "LayoutModel",
     "model_module_version": "1.2.0",
     "state": {
      "_view_name": "LayoutView",
      "grid_template_rows": null,
      "right": null,
      "justify_content": null,
      "_view_module": "@jupyter-widgets/base",
      "overflow": null,
      "_model_module_version": "1.2.0",
      "_view_count": null,
      "flex_flow": null,
      "width": null,
      "min_width": null,
      "border": null,
      "align_items": null,
      "bottom": null,
      "_model_module": "@jupyter-widgets/base",
      "top": null,
      "grid_column": null,
      "overflow_y": null,
      "overflow_x": null,
      "grid_auto_flow": null,
      "grid_area": null,
      "grid_template_columns": null,
      "flex": null,
      "_model_name": "LayoutModel",
      "justify_items": null,
      "grid_row": null,
      "max_height": null,
      "align_content": null,
      "visibility": null,
      "align_self": null,
      "height": null,
      "min_height": null,
      "padding": null,
      "grid_auto_rows": null,
      "grid_gap": null,
      "max_width": null,
      "order": null,
      "_view_module_version": "1.2.0",
      "grid_template_areas": null,
      "object_position": null,
      "object_fit": null,
      "grid_auto_columns": null,
      "margin": null,
      "display": null,
      "left": null
     }
    },
    "24deab8044f141aa8748f051cc00304c": {
     "model_module": "@jupyter-widgets/controls",
     "model_name": "HBoxModel",
     "model_module_version": "1.5.0",
     "state": {
      "_view_name": "HBoxView",
      "_dom_classes": [],
      "_model_name": "HBoxModel",
      "_view_module": "@jupyter-widgets/controls",
      "_model_module_version": "1.5.0",
      "_view_count": null,
      "_view_module_version": "1.5.0",
      "box_style": "",
      "layout": "IPY_MODEL_495c66893fe14023993088bf231217cf",
      "_model_module": "@jupyter-widgets/controls",
      "children": [
       "IPY_MODEL_a18da3ce200d4ccf8370422c97b048d6",
       "IPY_MODEL_e5fe4897ec5648428d5c587adf9f1ddb",
       "IPY_MODEL_a344f07998d7485ba30cb1638f47188c"
      ]
     }
    },
    "495c66893fe14023993088bf231217cf": {
     "model_module": "@jupyter-widgets/base",
     "model_name": "LayoutModel",
     "model_module_version": "1.2.0",
     "state": {
      "_view_name": "LayoutView",
      "grid_template_rows": null,
      "right": null,
      "justify_content": null,
      "_view_module": "@jupyter-widgets/base",
      "overflow": null,
      "_model_module_version": "1.2.0",
      "_view_count": null,
      "flex_flow": null,
      "width": null,
      "min_width": null,
      "border": null,
      "align_items": null,
      "bottom": null,
      "_model_module": "@jupyter-widgets/base",
      "top": null,
      "grid_column": null,
      "overflow_y": null,
      "overflow_x": null,
      "grid_auto_flow": null,
      "grid_area": null,
      "grid_template_columns": null,
      "flex": null,
      "_model_name": "LayoutModel",
      "justify_items": null,
      "grid_row": null,
      "max_height": null,
      "align_content": null,
      "visibility": null,
      "align_self": null,
      "height": null,
      "min_height": null,
      "padding": null,
      "grid_auto_rows": null,
      "grid_gap": null,
      "max_width": null,
      "order": null,
      "_view_module_version": "1.2.0",
      "grid_template_areas": null,
      "object_position": null,
      "object_fit": null,
      "grid_auto_columns": null,
      "margin": null,
      "display": null,
      "left": null
     }
    },
    "a18da3ce200d4ccf8370422c97b048d6": {
     "model_module": "@jupyter-widgets/controls",
     "model_name": "HTMLModel",
     "model_module_version": "1.5.0",
     "state": {
      "_view_name": "HTMLView",
      "style": "IPY_MODEL_0ac36b9882ec4b6da69fd7e27ca7da2b",
      "_dom_classes": [],
      "description": "",
      "_model_name": "HTMLModel",
      "placeholder": "​",
      "_view_module": "@jupyter-widgets/controls",
      "_model_module_version": "1.5.0",
      "value": "Downloading: 100%",
      "_view_count": null,
      "_view_module_version": "1.5.0",
      "description_tooltip": null,
      "_model_module": "@jupyter-widgets/controls",
      "layout": "IPY_MODEL_0f5255da8c2b4cd98ca69b8e72bc42ab"
     }
    },
    "e5fe4897ec5648428d5c587adf9f1ddb": {
     "model_module": "@jupyter-widgets/controls",
     "model_name": "FloatProgressModel",
     "model_module_version": "1.5.0",
     "state": {
      "_view_name": "ProgressView",
      "style": "IPY_MODEL_6850cb3d8cd54a8895b646ded760c23a",
      "_dom_classes": [],
      "description": "",
      "_model_name": "FloatProgressModel",
      "bar_style": "success",
      "max": 162,
      "_view_module": "@jupyter-widgets/controls",
      "_model_module_version": "1.5.0",
      "value": 162,
      "_view_count": null,
      "_view_module_version": "1.5.0",
      "orientation": "horizontal",
      "min": 0,
      "description_tooltip": null,
      "_model_module": "@jupyter-widgets/controls",
      "layout": "IPY_MODEL_307a2e7de8964a4085351ca4ffabcbfb"
     }
    },
    "a344f07998d7485ba30cb1638f47188c": {
     "model_module": "@jupyter-widgets/controls",
     "model_name": "HTMLModel",
     "model_module_version": "1.5.0",
     "state": {
      "_view_name": "HTMLView",
      "style": "IPY_MODEL_7c940e20e0914f0399721b07021b03c9",
      "_dom_classes": [],
      "description": "",
      "_model_name": "HTMLModel",
      "placeholder": "​",
      "_view_module": "@jupyter-widgets/controls",
      "_model_module_version": "1.5.0",
      "value": " 162/162 [00:00&lt;00:00, 5.23kB/s]",
      "_view_count": null,
      "_view_module_version": "1.5.0",
      "description_tooltip": null,
      "_model_module": "@jupyter-widgets/controls",
      "layout": "IPY_MODEL_368432e514d449319d76af1110c097e1"
     }
    },
    "0ac36b9882ec4b6da69fd7e27ca7da2b": {
     "model_module": "@jupyter-widgets/controls",
     "model_name": "DescriptionStyleModel",
     "model_module_version": "1.5.0",
     "state": {
      "_view_name": "StyleView",
      "_model_name": "DescriptionStyleModel",
      "description_width": "",
      "_view_module": "@jupyter-widgets/base",
      "_model_module_version": "1.5.0",
      "_view_count": null,
      "_view_module_version": "1.2.0",
      "_model_module": "@jupyter-widgets/controls"
     }
    },
    "0f5255da8c2b4cd98ca69b8e72bc42ab": {
     "model_module": "@jupyter-widgets/base",
     "model_name": "LayoutModel",
     "model_module_version": "1.2.0",
     "state": {
      "_view_name": "LayoutView",
      "grid_template_rows": null,
      "right": null,
      "justify_content": null,
      "_view_module": "@jupyter-widgets/base",
      "overflow": null,
      "_model_module_version": "1.2.0",
      "_view_count": null,
      "flex_flow": null,
      "width": null,
      "min_width": null,
      "border": null,
      "align_items": null,
      "bottom": null,
      "_model_module": "@jupyter-widgets/base",
      "top": null,
      "grid_column": null,
      "overflow_y": null,
      "overflow_x": null,
      "grid_auto_flow": null,
      "grid_area": null,
      "grid_template_columns": null,
      "flex": null,
      "_model_name": "LayoutModel",
      "justify_items": null,
      "grid_row": null,
      "max_height": null,
      "align_content": null,
      "visibility": null,
      "align_self": null,
      "height": null,
      "min_height": null,
      "padding": null,
      "grid_auto_rows": null,
      "grid_gap": null,
      "max_width": null,
      "order": null,
      "_view_module_version": "1.2.0",
      "grid_template_areas": null,
      "object_position": null,
      "object_fit": null,
      "grid_auto_columns": null,
      "margin": null,
      "display": null,
      "left": null
     }
    },
    "6850cb3d8cd54a8895b646ded760c23a": {
     "model_module": "@jupyter-widgets/controls",
     "model_name": "ProgressStyleModel",
     "model_module_version": "1.5.0",
     "state": {
      "_view_name": "StyleView",
      "_model_name": "ProgressStyleModel",
      "description_width": "",
      "_view_module": "@jupyter-widgets/base",
      "_model_module_version": "1.5.0",
      "_view_count": null,
      "_view_module_version": "1.2.0",
      "bar_color": null,
      "_model_module": "@jupyter-widgets/controls"
     }
    },
    "307a2e7de8964a4085351ca4ffabcbfb": {
     "model_module": "@jupyter-widgets/base",
     "model_name": "LayoutModel",
     "model_module_version": "1.2.0",
     "state": {
      "_view_name": "LayoutView",
      "grid_template_rows": null,
      "right": null,
      "justify_content": null,
      "_view_module": "@jupyter-widgets/base",
      "overflow": null,
      "_model_module_version": "1.2.0",
      "_view_count": null,
      "flex_flow": null,
      "width": null,
      "min_width": null,
      "border": null,
      "align_items": null,
      "bottom": null,
      "_model_module": "@jupyter-widgets/base",
      "top": null,
      "grid_column": null,
      "overflow_y": null,
      "overflow_x": null,
      "grid_auto_flow": null,
      "grid_area": null,
      "grid_template_columns": null,
      "flex": null,
      "_model_name": "LayoutModel",
      "justify_items": null,
      "grid_row": null,
      "max_height": null,
      "align_content": null,
      "visibility": null,
      "align_self": null,
      "height": null,
      "min_height": null,
      "padding": null,
      "grid_auto_rows": null,
      "grid_gap": null,
      "max_width": null,
      "order": null,
      "_view_module_version": "1.2.0",
      "grid_template_areas": null,
      "object_position": null,
      "object_fit": null,
      "grid_auto_columns": null,
      "margin": null,
      "display": null,
      "left": null
     }
    },
    "7c940e20e0914f0399721b07021b03c9": {
     "model_module": "@jupyter-widgets/controls",
     "model_name": "DescriptionStyleModel",
     "model_module_version": "1.5.0",
     "state": {
      "_view_name": "StyleView",
      "_model_name": "DescriptionStyleModel",
      "description_width": "",
      "_view_module": "@jupyter-widgets/base",
      "_model_module_version": "1.5.0",
      "_view_count": null,
      "_view_module_version": "1.2.0",
      "_model_module": "@jupyter-widgets/controls"
     }
    },
    "368432e514d449319d76af1110c097e1": {
     "model_module": "@jupyter-widgets/base",
     "model_name": "LayoutModel",
     "model_module_version": "1.2.0",
     "state": {
      "_view_name": "LayoutView",
      "grid_template_rows": null,
      "right": null,
      "justify_content": null,
      "_view_module": "@jupyter-widgets/base",
      "overflow": null,
      "_model_module_version": "1.2.0",
      "_view_count": null,
      "flex_flow": null,
      "width": null,
      "min_width": null,
      "border": null,
      "align_items": null,
      "bottom": null,
      "_model_module": "@jupyter-widgets/base",
      "top": null,
      "grid_column": null,
      "overflow_y": null,
      "overflow_x": null,
      "grid_auto_flow": null,
      "grid_area": null,
      "grid_template_columns": null,
      "flex": null,
      "_model_name": "LayoutModel",
      "justify_items": null,
      "grid_row": null,
      "max_height": null,
      "align_content": null,
      "visibility": null,
      "align_self": null,
      "height": null,
      "min_height": null,
      "padding": null,
      "grid_auto_rows": null,
      "grid_gap": null,
      "max_width": null,
      "order": null,
      "_view_module_version": "1.2.0",
      "grid_template_areas": null,
      "object_position": null,
      "object_fit": null,
      "grid_auto_columns": null,
      "margin": null,
      "display": null,
      "left": null
     }
    },
    "8ff5a07991d94760b8bad10a4a7cdc79": {
     "model_module": "@jupyter-widgets/controls",
     "model_name": "HBoxModel",
     "model_module_version": "1.5.0",
     "state": {
      "_view_name": "HBoxView",
      "_dom_classes": [],
      "_model_name": "HBoxModel",
      "_view_module": "@jupyter-widgets/controls",
      "_model_module_version": "1.5.0",
      "_view_count": null,
      "_view_module_version": "1.5.0",
      "box_style": "",
      "layout": "IPY_MODEL_dd8538e429874b42bf131a6e1f79dbf5",
      "_model_module": "@jupyter-widgets/controls",
      "children": [
       "IPY_MODEL_66dc901aa78648838b1be1ee984e641b",
       "IPY_MODEL_cf92fa9681b14c5faf4dbdff55d9d0d1",
       "IPY_MODEL_551d739b65674cce99c97de9f2de45d2"
      ]
     }
    },
    "dd8538e429874b42bf131a6e1f79dbf5": {
     "model_module": "@jupyter-widgets/base",
     "model_name": "LayoutModel",
     "model_module_version": "1.2.0",
     "state": {
      "_view_name": "LayoutView",
      "grid_template_rows": null,
      "right": null,
      "justify_content": null,
      "_view_module": "@jupyter-widgets/base",
      "overflow": null,
      "_model_module_version": "1.2.0",
      "_view_count": null,
      "flex_flow": null,
      "width": null,
      "min_width": null,
      "border": null,
      "align_items": null,
      "bottom": null,
      "_model_module": "@jupyter-widgets/base",
      "top": null,
      "grid_column": null,
      "overflow_y": null,
      "overflow_x": null,
      "grid_auto_flow": null,
      "grid_area": null,
      "grid_template_columns": null,
      "flex": null,
      "_model_name": "LayoutModel",
      "justify_items": null,
      "grid_row": null,
      "max_height": null,
      "align_content": null,
      "visibility": null,
      "align_self": null,
      "height": null,
      "min_height": null,
      "padding": null,
      "grid_auto_rows": null,
      "grid_gap": null,
      "max_width": null,
      "order": null,
      "_view_module_version": "1.2.0",
      "grid_template_areas": null,
      "object_position": null,
      "object_fit": null,
      "grid_auto_columns": null,
      "margin": null,
      "display": null,
      "left": null
     }
    },
    "66dc901aa78648838b1be1ee984e641b": {
     "model_module": "@jupyter-widgets/controls",
     "model_name": "HTMLModel",
     "model_module_version": "1.5.0",
     "state": {
      "_view_name": "HTMLView",
      "style": "IPY_MODEL_dddf5cb609f642f980c031bf27e12bf9",
      "_dom_classes": [],
      "description": "",
      "_model_name": "HTMLModel",
      "placeholder": "​",
      "_view_module": "@jupyter-widgets/controls",
      "_model_module_version": "1.5.0",
      "value": "Downloading: 100%",
      "_view_count": null,
      "_view_module_version": "1.5.0",
      "description_tooltip": null,
      "_model_module": "@jupyter-widgets/controls",
      "layout": "IPY_MODEL_6d14df666f144314a2b156e19fc67771"
     }
    },
    "cf92fa9681b14c5faf4dbdff55d9d0d1": {
     "model_module": "@jupyter-widgets/controls",
     "model_name": "FloatProgressModel",
     "model_module_version": "1.5.0",
     "state": {
      "_view_name": "ProgressView",
      "style": "IPY_MODEL_8162235d519b4d76af09463431b09df7",
      "_dom_classes": [],
      "description": "",
      "_model_name": "FloatProgressModel",
      "bar_style": "success",
      "max": 85,
      "_view_module": "@jupyter-widgets/controls",
      "_model_module_version": "1.5.0",
      "value": 85,
      "_view_count": null,
      "_view_module_version": "1.5.0",
      "orientation": "horizontal",
      "min": 0,
      "description_tooltip": null,
      "_model_module": "@jupyter-widgets/controls",
      "layout": "IPY_MODEL_0957514bb6a442a48afcc9167a581d8f"
     }
    },
    "551d739b65674cce99c97de9f2de45d2": {
     "model_module": "@jupyter-widgets/controls",
     "model_name": "HTMLModel",
     "model_module_version": "1.5.0",
     "state": {
      "_view_name": "HTMLView",
      "style": "IPY_MODEL_c2f1463979b242a6ab29794f3932dd86",
      "_dom_classes": [],
      "description": "",
      "_model_name": "HTMLModel",
      "placeholder": "​",
      "_view_module": "@jupyter-widgets/controls",
      "_model_module_version": "1.5.0",
      "value": " 85.0/85.0 [00:00&lt;00:00, 2.74kB/s]",
      "_view_count": null,
      "_view_module_version": "1.5.0",
      "description_tooltip": null,
      "_model_module": "@jupyter-widgets/controls",
      "layout": "IPY_MODEL_7dc05548075d4ab78ac942ee2a44e62d"
     }
    },
    "dddf5cb609f642f980c031bf27e12bf9": {
     "model_module": "@jupyter-widgets/controls",
     "model_name": "DescriptionStyleModel",
     "model_module_version": "1.5.0",
     "state": {
      "_view_name": "StyleView",
      "_model_name": "DescriptionStyleModel",
      "description_width": "",
      "_view_module": "@jupyter-widgets/base",
      "_model_module_version": "1.5.0",
      "_view_count": null,
      "_view_module_version": "1.2.0",
      "_model_module": "@jupyter-widgets/controls"
     }
    },
    "6d14df666f144314a2b156e19fc67771": {
     "model_module": "@jupyter-widgets/base",
     "model_name": "LayoutModel",
     "model_module_version": "1.2.0",
     "state": {
      "_view_name": "LayoutView",
      "grid_template_rows": null,
      "right": null,
      "justify_content": null,
      "_view_module": "@jupyter-widgets/base",
      "overflow": null,
      "_model_module_version": "1.2.0",
      "_view_count": null,
      "flex_flow": null,
      "width": null,
      "min_width": null,
      "border": null,
      "align_items": null,
      "bottom": null,
      "_model_module": "@jupyter-widgets/base",
      "top": null,
      "grid_column": null,
      "overflow_y": null,
      "overflow_x": null,
      "grid_auto_flow": null,
      "grid_area": null,
      "grid_template_columns": null,
      "flex": null,
      "_model_name": "LayoutModel",
      "justify_items": null,
      "grid_row": null,
      "max_height": null,
      "align_content": null,
      "visibility": null,
      "align_self": null,
      "height": null,
      "min_height": null,
      "padding": null,
      "grid_auto_rows": null,
      "grid_gap": null,
      "max_width": null,
      "order": null,
      "_view_module_version": "1.2.0",
      "grid_template_areas": null,
      "object_position": null,
      "object_fit": null,
      "grid_auto_columns": null,
      "margin": null,
      "display": null,
      "left": null
     }
    },
    "8162235d519b4d76af09463431b09df7": {
     "model_module": "@jupyter-widgets/controls",
     "model_name": "ProgressStyleModel",
     "model_module_version": "1.5.0",
     "state": {
      "_view_name": "StyleView",
      "_model_name": "ProgressStyleModel",
      "description_width": "",
      "_view_module": "@jupyter-widgets/base",
      "_model_module_version": "1.5.0",
      "_view_count": null,
      "_view_module_version": "1.2.0",
      "bar_color": null,
      "_model_module": "@jupyter-widgets/controls"
     }
    },
    "0957514bb6a442a48afcc9167a581d8f": {
     "model_module": "@jupyter-widgets/base",
     "model_name": "LayoutModel",
     "model_module_version": "1.2.0",
     "state": {
      "_view_name": "LayoutView",
      "grid_template_rows": null,
      "right": null,
      "justify_content": null,
      "_view_module": "@jupyter-widgets/base",
      "overflow": null,
      "_model_module_version": "1.2.0",
      "_view_count": null,
      "flex_flow": null,
      "width": null,
      "min_width": null,
      "border": null,
      "align_items": null,
      "bottom": null,
      "_model_module": "@jupyter-widgets/base",
      "top": null,
      "grid_column": null,
      "overflow_y": null,
      "overflow_x": null,
      "grid_auto_flow": null,
      "grid_area": null,
      "grid_template_columns": null,
      "flex": null,
      "_model_name": "LayoutModel",
      "justify_items": null,
      "grid_row": null,
      "max_height": null,
      "align_content": null,
      "visibility": null,
      "align_self": null,
      "height": null,
      "min_height": null,
      "padding": null,
      "grid_auto_rows": null,
      "grid_gap": null,
      "max_width": null,
      "order": null,
      "_view_module_version": "1.2.0",
      "grid_template_areas": null,
      "object_position": null,
      "object_fit": null,
      "grid_auto_columns": null,
      "margin": null,
      "display": null,
      "left": null
     }
    },
    "c2f1463979b242a6ab29794f3932dd86": {
     "model_module": "@jupyter-widgets/controls",
     "model_name": "DescriptionStyleModel",
     "model_module_version": "1.5.0",
     "state": {
      "_view_name": "StyleView",
      "_model_name": "DescriptionStyleModel",
      "description_width": "",
      "_view_module": "@jupyter-widgets/base",
      "_model_module_version": "1.5.0",
      "_view_count": null,
      "_view_module_version": "1.2.0",
      "_model_module": "@jupyter-widgets/controls"
     }
    },
    "7dc05548075d4ab78ac942ee2a44e62d": {
     "model_module": "@jupyter-widgets/base",
     "model_name": "LayoutModel",
     "model_module_version": "1.2.0",
     "state": {
      "_view_name": "LayoutView",
      "grid_template_rows": null,
      "right": null,
      "justify_content": null,
      "_view_module": "@jupyter-widgets/base",
      "overflow": null,
      "_model_module_version": "1.2.0",
      "_view_count": null,
      "flex_flow": null,
      "width": null,
      "min_width": null,
      "border": null,
      "align_items": null,
      "bottom": null,
      "_model_module": "@jupyter-widgets/base",
      "top": null,
      "grid_column": null,
      "overflow_y": null,
      "overflow_x": null,
      "grid_auto_flow": null,
      "grid_area": null,
      "grid_template_columns": null,
      "flex": null,
      "_model_name": "LayoutModel",
      "justify_items": null,
      "grid_row": null,
      "max_height": null,
      "align_content": null,
      "visibility": null,
      "align_self": null,
      "height": null,
      "min_height": null,
      "padding": null,
      "grid_auto_rows": null,
      "grid_gap": null,
      "max_width": null,
      "order": null,
      "_view_module_version": "1.2.0",
      "grid_template_areas": null,
      "object_position": null,
      "object_fit": null,
      "grid_auto_columns": null,
      "margin": null,
      "display": null,
      "left": null
     }
    },
    "647f6270a0f840f0ad4f777c8d50d876": {
     "model_module": "@jupyter-widgets/controls",
     "model_name": "HBoxModel",
     "model_module_version": "1.5.0",
     "state": {
      "_view_name": "HBoxView",
      "_dom_classes": [],
      "_model_name": "HBoxModel",
      "_view_module": "@jupyter-widgets/controls",
      "_model_module_version": "1.5.0",
      "_view_count": null,
      "_view_module_version": "1.5.0",
      "box_style": "",
      "layout": "IPY_MODEL_a0e5e60564944688b507512f9a551e79",
      "_model_module": "@jupyter-widgets/controls",
      "children": [
       "IPY_MODEL_855060711cfe4b03b49416c92a37b55c",
       "IPY_MODEL_679ecbfb90714ab5bf2c4ca82010e1ed",
       "IPY_MODEL_69e2d94618f44805ba17e28460ae449f"
      ]
     }
    },
    "a0e5e60564944688b507512f9a551e79": {
     "model_module": "@jupyter-widgets/base",
     "model_name": "LayoutModel",
     "model_module_version": "1.2.0",
     "state": {
      "_view_name": "LayoutView",
      "grid_template_rows": null,
      "right": null,
      "justify_content": null,
      "_view_module": "@jupyter-widgets/base",
      "overflow": null,
      "_model_module_version": "1.2.0",
      "_view_count": null,
      "flex_flow": null,
      "width": null,
      "min_width": null,
      "border": null,
      "align_items": null,
      "bottom": null,
      "_model_module": "@jupyter-widgets/base",
      "top": null,
      "grid_column": null,
      "overflow_y": null,
      "overflow_x": null,
      "grid_auto_flow": null,
      "grid_area": null,
      "grid_template_columns": null,
      "flex": null,
      "_model_name": "LayoutModel",
      "justify_items": null,
      "grid_row": null,
      "max_height": null,
      "align_content": null,
      "visibility": null,
      "align_self": null,
      "height": null,
      "min_height": null,
      "padding": null,
      "grid_auto_rows": null,
      "grid_gap": null,
      "max_width": null,
      "order": null,
      "_view_module_version": "1.2.0",
      "grid_template_areas": null,
      "object_position": null,
      "object_fit": null,
      "grid_auto_columns": null,
      "margin": null,
      "display": null,
      "left": null
     }
    },
    "855060711cfe4b03b49416c92a37b55c": {
     "model_module": "@jupyter-widgets/controls",
     "model_name": "HTMLModel",
     "model_module_version": "1.5.0",
     "state": {
      "_view_name": "HTMLView",
      "style": "IPY_MODEL_495dc31bb3ce443b8254ebaa01051ce0",
      "_dom_classes": [],
      "description": "",
      "_model_name": "HTMLModel",
      "placeholder": "​",
      "_view_module": "@jupyter-widgets/controls",
      "_model_module_version": "1.5.0",
      "value": "Downloading: 100%",
      "_view_count": null,
      "_view_module_version": "1.5.0",
      "description_tooltip": null,
      "_model_module": "@jupyter-widgets/controls",
      "layout": "IPY_MODEL_d7b8bf297f29448da0c63fa807fa9cd0"
     }
    },
    "679ecbfb90714ab5bf2c4ca82010e1ed": {
     "model_module": "@jupyter-widgets/controls",
     "model_name": "FloatProgressModel",
     "model_module_version": "1.5.0",
     "state": {
      "_view_name": "ProgressView",
      "style": "IPY_MODEL_51252cf669d44f0087510815a046a74f",
      "_dom_classes": [],
      "description": "",
      "_model_name": "FloatProgressModel",
      "bar_style": "success",
      "max": 1606,
      "_view_module": "@jupyter-widgets/controls",
      "_model_module_version": "1.5.0",
      "value": 1606,
      "_view_count": null,
      "_view_module_version": "1.5.0",
      "orientation": "horizontal",
      "min": 0,
      "description_tooltip": null,
      "_model_module": "@jupyter-widgets/controls",
      "layout": "IPY_MODEL_20b126c3580a4e09934f7765661d034a"
     }
    },
    "69e2d94618f44805ba17e28460ae449f": {
     "model_module": "@jupyter-widgets/controls",
     "model_name": "HTMLModel",
     "model_module_version": "1.5.0",
     "state": {
      "_view_name": "HTMLView",
      "style": "IPY_MODEL_b5f710fcb50a4d04b362da78251ca5fd",
      "_dom_classes": [],
      "description": "",
      "_model_name": "HTMLModel",
      "placeholder": "​",
      "_view_module": "@jupyter-widgets/controls",
      "_model_module_version": "1.5.0",
      "value": " 1.61k/1.61k [00:00&lt;00:00, 51.6kB/s]",
      "_view_count": null,
      "_view_module_version": "1.5.0",
      "description_tooltip": null,
      "_model_module": "@jupyter-widgets/controls",
      "layout": "IPY_MODEL_95b2559104e1443cbe640048e9f4698d"
     }
    },
    "495dc31bb3ce443b8254ebaa01051ce0": {
     "model_module": "@jupyter-widgets/controls",
     "model_name": "DescriptionStyleModel",
     "model_module_version": "1.5.0",
     "state": {
      "_view_name": "StyleView",
      "_model_name": "DescriptionStyleModel",
      "description_width": "",
      "_view_module": "@jupyter-widgets/base",
      "_model_module_version": "1.5.0",
      "_view_count": null,
      "_view_module_version": "1.2.0",
      "_model_module": "@jupyter-widgets/controls"
     }
    },
    "d7b8bf297f29448da0c63fa807fa9cd0": {
     "model_module": "@jupyter-widgets/base",
     "model_name": "LayoutModel",
     "model_module_version": "1.2.0",
     "state": {
      "_view_name": "LayoutView",
      "grid_template_rows": null,
      "right": null,
      "justify_content": null,
      "_view_module": "@jupyter-widgets/base",
      "overflow": null,
      "_model_module_version": "1.2.0",
      "_view_count": null,
      "flex_flow": null,
      "width": null,
      "min_width": null,
      "border": null,
      "align_items": null,
      "bottom": null,
      "_model_module": "@jupyter-widgets/base",
      "top": null,
      "grid_column": null,
      "overflow_y": null,
      "overflow_x": null,
      "grid_auto_flow": null,
      "grid_area": null,
      "grid_template_columns": null,
      "flex": null,
      "_model_name": "LayoutModel",
      "justify_items": null,
      "grid_row": null,
      "max_height": null,
      "align_content": null,
      "visibility": null,
      "align_self": null,
      "height": null,
      "min_height": null,
      "padding": null,
      "grid_auto_rows": null,
      "grid_gap": null,
      "max_width": null,
      "order": null,
      "_view_module_version": "1.2.0",
      "grid_template_areas": null,
      "object_position": null,
      "object_fit": null,
      "grid_auto_columns": null,
      "margin": null,
      "display": null,
      "left": null
     }
    },
    "51252cf669d44f0087510815a046a74f": {
     "model_module": "@jupyter-widgets/controls",
     "model_name": "ProgressStyleModel",
     "model_module_version": "1.5.0",
     "state": {
      "_view_name": "StyleView",
      "_model_name": "ProgressStyleModel",
      "description_width": "",
      "_view_module": "@jupyter-widgets/base",
      "_model_module_version": "1.5.0",
      "_view_count": null,
      "_view_module_version": "1.2.0",
      "bar_color": null,
      "_model_module": "@jupyter-widgets/controls"
     }
    },
    "20b126c3580a4e09934f7765661d034a": {
     "model_module": "@jupyter-widgets/base",
     "model_name": "LayoutModel",
     "model_module_version": "1.2.0",
     "state": {
      "_view_name": "LayoutView",
      "grid_template_rows": null,
      "right": null,
      "justify_content": null,
      "_view_module": "@jupyter-widgets/base",
      "overflow": null,
      "_model_module_version": "1.2.0",
      "_view_count": null,
      "flex_flow": null,
      "width": null,
      "min_width": null,
      "border": null,
      "align_items": null,
      "bottom": null,
      "_model_module": "@jupyter-widgets/base",
      "top": null,
      "grid_column": null,
      "overflow_y": null,
      "overflow_x": null,
      "grid_auto_flow": null,
      "grid_area": null,
      "grid_template_columns": null,
      "flex": null,
      "_model_name": "LayoutModel",
      "justify_items": null,
      "grid_row": null,
      "max_height": null,
      "align_content": null,
      "visibility": null,
      "align_self": null,
      "height": null,
      "min_height": null,
      "padding": null,
      "grid_auto_rows": null,
      "grid_gap": null,
      "max_width": null,
      "order": null,
      "_view_module_version": "1.2.0",
      "grid_template_areas": null,
      "object_position": null,
      "object_fit": null,
      "grid_auto_columns": null,
      "margin": null,
      "display": null,
      "left": null
     }
    },
    "b5f710fcb50a4d04b362da78251ca5fd": {
     "model_module": "@jupyter-widgets/controls",
     "model_name": "DescriptionStyleModel",
     "model_module_version": "1.5.0",
     "state": {
      "_view_name": "StyleView",
      "_model_name": "DescriptionStyleModel",
      "description_width": "",
      "_view_module": "@jupyter-widgets/base",
      "_model_module_version": "1.5.0",
      "_view_count": null,
      "_view_module_version": "1.2.0",
      "_model_module": "@jupyter-widgets/controls"
     }
    },
    "95b2559104e1443cbe640048e9f4698d": {
     "model_module": "@jupyter-widgets/base",
     "model_name": "LayoutModel",
     "model_module_version": "1.2.0",
     "state": {
      "_view_name": "LayoutView",
      "grid_template_rows": null,
      "right": null,
      "justify_content": null,
      "_view_module": "@jupyter-widgets/base",
      "overflow": null,
      "_model_module_version": "1.2.0",
      "_view_count": null,
      "flex_flow": null,
      "width": null,
      "min_width": null,
      "border": null,
      "align_items": null,
      "bottom": null,
      "_model_module": "@jupyter-widgets/base",
      "top": null,
      "grid_column": null,
      "overflow_y": null,
      "overflow_x": null,
      "grid_auto_flow": null,
      "grid_area": null,
      "grid_template_columns": null,
      "flex": null,
      "_model_name": "LayoutModel",
      "justify_items": null,
      "grid_row": null,
      "max_height": null,
      "align_content": null,
      "visibility": null,
      "align_self": null,
      "height": null,
      "min_height": null,
      "padding": null,
      "grid_auto_rows": null,
      "grid_gap": null,
      "max_width": null,
      "order": null,
      "_view_module_version": "1.2.0",
      "grid_template_areas": null,
      "object_position": null,
      "object_fit": null,
      "grid_auto_columns": null,
      "margin": null,
      "display": null,
      "left": null
     }
    },
    "44b85835f7c24d54b88a6de106d00c6e": {
     "model_module": "@jupyter-widgets/controls",
     "model_name": "HBoxModel",
     "model_module_version": "1.5.0",
     "state": {
      "_view_name": "HBoxView",
      "_dom_classes": [],
      "_model_name": "HBoxModel",
      "_view_module": "@jupyter-widgets/controls",
      "_model_module_version": "1.5.0",
      "_view_count": null,
      "_view_module_version": "1.5.0",
      "box_style": "",
      "layout": "IPY_MODEL_ddb6cff565e84d3582265efea0c0a0cd",
      "_model_module": "@jupyter-widgets/controls",
      "children": [
       "IPY_MODEL_efb8a2d538a6402a98eeb629cab6a7d5",
       "IPY_MODEL_9b5833de07bc44b3b159f09ee38d35e4",
       "IPY_MODEL_b4c68c5f881f40389de63bd41f656e87"
      ]
     }
    },
    "ddb6cff565e84d3582265efea0c0a0cd": {
     "model_module": "@jupyter-widgets/base",
     "model_name": "LayoutModel",
     "model_module_version": "1.2.0",
     "state": {
      "_view_name": "LayoutView",
      "grid_template_rows": null,
      "right": null,
      "justify_content": null,
      "_view_module": "@jupyter-widgets/base",
      "overflow": null,
      "_model_module_version": "1.2.0",
      "_view_count": null,
      "flex_flow": null,
      "width": null,
      "min_width": null,
      "border": null,
      "align_items": null,
      "bottom": null,
      "_model_module": "@jupyter-widgets/base",
      "top": null,
      "grid_column": null,
      "overflow_y": null,
      "overflow_x": null,
      "grid_auto_flow": null,
      "grid_area": null,
      "grid_template_columns": null,
      "flex": null,
      "_model_name": "LayoutModel",
      "justify_items": null,
      "grid_row": null,
      "max_height": null,
      "align_content": null,
      "visibility": null,
      "align_self": null,
      "height": null,
      "min_height": null,
      "padding": null,
      "grid_auto_rows": null,
      "grid_gap": null,
      "max_width": null,
      "order": null,
      "_view_module_version": "1.2.0",
      "grid_template_areas": null,
      "object_position": null,
      "object_fit": null,
      "grid_auto_columns": null,
      "margin": null,
      "display": null,
      "left": null
     }
    },
    "efb8a2d538a6402a98eeb629cab6a7d5": {
     "model_module": "@jupyter-widgets/controls",
     "model_name": "HTMLModel",
     "model_module_version": "1.5.0",
     "state": {
      "_view_name": "HTMLView",
      "style": "IPY_MODEL_d175d845c63241e79dfceaaeb3a39ebe",
      "_dom_classes": [],
      "description": "",
      "_model_name": "HTMLModel",
      "placeholder": "​",
      "_view_module": "@jupyter-widgets/controls",
      "_model_module_version": "1.5.0",
      "value": "Downloading: 100%",
      "_view_count": null,
      "_view_module_version": "1.5.0",
      "description_tooltip": null,
      "_model_module": "@jupyter-widgets/controls",
      "layout": "IPY_MODEL_685ebb5a8e984597b501d6bbd3746cc7"
     }
    },
    "9b5833de07bc44b3b159f09ee38d35e4": {
     "model_module": "@jupyter-widgets/controls",
     "model_name": "FloatProgressModel",
     "model_module_version": "1.5.0",
     "state": {
      "_view_name": "ProgressView",
      "style": "IPY_MODEL_4afe11fb393e4967993240c1d5bef011",
      "_dom_classes": [],
      "description": "",
      "_model_name": "FloatProgressModel",
      "bar_style": "success",
      "max": 1262055246,
      "_view_module": "@jupyter-widgets/controls",
      "_model_module_version": "1.5.0",
      "value": 1262055246,
      "_view_count": null,
      "_view_module_version": "1.5.0",
      "orientation": "horizontal",
      "min": 0,
      "description_tooltip": null,
      "_model_module": "@jupyter-widgets/controls",
      "layout": "IPY_MODEL_8377207e48c64a378eaa5006a7775d3c"
     }
    },
    "b4c68c5f881f40389de63bd41f656e87": {
     "model_module": "@jupyter-widgets/controls",
     "model_name": "HTMLModel",
     "model_module_version": "1.5.0",
     "state": {
      "_view_name": "HTMLView",
      "style": "IPY_MODEL_d1087b48e445499580ed6308bb213301",
      "_dom_classes": [],
      "description": "",
      "_model_name": "HTMLModel",
      "placeholder": "​",
      "_view_module": "@jupyter-widgets/controls",
      "_model_module_version": "1.5.0",
      "value": " 1.26G/1.26G [00:32&lt;00:00, 32.9MB/s]",
      "_view_count": null,
      "_view_module_version": "1.5.0",
      "description_tooltip": null,
      "_model_module": "@jupyter-widgets/controls",
      "layout": "IPY_MODEL_e4ac6cc6449f482ba84c01fd90700c8c"
     }
    },
    "d175d845c63241e79dfceaaeb3a39ebe": {
     "model_module": "@jupyter-widgets/controls",
     "model_name": "DescriptionStyleModel",
     "model_module_version": "1.5.0",
     "state": {
      "_view_name": "StyleView",
      "_model_name": "DescriptionStyleModel",
      "description_width": "",
      "_view_module": "@jupyter-widgets/base",
      "_model_module_version": "1.5.0",
      "_view_count": null,
      "_view_module_version": "1.2.0",
      "_model_module": "@jupyter-widgets/controls"
     }
    },
    "685ebb5a8e984597b501d6bbd3746cc7": {
     "model_module": "@jupyter-widgets/base",
     "model_name": "LayoutModel",
     "model_module_version": "1.2.0",
     "state": {
      "_view_name": "LayoutView",
      "grid_template_rows": null,
      "right": null,
      "justify_content": null,
      "_view_module": "@jupyter-widgets/base",
      "overflow": null,
      "_model_module_version": "1.2.0",
      "_view_count": null,
      "flex_flow": null,
      "width": null,
      "min_width": null,
      "border": null,
      "align_items": null,
      "bottom": null,
      "_model_module": "@jupyter-widgets/base",
      "top": null,
      "grid_column": null,
      "overflow_y": null,
      "overflow_x": null,
      "grid_auto_flow": null,
      "grid_area": null,
      "grid_template_columns": null,
      "flex": null,
      "_model_name": "LayoutModel",
      "justify_items": null,
      "grid_row": null,
      "max_height": null,
      "align_content": null,
      "visibility": null,
      "align_self": null,
      "height": null,
      "min_height": null,
      "padding": null,
      "grid_auto_rows": null,
      "grid_gap": null,
      "max_width": null,
      "order": null,
      "_view_module_version": "1.2.0",
      "grid_template_areas": null,
      "object_position": null,
      "object_fit": null,
      "grid_auto_columns": null,
      "margin": null,
      "display": null,
      "left": null
     }
    },
    "4afe11fb393e4967993240c1d5bef011": {
     "model_module": "@jupyter-widgets/controls",
     "model_name": "ProgressStyleModel",
     "model_module_version": "1.5.0",
     "state": {
      "_view_name": "StyleView",
      "_model_name": "ProgressStyleModel",
      "description_width": "",
      "_view_module": "@jupyter-widgets/base",
      "_model_module_version": "1.5.0",
      "_view_count": null,
      "_view_module_version": "1.2.0",
      "bar_color": null,
      "_model_module": "@jupyter-widgets/controls"
     }
    },
    "8377207e48c64a378eaa5006a7775d3c": {
     "model_module": "@jupyter-widgets/base",
     "model_name": "LayoutModel",
     "model_module_version": "1.2.0",
     "state": {
      "_view_name": "LayoutView",
      "grid_template_rows": null,
      "right": null,
      "justify_content": null,
      "_view_module": "@jupyter-widgets/base",
      "overflow": null,
      "_model_module_version": "1.2.0",
      "_view_count": null,
      "flex_flow": null,
      "width": null,
      "min_width": null,
      "border": null,
      "align_items": null,
      "bottom": null,
      "_model_module": "@jupyter-widgets/base",
      "top": null,
      "grid_column": null,
      "overflow_y": null,
      "overflow_x": null,
      "grid_auto_flow": null,
      "grid_area": null,
      "grid_template_columns": null,
      "flex": null,
      "_model_name": "LayoutModel",
      "justify_items": null,
      "grid_row": null,
      "max_height": null,
      "align_content": null,
      "visibility": null,
      "align_self": null,
      "height": null,
      "min_height": null,
      "padding": null,
      "grid_auto_rows": null,
      "grid_gap": null,
      "max_width": null,
      "order": null,
      "_view_module_version": "1.2.0",
      "grid_template_areas": null,
      "object_position": null,
      "object_fit": null,
      "grid_auto_columns": null,
      "margin": null,
      "display": null,
      "left": null
     }
    },
    "d1087b48e445499580ed6308bb213301": {
     "model_module": "@jupyter-widgets/controls",
     "model_name": "DescriptionStyleModel",
     "model_module_version": "1.5.0",
     "state": {
      "_view_name": "StyleView",
      "_model_name": "DescriptionStyleModel",
      "description_width": "",
      "_view_module": "@jupyter-widgets/base",
      "_model_module_version": "1.5.0",
      "_view_count": null,
      "_view_module_version": "1.2.0",
      "_model_module": "@jupyter-widgets/controls"
     }
    },
    "e4ac6cc6449f482ba84c01fd90700c8c": {
     "model_module": "@jupyter-widgets/base",
     "model_name": "LayoutModel",
     "model_module_version": "1.2.0",
     "state": {
      "_view_name": "LayoutView",
      "grid_template_rows": null,
      "right": null,
      "justify_content": null,
      "_view_module": "@jupyter-widgets/base",
      "overflow": null,
      "_model_module_version": "1.2.0",
      "_view_count": null,
      "flex_flow": null,
      "width": null,
      "min_width": null,
      "border": null,
      "align_items": null,
      "bottom": null,
      "_model_module": "@jupyter-widgets/base",
      "top": null,
      "grid_column": null,
      "overflow_y": null,
      "overflow_x": null,
      "grid_auto_flow": null,
      "grid_area": null,
      "grid_template_columns": null,
      "flex": null,
      "_model_name": "LayoutModel",
      "justify_items": null,
      "grid_row": null,
      "max_height": null,
      "align_content": null,
      "visibility": null,
      "align_self": null,
      "height": null,
      "min_height": null,
      "padding": null,
      "grid_auto_rows": null,
      "grid_gap": null,
      "max_width": null,
      "order": null,
      "_view_module_version": "1.2.0",
      "grid_template_areas": null,
      "object_position": null,
      "object_fit": null,
      "grid_auto_columns": null,
      "margin": null,
      "display": null,
      "left": null
     }
    },
    "834b2d52fd5e46ad9fb685d8119e416f": {
     "model_module": "@jupyter-widgets/controls",
     "model_name": "HBoxModel",
     "model_module_version": "1.5.0",
     "state": {
      "_view_name": "HBoxView",
      "_dom_classes": [],
      "_model_name": "HBoxModel",
      "_view_module": "@jupyter-widgets/controls",
      "_model_module_version": "1.5.0",
      "_view_count": null,
      "_view_module_version": "1.5.0",
      "box_style": "",
      "layout": "IPY_MODEL_af41e4e8a9ab40a5bd31889af4e4e9ae",
      "_model_module": "@jupyter-widgets/controls",
      "children": [
       "IPY_MODEL_58f0a14ff749481bac658640c2da6964",
       "IPY_MODEL_ee1ff6115f3849e58e53a644df0f7aea",
       "IPY_MODEL_6a079bf9e66f48929993dd31bd42d3d0"
      ]
     }
    },
    "af41e4e8a9ab40a5bd31889af4e4e9ae": {
     "model_module": "@jupyter-widgets/base",
     "model_name": "LayoutModel",
     "model_module_version": "1.2.0",
     "state": {
      "_view_name": "LayoutView",
      "grid_template_rows": null,
      "right": null,
      "justify_content": null,
      "_view_module": "@jupyter-widgets/base",
      "overflow": null,
      "_model_module_version": "1.2.0",
      "_view_count": null,
      "flex_flow": null,
      "width": null,
      "min_width": null,
      "border": null,
      "align_items": null,
      "bottom": null,
      "_model_module": "@jupyter-widgets/base",
      "top": null,
      "grid_column": null,
      "overflow_y": null,
      "overflow_x": null,
      "grid_auto_flow": null,
      "grid_area": null,
      "grid_template_columns": null,
      "flex": null,
      "_model_name": "LayoutModel",
      "justify_items": null,
      "grid_row": null,
      "max_height": null,
      "align_content": null,
      "visibility": null,
      "align_self": null,
      "height": null,
      "min_height": null,
      "padding": null,
      "grid_auto_rows": null,
      "grid_gap": null,
      "max_width": null,
      "order": null,
      "_view_module_version": "1.2.0",
      "grid_template_areas": null,
      "object_position": null,
      "object_fit": null,
      "grid_auto_columns": null,
      "margin": null,
      "display": null,
      "left": null
     }
    },
    "58f0a14ff749481bac658640c2da6964": {
     "model_module": "@jupyter-widgets/controls",
     "model_name": "HTMLModel",
     "model_module_version": "1.5.0",
     "state": {
      "_view_name": "HTMLView",
      "style": "IPY_MODEL_3327949ff1264594a96e4ff451067872",
      "_dom_classes": [],
      "description": "",
      "_model_name": "HTMLModel",
      "placeholder": "​",
      "_view_module": "@jupyter-widgets/controls",
      "_model_module_version": "1.5.0",
      "value": "Overall Transcription Progress: 100%",
      "_view_count": null,
      "_view_module_version": "1.5.0",
      "description_tooltip": null,
      "_model_module": "@jupyter-widgets/controls",
      "layout": "IPY_MODEL_2f1177e4350e403ea5143c44839f2d2e"
     }
    },
    "ee1ff6115f3849e58e53a644df0f7aea": {
     "model_module": "@jupyter-widgets/controls",
     "model_name": "FloatProgressModel",
     "model_module_version": "1.5.0",
     "state": {
      "_view_name": "ProgressView",
      "style": "IPY_MODEL_524298a198bf4b80b8b08b1639ec70b0",
      "_dom_classes": [],
      "description": "",
      "_model_name": "FloatProgressModel",
      "bar_style": "success",
      "max": 1,
      "_view_module": "@jupyter-widgets/controls",
      "_model_module_version": "1.5.0",
      "value": 1,
      "_view_count": null,
      "_view_module_version": "1.5.0",
      "orientation": "horizontal",
      "min": 0,
      "description_tooltip": null,
      "_model_module": "@jupyter-widgets/controls",
      "layout": "IPY_MODEL_c100a3bb36214f09be21df443cbfd244"
     }
    },
    "6a079bf9e66f48929993dd31bd42d3d0": {
     "model_module": "@jupyter-widgets/controls",
     "model_name": "HTMLModel",
     "model_module_version": "1.5.0",
     "state": {
      "_view_name": "HTMLView",
      "style": "IPY_MODEL_ea9df4dffe344156a8719b8e78754e04",
      "_dom_classes": [],
      "description": "",
      "_model_name": "HTMLModel",
      "placeholder": "​",
      "_view_module": "@jupyter-widgets/controls",
      "_model_module_version": "1.5.0",
      "value": " 1/1 [01:54&lt;00:00, 114.28s/it]",
      "_view_count": null,
      "_view_module_version": "1.5.0",
      "description_tooltip": null,
      "_model_module": "@jupyter-widgets/controls",
      "layout": "IPY_MODEL_043713c11ac24d889900330b53c3f4ec"
     }
    },
    "3327949ff1264594a96e4ff451067872": {
     "model_module": "@jupyter-widgets/controls",
     "model_name": "DescriptionStyleModel",
     "model_module_version": "1.5.0",
     "state": {
      "_view_name": "StyleView",
      "_model_name": "DescriptionStyleModel",
      "description_width": "",
      "_view_module": "@jupyter-widgets/base",
      "_model_module_version": "1.5.0",
      "_view_count": null,
      "_view_module_version": "1.2.0",
      "_model_module": "@jupyter-widgets/controls"
     }
    },
    "2f1177e4350e403ea5143c44839f2d2e": {
     "model_module": "@jupyter-widgets/base",
     "model_name": "LayoutModel",
     "model_module_version": "1.2.0",
     "state": {
      "_view_name": "LayoutView",
      "grid_template_rows": null,
      "right": null,
      "justify_content": null,
      "_view_module": "@jupyter-widgets/base",
      "overflow": null,
      "_model_module_version": "1.2.0",
      "_view_count": null,
      "flex_flow": null,
      "width": null,
      "min_width": null,
      "border": null,
      "align_items": null,
      "bottom": null,
      "_model_module": "@jupyter-widgets/base",
      "top": null,
      "grid_column": null,
      "overflow_y": null,
      "overflow_x": null,
      "grid_auto_flow": null,
      "grid_area": null,
      "grid_template_columns": null,
      "flex": null,
      "_model_name": "LayoutModel",
      "justify_items": null,
      "grid_row": null,
      "max_height": null,
      "align_content": null,
      "visibility": null,
      "align_self": null,
      "height": null,
      "min_height": null,
      "padding": null,
      "grid_auto_rows": null,
      "grid_gap": null,
      "max_width": null,
      "order": null,
      "_view_module_version": "1.2.0",
      "grid_template_areas": null,
      "object_position": null,
      "object_fit": null,
      "grid_auto_columns": null,
      "margin": null,
      "display": null,
      "left": null
     }
    },
    "524298a198bf4b80b8b08b1639ec70b0": {
     "model_module": "@jupyter-widgets/controls",
     "model_name": "ProgressStyleModel",
     "model_module_version": "1.5.0",
     "state": {
      "_view_name": "StyleView",
      "_model_name": "ProgressStyleModel",
      "description_width": "",
      "_view_module": "@jupyter-widgets/base",
      "_model_module_version": "1.5.0",
      "_view_count": null,
      "_view_module_version": "1.2.0",
      "bar_color": null,
      "_model_module": "@jupyter-widgets/controls"
     }
    },
    "c100a3bb36214f09be21df443cbfd244": {
     "model_module": "@jupyter-widgets/base",
     "model_name": "LayoutModel",
     "model_module_version": "1.2.0",
     "state": {
      "_view_name": "LayoutView",
      "grid_template_rows": null,
      "right": null,
      "justify_content": null,
      "_view_module": "@jupyter-widgets/base",
      "overflow": null,
      "_model_module_version": "1.2.0",
      "_view_count": null,
      "flex_flow": null,
      "width": null,
      "min_width": null,
      "border": null,
      "align_items": null,
      "bottom": null,
      "_model_module": "@jupyter-widgets/base",
      "top": null,
      "grid_column": null,
      "overflow_y": null,
      "overflow_x": null,
      "grid_auto_flow": null,
      "grid_area": null,
      "grid_template_columns": null,
      "flex": null,
      "_model_name": "LayoutModel",
      "justify_items": null,
      "grid_row": null,
      "max_height": null,
      "align_content": null,
      "visibility": null,
      "align_self": null,
      "height": null,
      "min_height": null,
      "padding": null,
      "grid_auto_rows": null,
      "grid_gap": null,
      "max_width": null,
      "order": null,
      "_view_module_version": "1.2.0",
      "grid_template_areas": null,
      "object_position": null,
      "object_fit": null,
      "grid_auto_columns": null,
      "margin": null,
      "display": null,
      "left": null
     }
    },
    "ea9df4dffe344156a8719b8e78754e04": {
     "model_module": "@jupyter-widgets/controls",
     "model_name": "DescriptionStyleModel",
     "model_module_version": "1.5.0",
     "state": {
      "_view_name": "StyleView",
      "_model_name": "DescriptionStyleModel",
      "description_width": "",
      "_view_module": "@jupyter-widgets/base",
      "_model_module_version": "1.5.0",
      "_view_count": null,
      "_view_module_version": "1.2.0",
      "_model_module": "@jupyter-widgets/controls"
     }
    },
    "043713c11ac24d889900330b53c3f4ec": {
     "model_module": "@jupyter-widgets/base",
     "model_name": "LayoutModel",
     "model_module_version": "1.2.0",
     "state": {
      "_view_name": "LayoutView",
      "grid_template_rows": null,
      "right": null,
      "justify_content": null,
      "_view_module": "@jupyter-widgets/base",
      "overflow": null,
      "_model_module_version": "1.2.0",
      "_view_count": null,
      "flex_flow": null,
      "width": null,
      "min_width": null,
      "border": null,
      "align_items": null,
      "bottom": null,
      "_model_module": "@jupyter-widgets/base",
      "top": null,
      "grid_column": null,
      "overflow_y": null,
      "overflow_x": null,
      "grid_auto_flow": null,
      "grid_area": null,
      "grid_template_columns": null,
      "flex": null,
      "_model_name": "LayoutModel",
      "justify_items": null,
      "grid_row": null,
      "max_height": null,
      "align_content": null,
      "visibility": null,
      "align_self": null,
      "height": null,
      "min_height": null,
      "padding": null,
      "grid_auto_rows": null,
      "grid_gap": null,
      "max_width": null,
      "order": null,
      "_view_module_version": "1.2.0",
      "grid_template_areas": null,
      "object_position": null,
      "object_fit": null,
      "grid_auto_columns": null,
      "margin": null,
      "display": null,
      "left": null
     }
    },
    "9224a72d257440a8a30d5e071ad7aec0": {
     "model_module": "@jupyter-widgets/controls",
     "model_name": "HBoxModel",
     "model_module_version": "1.5.0",
     "state": {
      "_view_name": "HBoxView",
      "_dom_classes": [],
      "_model_name": "HBoxModel",
      "_view_module": "@jupyter-widgets/controls",
      "_model_module_version": "1.5.0",
      "_view_count": null,
      "_view_module_version": "1.5.0",
      "box_style": "",
      "layout": "IPY_MODEL_3757779d632c411eaea693dc6acb0e87",
      "_model_module": "@jupyter-widgets/controls",
      "children": [
       "IPY_MODEL_102647abad584cfba514daa14ff084e0",
       "IPY_MODEL_236f96055f01440aa5216599cbfae791",
       "IPY_MODEL_a109011efb074ea7a36f3076d293efce"
      ]
     }
    },
    "3757779d632c411eaea693dc6acb0e87": {
     "model_module": "@jupyter-widgets/base",
     "model_name": "LayoutModel",
     "model_module_version": "1.2.0",
     "state": {
      "_view_name": "LayoutView",
      "grid_template_rows": null,
      "right": null,
      "justify_content": null,
      "_view_module": "@jupyter-widgets/base",
      "overflow": null,
      "_model_module_version": "1.2.0",
      "_view_count": null,
      "flex_flow": null,
      "width": null,
      "min_width": null,
      "border": null,
      "align_items": null,
      "bottom": null,
      "_model_module": "@jupyter-widgets/base",
      "top": null,
      "grid_column": null,
      "overflow_y": null,
      "overflow_x": null,
      "grid_auto_flow": null,
      "grid_area": null,
      "grid_template_columns": null,
      "flex": null,
      "_model_name": "LayoutModel",
      "justify_items": null,
      "grid_row": null,
      "max_height": null,
      "align_content": null,
      "visibility": null,
      "align_self": null,
      "height": null,
      "min_height": null,
      "padding": null,
      "grid_auto_rows": null,
      "grid_gap": null,
      "max_width": null,
      "order": null,
      "_view_module_version": "1.2.0",
      "grid_template_areas": null,
      "object_position": null,
      "object_fit": null,
      "grid_auto_columns": null,
      "margin": null,
      "display": null,
      "left": null
     }
    },
    "102647abad584cfba514daa14ff084e0": {
     "model_module": "@jupyter-widgets/controls",
     "model_name": "HTMLModel",
     "model_module_version": "1.5.0",
     "state": {
      "_view_name": "HTMLView",
      "style": "IPY_MODEL_472d1de166c64bb5a1d929f31ada5aa8",
      "_dom_classes": [],
      "description": "",
      "_model_name": "HTMLModel",
      "placeholder": "​",
      "_view_module": "@jupyter-widgets/controls",
      "_model_module_version": "1.5.0",
      "value": "Converting Video to Audio Chunks: 100%",
      "_view_count": null,
      "_view_module_version": "1.5.0",
      "description_tooltip": null,
      "_model_module": "@jupyter-widgets/controls",
      "layout": "IPY_MODEL_71308390e33f4693812c3236558b7786"
     }
    },
    "236f96055f01440aa5216599cbfae791": {
     "model_module": "@jupyter-widgets/controls",
     "model_name": "FloatProgressModel",
     "model_module_version": "1.5.0",
     "state": {
      "_view_name": "ProgressView",
      "style": "IPY_MODEL_777dd2dff901495bac135596f9630f78",
      "_dom_classes": [],
      "description": "",
      "_model_name": "FloatProgressModel",
      "bar_style": "success",
      "max": 36,
      "_view_module": "@jupyter-widgets/controls",
      "_model_module_version": "1.5.0",
      "value": 36,
      "_view_count": null,
      "_view_module_version": "1.5.0",
      "orientation": "horizontal",
      "min": 0,
      "description_tooltip": null,
      "_model_module": "@jupyter-widgets/controls",
      "layout": "IPY_MODEL_a3c31e773cc242119a1f70ca4a7c20e6"
     }
    },
    "a109011efb074ea7a36f3076d293efce": {
     "model_module": "@jupyter-widgets/controls",
     "model_name": "HTMLModel",
     "model_module_version": "1.5.0",
     "state": {
      "_view_name": "HTMLView",
      "style": "IPY_MODEL_7043804bc17a470e9d42250db4add4d8",
      "_dom_classes": [],
      "description": "",
      "_model_name": "HTMLModel",
      "placeholder": "​",
      "_view_module": "@jupyter-widgets/controls",
      "_model_module_version": "1.5.0",
      "value": " 36/36 [00:35&lt;00:00,  1.44it/s]",
      "_view_count": null,
      "_view_module_version": "1.5.0",
      "description_tooltip": null,
      "_model_module": "@jupyter-widgets/controls",
      "layout": "IPY_MODEL_ef7817cabbe4405fbd4fb3f8eb315de9"
     }
    },
    "472d1de166c64bb5a1d929f31ada5aa8": {
     "model_module": "@jupyter-widgets/controls",
     "model_name": "DescriptionStyleModel",
     "model_module_version": "1.5.0",
     "state": {
      "_view_name": "StyleView",
      "_model_name": "DescriptionStyleModel",
      "description_width": "",
      "_view_module": "@jupyter-widgets/base",
      "_model_module_version": "1.5.0",
      "_view_count": null,
      "_view_module_version": "1.2.0",
      "_model_module": "@jupyter-widgets/controls"
     }
    },
    "71308390e33f4693812c3236558b7786": {
     "model_module": "@jupyter-widgets/base",
     "model_name": "LayoutModel",
     "model_module_version": "1.2.0",
     "state": {
      "_view_name": "LayoutView",
      "grid_template_rows": null,
      "right": null,
      "justify_content": null,
      "_view_module": "@jupyter-widgets/base",
      "overflow": null,
      "_model_module_version": "1.2.0",
      "_view_count": null,
      "flex_flow": null,
      "width": null,
      "min_width": null,
      "border": null,
      "align_items": null,
      "bottom": null,
      "_model_module": "@jupyter-widgets/base",
      "top": null,
      "grid_column": null,
      "overflow_y": null,
      "overflow_x": null,
      "grid_auto_flow": null,
      "grid_area": null,
      "grid_template_columns": null,
      "flex": null,
      "_model_name": "LayoutModel",
      "justify_items": null,
      "grid_row": null,
      "max_height": null,
      "align_content": null,
      "visibility": null,
      "align_self": null,
      "height": null,
      "min_height": null,
      "padding": null,
      "grid_auto_rows": null,
      "grid_gap": null,
      "max_width": null,
      "order": null,
      "_view_module_version": "1.2.0",
      "grid_template_areas": null,
      "object_position": null,
      "object_fit": null,
      "grid_auto_columns": null,
      "margin": null,
      "display": null,
      "left": null
     }
    },
    "777dd2dff901495bac135596f9630f78": {
     "model_module": "@jupyter-widgets/controls",
     "model_name": "ProgressStyleModel",
     "model_module_version": "1.5.0",
     "state": {
      "_view_name": "StyleView",
      "_model_name": "ProgressStyleModel",
      "description_width": "",
      "_view_module": "@jupyter-widgets/base",
      "_model_module_version": "1.5.0",
      "_view_count": null,
      "_view_module_version": "1.2.0",
      "bar_color": null,
      "_model_module": "@jupyter-widgets/controls"
     }
    },
    "a3c31e773cc242119a1f70ca4a7c20e6": {
     "model_module": "@jupyter-widgets/base",
     "model_name": "LayoutModel",
     "model_module_version": "1.2.0",
     "state": {
      "_view_name": "LayoutView",
      "grid_template_rows": null,
      "right": null,
      "justify_content": null,
      "_view_module": "@jupyter-widgets/base",
      "overflow": null,
      "_model_module_version": "1.2.0",
      "_view_count": null,
      "flex_flow": null,
      "width": null,
      "min_width": null,
      "border": null,
      "align_items": null,
      "bottom": null,
      "_model_module": "@jupyter-widgets/base",
      "top": null,
      "grid_column": null,
      "overflow_y": null,
      "overflow_x": null,
      "grid_auto_flow": null,
      "grid_area": null,
      "grid_template_columns": null,
      "flex": null,
      "_model_name": "LayoutModel",
      "justify_items": null,
      "grid_row": null,
      "max_height": null,
      "align_content": null,
      "visibility": null,
      "align_self": null,
      "height": null,
      "min_height": null,
      "padding": null,
      "grid_auto_rows": null,
      "grid_gap": null,
      "max_width": null,
      "order": null,
      "_view_module_version": "1.2.0",
      "grid_template_areas": null,
      "object_position": null,
      "object_fit": null,
      "grid_auto_columns": null,
      "margin": null,
      "display": null,
      "left": null
     }
    },
    "7043804bc17a470e9d42250db4add4d8": {
     "model_module": "@jupyter-widgets/controls",
     "model_name": "DescriptionStyleModel",
     "model_module_version": "1.5.0",
     "state": {
      "_view_name": "StyleView",
      "_model_name": "DescriptionStyleModel",
      "description_width": "",
      "_view_module": "@jupyter-widgets/base",
      "_model_module_version": "1.5.0",
      "_view_count": null,
      "_view_module_version": "1.2.0",
      "_model_module": "@jupyter-widgets/controls"
     }
    },
    "ef7817cabbe4405fbd4fb3f8eb315de9": {
     "model_module": "@jupyter-widgets/base",
     "model_name": "LayoutModel",
     "model_module_version": "1.2.0",
     "state": {
      "_view_name": "LayoutView",
      "grid_template_rows": null,
      "right": null,
      "justify_content": null,
      "_view_module": "@jupyter-widgets/base",
      "overflow": null,
      "_model_module_version": "1.2.0",
      "_view_count": null,
      "flex_flow": null,
      "width": null,
      "min_width": null,
      "border": null,
      "align_items": null,
      "bottom": null,
      "_model_module": "@jupyter-widgets/base",
      "top": null,
      "grid_column": null,
      "overflow_y": null,
      "overflow_x": null,
      "grid_auto_flow": null,
      "grid_area": null,
      "grid_template_columns": null,
      "flex": null,
      "_model_name": "LayoutModel",
      "justify_items": null,
      "grid_row": null,
      "max_height": null,
      "align_content": null,
      "visibility": null,
      "align_self": null,
      "height": null,
      "min_height": null,
      "padding": null,
      "grid_auto_rows": null,
      "grid_gap": null,
      "max_width": null,
      "order": null,
      "_view_module_version": "1.2.0",
      "grid_template_areas": null,
      "object_position": null,
      "object_fit": null,
      "grid_auto_columns": null,
      "margin": null,
      "display": null,
      "left": null
     }
    },
    "24e3b6bee40f48f6a4efc13bfee8e0ad": {
     "model_module": "@jupyter-widgets/controls",
     "model_name": "HBoxModel",
     "model_module_version": "1.5.0",
     "state": {
      "_view_name": "HBoxView",
      "_dom_classes": [],
      "_model_name": "HBoxModel",
      "_view_module": "@jupyter-widgets/controls",
      "_model_module_version": "1.5.0",
      "_view_count": null,
      "_view_module_version": "1.5.0",
      "box_style": "",
      "layout": "IPY_MODEL_6bf080f9e87342e8b81a7747e03fe24e",
      "_model_module": "@jupyter-widgets/controls",
      "children": [
       "IPY_MODEL_e064d160896f4453aa6d9bc6afef7a54",
       "IPY_MODEL_5b3006671638496283aa3647ac2e5f29",
       "IPY_MODEL_f0483e24a1e54b04a15c2d860eadcf96"
      ]
     }
    },
    "6bf080f9e87342e8b81a7747e03fe24e": {
     "model_module": "@jupyter-widgets/base",
     "model_name": "LayoutModel",
     "model_module_version": "1.2.0",
     "state": {
      "_view_name": "LayoutView",
      "grid_template_rows": null,
      "right": null,
      "justify_content": null,
      "_view_module": "@jupyter-widgets/base",
      "overflow": null,
      "_model_module_version": "1.2.0",
      "_view_count": null,
      "flex_flow": null,
      "width": null,
      "min_width": null,
      "border": null,
      "align_items": null,
      "bottom": null,
      "_model_module": "@jupyter-widgets/base",
      "top": null,
      "grid_column": null,
      "overflow_y": null,
      "overflow_x": null,
      "grid_auto_flow": null,
      "grid_area": null,
      "grid_template_columns": null,
      "flex": null,
      "_model_name": "LayoutModel",
      "justify_items": null,
      "grid_row": null,
      "max_height": null,
      "align_content": null,
      "visibility": null,
      "align_self": null,
      "height": null,
      "min_height": null,
      "padding": null,
      "grid_auto_rows": null,
      "grid_gap": null,
      "max_width": null,
      "order": null,
      "_view_module_version": "1.2.0",
      "grid_template_areas": null,
      "object_position": null,
      "object_fit": null,
      "grid_auto_columns": null,
      "margin": null,
      "display": null,
      "left": null
     }
    },
    "e064d160896f4453aa6d9bc6afef7a54": {
     "model_module": "@jupyter-widgets/controls",
     "model_name": "HTMLModel",
     "model_module_version": "1.5.0",
     "state": {
      "_view_name": "HTMLView",
      "style": "IPY_MODEL_d76b1068446e4868b9e9518a2971f331",
      "_dom_classes": [],
      "description": "",
      "_model_name": "HTMLModel",
      "placeholder": "​",
      "_view_module": "@jupyter-widgets/controls",
      "_model_module_version": "1.5.0",
      "value": "wav2vec2 model for Cassini Hackathon - Overview of Local Challenges.mp4: 100%",
      "_view_count": null,
      "_view_module_version": "1.5.0",
      "description_tooltip": null,
      "_model_module": "@jupyter-widgets/controls",
      "layout": "IPY_MODEL_a89181a64974496cb6928ab42fe44047"
     }
    },
    "5b3006671638496283aa3647ac2e5f29": {
     "model_module": "@jupyter-widgets/controls",
     "model_name": "FloatProgressModel",
     "model_module_version": "1.5.0",
     "state": {
      "_view_name": "ProgressView",
      "style": "IPY_MODEL_d84cb33ca97f46a2b8d287b62b8be014",
      "_dom_classes": [],
      "description": "",
      "_model_name": "FloatProgressModel",
      "bar_style": "success",
      "max": 36,
      "_view_module": "@jupyter-widgets/controls",
      "_model_module_version": "1.5.0",
      "value": 36,
      "_view_count": null,
      "_view_module_version": "1.5.0",
      "orientation": "horizontal",
      "min": 0,
      "description_tooltip": null,
      "_model_module": "@jupyter-widgets/controls",
      "layout": "IPY_MODEL_77a4317b6dcc4d51946f16c00dd6850b"
     }
    },
    "f0483e24a1e54b04a15c2d860eadcf96": {
     "model_module": "@jupyter-widgets/controls",
     "model_name": "HTMLModel",
     "model_module_version": "1.5.0",
     "state": {
      "_view_name": "HTMLView",
      "style": "IPY_MODEL_cbd62bb5e5bd441a9dc29fb670d6da7b",
      "_dom_classes": [],
      "description": "",
      "_model_name": "HTMLModel",
      "placeholder": "​",
      "_view_module": "@jupyter-widgets/controls",
      "_model_module_version": "1.5.0",
      "value": " 36/36 [01:17&lt;00:00,  1.38s/it]",
      "_view_count": null,
      "_view_module_version": "1.5.0",
      "description_tooltip": null,
      "_model_module": "@jupyter-widgets/controls",
      "layout": "IPY_MODEL_88b82cff6add4f368a60064e4ab81e96"
     }
    },
    "d76b1068446e4868b9e9518a2971f331": {
     "model_module": "@jupyter-widgets/controls",
     "model_name": "DescriptionStyleModel",
     "model_module_version": "1.5.0",
     "state": {
      "_view_name": "StyleView",
      "_model_name": "DescriptionStyleModel",
      "description_width": "",
      "_view_module": "@jupyter-widgets/base",
      "_model_module_version": "1.5.0",
      "_view_count": null,
      "_view_module_version": "1.2.0",
      "_model_module": "@jupyter-widgets/controls"
     }
    },
    "a89181a64974496cb6928ab42fe44047": {
     "model_module": "@jupyter-widgets/base",
     "model_name": "LayoutModel",
     "model_module_version": "1.2.0",
     "state": {
      "_view_name": "LayoutView",
      "grid_template_rows": null,
      "right": null,
      "justify_content": null,
      "_view_module": "@jupyter-widgets/base",
      "overflow": null,
      "_model_module_version": "1.2.0",
      "_view_count": null,
      "flex_flow": null,
      "width": null,
      "min_width": null,
      "border": null,
      "align_items": null,
      "bottom": null,
      "_model_module": "@jupyter-widgets/base",
      "top": null,
      "grid_column": null,
      "overflow_y": null,
      "overflow_x": null,
      "grid_auto_flow": null,
      "grid_area": null,
      "grid_template_columns": null,
      "flex": null,
      "_model_name": "LayoutModel",
      "justify_items": null,
      "grid_row": null,
      "max_height": null,
      "align_content": null,
      "visibility": null,
      "align_self": null,
      "height": null,
      "min_height": null,
      "padding": null,
      "grid_auto_rows": null,
      "grid_gap": null,
      "max_width": null,
      "order": null,
      "_view_module_version": "1.2.0",
      "grid_template_areas": null,
      "object_position": null,
      "object_fit": null,
      "grid_auto_columns": null,
      "margin": null,
      "display": null,
      "left": null
     }
    },
    "d84cb33ca97f46a2b8d287b62b8be014": {
     "model_module": "@jupyter-widgets/controls",
     "model_name": "ProgressStyleModel",
     "model_module_version": "1.5.0",
     "state": {
      "_view_name": "StyleView",
      "_model_name": "ProgressStyleModel",
      "description_width": "",
      "_view_module": "@jupyter-widgets/base",
      "_model_module_version": "1.5.0",
      "_view_count": null,
      "_view_module_version": "1.2.0",
      "bar_color": null,
      "_model_module": "@jupyter-widgets/controls"
     }
    },
    "77a4317b6dcc4d51946f16c00dd6850b": {
     "model_module": "@jupyter-widgets/base",
     "model_name": "LayoutModel",
     "model_module_version": "1.2.0",
     "state": {
      "_view_name": "LayoutView",
      "grid_template_rows": null,
      "right": null,
      "justify_content": null,
      "_view_module": "@jupyter-widgets/base",
      "overflow": null,
      "_model_module_version": "1.2.0",
      "_view_count": null,
      "flex_flow": null,
      "width": null,
      "min_width": null,
      "border": null,
      "align_items": null,
      "bottom": null,
      "_model_module": "@jupyter-widgets/base",
      "top": null,
      "grid_column": null,
      "overflow_y": null,
      "overflow_x": null,
      "grid_auto_flow": null,
      "grid_area": null,
      "grid_template_columns": null,
      "flex": null,
      "_model_name": "LayoutModel",
      "justify_items": null,
      "grid_row": null,
      "max_height": null,
      "align_content": null,
      "visibility": null,
      "align_self": null,
      "height": null,
      "min_height": null,
      "padding": null,
      "grid_auto_rows": null,
      "grid_gap": null,
      "max_width": null,
      "order": null,
      "_view_module_version": "1.2.0",
      "grid_template_areas": null,
      "object_position": null,
      "object_fit": null,
      "grid_auto_columns": null,
      "margin": null,
      "display": null,
      "left": null
     }
    },
    "cbd62bb5e5bd441a9dc29fb670d6da7b": {
     "model_module": "@jupyter-widgets/controls",
     "model_name": "DescriptionStyleModel",
     "model_module_version": "1.5.0",
     "state": {
      "_view_name": "StyleView",
      "_model_name": "DescriptionStyleModel",
      "description_width": "",
      "_view_module": "@jupyter-widgets/base",
      "_model_module_version": "1.5.0",
      "_view_count": null,
      "_view_module_version": "1.2.0",
      "_model_module": "@jupyter-widgets/controls"
     }
    },
    "88b82cff6add4f368a60064e4ab81e96": {
     "model_module": "@jupyter-widgets/base",
     "model_name": "LayoutModel",
     "model_module_version": "1.2.0",
     "state": {
      "_view_name": "LayoutView",
      "grid_template_rows": null,
      "right": null,
      "justify_content": null,
      "_view_module": "@jupyter-widgets/base",
      "overflow": null,
      "_model_module_version": "1.2.0",
      "_view_count": null,
      "flex_flow": null,
      "width": null,
      "min_width": null,
      "border": null,
      "align_items": null,
      "bottom": null,
      "_model_module": "@jupyter-widgets/base",
      "top": null,
      "grid_column": null,
      "overflow_y": null,
      "overflow_x": null,
      "grid_auto_flow": null,
      "grid_area": null,
      "grid_template_columns": null,
      "flex": null,
      "_model_name": "LayoutModel",
      "justify_items": null,
      "grid_row": null,
      "max_height": null,
      "align_content": null,
      "visibility": null,
      "align_self": null,
      "height": null,
      "min_height": null,
      "padding": null,
      "grid_auto_rows": null,
      "grid_gap": null,
      "max_width": null,
      "order": null,
      "_view_module_version": "1.2.0",
      "grid_template_areas": null,
      "object_position": null,
      "object_fit": null,
      "grid_auto_columns": null,
      "margin": null,
      "display": null,
      "left": null
     }
    },
    "5d6a1cc23755420da53c1d287abcab92": {
     "model_module": "@jupyter-widgets/controls",
     "model_name": "HBoxModel",
     "model_module_version": "1.5.0",
     "state": {
      "_view_name": "HBoxView",
      "_dom_classes": [],
      "_model_name": "HBoxModel",
      "_view_module": "@jupyter-widgets/controls",
      "_model_module_version": "1.5.0",
      "_view_count": null,
      "_view_module_version": "1.5.0",
      "box_style": "",
      "layout": "IPY_MODEL_3b2ec304955247628cdce457128d313f",
      "_model_module": "@jupyter-widgets/controls",
      "children": [
       "IPY_MODEL_ff24173e879f4b68bd250a6236699153",
       "IPY_MODEL_8eb245e27b5249c08f8344c6c7e81302",
       "IPY_MODEL_aef02052fd7046678b710c933335dad3"
      ]
     }
    },
    "3b2ec304955247628cdce457128d313f": {
     "model_module": "@jupyter-widgets/base",
     "model_name": "LayoutModel",
     "model_module_version": "1.2.0",
     "state": {
      "_view_name": "LayoutView",
      "grid_template_rows": null,
      "right": null,
      "justify_content": null,
      "_view_module": "@jupyter-widgets/base",
      "overflow": null,
      "_model_module_version": "1.2.0",
      "_view_count": null,
      "flex_flow": null,
      "width": null,
      "min_width": null,
      "border": null,
      "align_items": null,
      "bottom": null,
      "_model_module": "@jupyter-widgets/base",
      "top": null,
      "grid_column": null,
      "overflow_y": null,
      "overflow_x": null,
      "grid_auto_flow": null,
      "grid_area": null,
      "grid_template_columns": null,
      "flex": null,
      "_model_name": "LayoutModel",
      "justify_items": null,
      "grid_row": null,
      "max_height": null,
      "align_content": null,
      "visibility": null,
      "align_self": null,
      "height": null,
      "min_height": null,
      "padding": null,
      "grid_auto_rows": null,
      "grid_gap": null,
      "max_width": null,
      "order": null,
      "_view_module_version": "1.2.0",
      "grid_template_areas": null,
      "object_position": null,
      "object_fit": null,
      "grid_auto_columns": null,
      "margin": null,
      "display": null,
      "left": null
     }
    },
    "ff24173e879f4b68bd250a6236699153": {
     "model_module": "@jupyter-widgets/controls",
     "model_name": "HTMLModel",
     "model_module_version": "1.5.0",
     "state": {
      "_view_name": "HTMLView",
      "style": "IPY_MODEL_6ee037343d5740919f7af7e1c1c733bb",
      "_dom_classes": [],
      "description": "",
      "_model_name": "HTMLModel",
      "placeholder": "​",
      "_view_module": "@jupyter-widgets/controls",
      "_model_module_version": "1.5.0",
      "value": "spellcorrect_pipeline on transcriptions: 100%",
      "_view_count": null,
      "_view_module_version": "1.5.0",
      "description_tooltip": null,
      "_model_module": "@jupyter-widgets/controls",
      "layout": "IPY_MODEL_3aa24623363f42759fbfb9fb2aa456bb"
     }
    },
    "8eb245e27b5249c08f8344c6c7e81302": {
     "model_module": "@jupyter-widgets/controls",
     "model_name": "FloatProgressModel",
     "model_module_version": "1.5.0",
     "state": {
      "_view_name": "ProgressView",
      "style": "IPY_MODEL_4548c4398fde4dbe9bdcde1c125307dd",
      "_dom_classes": [],
      "description": "",
      "_model_name": "FloatProgressModel",
      "bar_style": "success",
      "max": 2,
      "_view_module": "@jupyter-widgets/controls",
      "_model_module_version": "1.5.0",
      "value": 2,
      "_view_count": null,
      "_view_module_version": "1.5.0",
      "orientation": "horizontal",
      "min": 0,
      "description_tooltip": null,
      "_model_module": "@jupyter-widgets/controls",
      "layout": "IPY_MODEL_15403cc61e8a4394abe8eec1b4551b7f"
     }
    },
    "aef02052fd7046678b710c933335dad3": {
     "model_module": "@jupyter-widgets/controls",
     "model_name": "HTMLModel",
     "model_module_version": "1.5.0",
     "state": {
      "_view_name": "HTMLView",
      "style": "IPY_MODEL_da9795372d3d490abe1988e1eeb5ca99",
      "_dom_classes": [],
      "description": "",
      "_model_name": "HTMLModel",
      "placeholder": "​",
      "_view_module": "@jupyter-widgets/controls",
      "_model_module_version": "1.5.0",
      "value": " 2/2 [00:41&lt;00:00, 18.97s/it]",
      "_view_count": null,
      "_view_module_version": "1.5.0",
      "description_tooltip": null,
      "_model_module": "@jupyter-widgets/controls",
      "layout": "IPY_MODEL_0ed706ca17464d989c42e331037a5f4f"
     }
    },
    "6ee037343d5740919f7af7e1c1c733bb": {
     "model_module": "@jupyter-widgets/controls",
     "model_name": "DescriptionStyleModel",
     "model_module_version": "1.5.0",
     "state": {
      "_view_name": "StyleView",
      "_model_name": "DescriptionStyleModel",
      "description_width": "",
      "_view_module": "@jupyter-widgets/base",
      "_model_module_version": "1.5.0",
      "_view_count": null,
      "_view_module_version": "1.2.0",
      "_model_module": "@jupyter-widgets/controls"
     }
    },
    "3aa24623363f42759fbfb9fb2aa456bb": {
     "model_module": "@jupyter-widgets/base",
     "model_name": "LayoutModel",
     "model_module_version": "1.2.0",
     "state": {
      "_view_name": "LayoutView",
      "grid_template_rows": null,
      "right": null,
      "justify_content": null,
      "_view_module": "@jupyter-widgets/base",
      "overflow": null,
      "_model_module_version": "1.2.0",
      "_view_count": null,
      "flex_flow": null,
      "width": null,
      "min_width": null,
      "border": null,
      "align_items": null,
      "bottom": null,
      "_model_module": "@jupyter-widgets/base",
      "top": null,
      "grid_column": null,
      "overflow_y": null,
      "overflow_x": null,
      "grid_auto_flow": null,
      "grid_area": null,
      "grid_template_columns": null,
      "flex": null,
      "_model_name": "LayoutModel",
      "justify_items": null,
      "grid_row": null,
      "max_height": null,
      "align_content": null,
      "visibility": null,
      "align_self": null,
      "height": null,
      "min_height": null,
      "padding": null,
      "grid_auto_rows": null,
      "grid_gap": null,
      "max_width": null,
      "order": null,
      "_view_module_version": "1.2.0",
      "grid_template_areas": null,
      "object_position": null,
      "object_fit": null,
      "grid_auto_columns": null,
      "margin": null,
      "display": null,
      "left": null
     }
    },
    "4548c4398fde4dbe9bdcde1c125307dd": {
     "model_module": "@jupyter-widgets/controls",
     "model_name": "ProgressStyleModel",
     "model_module_version": "1.5.0",
     "state": {
      "_view_name": "StyleView",
      "_model_name": "ProgressStyleModel",
      "description_width": "",
      "_view_module": "@jupyter-widgets/base",
      "_model_module_version": "1.5.0",
      "_view_count": null,
      "_view_module_version": "1.2.0",
      "bar_color": null,
      "_model_module": "@jupyter-widgets/controls"
     }
    },
    "15403cc61e8a4394abe8eec1b4551b7f": {
     "model_module": "@jupyter-widgets/base",
     "model_name": "LayoutModel",
     "model_module_version": "1.2.0",
     "state": {
      "_view_name": "LayoutView",
      "grid_template_rows": null,
      "right": null,
      "justify_content": null,
      "_view_module": "@jupyter-widgets/base",
      "overflow": null,
      "_model_module_version": "1.2.0",
      "_view_count": null,
      "flex_flow": null,
      "width": null,
      "min_width": null,
      "border": null,
      "align_items": null,
      "bottom": null,
      "_model_module": "@jupyter-widgets/base",
      "top": null,
      "grid_column": null,
      "overflow_y": null,
      "overflow_x": null,
      "grid_auto_flow": null,
      "grid_area": null,
      "grid_template_columns": null,
      "flex": null,
      "_model_name": "LayoutModel",
      "justify_items": null,
      "grid_row": null,
      "max_height": null,
      "align_content": null,
      "visibility": null,
      "align_self": null,
      "height": null,
      "min_height": null,
      "padding": null,
      "grid_auto_rows": null,
      "grid_gap": null,
      "max_width": null,
      "order": null,
      "_view_module_version": "1.2.0",
      "grid_template_areas": null,
      "object_position": null,
      "object_fit": null,
      "grid_auto_columns": null,
      "margin": null,
      "display": null,
      "left": null
     }
    },
    "da9795372d3d490abe1988e1eeb5ca99": {
     "model_module": "@jupyter-widgets/controls",
     "model_name": "DescriptionStyleModel",
     "model_module_version": "1.5.0",
     "state": {
      "_view_name": "StyleView",
      "_model_name": "DescriptionStyleModel",
      "description_width": "",
      "_view_module": "@jupyter-widgets/base",
      "_model_module_version": "1.5.0",
      "_view_count": null,
      "_view_module_version": "1.2.0",
      "_model_module": "@jupyter-widgets/controls"
     }
    },
    "0ed706ca17464d989c42e331037a5f4f": {
     "model_module": "@jupyter-widgets/base",
     "model_name": "LayoutModel",
     "model_module_version": "1.2.0",
     "state": {
      "_view_name": "LayoutView",
      "grid_template_rows": null,
      "right": null,
      "justify_content": null,
      "_view_module": "@jupyter-widgets/base",
      "overflow": null,
      "_model_module_version": "1.2.0",
      "_view_count": null,
      "flex_flow": null,
      "width": null,
      "min_width": null,
      "border": null,
      "align_items": null,
      "bottom": null,
      "_model_module": "@jupyter-widgets/base",
      "top": null,
      "grid_column": null,
      "overflow_y": null,
      "overflow_x": null,
      "grid_auto_flow": null,
      "grid_area": null,
      "grid_template_columns": null,
      "flex": null,
      "_model_name": "LayoutModel",
      "justify_items": null,
      "grid_row": null,
      "max_height": null,
      "align_content": null,
      "visibility": null,
      "align_self": null,
      "height": null,
      "min_height": null,
      "padding": null,
      "grid_auto_rows": null,
      "grid_gap": null,
      "max_width": null,
      "order": null,
      "_view_module_version": "1.2.0",
      "grid_template_areas": null,
      "object_position": null,
      "object_fit": null,
      "grid_auto_columns": null,
      "margin": null,
      "display": null,
      "left": null
     }
    }
   }
  }
 },
 "cells": [
  {
   "cell_type": "markdown",
   "metadata": {
    "id": "view-in-github",
    "colab_type": "text"
   },
   "source": [
    "<a href=\"https://colab.research.google.com/github/pszemraj/vid2cleantxt/blob/master/colab_notebooks/vid2cleantext_transcriber_multi_file_version.ipynb\" target=\"_parent\"><img src=\"https://colab.research.google.com/assets/colab-badge.svg\" alt=\"Open In Colab\"/></a>"
   ]
  },
  {
   "cell_type": "markdown",
   "metadata": {
    "id": "oiurzXGg8DyC"
   },
   "source": [
    "# vid2cleantxt - Multi file version on Colab\n",
    "Peter Szemraj\n",
    "\n",
    "[Link to full GitHub Repo](https://github.com/pszemraj/vid2cleantxt)\n",
    "\n",
    "## Purpose\n",
    "\n",
    "* Links to your google drive (through google's authentication package, transcribes a video file to audio chunks, runs those chunks through facebook's wav2vec2 pretrained speech transcription model. \n",
    "* After saving original transcription, it also creates a version that is spell-corrected, and a third version with sentence boundary disambiguation (i.e. it adds periods into sentences)\n",
    "* [Multi] The multi-file version basically does the same thing as the single file, except, well, with multiple files together. See below\n",
    "\n",
    "## Differences of Multi-File Version vs. Single\n",
    "\n",
    "* User no longer specifies a filename. All video files in a folder will be transcribed.\n",
    "* Code now adds iteration sections where it looks through the directory in several instances, and returns a sorted list of filenames \n",
    "* The output of the keywords is more useful, as it has one column for each file together in a single workbook\n",
    "\n",
    "## Instructions\n",
    "\n",
    "The three main things that need to be done to make this work are:\n",
    "1. mount your google drive (make sure the video file(s) is/are uploaded there)\n",
    "2. specify filepath to video files\n",
    "3. adjust runtime (bit of a trial and error process) \n",
    "\n",
    "sections where these parameters need to be updated are indicated in the file below.\n",
    "\n",
    "\n"
   ]
  },
  {
   "cell_type": "markdown",
   "metadata": {
    "id": "4aIqkxLVQA7R"
   },
   "source": [
    "# Enable Notebook to Run Model"
   ]
  },
  {
   "cell_type": "markdown",
   "metadata": {
    "id": "O_A2mwBdNIQG"
   },
   "source": [
    "\n",
    "** **\n",
    "## Adjusting Runtime Settings (Colab)\n",
    "\n",
    "Google Colab allows you to configure the settings for your runtime. Because we are running a Pytorch model on potentially hours of audio data, you want a GPU and high-ram. While Colab Pro allows you to have *more reliable* access to a GPU, you should be able to get one for running this script with the free version.\n",
    "** **\n",
    "This is how you do it:\n",
    "\n",
    "1. In the top menu, Runtime --> Check Runtime Settings\n",
    "\n",
    "![for colab - change runtime.png](data:image/png;base64,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)\n",
    "\n",
    "2. Change runtime to \"high-ram\" and to use a GPU as a hardware accelerator\n",
    "\n",
    "![for colab - current rt settings.png](data:image/png;base64,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)"
   ]
  },
  {
   "cell_type": "markdown",
   "metadata": {
    "id": "2sVrAUaTCCWx"
   },
   "source": [
    "# Start of Code"
   ]
  },
  {
   "cell_type": "markdown",
   "metadata": {
    "id": "zJJ4BVpL9ixu"
   },
   "source": [
    "## Mount Google Drive (#1)\n",
    "\n",
    "### <font color=\"orange\"> Point 1 in Instructions. \n",
    "\n",
    "**Note: for current code, the video file needs to be in google drive**\n",
    "\n",
    "This part is relatively straightforward, as you run all the cells the file will stop here, ask you to authenticate your drive and give you a url. Do what it says."
   ]
  },
  {
   "cell_type": "code",
   "metadata": {
    "id": "IMG54vYlNqgm",
    "colab": {
     "base_uri": "https://localhost:8080/"
    },
    "outputId": "f0975e34-1b81-41b4-c5d3-c19e5c3d91f8"
   },
   "source": [
    "# create interface to upload / interact with google drive and video files\n",
    "from google.colab import files\n",
    "from google.colab import drive\n",
    "\n",
    "drive.mount(\"/content/drive\")\n",
    "# after you allow the authentication, you can work using the path \"/content/drive/My Drive\"\n",
    "# if it works it will say \"Mounted at /content/drive\""
   ],
   "execution_count": null,
   "outputs": [
    {
     "output_type": "stream",
     "text": [
      "Mounted at /content/drive\n"
     ],
     "name": "stdout"
    }
   ]
  },
  {
   "cell_type": "markdown",
   "metadata": {
    "id": "jYP_gimJYWn5"
   },
   "source": [
    "## Specify filename and filepath (#2)\n",
    "\n",
    "## <font color=\"orange\"> Point 2 in Instructions\n",
    "\n",
    "Because this notebook authenticates/connects to your drive, the \"header\" filepath is always the same as:\n",
    "\n",
    "> \"/content/drive/My Drive\"\n",
    "\n",
    "- You then add /folder1 or if multiple /folder1/folder2 etc\n",
    "\n",
    "*NOTE you can also find the folder filepath by navigating in the Google Colab file browser (folder icon in the left menu on the screen)*"
   ]
  },
  {
   "cell_type": "code",
   "metadata": {
    "cellView": "form",
    "id": "edpWDhRuYSNr",
    "colab": {
     "base_uri": "https://localhost:8080/"
    },
    "outputId": "1ce01bee-8dec-4324-e112-f2ff0a4b6c73"
   },
   "source": [
    "directory = \"/content/drive/MyDrive/Video/ETHZ2021s/example_vid_transc\"  # @param {type:\"string\"}\n",
    "# set to false if you don't want it to download a zipped file of all the text\n",
    "download_output_files = True  # @param {type:\"boolean\"}\n",
    "# specify file inputs\n",
    "\n",
    "print(\"Will use the following as directory/file: \")\n",
    "print(directory)\n",
    "\n",
    "from datetime import datetime\n",
    "\n",
    "run_start = datetime.now()\n",
    "tag_date = \"started_\" + run_start.strftime(\"%m/%d/%Y, %H-%M\")"
   ],
   "execution_count": null,
   "outputs": [
    {
     "output_type": "stream",
     "text": [
      "Will use the following as directory/file: \n",
      "/content/drive/MyDrive/Video/ETHZ2021s/example_vid_transc\n"
     ],
     "name": "stdout"
    }
   ]
  },
  {
   "cell_type": "markdown",
   "metadata": {
    "id": "STyM3PrkCPzk"
   },
   "source": [
    "# Install, Import "
   ]
  },
  {
   "cell_type": "markdown",
   "metadata": {
    "id": "sbTYFMkJKekA"
   },
   "source": [
    "Notes on MoviePy releases are [on GitHub](https://github.com/Zulko/moviepy/releases). Sometimes issues arise when converting the video to audio"
   ]
  },
  {
   "cell_type": "code",
   "metadata": {
    "id": "aU0vhImmKeOc"
   },
   "source": [
    "%%capture\n",
    "!pip install pysbd\n",
    "!pip install -U transformers\n",
    "!pip install wordninja\n",
    "!pip install yake\n",
    "!pip install symspellpy\n",
    "!pip install pycuda\n",
    "!pip install gputil\n",
    "!pip install humanize\n",
    "!pip install -U plotly\n",
    "!pip install moviepy --pre --upgrade\n",
    "!apt install ffmpeg\n",
    "!pip install -U tqdm\n",
    "!pip install -U neuspell\n",
    "!pip install clean-text[gpl]\n",
    "\n",
    "# !apt-get install ffmpeg\n",
    "\n",
    "import math, re\n",
    "import os, shutil, time\n",
    "import pprint as pp\n",
    "from datetime import datetime\n",
    "from os import listdir\n",
    "from os.path import isfile, join\n",
    "\n",
    "import librosa\n",
    "import moviepy.editor as mp\n",
    "import moviepy\n",
    "import pandas as pd\n",
    "import pkg_resources\n",
    "import pysbd\n",
    "import torch\n",
    "import wordninja\n",
    "import yake\n",
    "from natsort import natsorted\n",
    "from symspellpy import SymSpell\n",
    "import transformers\n",
    "from transformers import Wav2Vec2ForCTC, Wav2Vec2Tokenizer\n",
    "import pycuda.driver as cuda\n",
    "import psutil\n",
    "import humanize\n",
    "import GPUtil as GPU\n",
    "import neuspell\n",
    "from tqdm.auto import tqdm\n",
    "from cleantext import clean"
   ],
   "execution_count": null,
   "outputs": []
  },
  {
   "cell_type": "markdown",
   "metadata": {
    "id": "9gqce-JlruPm"
   },
   "source": [
    "# Function Definitions"
   ]
  },
  {
   "cell_type": "markdown",
   "metadata": {
    "id": "GIiiYDyDwp-B"
   },
   "source": [
    "## ipython display conf."
   ]
  },
  {
   "cell_type": "code",
   "metadata": {
    "id": "gJbFLyP9wsfC"
   },
   "source": [
    "%%capture\n",
    "from IPython.display import HTML, display\n",
    "\n",
    "\n",
    "def set_css():\n",
    "    display(\n",
    "        HTML(\n",
    "            \"\"\"\n",
    "  <style>\n",
    "    pre {\n",
    "        white-space: pre-wrap;\n",
    "    }\n",
    "  </style>\n",
    "  \"\"\"\n",
    "        )\n",
    "    )\n",
    "\n",
    "\n",
    "get_ipython().events.register(\"pre_run_cell\", set_css)"
   ],
   "execution_count": null,
   "outputs": []
  },
  {
   "cell_type": "markdown",
   "metadata": {
    "id": "CqAOMIuzGtUx"
   },
   "source": [
    "### generic functions "
   ]
  },
  {
   "cell_type": "code",
   "metadata": {
    "id": "GgmDOcLH2Apm",
    "colab": {
     "base_uri": "https://localhost:8080/"
    },
    "outputId": "89287404-f0d1-4f34-8647-ada05bb16c24"
   },
   "source": [
    "# define user functions\n",
    "\n",
    "\n",
    "def increase_font():\n",
    "    from IPython.display import Javascript\n",
    "\n",
    "    display(\n",
    "        Javascript(\n",
    "            \"\"\"\n",
    "  for (rule of document.styleSheets[0].cssRules){\n",
    "    if (rule.selectorText=='body') {\n",
    "      rule.style.fontSize = '24px'\n",
    "      break\n",
    "    }\n",
    "  }\n",
    "  \"\"\"\n",
    "        )\n",
    "    )\n",
    "\n",
    "\n",
    "def reset_font():\n",
    "    from IPython.display import Javascript\n",
    "\n",
    "    display(\n",
    "        Javascript(\n",
    "            \"\"\"\n",
    "  for (rule of document.styleSheets[0].cssRules){\n",
    "    if (rule.selectorText=='body') {\n",
    "      rule.style.fontSize = '14px'\n",
    "      break\n",
    "    }\n",
    "  }\n",
    "  \"\"\"\n",
    "        )\n",
    "    )\n",
    "\n",
    "\n",
    "def corr(s):\n",
    "    # adds space after period if there isn't one\n",
    "    # removes extra spaces\n",
    "    return re.sub(r\"\\.(?! )\", \". \", re.sub(r\" +\", \" \", s))\n",
    "\n",
    "\n",
    "def cleantxt_wrap(ugly_text):\n",
    "    # a wrapper for clean text with options different than default\n",
    "\n",
    "    # https://pypi.org/project/clean-text/\n",
    "    cleaned_text = clean(\n",
    "        ugly_text,\n",
    "        fix_unicode=True,  # fix various unicode errors\n",
    "        to_ascii=True,  # transliterate to closest ASCII representation\n",
    "        lower=True,  # lowercase text\n",
    "        no_line_breaks=True,  # fully strip line breaks as opposed to only normalizing them\n",
    "        no_urls=True,  # replace all URLs with a special token\n",
    "        no_emails=True,  # replace all email addresses with a special token\n",
    "        no_phone_numbers=True,  # replace all phone numbers with a special token\n",
    "        no_numbers=False,  # replace all numbers with a special token\n",
    "        no_digits=False,  # replace all digits with a special token\n",
    "        no_currency_symbols=True,  # replace all currency symbols with a special token\n",
    "        no_punct=True,  # remove punctuations\n",
    "        replace_with_punct=\"\",  # instead of removing punctuations you may replace them\n",
    "        replace_with_url=\"<URL>\",\n",
    "        replace_with_email=\"<EMAIL>\",\n",
    "        replace_with_phone_number=\"<PHONE>\",\n",
    "        replace_with_number=\"<NUM>\",\n",
    "        replace_with_digit=\"0\",\n",
    "        replace_with_currency_symbol=\"<CUR>\",\n",
    "        lang=\"en\",  # set to 'de' for German special handling\n",
    "    )\n",
    "\n",
    "    return cleaned_text\n",
    "\n",
    "\n",
    "def beautify_filename(filename, num_words=20, start_reverse=False, word_separator=\"_\"):\n",
    "    # takes a filename stored as text, removes extension, separates into X words ...\n",
    "    # and returns a nice filename with the words separateed by\n",
    "    # useful for when you are reading files, doing things to them, and making new files\n",
    "\n",
    "    filename = str(filename)\n",
    "    index_file_Ext = filename.rfind(\".\")\n",
    "    current_name = str(filename)[:index_file_Ext]  # get rid of extension\n",
    "    clean_name = cleantxt_wrap(current_name)  # wrapper with custom defs\n",
    "    file_words = wordninja.split(clean_name)\n",
    "    # splits concatenated text into a list of words based on common word freq\n",
    "    if len(file_words) <= num_words:\n",
    "        num_words = len(file_words)\n",
    "\n",
    "    if start_reverse:\n",
    "        t_file_words = file_words[-num_words:]\n",
    "    else:\n",
    "        t_file_words = file_words[:num_words]\n",
    "\n",
    "    pretty_name = word_separator.join(t_file_words)  # see function argument\n",
    "\n",
    "    # NOTE IT DOES NOT RETURN THE EXTENSION\n",
    "    return pretty_name[\n",
    "        : (len(pretty_name) - 1)\n",
    "    ]  # there is a space always at the end, so -1\n",
    "\n",
    "\n",
    "def quick_keys(\n",
    "    filename, filepath, max_ngrams=3, num_keywords=20, save_db=False, verbose=False\n",
    "):\n",
    "    # uses YAKE to quickly determine keywords in a text file. Saves Keywords and YAKE score (0 means very important) in\n",
    "    # an excel file (from a dataframe)\n",
    "    # yes, the double entendre is intended.\n",
    "    file = open(join(filepath, filename), \"r\", encoding=\"utf-8\", errors=\"ignore\")\n",
    "    text = file.read()\n",
    "    file.close()\n",
    "\n",
    "    language = \"en\"\n",
    "    deduplication_threshold = 0.3  # technically a hyperparameter\n",
    "    custom_kw_extractor = yake.KeywordExtractor(\n",
    "        lan=language,\n",
    "        n=max_ngrams,\n",
    "        dedupLim=deduplication_threshold,\n",
    "        top=num_keywords,\n",
    "        features=None,\n",
    "    )\n",
    "    yake_keywords = custom_kw_extractor.extract_keywords(text)\n",
    "    phrase_db = pd.DataFrame(yake_keywords)\n",
    "    if verbose:\n",
    "        print(\"YAKE keywords are: \\n\", yake_keywords)\n",
    "        print(\"dataframe looks like: \\n\")\n",
    "        pp.pprint(phrase_db.head())\n",
    "\n",
    "    if len(phrase_db) == 0:\n",
    "        print(\"warning - no phrases were able to be extracted... \")\n",
    "        return None\n",
    "\n",
    "    phrase_db.columns = [\"key_phrase\", \"YAKE_sore\"]\n",
    "\n",
    "    # add a column for how many words the phrases contain\n",
    "    yake_kw_len = []\n",
    "    yake_kw_freq = []\n",
    "    for entry in yake_keywords:\n",
    "        entry_wordcount = len(str(entry).split(\" \")) - 1\n",
    "        yake_kw_len.append(entry_wordcount)\n",
    "\n",
    "    for index, row in phrase_db.iterrows():\n",
    "        search_term = row[\"key_phrase\"]\n",
    "        entry_freq = text.count(str(search_term))\n",
    "        yake_kw_freq.append(entry_freq)\n",
    "\n",
    "    word_len_series = pd.Series(yake_kw_len, name=\"No. Words in Phrase\")\n",
    "    word_freq_series = pd.Series(yake_kw_freq, name=\"Phrase Freq. in Text\")\n",
    "    phrase_db2 = pd.concat([phrase_db, word_len_series, word_freq_series], axis=1)\n",
    "    # add column names and save file as excel because CSVs suck\n",
    "    phrase_db2.columns = [\n",
    "        \"key_phrase\",\n",
    "        \"YAKE Score (Lower = More Important)\",\n",
    "        \"num_words\",\n",
    "        \"freq_in_text\",\n",
    "    ]\n",
    "\n",
    "    if save_db:\n",
    "        # saves individual file if user asks\n",
    "        yake_fname = (\n",
    "            beautify_filename(filename=filename, start_reverse=False)\n",
    "            + \"_top_phrases_YAKE.xlsx\"\n",
    "        )\n",
    "        phrase_db2.to_excel(join(filepath, yake_fname), index=False)\n",
    "\n",
    "    # print out top 10 keywords, or if desired num keywords less than 10, all of them\n",
    "    max_no_disp = 10\n",
    "    if num_keywords > max_no_disp:\n",
    "        num_phrases_disp = max_no_disp\n",
    "    else:\n",
    "        num_phrases_disp = num_keywords\n",
    "\n",
    "    if verbose:\n",
    "        print(\"Top Key Phrases from YAKE, with max n-gram length: \", max_ngrams, \"\\n\")\n",
    "        pp.pprint(phrase_db2.head(n=num_phrases_disp))\n",
    "    else:\n",
    "        list_o_words = phrase_db2[\"key_phrase\"].to_list()\n",
    "        print(\"top 5 phrases are: \\n\")\n",
    "        if len(list_o_words) < 5:\n",
    "            pp.pprint(list_o_words)\n",
    "        else:\n",
    "            pp.pprint(list_o_words[:5])\n",
    "\n",
    "    return phrase_db2\n",
    "\n",
    "\n",
    "def digest_txt_directory(file_directory, identifer=\"\", verbose=False, make_folder=True):\n",
    "    run_date = datetime.now()\n",
    "    files_to_merge = natsorted(\n",
    "        [\n",
    "            f\n",
    "            for f in listdir(file_directory)\n",
    "            if isfile(join(file_directory, f)) & f.endswith(\".txt\")\n",
    "        ]\n",
    "    )\n",
    "    outfilename = (\n",
    "        \"Zealous_MERGED_words_\" + identifer + run_date.strftime(\"_%d%m%Y_%H\") + \".txt\"\n",
    "    )\n",
    "\n",
    "    og_wd = os.getcwd()\n",
    "    os.chdir(file_directory)\n",
    "\n",
    "    if make_folder:\n",
    "        folder_name = \"merged_txt_files\"\n",
    "        if not os.path.isdir(join(file_directory, folder_name)):\n",
    "            os.mkdir(\n",
    "                join(file_directory, folder_name)\n",
    "            )  # make a place to store outputs if one does not exist\n",
    "        output_loc = join(file_directory, folder_name)\n",
    "\n",
    "        outfilename = join(folder_name, outfilename)\n",
    "\n",
    "        if verbose:\n",
    "            print(\"created new folder. new full path is: \\n\", output_loc)\n",
    "\n",
    "    count = 0\n",
    "    with open(outfilename, \"w\") as outfile:\n",
    "\n",
    "        for names in files_to_merge:\n",
    "\n",
    "            with open(names) as infile:\n",
    "                count += 1\n",
    "                outfile.write(\"Start of: \" + names + \"\\n\")\n",
    "                outfile.writelines(infile.readlines())\n",
    "\n",
    "            outfile.write(\"\\n\")\n",
    "\n",
    "    print(\"Merged {} text files together.\".format(count))\n",
    "    if verbose:\n",
    "        print(\"the merged file is located at: \\n\", os.getcwd())\n",
    "    os.chdir(og_wd)\n",
    "\n",
    "\n",
    "def validate_output_directories(directory, verbose=False):\n",
    "\n",
    "    # checks and creates folders\n",
    "\n",
    "    t_folder_name = \"wav2vec2_sf_transcript\"\n",
    "    m_folder_name = \"wav2vec2_sf_metadata\"\n",
    "\n",
    "    # check if transcription folder exists. If not, create it\n",
    "    if not os.path.isdir(join(directory, t_folder_name)):\n",
    "        os.mkdir(\n",
    "            join(directory, t_folder_name)\n",
    "        )  # make a place to store outputs if one does not exist\n",
    "\n",
    "        if verbose:\n",
    "            print(\n",
    "                \"needed to create the folder: {}. Its location is: \\n\".format(\n",
    "                    t_folder_name\n",
    "                ),\n",
    "                join(directory, t_folder_name),\n",
    "            )\n",
    "    t_path_full = join(directory, t_folder_name)\n",
    "\n",
    "    # check if metadata folder exists. If not, create it\n",
    "    if not os.path.isdir(join(directory, m_folder_name)):\n",
    "        os.mkdir(\n",
    "            join(directory, m_folder_name)\n",
    "        )  # make a place to store outputs if one does not exist\n",
    "\n",
    "        if verbose:\n",
    "            print(\n",
    "                \"needed to create the folder: {}. Its location is: \\n\".format(\n",
    "                    m_folder_name\n",
    "                ),\n",
    "                join(directory, m_folder_name),\n",
    "            )\n",
    "\n",
    "    m_path_full = join(directory, m_folder_name)\n",
    "\n",
    "    output_locs = {\"t_out\": t_path_full, \"m_out\": m_path_full}\n",
    "\n",
    "    return output_locs\n",
    "\n",
    "\n",
    "def move2completed(from_dir, filename, new_folder=\"completed\", verbose=False):\n",
    "\n",
    "    # this is the better version\n",
    "    old_filepath = join(from_dir, filename)\n",
    "\n",
    "    new_filedirectory = join(from_dir, new_folder)\n",
    "\n",
    "    if not os.path.isdir(new_filedirectory):\n",
    "        os.mkdir(new_filedirectory)\n",
    "        if verbose:\n",
    "            print(\"created new directory for files at: \\n\", new_filedirectory)\n",
    "\n",
    "    new_filepath = join(new_filedirectory, filename)\n",
    "\n",
    "    try:\n",
    "        shutil.move(old_filepath, new_filepath)\n",
    "        print(\"successfully moved the file {} to */completed.\".format(filename))\n",
    "    except:\n",
    "        print(\n",
    "            \"ERROR! unable to move file to \\n{}. Please investigate\".format(\n",
    "                new_filepath\n",
    "            )\n",
    "        )\n",
    "\n",
    "\n",
    "print(\"loaded all generic functions at: \", datetime.now())\n",
    "\n",
    "# create time log\n",
    "\n",
    "time_log = []\n",
    "time_log_desc = []\n",
    "time_log.append(time.perf_counter())\n",
    "time_log_desc.append(\"start\")"
   ],
   "execution_count": null,
   "outputs": [
    {
     "output_type": "display_data",
     "data": {
      "text/html": [
       "\n",
       "  <style>\n",
       "    pre {\n",
       "        white-space: pre-wrap;\n",
       "    }\n",
       "  </style>\n",
       "  "
      ],
      "text/plain": [
       "<IPython.core.display.HTML object>"
      ]
     },
     "metadata": {
      "tags": []
     }
    },
    {
     "output_type": "stream",
     "text": [
      "loaded all generic functions at:  2021-07-13 01:37:06.688315\n"
     ],
     "name": "stdout"
    }
   ]
  },
  {
   "cell_type": "markdown",
   "metadata": {
    "id": "I2eD62hAXgPR"
   },
   "source": [
    ""
   ]
  },
  {
   "cell_type": "markdown",
   "metadata": {
    "id": "glWI8J88XIt8"
   },
   "source": [
    "### time log"
   ]
  },
  {
   "cell_type": "code",
   "metadata": {
    "id": "K-2yKpMAXKOn",
    "colab": {
     "base_uri": "https://localhost:8080/"
    },
    "outputId": "8b741aab-e906-4476-8b3f-5d61bb1d6f1c"
   },
   "source": [
    "def timelog_analytics(\n",
    "    time_log, time_log_desc, save_path=None, show_plot=False, save_plot=True\n",
    "):\n",
    "    # takes the two lists used everywhere in this file and makes a relatively useful report\n",
    "    if save_path is None:\n",
    "        save_path = os.getcwd()\n",
    "    time_records_db = pd.DataFrame(\n",
    "        list(zip(time_log_desc, time_log)), columns=[\"Event\", \"Time (sec)\"]\n",
    "    )\n",
    "    start_time_block = time_records_db.loc[0, \"Time (sec)\"]\n",
    "    time_records_db[\"time_mins\"] = 0\n",
    "    time_records_db[\"diff_time_mins\"] = 0\n",
    "    prior_time = 0\n",
    "    for index, row in time_records_db.iterrows():\n",
    "        normalized_time = row[\"Time (sec)\"] - start_time_block\n",
    "        time_records_db.loc[index, \"Time (sec)\"] = normalized_time\n",
    "        time_records_db.loc[index, \"time_mins\"] = normalized_time / 60\n",
    "\n",
    "        if prior_time == 0:\n",
    "            time_records_db.loc[index, \"diff_time_mins\"] = normalized_time / 60\n",
    "            prior_time = normalized_time / 60\n",
    "        else:\n",
    "            # conditional check mostly for safety reasons\n",
    "            time_records_db.loc[index, \"diff_time_mins\"] = (\n",
    "                normalized_time / 60\n",
    "            ) - prior_time\n",
    "            prior_time = normalized_time / 60\n",
    "\n",
    "    time_records_db.to_excel(\n",
    "        join(\n",
    "            save_path,\n",
    "            \"vid2cleantxt_\"\n",
    "            + datetime.now().strftime(\"%d%m%Y\")\n",
    "            + \"transc_time_log.xlsx\",\n",
    "        )\n",
    "    )\n",
    "    print(\n",
    "        \"total runtime was {} minutes\".format(round((time_log[-1] - time_log[0]) / 60))\n",
    "    )\n",
    "\n",
    "    total_time = time_records_db[\"diff_time_mins\"].sum()\n",
    "\n",
    "    def get_time_frac(section_time):\n",
    "        return section_time / total_time\n",
    "\n",
    "    time_records_db[\"duration_frac\"] = time_records_db[\"diff_time_mins\"].apply(\n",
    "        get_time_frac\n",
    "    )\n",
    "    time_records_db.loc[\n",
    "        time_records_db[\"duration_frac\"] < 0.03, \"Event\"\n",
    "    ] = \"Misc.\"  # Represent only large events\n",
    "    figtitle = \"Run Time Viz - transc of {} video files on {}\".format(\n",
    "        len(approved_files), datetime.now().strftime(\"%d.%m.%Y\")\n",
    "    )\n",
    "    fig = px.pie(\n",
    "        time_records_db,\n",
    "        values=\"diff_time_mins\",\n",
    "        names=\"Event\",\n",
    "        title=figtitle,\n",
    "        template=\"plotly_dark\",\n",
    "    )\n",
    "    if show_plot:\n",
    "        fig.show()\n",
    "    if save_plot:\n",
    "        fig.to_html(\n",
    "            join(save_path, \"transcriptions {} run time viz.html\".format(tag_date)),\n",
    "            include_plotlyjs=True,\n",
    "            default_width=1280,\n",
    "            default_height=720,\n",
    "        )"
   ],
   "execution_count": null,
   "outputs": [
    {
     "output_type": "display_data",
     "data": {
      "text/html": [
       "\n",
       "  <style>\n",
       "    pre {\n",
       "        white-space: pre-wrap;\n",
       "    }\n",
       "  </style>\n",
       "  "
      ],
      "text/plain": [
       "<IPython.core.display.HTML object>"
      ]
     },
     "metadata": {
      "tags": []
     }
    }
   ]
  },
  {
   "cell_type": "markdown",
   "metadata": {
    "id": "bjFiyKzZgM0j"
   },
   "source": [
    "## check hardware\n"
   ]
  },
  {
   "cell_type": "code",
   "metadata": {
    "id": "4xm8WRBxgK5t",
    "colab": {
     "base_uri": "https://localhost:8080/"
    },
    "outputId": "87a7561a-f616-473d-8416-1fd237f6e602"
   },
   "source": [
    "def clear_GPU_cache(verbose=False):\n",
    "\n",
    "    GPUs = GPU.getGPUs()\n",
    "\n",
    "    if len(GPUs) > 0:\n",
    "        check_runhardware_torch()\n",
    "        torch.cuda.empty_cache()\n",
    "        print(\"\\nchecked and cleared cache\")\n",
    "    else:\n",
    "        print(\"\\nNo GPU being used :( time = \", datetime.now())\n",
    "    if verbose:\n",
    "        print(\"-----------End of Cache Clear----------------\")\n",
    "\n",
    "\n",
    "print(\"loaded all hardware functions at: \", datetime.now())\n",
    "\n",
    "\n",
    "def check_runhardware_torch(verbose=False):\n",
    "    # https://www.run.ai/guides/gpu-deep-learning/pytorch-gpu/\n",
    "\n",
    "    GPUs = GPU.getGPUs()\n",
    "\n",
    "    if len(GPUs) > 0:\n",
    "        if verbose:\n",
    "            print(\"\\n ------------------------------\")\n",
    "            print(\"Checking CUDA status for PyTorch\")\n",
    "\n",
    "        torch.cuda.init()\n",
    "\n",
    "        print(\"Cuda availability (PyTorch): \", torch.cuda.is_available())\n",
    "\n",
    "        # Get Id of default device\n",
    "        torch.cuda.current_device()\n",
    "        if verbose:\n",
    "            print(\n",
    "                \"Name of GPU: \", torch.cuda.get_device_name(device=0)\n",
    "            )  # '0' is the id of your GPU\n",
    "            print(\"------------------------------\\n\")\n",
    "        return True\n",
    "\n",
    "    else:\n",
    "        print(\"No GPU being used :(\")\n",
    "        return False\n",
    "\n",
    "\n",
    "def torch_validate_cuda(verbose=False):\n",
    "    GPUs = GPU.getGPUs()\n",
    "    num_gpus = len(GPUs)\n",
    "    try:\n",
    "        torch.cuda.init()\n",
    "        if not torch.cuda.is_available():\n",
    "            print(\n",
    "                \"WARNING - CUDA is not being used in processing - expect longer runtime\"\n",
    "            )\n",
    "            if verbose:\n",
    "                print(\"GPU util detects {} GPUs on your system\".format(num_gpus))\n",
    "    except:\n",
    "        print(\n",
    "            \"WARNING - unable to start CUDA. If you wanted to use a GPU, exit and check hardware.\"\n",
    "        )\n",
    "\n",
    "\n",
    "def check_runhardware(verbose=False):\n",
    "    # ML package agnostic hardware check\n",
    "    GPUs = GPU.getGPUs()\n",
    "\n",
    "    if verbose:\n",
    "        print(\"\\n ------------------------------\")\n",
    "        print(\"Checking hardware with psutil\")\n",
    "    try:\n",
    "        gpu = GPUs[0]\n",
    "    except:\n",
    "        if verbose:\n",
    "            print(\"GPU not available - \", datetime.now())\n",
    "        gpu = None\n",
    "    process = psutil.Process(os.getpid())\n",
    "\n",
    "    CPU_load = psutil.cpu_percent()\n",
    "    if CPU_load > 0:\n",
    "        cpu_load_string = \"loaded at {} % |\".format(CPU_load)\n",
    "    else:\n",
    "        # the first time process.cpu_percent() is called it returns 0 which can be confusing\n",
    "        cpu_load_string = \"|\"\n",
    "    print(\n",
    "        \"\\nGen RAM Free: \" + humanize.naturalsize(psutil.virtual_memory().available),\n",
    "        \" | Proc size: \" + humanize.naturalsize(process.memory_info().rss),\n",
    "        \" | {} CPUs \".format(psutil.cpu_count()),\n",
    "        cpu_load_string,\n",
    "    )\n",
    "\n",
    "    if len(GPUs) > 0 and GPUs is not None:\n",
    "        print(\n",
    "            \"GPU RAM Free: {0:.0f}MB | Used: {1:.0f}MB | Util {2:3.0f}% | Total {3:.0f}MB\\n\".format(\n",
    "                gpu.memoryFree, gpu.memoryUsed, gpu.memoryUtil * 100, gpu.memoryTotal\n",
    "            )\n",
    "        )\n",
    "    else:\n",
    "        print(\"No GPU being used :(\", \"\\n-----------------\\n\")\n",
    "\n",
    "\n",
    "def only_clear_GPU_cache(verbose=False):\n",
    "\n",
    "    GPUs = GPU.getGPUs()\n",
    "\n",
    "    if len(GPUs) > 0:\n",
    "        torch.cuda.empty_cache()\n",
    "        if verbose:\n",
    "            print(\"\\nchecked and cleared cache\")\n",
    "    else:\n",
    "        print(\"\\nClearCache - No GPU being used :( time = \", datetime.now())\n",
    "\n",
    "\n",
    "# create time log\n",
    "\n",
    "time_log.append(time.perf_counter())\n",
    "time_log_desc.append(\"loaded hardware functions\")"
   ],
   "execution_count": null,
   "outputs": [
    {
     "output_type": "display_data",
     "data": {
      "text/html": [
       "\n",
       "  <style>\n",
       "    pre {\n",
       "        white-space: pre-wrap;\n",
       "    }\n",
       "  </style>\n",
       "  "
      ],
      "text/plain": [
       "<IPython.core.display.HTML object>"
      ]
     },
     "metadata": {
      "tags": []
     }
    },
    {
     "output_type": "stream",
     "text": [
      "loaded all hardware functions at:  2021-07-13 01:37:06.798367\n"
     ],
     "name": "stdout"
    }
   ]
  },
  {
   "cell_type": "markdown",
   "metadata": {
    "id": "msVwVwC9aY1C"
   },
   "source": [
    "## spell correction"
   ]
  },
  {
   "cell_type": "code",
   "metadata": {
    "id": "GYIg5oMlaau2",
    "colab": {
     "base_uri": "https://localhost:8080/"
    },
    "outputId": "8b84ca78-9073-44e5-80e1-fc4cd1dcab08"
   },
   "source": [
    "%%capture\n",
    "# neuspell prints out the whole upon definition, hence ^ jupyter magic\n",
    "\n",
    "def symspell_file(filepath, filename, dist=2, keep_numb_words=True, create_folder=True, save_metrics=False,\n",
    "                  verbose=False):\n",
    "    # given a text (has to be text) file, reads the file, autocorrects any words it deems misspelled, saves as new file\n",
    "    # it can store the new file in a sub-folder it creates as needed\n",
    "    # distance represents how far it searches for a better spelling. higher dist = higher RT.\n",
    "    # https://github.com/mammothb/symspellpy\n",
    "\n",
    "    script_start_time = time.perf_counter()\n",
    "    sym_spell = SymSpell(max_dictionary_edit_distance=dist, prefix_length=7)\n",
    "    print(\"\\nPySymSpell - Starting to correct the file: \", filename)\n",
    "    # ------------------------------------\n",
    "\n",
    "    dictionary_path = pkg_resources.resource_filename(\n",
    "        \"symspellpy\", \"frequency_dictionary_en_82_765.txt\")\n",
    "    bigram_path = pkg_resources.resource_filename(\n",
    "        \"symspellpy\", \"frequency_bigramdictionary_en_243_342.txt\")\n",
    "    # term_index is the column of the term and count_index is the\n",
    "    # column of the term frequency\n",
    "    sym_spell.load_dictionary(dictionary_path, term_index=0, count_index=1)\n",
    "    sym_spell.load_bigram_dictionary(bigram_path, term_index=0, count_index=2)\n",
    "\n",
    "    # ------------------------------------\n",
    "    file = open(join(filepath, filename), 'r', encoding=\"utf-8\", errors='ignore')\n",
    "    textlines = file.readlines()  # return a list\n",
    "    file.close()\n",
    "\n",
    "    if create_folder:\n",
    "        # create a folder\n",
    "        output_folder_name = \"auto-corrected\" \n",
    "        if not os.path.isdir(join(filepath, output_folder_name)):\n",
    "            os.mkdir(join(filepath, output_folder_name))  # make a place to store outputs if one does not exist\n",
    "        filepath = join(filepath, output_folder_name)\n",
    "\n",
    "    if verbose:\n",
    "        print(\"loaded text with {0:6d} lines \".format(len(textlines)))\n",
    "\n",
    "    corrected_list = []\n",
    "\n",
    "    # iterate through list of lines. Pass each line to be corrected. \n",
    "    #Append / sum results from each line till done\n",
    "    for line in textlines:\n",
    "        if line == \"\":\n",
    "            # blank line, skip to next run\n",
    "            continue\n",
    "\n",
    "        # correct the line of text using spellcorrect_line() which returns a dictionary\n",
    "        suggestions = sym_spell.lookup_compound(phrase=line, max_edit_distance=dist, \n",
    "                                                ignore_non_words=keep_numb_words,\n",
    "                                                ignore_term_with_digits=keep_numb_words)\n",
    "        all_sugg_for_line = []\n",
    "        for suggestion in suggestions:\n",
    "            all_sugg_for_line.append(suggestion.term)\n",
    "\n",
    "        # append / sum / log results from correcting the line\n",
    "\n",
    "        corrected_list.append(' '.join(all_sugg_for_line) + \"\\n\")\n",
    "\n",
    "    # finished iterating through lines. Now sum total metrics\n",
    "\n",
    "    corrected_doc = \"\".join(corrected_list)\n",
    "    corrected_fname = \"Corrected_SSP_\" + beautify_filename(filename, \n",
    "                                                           num_words=10, start_reverse=False) + \".txt\"\n",
    "\n",
    "    # proceed to saving\n",
    "    file_out = open(join(filepath, corrected_fname), 'w',\n",
    "                    encoding=\"utf-8\", errors='ignore')\n",
    "    file_out.writelines(corrected_doc)\n",
    "    file_out.close()\n",
    "\n",
    "    # report RT\n",
    "    if verbose:\n",
    "        script_rt_m = (time.perf_counter() - script_start_time) / 60\n",
    "        print(\"RT for this file was {0:5f} minutes\".format(script_rt_m))\n",
    "        print(\"output folder for this transcription is: \\n\", \n",
    "              filepath)\n",
    "\n",
    "    print(\"Done correcting \", filename, \" at time: \", \n",
    "          datetime.now().strftime(\"%H:%M:%S\"), \"\\n\")\n",
    "\n",
    "    corr_file_Data = {\n",
    "        \"corrected_ssp_text\": corrected_doc,\n",
    "        \"corrected_ssp_fname\": corrected_fname,\n",
    "        \"output_path\": filepath,\n",
    "    }\n",
    "    return corr_file_Data\n",
    "\n",
    "\n",
    "# preload defaults\n",
    "sym_spell = SymSpell(max_dictionary_edit_distance=3, prefix_length=7)\n",
    "\n",
    "dictionary_path = pkg_resources.resource_filename(\n",
    "        \"symspellpy\", \"frequency_dictionary_en_82_765.txt\")\n",
    "bigram_path = pkg_resources.resource_filename(\n",
    "        \"symspellpy\", \"frequency_bigramdictionary_en_243_342.txt\")\n",
    "# term_index is the column of the term and count_index is the\n",
    "# column of the term frequency\n",
    "sym_spell.load_dictionary(dictionary_path, term_index=0, count_index=1)\n",
    "sym_spell.load_bigram_dictionary(bigram_path, term_index=0, count_index=2)\n",
    "\n",
    "print(\"loaded defaults - \", datetime.now())\n",
    "\n",
    "def symspell_freetext(textlines, dist=3, keep_numb_words=True, verbose=False,\n",
    "                      d_path=dictionary_path, b_path=bigram_path, default=sym_spell):\n",
    "    # https://github.com/mammothb/symspellpy\n",
    "\n",
    "    if dist != 3:\n",
    "\n",
    "        # have to recreate object each time because doesn't match pre-built\n",
    "\n",
    "        sym_spell = SymSpell(max_dictionary_edit_distance=dist, prefix_length=7)\n",
    "        sym_spell.load_dictionary(d_path, term_index=0, count_index=1)\n",
    "        sym_spell.load_bigram_dictionary(b_path, term_index=0, count_index=2)\n",
    "    else:\n",
    "        sym_spell=default\n",
    "\n",
    "    corrected_list = []\n",
    "\n",
    "    if type(textlines) == str:\n",
    "        textlines = [textlines] # put in a list if a string\n",
    "\n",
    "    if verbose:\n",
    "        print(\"\\nStarting to correct text with {0:6d} lines \".format(len(textlines)))\n",
    "        print(\"the type of textlines var is \",type(textlines))\n",
    "\n",
    "    # iterate through list of lines. Pass each line to be corrected. Append / sum results from each line till done\n",
    "    for line_obj in textlines:\n",
    "        line = ''.join(line_obj) \n",
    "        if verbose:\n",
    "            print(\"line {} in the text is: \".format(textlines.index(line_obj)))\n",
    "            pp.pprint(line) \n",
    "        if line == \"\":\n",
    "            # blank line, skip to next run\n",
    "            continue\n",
    "\n",
    "        suggestions = sym_spell.lookup_compound(phrase=line, max_edit_distance=dist, \n",
    "                                                ignore_non_words=keep_numb_words,\n",
    "                                                ignore_term_with_digits=keep_numb_words)\n",
    "        all_sugg_for_line = []\n",
    "        for suggestion in suggestions:\n",
    "            all_sugg_for_line.append(suggestion.term)\n",
    "\n",
    "        # append / sum / log results from correcting the line\n",
    "\n",
    "        corrected_list.append(' '.join(all_sugg_for_line) + \"\\n\")\n",
    "\n",
    "    # join corrected text\n",
    "\n",
    "    corrected_text = \"\".join(corrected_list)\n",
    "\n",
    "    if verbose:\n",
    "        print(\"Finished correcting w/ symspell at time: \", datetime.now(), \"\\n\")\n",
    "\n",
    "    return corrected_text\n",
    "\n",
    "\n",
    "# START OF NEUSPELL\n",
    "\n",
    "checker = neuspell.SclstmbertChecker()\n",
    "checker.from_pretrained()\n",
    "\n",
    "def neuspell_freetext(textlines, verbose=False):\n",
    "\n",
    "    corrected_list = []\n",
    "\n",
    "    if type(textlines) == str:\n",
    "        textlines = [textlines] # put in a list if a string\n",
    "\n",
    "    # iterate through list of lines. Pass each line to be corrected. Append / sum results from each line till done\n",
    "    for line_obj in textlines:\n",
    "        line = ''.join(line_obj) \n",
    "\n",
    "        if verbose:\n",
    "            print(\"line {} in the text is: \".format(textlines.index(line_obj)))\n",
    "            pp.pprint(line) \n",
    "        if line == \"\" or (len(line) <= 5):\n",
    "            # blank line, skip to next run\n",
    "            continue\n",
    "\n",
    "        line = line.lower()\n",
    "        corrected_text = checker.correct_strings([line])\n",
    "        corrected_text_f = \" \".join(corrected_text)\n",
    "\n",
    "        corrected_list.append(corrected_text_f + \"\\n\")\n",
    "\n",
    "    # join corrected text\n",
    "\n",
    "    corrected_text = \" \".join(corrected_list)\n",
    "\n",
    "    if verbose:\n",
    "        print(\"Finished correcting w/ neuspell at time: \", datetime.now(), \"\\n\")\n",
    "\n",
    "    return corrected_text\n",
    "\n",
    "def SBD_freetext(text, verbose=False):\n",
    "    # input should be STRING\n",
    "    # use pysbd to segment \n",
    "\n",
    "    if isinstance(text, list):\n",
    "        print(\"Warning, input ~text~ has type {}. Will convert to str\".format(type(text)))\n",
    "        text = \" \".join(text)\n",
    "\n",
    "    seg = pysbd.Segmenter(language=\"en\", clean=True)\n",
    "    sentences = []\n",
    "    sentences = seg.segment(text)\n",
    "\n",
    "    if verbose:\n",
    "        print(\"input text of {} words was split into \".format(len(text.split(\" \"))),\n",
    "              len(sentences), \"sentences\")\n",
    "\n",
    "    # take segments and make them sentences\n",
    "    \n",
    "    capitalized = []\n",
    "    for sentence in sentences:\n",
    "        if sentence and sentence.strip():\n",
    "            # ensure that the line is not all spaces\n",
    "            first_letter = sentence[0].upper()\n",
    "            rest = sentence[1:]\n",
    "            capitalized.append(first_letter + rest)\n",
    "\n",
    "    seg_and_capital = \". \".join(capitalized)\n",
    "\n",
    "    return seg_and_capital\n",
    "\n",
    "print(\"loaded all spell correction functions at: \", datetime.now())\n",
    "\n"
   ],
   "execution_count": null,
   "outputs": [
    {
     "output_type": "display_data",
     "data": {
      "text/html": [
       "\n",
       "  <style>\n",
       "    pre {\n",
       "        white-space: pre-wrap;\n",
       "    }\n",
       "  </style>\n",
       "  "
      ],
      "text/plain": [
       "<IPython.core.display.HTML object>"
      ]
     },
     "metadata": {
      "tags": []
     }
    }
   ]
  },
  {
   "cell_type": "markdown",
   "metadata": {
    "id": "QeNIcsUbifDn"
   },
   "source": [
    "### spell-correction pipeline"
   ]
  },
  {
   "cell_type": "code",
   "metadata": {
    "id": "kmvV2gFMieUw",
    "colab": {
     "base_uri": "https://localhost:8080/"
    },
    "outputId": "ae77f168-5e80-4b82-861a-a8fb2f2bfe72"
   },
   "source": [
    "def spellcorrect_pipeline(filepath, filename, verbose=False):\n",
    "    # uses two functions (neuspell_freetext, SBD_freetext)\n",
    "    # in a pipeline\n",
    "\n",
    "    file = open(join(filepath, filename), \"r\", encoding=\"utf-8\", errors=\"ignore\")\n",
    "    textlines = file.readlines()  # return a list\n",
    "    file.close()\n",
    "\n",
    "    sc_textlines = neuspell_freetext(textlines, verbose=verbose)\n",
    "\n",
    "    loc_SC = \"neuspell_sc\"\n",
    "    if not os.path.isdir(join(filepath, loc_SC)):\n",
    "        os.mkdir(\n",
    "            join(filepath, loc_SC)\n",
    "        )  # make a place to store outputs if one does not exist\n",
    "\n",
    "    sc_outname = (\n",
    "        \"NSC_\" + beautify_filename(filename, num_words=15, start_reverse=False) + \".txt\"\n",
    "    )\n",
    "\n",
    "    file_sc = open(\n",
    "        join(filepath, loc_SC, sc_outname), \"w\", encoding=\"utf-8\", errors=\"replace\"\n",
    "    )\n",
    "    file_sc.writelines(sc_textlines)\n",
    "    file_sc.close()\n",
    "    quick_sc_fixes = {\n",
    "        \" ' \": \"'\",\n",
    "    }\n",
    "    if isinstance(sc_textlines, list):\n",
    "        SBD_sc_textlines = []\n",
    "        for line in sc_textlines:\n",
    "            if isinstance(line, list):\n",
    "                # handles weird corner cases\n",
    "                line = \" \".join(line)\n",
    "\n",
    "            sentenced = SBD_freetext(line, verbose=verbose)\n",
    "            for key, value in quick_sc_fixes.items():\n",
    "\n",
    "                sentenced = sentenced.replace(key, value)\n",
    "\n",
    "            SBD_sc_textlines.append(sentenced)\n",
    "    else:\n",
    "        SBD_sc_textlines = SBD_freetext(sc_textlines, verbose=verbose)\n",
    "\n",
    "        for key, value in quick_sc_fixes.items():\n",
    "\n",
    "            SBD_sc_textlines = SBD_sc_textlines.replace(key, value)\n",
    "\n",
    "    # SBD_text = \" \".join(SBD_sc_textlines)\n",
    "\n",
    "    loc_SBD = \"NSC + SBD\"\n",
    "    if not os.path.isdir(join(filepath, loc_SBD)):\n",
    "        os.mkdir(\n",
    "            join(filepath, loc_SBD)\n",
    "        )  # make a place to store outputs if one does not exist\n",
    "\n",
    "    SBD_outname = (\n",
    "        \"FIN_\" + beautify_filename(filename, num_words=15, start_reverse=False) + \".txt\"\n",
    "    )\n",
    "\n",
    "    file_sc = open(\n",
    "        join(filepath, loc_SBD, SBD_outname), \"w\", encoding=\"utf-8\", errors=\"replace\"\n",
    "    )\n",
    "    file_sc.writelines(SBD_sc_textlines)\n",
    "    file_sc.close()\n",
    "\n",
    "    pipelineout = {\n",
    "        \"original_transcript_text\": \" \".join(textlines),\n",
    "        \"spellcorrected_text\": \" \".join(sc_textlines),\n",
    "        \"final_text\": \" \".join(SBD_sc_textlines),\n",
    "        \"spell_corrected_dir\": join(filepath, loc_SC),\n",
    "        \"sc_filename\": sc_outname,\n",
    "        \"SBD_dir\": join(filepath, loc_SBD),\n",
    "        \"SBD_filename\": SBD_outname,\n",
    "    }\n",
    "\n",
    "    return pipelineout\n",
    "\n",
    "\n",
    "print(\"loaded spell correction pipeline at: \", datetime.now())"
   ],
   "execution_count": null,
   "outputs": [
    {
     "output_type": "display_data",
     "data": {
      "text/html": [
       "\n",
       "  <style>\n",
       "    pre {\n",
       "        white-space: pre-wrap;\n",
       "    }\n",
       "  </style>\n",
       "  "
      ],
      "text/plain": [
       "<IPython.core.display.HTML object>"
      ]
     },
     "metadata": {
      "tags": []
     }
    },
    {
     "output_type": "stream",
     "text": [
      "loaded spell correction pipeline at:  2021-07-13 01:38:04.491563\n"
     ],
     "name": "stdout"
    }
   ]
  },
  {
   "cell_type": "markdown",
   "metadata": {
    "id": "X-ZxcOJeCB6I"
   },
   "source": [
    "## vid2cleantext specific\n",
    "\n",
    "things that are more or less unique to video conversion / audio transcription."
   ]
  },
  {
   "cell_type": "code",
   "metadata": {
    "id": "wov3WvblCMZc",
    "colab": {
     "base_uri": "https://localhost:8080/"
    },
    "outputId": "7c79c127-73ca-416b-e772-96d864598f4d"
   },
   "source": [
    "def convert_vidfile(\n",
    "    vidfilename,\n",
    "    start_time=0,\n",
    "    end_time=6969,\n",
    "    input_directory=\"\",\n",
    "    output_directory=\"\",\n",
    "    new_filename=\"\",\n",
    "):\n",
    "    # takes a video file and creates an audiofile with various parameters\n",
    "    # NOTE video filename is required\n",
    "    if len(input_directory) < 1:\n",
    "        my_clip = mp.VideoFileClip(vidfilename)\n",
    "    else:\n",
    "        my_clip = mp.VideoFileClip(join(input_directory, vidfilename))\n",
    "\n",
    "    if end_time == 6969:\n",
    "        modified_clip = my_clip.subclip(t_start=int(start_time * 60))\n",
    "    else:\n",
    "        modified_clip = my_clip.subclip(\n",
    "            t_start=int(start_time * 60), t_end=int(end_time * 60)\n",
    "        )\n",
    "\n",
    "    converted_filename = (\n",
    "        vidfilename[: (len(vidfilename) - 4)]\n",
    "        + \"-converted_\"\n",
    "        + datetime.now().strftime(\"day_%d_time_%H-%M-%S_\")\n",
    "        + \".wav\"\n",
    "    )\n",
    "    # update_filename\n",
    "    if len(new_filename) > 0:\n",
    "        converted_filename = new_filename\n",
    "\n",
    "    if len(output_directory) < 1:\n",
    "        modified_clip.audio.write_audiofile(converted_filename)\n",
    "    else:\n",
    "        # removed 'verbose=False,' from argument of function (removed from Dev)\n",
    "        modified_clip.audio.write_audiofile(\n",
    "            join(output_directory, converted_filename), logger=None\n",
    "        )\n",
    "\n",
    "    audio_conv_results = {\n",
    "        \"output_filename\": converted_filename,\n",
    "        \"output_folder\": output_directory,\n",
    "        \"clip_length\": modified_clip.duration,\n",
    "    }\n",
    "\n",
    "    return audio_conv_results\n",
    "\n",
    "\n",
    "def convert_vid_for_transcription(\n",
    "    vid2beconv, len_chunks, input_directory, output_directory\n",
    "):\n",
    "    # Oriented specifically for the \"wav2vec2\" model speech to text transcription\n",
    "    # takes a video file, turns it into .wav audio chunks of length <input> and stores them in a specific location\n",
    "    # TODO: add try/except clause in case the user already has an audio file the want to transcribe\n",
    "    my_clip = mp.VideoFileClip(join(input_directory, vid2beconv))\n",
    "    number_of_chunks = math.ceil(my_clip.duration / len_chunks)  # to get in minutes\n",
    "    print(\"converting into \" + str(number_of_chunks) + \" audio chunks\")\n",
    "    preamble = beautify_filename(vid2beconv)\n",
    "    outfilename_storage = []\n",
    "    print(\n",
    "        \"separating audio into chunks starting at \",\n",
    "        datetime.now().strftime(\"_%H.%M.%S\"),\n",
    "    )\n",
    "    update_incr = math.ceil(number_of_chunks / 10)\n",
    "\n",
    "    for i in tqdm(\n",
    "        range(number_of_chunks),\n",
    "        desc=\"Converting Video to Audio Chunks\",\n",
    "        total=number_of_chunks,\n",
    "    ):\n",
    "\n",
    "        start_time = i * len_chunks\n",
    "        if i == number_of_chunks - 1:\n",
    "            this_clip = my_clip.subclip(t_start=start_time)\n",
    "        else:\n",
    "            this_clip = my_clip.subclip(\n",
    "                t_start=start_time, t_end=(start_time + len_chunks)\n",
    "            )\n",
    "        this_filename = preamble + \"_run_\" + str(i) + \".wav\"\n",
    "        outfilename_storage.append(this_filename)\n",
    "\n",
    "        if this_clip.audio is not None:\n",
    "            # removed 'verbose=False,' from argument of function (removed from Dev)\n",
    "            this_clip.audio.write_audiofile(\n",
    "                join(output_directory, this_filename), logger=None\n",
    "            )\n",
    "        else:\n",
    "            print(\"\\n WARNING: chunk {} is empty / has no audio\".format(i))\n",
    "\n",
    "    print(\"Finished creating audio chunks at \", datetime.now().strftime(\"_%H.%M.%S\"))\n",
    "    print(\"Files are located in \", output_directory)\n",
    "    return outfilename_storage\n",
    "\n",
    "\n",
    "def transcribe_video_wav2vec(\n",
    "    transcription_model, directory, vid_clip_name, chunk_length_seconds\n",
    "):\n",
    "    # this is the same process as used in the single video transcription, now as a function. Note that spell correction\n",
    "    # and keyword extraction are now done separately in the script\n",
    "    # user needs to pass in: the model, the folder the video is in, and the name of the video\n",
    "    output_path_full = directory\n",
    "\n",
    "    # Split Video into Audio Chunks-----------------------------------------------\n",
    "\n",
    "    print(\"\\n============================================================\")\n",
    "    print(\"Converting video to audio for file: \", vid_clip_name)\n",
    "    print(\"============================================================\\n\")\n",
    "\n",
    "    # create audio chunk folder\n",
    "    output_folder_name = \"audio_chunks\"\n",
    "    if not os.path.isdir(join(directory, output_folder_name)):\n",
    "        os.mkdir(\n",
    "            join(directory, output_folder_name)\n",
    "        )  # make a place to store outputs if one does not exist\n",
    "    path2audiochunks = join(directory, output_folder_name)\n",
    "    chunk_directory = convert_vid_for_transcription(\n",
    "        vid2beconv=vid_clip_name,\n",
    "        input_directory=directory,\n",
    "        len_chunks=chunk_length_seconds,\n",
    "        output_directory=path2audiochunks,\n",
    "    )\n",
    "\n",
    "    print(\"\\n============================================================\")\n",
    "    print(\n",
    "        \"converted video to audio. About to start transcription loop for file: \",\n",
    "        vid_clip_name,\n",
    "    )\n",
    "    print(\"============================================================\\n\")\n",
    "    torch_validate_cuda()\n",
    "    check_runhardware()\n",
    "    time_log.append(time.perf_counter())\n",
    "    time_log_desc.append(\"converted video to audio\")\n",
    "    full_transcription = []\n",
    "    before_loop_st = time.perf_counter()\n",
    "    GPU_update_incr = math.ceil(len(chunk_directory) / 2)\n",
    "\n",
    "    # Load audio chunks by name, pass into model, append output text-----------------------------------------------\n",
    "\n",
    "    for audio_chunk in tqdm(\n",
    "        chunk_directory,\n",
    "        total=len(chunk_directory),\n",
    "        desc=\"wav2vec2 model for \" + vid_clip_name,\n",
    "    ):\n",
    "\n",
    "        current_loc = chunk_directory.index(audio_chunk)\n",
    "        if (current_loc % GPU_update_incr == 0) and (GPU_update_incr != 0):\n",
    "            # provide update on GPU usage\n",
    "            check_runhardware()\n",
    "\n",
    "        # load dat chunk\n",
    "        audio_input, rate = librosa.load(join(path2audiochunks, audio_chunk), sr=16000)\n",
    "        # MODEL\n",
    "        device = \"cuda:0\" if torch.cuda.is_available() else \"cpu\"\n",
    "        input_values = tokenizer(\n",
    "            audio_input, return_tensors=\"pt\", padding=\"longest\", truncation=True\n",
    "        ).input_values.to(device)\n",
    "        transcription_model = transcription_model.to(device)\n",
    "        logits = transcription_model(input_values).logits\n",
    "        predicted_ids = torch.argmax(logits, dim=-1)\n",
    "        transcription = str(tokenizer.batch_decode(predicted_ids)[0])\n",
    "        full_transcription.append(transcription + \"\\n\")\n",
    "        # empty memory so you don't overload the GPU\n",
    "        del input_values\n",
    "        del logits\n",
    "        del predicted_ids\n",
    "        del audio_input\n",
    "        torch.cuda.empty_cache()\n",
    "\n",
    "    print(\n",
    "        \"\\nFinished audio transcription of \"\n",
    "        + vid_clip_name\n",
    "        + \" and now saving metrics.\"\n",
    "    )\n",
    "\n",
    "    # build metadata log -------------------------------------------------\n",
    "    mdata = []\n",
    "    mdata.append(\"original file name: \" + vid_clip_name + \"\\n\")\n",
    "    mdata.append(\n",
    "        \"number of recorded audio chunks: \"\n",
    "        + str(len(chunk_directory))\n",
    "        + \" of lengths seconds each\"\n",
    "        + str(chunk_length_seconds)\n",
    "        + \"\\n\"\n",
    "    )\n",
    "    approx_input_len = (len(chunk_directory) * chunk_length_seconds) / 60\n",
    "    mdata.append(\n",
    "        \"approx {0:3f}\".format(approx_input_len) + \" minutes of input audio \\n\"\n",
    "    )\n",
    "    mdata.append(\n",
    "        \"transcription date: \"\n",
    "        + datetime.now().strftime(\"date_%d_%m_%Y_time_%H-%M-%S\")\n",
    "        + \"\\n\"\n",
    "    )\n",
    "    full_text = \" \".join(full_transcription)\n",
    "    transcript_length = len(full_text)\n",
    "    mdata.append(\n",
    "        \"length of transcribed text: \" + str(transcript_length) + \" characters \\n\"\n",
    "    )\n",
    "    t_word_count = len(full_text.split(\" \"))\n",
    "    mdata.append(\n",
    "        \"total word count: \" + str(t_word_count) + \" words (based on spaces) \\n\"\n",
    "    )\n",
    "\n",
    "    # delete audio chunks in folder -------------------------------------------------\n",
    "    # TODO: add try/except for deleting folder as not technically needed to achieve goal\n",
    "    shutil.rmtree(path2audiochunks)\n",
    "    print(\"\\nDeleted Audio Chunk Folder + Files\")\n",
    "\n",
    "    # compile results -------------------------------------------------\n",
    "    transcription_results = {\n",
    "        \"audio_transcription\": full_transcription,\n",
    "        \"metadata\": mdata,\n",
    "    }\n",
    "\n",
    "    print(\n",
    "        \"\\nFinished transcription successfully for \"\n",
    "        + vid_clip_name\n",
    "        + \" at \"\n",
    "        + datetime.now().strftime(\"date_%d_%m_%Y_time_%H-%M-%S\")\n",
    "    )\n",
    "    return transcription_results\n",
    "\n",
    "\n",
    "print(\"loaded all transcription specific functions at: \", datetime.now())"
   ],
   "execution_count": null,
   "outputs": [
    {
     "output_type": "display_data",
     "data": {
      "text/html": [
       "\n",
       "  <style>\n",
       "    pre {\n",
       "        white-space: pre-wrap;\n",
       "    }\n",
       "  </style>\n",
       "  "
      ],
      "text/plain": [
       "<IPython.core.display.HTML object>"
      ]
     },
     "metadata": {
      "tags": []
     }
    },
    {
     "output_type": "stream",
     "text": [
      "loaded all transcription specific functions at:  2021-07-13 01:38:04.730044\n"
     ],
     "name": "stdout"
    }
   ]
  },
  {
   "cell_type": "markdown",
   "metadata": {
    "id": "hZjjohmBr7Oa"
   },
   "source": [
    "# Specify Parameters, File Locations, Load wav2vec2 Model"
   ]
  },
  {
   "cell_type": "markdown",
   "metadata": {
    "id": "ph6f5Bo0Yt3q"
   },
   "source": [
    "## load video files"
   ]
  },
  {
   "cell_type": "code",
   "metadata": {
    "id": "9xPJyuR6XVFc",
    "colab": {
     "base_uri": "https://localhost:8080/",
     "height": 86
    },
    "outputId": "6e83046f-544b-497c-c1ed-fd21ce5cfb94"
   },
   "source": [
    "# iterate through and grab files:\n",
    "\n",
    "files_to_munch = natsorted(\n",
    "    [f for f in listdir(directory) if isfile(os.path.join(directory, f))]\n",
    ")\n",
    "total_files_1 = len(files_to_munch)\n",
    "removed_count_1 = 0\n",
    "approved_files = []\n",
    "# remove non-video files\n",
    "for prefile in files_to_munch:\n",
    "    if (\n",
    "        prefile.endswith(\".mp4\")\n",
    "        or prefile.endswith(\".mov\")\n",
    "        or prefile.endswith(\".avi\")\n",
    "        or prefile.endswith(\".mkv\")\n",
    "    ):\n",
    "        approved_files.append(prefile)\n",
    "    else:\n",
    "        files_to_munch.remove(prefile)\n",
    "        removed_count_1 += 1\n",
    "\n",
    "print(\n",
    "    \"out of {0:3d} file(s) originally in the folder, \".format(total_files_1),\n",
    "    \"{0:3d} non-video files were removed\".format(removed_count_1),\n",
    ")\n",
    "print(\n",
    "    \"\\n {0:3d} video file(s) in folder will be transcribed.\".format(len(approved_files))\n",
    ")\n",
    "\n",
    "pp.pprint(approved_files)"
   ],
   "execution_count": null,
   "outputs": [
    {
     "output_type": "display_data",
     "data": {
      "text/html": [
       "\n",
       "  <style>\n",
       "    pre {\n",
       "        white-space: pre-wrap;\n",
       "    }\n",
       "  </style>\n",
       "  "
      ],
      "text/plain": [
       "<IPython.core.display.HTML object>"
      ]
     },
     "metadata": {
      "tags": []
     }
    },
    {
     "output_type": "stream",
     "text": [
      "out of   1 file(s) originally in the folder,    0 non-video files were removed\n",
      "\n",
      "   1 video file(s) in folder will be transcribed.\n",
      "['Cassini Hackathon - Overview of Local Challenges.mp4']\n"
     ],
     "name": "stdout"
    }
   ]
  },
  {
   "cell_type": "markdown",
   "metadata": {
    "id": "bV3ov-0Z_PXf"
   },
   "source": [
    "## Load wav2vec2 model (#3)\n",
    "\n",
    "### <font color=\"orange\"> Point 3 in Instructions: Update chunk_length\n",
    "\n",
    "Update the variable `chunk_length` to your use case. A good value is one that doesn't cause Colab to crash and is greater than a sentence length (for context, grammar purposes).\n",
    "\n",
    "---\n",
    "\n",
    "*NOTE* recommended value for `chunk_length`  depends on which GPU Colab assigns you. A chunk length of 20 works on a Tesla K-80, which is typically what the free version gets allocated. A chunk length of 30 works on a Tesla P-100 16gb, standard for Colab Pro. \n"
   ]
  },
  {
   "cell_type": "code",
   "metadata": {
    "cellView": "form",
    "id": "yTmbBo39ZUkI",
    "colab": {
     "base_uri": "https://localhost:8080/",
     "height": 17
    },
    "outputId": "14fa8bd2-c594-4f81-c20a-1521b67cf6f9"
   },
   "source": [
    "chunk_length = 20  # @param {type:\"integer\"}"
   ],
   "execution_count": null,
   "outputs": [
    {
     "output_type": "display_data",
     "data": {
      "text/html": [
       "\n",
       "  <style>\n",
       "    pre {\n",
       "        white-space: pre-wrap;\n",
       "    }\n",
       "  </style>\n",
       "  "
      ],
      "text/plain": [
       "<IPython.core.display.HTML object>"
      ]
     },
     "metadata": {
      "tags": []
     }
    }
   ]
  },
  {
   "cell_type": "code",
   "metadata": {
    "id": "k_gAUG_9aK-d",
    "colab": {
     "base_uri": "https://localhost:8080/",
     "height": 297,
     "referenced_widgets": [
      "671b160ff4874270a7d7fa4099629185",
      "490993f471934cf59dcdfdd1901727e3",
      "9e64ca587c2b45e296f887fe7ec44bf4",
      "591ef446a90841b3949adef76bdcbd39",
      "1d7aedf0ddb845aea3a0b0fc9bc8c181",
      "aa62492fbe744f308097c5a805b4eada",
      "22463286d0b149c8ac95e4b2ac7dc6d3",
      "f96df7b5449940578eada4c2f3416aed",
      "50fe9d8179f749cda5ca56208277a3fb",
      "659476a53fe247ad8cdb2767fe18bc28",
      "dc097d4ab895433badc441d080298dae",
      "24deab8044f141aa8748f051cc00304c",
      "495c66893fe14023993088bf231217cf",
      "a18da3ce200d4ccf8370422c97b048d6",
      "e5fe4897ec5648428d5c587adf9f1ddb",
      "a344f07998d7485ba30cb1638f47188c",
      "0ac36b9882ec4b6da69fd7e27ca7da2b",
      "0f5255da8c2b4cd98ca69b8e72bc42ab",
      "6850cb3d8cd54a8895b646ded760c23a",
      "307a2e7de8964a4085351ca4ffabcbfb",
      "7c940e20e0914f0399721b07021b03c9",
      "368432e514d449319d76af1110c097e1",
      "8ff5a07991d94760b8bad10a4a7cdc79",
      "dd8538e429874b42bf131a6e1f79dbf5",
      "66dc901aa78648838b1be1ee984e641b",
      "cf92fa9681b14c5faf4dbdff55d9d0d1",
      "551d739b65674cce99c97de9f2de45d2",
      "dddf5cb609f642f980c031bf27e12bf9",
      "6d14df666f144314a2b156e19fc67771",
      "8162235d519b4d76af09463431b09df7",
      "0957514bb6a442a48afcc9167a581d8f",
      "c2f1463979b242a6ab29794f3932dd86",
      "7dc05548075d4ab78ac942ee2a44e62d",
      "647f6270a0f840f0ad4f777c8d50d876",
      "a0e5e60564944688b507512f9a551e79",
      "855060711cfe4b03b49416c92a37b55c",
      "679ecbfb90714ab5bf2c4ca82010e1ed",
      "69e2d94618f44805ba17e28460ae449f",
      "495dc31bb3ce443b8254ebaa01051ce0",
      "d7b8bf297f29448da0c63fa807fa9cd0",
      "51252cf669d44f0087510815a046a74f",
      "20b126c3580a4e09934f7765661d034a",
      "b5f710fcb50a4d04b362da78251ca5fd",
      "95b2559104e1443cbe640048e9f4698d",
      "44b85835f7c24d54b88a6de106d00c6e",
      "ddb6cff565e84d3582265efea0c0a0cd",
      "efb8a2d538a6402a98eeb629cab6a7d5",
      "9b5833de07bc44b3b159f09ee38d35e4",
      "b4c68c5f881f40389de63bd41f656e87",
      "d175d845c63241e79dfceaaeb3a39ebe",
      "685ebb5a8e984597b501d6bbd3746cc7",
      "4afe11fb393e4967993240c1d5bef011",
      "8377207e48c64a378eaa5006a7775d3c",
      "d1087b48e445499580ed6308bb213301",
      "e4ac6cc6449f482ba84c01fd90700c8c"
     ]
    },
    "outputId": "d2174951-c6ec-4ed2-91c6-c7efd6051cf0"
   },
   "source": [
    "from transformers import Wav2Vec2ForMaskedLM, Wav2Vec2CTCTokenizer\n",
    "\n",
    "# load huggingface model\n",
    "# note to self: directory paths are: path \"/content/drive/My Drive\"\n",
    "time_log.append(time.perf_counter())\n",
    "time_log_desc.append(\"starting to load model\")\n",
    "\n",
    "# load pretrained model\n",
    "wav2vec2_model = \"facebook/wav2vec2-large-960h-lv60-self\"\n",
    "# wav2vec2_model = \"facebook/wav2vec2-large\"\n",
    "# wav2vec2_model = \"facebook/wav2vec2-base-960h\" # faster+smaller, less accurate\n",
    "print(\"\\nPreparing to load model: \" + wav2vec2_model)\n",
    "tokenizer = Wav2Vec2Tokenizer.from_pretrained(wav2vec2_model)\n",
    "# Need to switch ^ eventually due to:\n",
    "# Please use `Wav2Vec2Processor` or `Wav2Vec2CTCTokenizer` instead.\n",
    "model = Wav2Vec2ForCTC.from_pretrained(wav2vec2_model)\n",
    "# model = Wav2Vec2ForCTC.from_pretrained(wav2vec2_model)\n",
    "# (in seconds) if model fails to work or errors out (and there isn't some other\n",
    "# obvious error, reduce this number. 30 is a good start.\n",
    "\n",
    "\n",
    "print(\"loaded the following model:\", wav2vec2_model, \" at \", datetime.now())\n",
    "time_log.append(time.perf_counter())\n",
    "time_log_desc.append(\"loaded model\")"
   ],
   "execution_count": null,
   "outputs": [
    {
     "output_type": "display_data",
     "data": {
      "text/html": [
       "\n",
       "  <style>\n",
       "    pre {\n",
       "        white-space: pre-wrap;\n",
       "    }\n",
       "  </style>\n",
       "  "
      ],
      "text/plain": [
       "<IPython.core.display.HTML object>"
      ]
     },
     "metadata": {
      "tags": []
     }
    },
    {
     "output_type": "stream",
     "text": [
      "\n",
      "Preparing to load model: facebook/wav2vec2-large-960h-lv60-self\n"
     ],
     "name": "stdout"
    },
    {
     "output_type": "display_data",
     "data": {
      "application/vnd.jupyter.widget-view+json": {
       "model_id": "671b160ff4874270a7d7fa4099629185",
       "version_minor": 0,
       "version_major": 2
      },
      "text/plain": [
       "Downloading:   0%|          | 0.00/291 [00:00<?, ?B/s]"
      ]
     },
     "metadata": {
      "tags": []
     }
    },
    {
     "output_type": "display_data",
     "data": {
      "application/vnd.jupyter.widget-view+json": {
       "model_id": "24deab8044f141aa8748f051cc00304c",
       "version_minor": 0,
       "version_major": 2
      },
      "text/plain": [
       "Downloading:   0%|          | 0.00/162 [00:00<?, ?B/s]"
      ]
     },
     "metadata": {
      "tags": []
     }
    },
    {
     "output_type": "display_data",
     "data": {
      "application/vnd.jupyter.widget-view+json": {
       "model_id": "8ff5a07991d94760b8bad10a4a7cdc79",
       "version_minor": 0,
       "version_major": 2
      },
      "text/plain": [
       "Downloading:   0%|          | 0.00/85.0 [00:00<?, ?B/s]"
      ]
     },
     "metadata": {
      "tags": []
     }
    },
    {
     "output_type": "stream",
     "text": [
      "/usr/local/lib/python3.7/dist-packages/transformers/models/wav2vec2/tokenization_wav2vec2.py:419: FutureWarning: The class `Wav2Vec2Tokenizer` is deprecated and will be removed in version 5 of Transformers. Please use `Wav2Vec2Processor` or `Wav2Vec2CTCTokenizer` instead.\n",
      "  FutureWarning,\n"
     ],
     "name": "stderr"
    },
    {
     "output_type": "display_data",
     "data": {
      "application/vnd.jupyter.widget-view+json": {
       "model_id": "647f6270a0f840f0ad4f777c8d50d876",
       "version_minor": 0,
       "version_major": 2
      },
      "text/plain": [
       "Downloading:   0%|          | 0.00/1.61k [00:00<?, ?B/s]"
      ]
     },
     "metadata": {
      "tags": []
     }
    },
    {
     "output_type": "display_data",
     "data": {
      "application/vnd.jupyter.widget-view+json": {
       "model_id": "44b85835f7c24d54b88a6de106d00c6e",
       "version_minor": 0,
       "version_major": 2
      },
      "text/plain": [
       "Downloading:   0%|          | 0.00/1.26G [00:00<?, ?B/s]"
      ]
     },
     "metadata": {
      "tags": []
     }
    },
    {
     "output_type": "stream",
     "text": [
      "loaded the following model: facebook/wav2vec2-large-960h-lv60-self  at  2021-07-13 01:38:43.034399\n"
     ],
     "name": "stdout"
    }
   ]
  },
  {
   "cell_type": "markdown",
   "metadata": {
    "id": "2P4LaEB-ecL3"
   },
   "source": [
    "---"
   ]
  },
  {
   "cell_type": "markdown",
   "metadata": {
    "id": "zybapeYW_4uw"
   },
   "source": [
    "# Run Transformers Model (wav2vec2)"
   ]
  },
  {
   "cell_type": "code",
   "metadata": {
    "id": "PigSuPnG_qP6",
    "colab": {
     "base_uri": "https://localhost:8080/",
     "height": 86
    },
    "outputId": "5349dfa2-40a4-4f11-d255-e46aeeceb18d"
   },
   "source": [
    "import gc\n",
    "\n",
    "gc.collect()\n",
    "check_runhardware()"
   ],
   "execution_count": null,
   "outputs": [
    {
     "output_type": "display_data",
     "data": {
      "text/html": [
       "\n",
       "  <style>\n",
       "    pre {\n",
       "        white-space: pre-wrap;\n",
       "    }\n",
       "  </style>\n",
       "  "
      ],
      "text/plain": [
       "<IPython.core.display.HTML object>"
      ]
     },
     "metadata": {
      "tags": []
     }
    },
    {
     "output_type": "stream",
     "text": [
      "\n",
      "Gen RAM Free: 24.5 GB  | Proc size: 5.7 GB  | 4 CPUs  loaded at 19.6 % |\n",
      "GPU RAM Free: 16278MB | Used: 2MB | Util   0% | Total 16280MB\n",
      "\n"
     ],
     "name": "stdout"
    }
   ]
  },
  {
   "cell_type": "code",
   "metadata": {
    "id": "7EkpWuk3bmpP",
    "collapsed": true,
    "colab": {
     "base_uri": "https://localhost:8080/",
     "height": 827,
     "referenced_widgets": [
      "834b2d52fd5e46ad9fb685d8119e416f",
      "af41e4e8a9ab40a5bd31889af4e4e9ae",
      "58f0a14ff749481bac658640c2da6964",
      "ee1ff6115f3849e58e53a644df0f7aea",
      "6a079bf9e66f48929993dd31bd42d3d0",
      "3327949ff1264594a96e4ff451067872",
      "2f1177e4350e403ea5143c44839f2d2e",
      "524298a198bf4b80b8b08b1639ec70b0",
      "c100a3bb36214f09be21df443cbfd244",
      "ea9df4dffe344156a8719b8e78754e04",
      "043713c11ac24d889900330b53c3f4ec",
      "9224a72d257440a8a30d5e071ad7aec0",
      "3757779d632c411eaea693dc6acb0e87",
      "102647abad584cfba514daa14ff084e0",
      "236f96055f01440aa5216599cbfae791",
      "a109011efb074ea7a36f3076d293efce",
      "472d1de166c64bb5a1d929f31ada5aa8",
      "71308390e33f4693812c3236558b7786",
      "777dd2dff901495bac135596f9630f78",
      "a3c31e773cc242119a1f70ca4a7c20e6",
      "7043804bc17a470e9d42250db4add4d8",
      "ef7817cabbe4405fbd4fb3f8eb315de9",
      "24e3b6bee40f48f6a4efc13bfee8e0ad",
      "6bf080f9e87342e8b81a7747e03fe24e",
      "e064d160896f4453aa6d9bc6afef7a54",
      "5b3006671638496283aa3647ac2e5f29",
      "f0483e24a1e54b04a15c2d860eadcf96",
      "d76b1068446e4868b9e9518a2971f331",
      "a89181a64974496cb6928ab42fe44047",
      "d84cb33ca97f46a2b8d287b62b8be014",
      "77a4317b6dcc4d51946f16c00dd6850b",
      "cbd62bb5e5bd441a9dc29fb670d6da7b",
      "88b82cff6add4f368a60064e4ab81e96"
     ]
    },
    "outputId": "997c1a9b-b991-4bd9-88e5-8efb13ee1ab7"
   },
   "source": [
    "# load videos, run through the model\n",
    "t_script_start_time = time.perf_counter()\n",
    "time_log.append(t_script_start_time)\n",
    "time_log_desc.append(\"starting transcription process\")\n",
    "\n",
    "# iterate through list of video files, transcribing one at a time --------------------------------------------------\n",
    "for filename in tqdm(\n",
    "    approved_files, total=len(approved_files), desc=\"Overall Transcription Progress\"\n",
    "):\n",
    "\n",
    "    filename_p = beautify_filename(filename, start_reverse=False, num_words=10)\n",
    "\n",
    "    t_script_start_time = time.perf_counter()\n",
    "    time_log.append(t_script_start_time)\n",
    "    time_log_desc.append(\"starting transcription process for \" + filename)\n",
    "    # transcribe the video file\n",
    "    t_results = transcribe_video_wav2vec(\n",
    "        transcription_model=model,\n",
    "        directory=directory,\n",
    "        vid_clip_name=filename,\n",
    "        chunk_length_seconds=chunk_length,\n",
    "    )\n",
    "    # t_results is a dictonary containing the transcript and associated metadata\n",
    "    full_transcription = t_results.get(\"audio_transcription\")\n",
    "    metadata = t_results.get(\"metadata\")\n",
    "    # check if directories for output exist. If not, create them\n",
    "    storage_locs = validate_output_directories(directory)\n",
    "    output_path_transcript = storage_locs.get(\"t_out\")\n",
    "    output_path_metadata = storage_locs.get(\"m_out\")\n",
    "\n",
    "    # label and store this transcription\n",
    "    vid_preamble = beautify_filename(\n",
    "        filename, num_words=30, start_reverse=False\n",
    "    )  # gets a nice phrase from filename\n",
    "    # transcription\n",
    "    ID = str(1 + approved_files.index(filename))\n",
    "    transcribed_filename = vid_preamble + \"_transcription_\" + ID + \".txt\"\n",
    "    transcribed_file = open(\n",
    "        os.path.join(output_path_transcript, transcribed_filename),\n",
    "        \"w\",\n",
    "        encoding=\"utf-8\",\n",
    "        errors=\"ignore\",\n",
    "    )\n",
    "    transcribed_file.writelines(full_transcription)\n",
    "    transcribed_file.close()\n",
    "    # metadata\n",
    "    metadata_filename = \"metadata - \" + vid_preamble + \"_transcription_\" + ID + \".txt\"\n",
    "    metadata_file = open(\n",
    "        os.path.join(output_path_metadata, metadata_filename),\n",
    "        \"w\",\n",
    "        encoding=\"utf-8\",\n",
    "        errors=\"ignore\",\n",
    "    )\n",
    "    metadata_file.writelines(metadata)\n",
    "    metadata_file.close()\n",
    "\n",
    "    print(\n",
    "        \"{:3d}\".format(files_to_munch.index(filename) + 1),\n",
    "        \" of {:3d} total files done\".format(len(files_to_munch)),\n",
    "    )\n",
    "    t_script_end_time = time.perf_counter()\n",
    "    time_log.append(t_script_end_time)\n",
    "    time_log_desc.append(\"transc. file #{}\".format(ID) + filename[:5] + \"...\")\n",
    "\n",
    "    this_rt = (t_script_end_time - t_script_start_time) / 60\n",
    "    print(\"completed transcription in {} minutes\".format(this_rt))\n",
    "\n",
    "    move2completed(directory, filename=filename)\n",
    "\n",
    "    # save runtime database after each run\n",
    "    time_records_db = pd.DataFrame(\n",
    "        list(zip(time_log_desc, time_log)), columns=[\"Event\", \"Time (sec)\"]\n",
    "    )\n",
    "    time_records_db.to_excel(\n",
    "        os.path.join(output_path_metadata, \"mid_loop_runtime_database.xlsx\")\n",
    "    )\n",
    "\n",
    "time_log.append(time.perf_counter())\n",
    "time_log_desc.append(\"all transcriptions completed\")\n",
    "\n",
    "print(\"\\n----------------------------\")\n",
    "print(\"transcription process completed - \", datetime.now())"
   ],
   "execution_count": null,
   "outputs": [
    {
     "output_type": "display_data",
     "data": {
      "text/html": [
       "\n",
       "  <style>\n",
       "    pre {\n",
       "        white-space: pre-wrap;\n",
       "    }\n",
       "  </style>\n",
       "  "
      ],
      "text/plain": [
       "<IPython.core.display.HTML object>"
      ]
     },
     "metadata": {
      "tags": []
     }
    },
    {
     "output_type": "display_data",
     "data": {
      "application/vnd.jupyter.widget-view+json": {
       "model_id": "834b2d52fd5e46ad9fb685d8119e416f",
       "version_minor": 0,
       "version_major": 2
      },
      "text/plain": [
       "Overall Transcription Progress:   0%|          | 0/1 [00:00<?, ?it/s]"
      ]
     },
     "metadata": {
      "tags": []
     }
    },
    {
     "output_type": "stream",
     "text": [
      "\n",
      "============================================================\n",
      "Converting video to audio for file:  Cassini Hackathon - Overview of Local Challenges.mp4\n",
      "============================================================\n",
      "\n",
      "converting into 36 audio chunks\n",
      "separating audio into chunks starting at  _01.38.44\n"
     ],
     "name": "stdout"
    },
    {
     "output_type": "display_data",
     "data": {
      "application/vnd.jupyter.widget-view+json": {
       "model_id": "9224a72d257440a8a30d5e071ad7aec0",
       "version_minor": 0,
       "version_major": 2
      },
      "text/plain": [
       "Converting Video to Audio Chunks:   0%|          | 0/36 [00:00<?, ?it/s]"
      ]
     },
     "metadata": {
      "tags": []
     }
    },
    {
     "output_type": "stream",
     "text": [
      "Finished creating audio chunks at  _01.39.20\n",
      "Files are located in  /content/drive/MyDrive/Video/ETHZ2021s/example_vid_transc/audio_chunks\n",
      "\n",
      "============================================================\n",
      "converted video to audio. About to start transcription loop for file:  Cassini Hackathon - Overview of Local Challenges.mp4\n",
      "============================================================\n",
      "\n",
      "\n",
      "Gen RAM Free: 24.5 GB  | Proc size: 5.7 GB  | 4 CPUs  loaded at 30.3 % |\n",
      "GPU RAM Free: 16278MB | Used: 2MB | Util   0% | Total 16280MB\n",
      "\n"
     ],
     "name": "stdout"
    },
    {
     "output_type": "display_data",
     "data": {
      "application/vnd.jupyter.widget-view+json": {
       "model_id": "24e3b6bee40f48f6a4efc13bfee8e0ad",
       "version_minor": 0,
       "version_major": 2
      },
      "text/plain": [
       "wav2vec2 model for Cassini Hackathon - Overview of Local Challenges.mp4:   0%|          | 0/36 [00:00<?, ?it/s…"
      ]
     },
     "metadata": {
      "tags": []
     }
    },
    {
     "output_type": "stream",
     "text": [
      "\n",
      "Gen RAM Free: 24.5 GB  | Proc size: 5.7 GB  | 4 CPUs  loaded at 40.4 % |\n",
      "GPU RAM Free: 16278MB | Used: 2MB | Util   0% | Total 16280MB\n",
      "\n",
      "\n",
      "Gen RAM Free: 24.3 GB  | Proc size: 6.4 GB  | 4 CPUs  loaded at 24.8 % |\n",
      "GPU RAM Free: 14113MB | Used: 2167MB | Util  13% | Total 16280MB\n",
      "\n",
      "\n",
      "Finished audio transcription of Cassini Hackathon - Overview of Local Challenges.mp4 and now saving metrics.\n",
      "\n",
      "Deleted Audio Chunk Folder + Files\n",
      "\n",
      "Finished transcription successfully for Cassini Hackathon - Overview of Local Challenges.mp4 at date_13_07_2021_time_01-40-37\n",
      "  1  of   1 total files done\n",
      "completed transcription in 1.8962457021077475 minutes\n",
      "successfully moved the file Cassini Hackathon - Overview of Local Challenges.mp4 to */completed.\n",
      "\n",
      "----------------------------\n",
      "transcription process completed -  2021-07-13 01:40:38.126116\n"
     ],
     "name": "stdout"
    }
   ]
  },
  {
   "cell_type": "markdown",
   "metadata": {
    "id": "KAlsOjR8AD7R"
   },
   "source": [
    "# Post Model: Save files, Spell Check, SBD, Keywords\n",
    "\n",
    "If you got to here, your colab file was able to run the model and transcribe it. Now a little cleaning up, then done."
   ]
  },
  {
   "cell_type": "markdown",
   "metadata": {
    "id": "E4rh1UBuYxrK"
   },
   "source": [
    "### Merge Files\n",
    "\n",
    "\n",
    "```digest_txt_directory(file_directory, identifer=\"\", verbose=False, make_folder=False)```"
   ]
  },
  {
   "cell_type": "code",
   "metadata": {
    "cellView": "form",
    "id": "udDDWs7Peine",
    "colab": {
     "base_uri": "https://localhost:8080/",
     "height": 17
    },
    "outputId": "3dcf6845-fcde-4d83-dcfc-164a52f81c1f"
   },
   "source": [
    "merge_transc = True  # @param {type:\"boolean\"}"
   ],
   "execution_count": null,
   "outputs": [
    {
     "output_type": "display_data",
     "data": {
      "text/html": [
       "\n",
       "  <style>\n",
       "    pre {\n",
       "        white-space: pre-wrap;\n",
       "    }\n",
       "  </style>\n",
       "  "
      ],
      "text/plain": [
       "<IPython.core.display.HTML object>"
      ]
     },
     "metadata": {
      "tags": []
     }
    }
   ]
  },
  {
   "cell_type": "code",
   "metadata": {
    "id": "XrBTDIpKVulE",
    "colab": {
     "base_uri": "https://localhost:8080/",
     "height": 68
    },
    "outputId": "c1ee6e1e-6270-431b-d9b4-a75213a23897"
   },
   "source": [
    "# ----------------------------------- Merge transcription Files  -------------------------------\n",
    "# makes things easier to review when you only have to open one file instead of N\n",
    "locations = validate_output_directories(directory, verbose=True)\n",
    "output_path_transcript = locations.get(\"t_out\")\n",
    "output_path_metadata = locations.get(\"m_out\")\n",
    "\n",
    "if merge_transc:\n",
    "    time_log.append(time.perf_counter())\n",
    "    time_log_desc.append(\"Merging Transcriptions\")\n",
    "\n",
    "    pr_time = datetime.now().strftime(\"date_%d_%m_%Y_time_%H\")\n",
    "    print(\"Creating merged files from original transcriptions\")\n",
    "    digest_txt_directory(\n",
    "        output_path_transcript, identifer=\"original_tscripts\" + pr_time\n",
    "    )\n",
    "    digest_txt_directory(\n",
    "        output_path_metadata,\n",
    "        identifer=\"ALLE_metadata_for_tscript_run\" + pr_time,\n",
    "        make_folder=False,\n",
    "    )\n",
    "\n",
    "    time_log.append(time.perf_counter())\n",
    "    time_log_desc.append(\"Finished Merging Transcriptions\")\n",
    "else:\n",
    "    print(\"the value of merge_transc is set to \", merge_transc)\n",
    "    increase_font()"
   ],
   "execution_count": null,
   "outputs": [
    {
     "output_type": "display_data",
     "data": {
      "text/html": [
       "\n",
       "  <style>\n",
       "    pre {\n",
       "        white-space: pre-wrap;\n",
       "    }\n",
       "  </style>\n",
       "  "
      ],
      "text/plain": [
       "<IPython.core.display.HTML object>"
      ]
     },
     "metadata": {
      "tags": []
     }
    },
    {
     "output_type": "stream",
     "text": [
      "Creating merged files from original transcriptions\n",
      "Merged 2 text files together.\n",
      "Merged 2 text files together.\n"
     ],
     "name": "stdout"
    }
   ]
  },
  {
   "cell_type": "markdown",
   "metadata": {
    "id": "x66XQXQvY1B1"
   },
   "source": [
    "### Validate text files to spell-check"
   ]
  },
  {
   "cell_type": "code",
   "metadata": {
    "id": "5ECdmK3tjP4L",
    "colab": {
     "base_uri": "https://localhost:8080/",
     "height": 34
    },
    "outputId": "2d7f24ba-55c8-4d67-8675-f629a0fdc7ae"
   },
   "source": [
    "# first, you need to go through the output directory of transcripts and make sure that all those files are gucci\n",
    "transcripts_to_munch = natsorted(\n",
    "    [\n",
    "        f\n",
    "        for f in listdir(output_path_transcript)\n",
    "        if isfile(os.path.join(output_path_transcript, f))\n",
    "    ]\n",
    ")\n",
    "t_files = len(transcripts_to_munch)\n",
    "removed_count_t = 0\n",
    "approved_txt_files = []\n",
    "# remove non-.txt files\n",
    "for tfile in transcripts_to_munch:\n",
    "    if tfile.endswith(\".txt\"):\n",
    "        approved_txt_files.append(tfile)\n",
    "    else:\n",
    "        transcripts_to_munch.remove(tfile)\n",
    "        removed_count_t += 1\n",
    "\n",
    "print(\n",
    "    \"out of {0:3d} file(s) originally in the folder, \".format(t_files),\n",
    "    \"{0:3d} non-txt files were removed\".format(removed_count_t),\n",
    ")"
   ],
   "execution_count": null,
   "outputs": [
    {
     "output_type": "display_data",
     "data": {
      "text/html": [
       "\n",
       "  <style>\n",
       "    pre {\n",
       "        white-space: pre-wrap;\n",
       "    }\n",
       "  </style>\n",
       "  "
      ],
      "text/plain": [
       "<IPython.core.display.HTML object>"
      ]
     },
     "metadata": {
      "tags": []
     }
    },
    {
     "output_type": "stream",
     "text": [
      "out of   2 file(s) originally in the folder,    0 non-txt files were removed\n"
     ],
     "name": "stdout"
    }
   ]
  },
  {
   "cell_type": "markdown",
   "metadata": {
    "id": "7Wt7UmXAdWfW"
   },
   "source": [
    "## Spellcorrect Pipeline"
   ]
  },
  {
   "cell_type": "code",
   "metadata": {
    "id": "9VVqBJnxdb7Y",
    "colab": {
     "base_uri": "https://localhost:8080/",
     "height": 478,
     "referenced_widgets": [
      "5d6a1cc23755420da53c1d287abcab92",
      "3b2ec304955247628cdce457128d313f",
      "ff24173e879f4b68bd250a6236699153",
      "8eb245e27b5249c08f8344c6c7e81302",
      "aef02052fd7046678b710c933335dad3",
      "6ee037343d5740919f7af7e1c1c733bb",
      "3aa24623363f42759fbfb9fb2aa456bb",
      "4548c4398fde4dbe9bdcde1c125307dd",
      "15403cc61e8a4394abe8eec1b4551b7f",
      "da9795372d3d490abe1988e1eeb5ca99",
      "0ed706ca17464d989c42e331037a5f4f"
     ]
    },
    "outputId": "d2afc978-593e-4439-8c82-f4afaf9c6c41"
   },
   "source": [
    "transcript_run_qk = pd.DataFrame()  # empty df to hold all the keywords\n",
    "\n",
    "for orig_tscript in tqdm(\n",
    "    approved_txt_files,\n",
    "    total=len(approved_txt_files),\n",
    "    desc=\"spellcorrect_pipeline on transcriptions\",\n",
    "):\n",
    "\n",
    "    current_loc = approved_txt_files.index(orig_tscript) + 1  # add 1 bc start at 0\n",
    "    print(\n",
    "        \"\\nStarting file {} of \".format(current_loc),\n",
    "        len(approved_txt_files),\n",
    "        \" | \",\n",
    "        orig_tscript,\n",
    "    )\n",
    "\n",
    "    PL_out = spellcorrect_pipeline(\n",
    "        output_path_transcript, orig_tscript, verbose=False\n",
    "    )  # verbose is just for debug\n",
    "    directory_for_keywords = PL_out.get(\"spell_corrected_dir\")\n",
    "    filename_for_keywords = PL_out.get(\"sc_filename\")\n",
    "\n",
    "    qk_df = quick_keys(\n",
    "        filepath=directory_for_keywords,\n",
    "        filename=filename_for_keywords,\n",
    "        num_keywords=25,\n",
    "        max_ngrams=3,\n",
    "        save_db=False,\n",
    "        verbose=False,\n",
    "    )\n",
    "\n",
    "    print(\"completed keywords\")\n",
    "    transcript_run_qk = pd.concat([transcript_run_qk, qk_df], axis=1)\n",
    "\n",
    "# save overall transcription file\n",
    "keyword_db_name = \"YAKE - keywords for all transcripts in run.csv\"\n",
    "transcript_run_qk.to_csv(join(output_path_transcript, keyword_db_name), index=True)\n",
    "\n",
    "print(\n",
    "    \"Transcription files used to extract KW can be found in: \\n \",\n",
    "    directory_for_keywords,\n",
    ")\n",
    "print(\n",
    "    \"A file with keyword results is in {} \\ntitled {}\".format(\n",
    "        output_path_transcript, keyword_db_name\n",
    "    )\n",
    ")\n",
    "\n",
    "time_log.append(time.perf_counter())\n",
    "time_log_desc.append(\"SC, keywords\")"
   ],
   "execution_count": null,
   "outputs": [
    {
     "output_type": "display_data",
     "data": {
      "text/html": [
       "\n",
       "  <style>\n",
       "    pre {\n",
       "        white-space: pre-wrap;\n",
       "    }\n",
       "  </style>\n",
       "  "
      ],
      "text/plain": [
       "<IPython.core.display.HTML object>"
      ]
     },
     "metadata": {
      "tags": []
     }
    },
    {
     "output_type": "display_data",
     "data": {
      "application/vnd.jupyter.widget-view+json": {
       "model_id": "5d6a1cc23755420da53c1d287abcab92",
       "version_minor": 0,
       "version_major": 2
      },
      "text/plain": [
       "spellcorrect_pipeline on transcriptions:   0%|          | 0/2 [00:00<?, ?it/s]"
      ]
     },
     "metadata": {
      "tags": []
     }
    },
    {
     "output_type": "stream",
     "text": [
      "\n",
      "Starting file 1 of  2  |  cassini_hack_a_th_on_overview_of_local_challenge_transcription_1.txt\n",
      "top 5 phrases are: \n",
      "\n",
      "['team green spaces',\n",
      " 'house space data',\n",
      " 'encourage mixed teams',\n",
      " 'open data swiss',\n",
      " 'make dedicated channels']\n",
      "completed keywords\n",
      "\n",
      "Starting file 2 of  2  |  cassini_swiss_intro_session_showing_data_acces_transcription_1.txt\n",
      "top 5 phrases are: \n",
      "\n",
      "['swiss data cube',\n",
      " 'wanted pollution data',\n",
      " 'area of interest',\n",
      " 'central time lends',\n",
      " 'local product collections']\n",
      "completed keywords\n",
      "Transcription files used to extract KW can be found in: \n",
      "  /content/drive/MyDrive/Video/ETHZ2021s/example_vid_transc/wav2vec2_sf_transcript/neuspell_sc\n",
      "A file with keyword results is in /content/drive/MyDrive/Video/ETHZ2021s/example_vid_transc/wav2vec2_sf_transcript \n",
      "titled YAKE - keywords for all transcripts in run.csv\n"
     ],
     "name": "stdout"
    }
   ]
  },
  {
   "cell_type": "markdown",
   "metadata": {
    "id": "a9qbVc4PAcFZ"
   },
   "source": [
    "# Save, Download, Exit\n"
   ]
  },
  {
   "cell_type": "markdown",
   "metadata": {
    "id": "CYrDfOvuLogT"
   },
   "source": [
    "## Download All Files in .zip\n"
   ]
  },
  {
   "cell_type": "code",
   "metadata": {
    "id": "sHfbbCPcKVZp",
    "colab": {
     "base_uri": "https://localhost:8080/",
     "height": 34
    },
    "outputId": "b2dc43f6-e613-485b-d160-62b9b1ad9623"
   },
   "source": [
    "import os, shutil\n",
    "from os.path import basename\n",
    "\n",
    "zip_dir = join(directory, \"zipped_outputs\")\n",
    "os.makedirs(zip_dir, exist_ok=True)\n",
    "transc_header = \"vid2clntxt_transcripts_archive\" + datetime.now().strftime(\"%d%m%Y\")\n",
    "shutil.make_archive(join(zip_dir, transc_header), \"zip\", output_path_transcript)\n",
    "meta_header = \"vid2clntxt_metadata_archive\" + datetime.now().strftime(\"%d%m%Y\")\n",
    "shutil.make_archive(join(zip_dir, meta_header), \"zip\", output_path_metadata)\n",
    "\n",
    "if download_output_files:\n",
    "    files.download(join(zip_dir, transc_header + \".zip\"))\n",
    "    files.download(join(zip_dir, meta_header + \".zip\"))\n",
    "    print(\"downloaded files - \", datetime.now())\n",
    "else:\n",
    "    print(\"download_output_files is set to: \", download_output_files)"
   ],
   "execution_count": null,
   "outputs": [
    {
     "output_type": "display_data",
     "data": {
      "text/html": [
       "\n",
       "  <style>\n",
       "    pre {\n",
       "        white-space: pre-wrap;\n",
       "    }\n",
       "  </style>\n",
       "  "
      ],
      "text/plain": [
       "<IPython.core.display.HTML object>"
      ]
     },
     "metadata": {
      "tags": []
     }
    },
    {
     "output_type": "display_data",
     "data": {
      "application/javascript": [
       "\n",
       "    async function download(id, filename, size) {\n",
       "      if (!google.colab.kernel.accessAllowed) {\n",
       "        return;\n",
       "      }\n",
       "      const div = document.createElement('div');\n",
       "      const label = document.createElement('label');\n",
       "      label.textContent = `Downloading \"${filename}\": `;\n",
       "      div.appendChild(label);\n",
       "      const progress = document.createElement('progress');\n",
       "      progress.max = size;\n",
       "      div.appendChild(progress);\n",
       "      document.body.appendChild(div);\n",
       "\n",
       "      const buffers = [];\n",
       "      let downloaded = 0;\n",
       "\n",
       "      const channel = await google.colab.kernel.comms.open(id);\n",
       "      // Send a message to notify the kernel that we're ready.\n",
       "      channel.send({})\n",
       "\n",
       "      for await (const message of channel.messages) {\n",
       "        // Send a message to notify the kernel that we're ready.\n",
       "        channel.send({})\n",
       "        if (message.buffers) {\n",
       "          for (const buffer of message.buffers) {\n",
       "            buffers.push(buffer);\n",
       "            downloaded += buffer.byteLength;\n",
       "            progress.value = downloaded;\n",
       "          }\n",
       "        }\n",
       "      }\n",
       "      const blob = new Blob(buffers, {type: 'application/binary'});\n",
       "      const a = document.createElement('a');\n",
       "      a.href = window.URL.createObjectURL(blob);\n",
       "      a.download = filename;\n",
       "      div.appendChild(a);\n",
       "      a.click();\n",
       "      div.remove();\n",
       "    }\n",
       "  "
      ],
      "text/plain": [
       "<IPython.core.display.Javascript object>"
      ]
     },
     "metadata": {
      "tags": []
     }
    },
    {
     "output_type": "display_data",
     "data": {
      "application/javascript": [
       "download(\"download_60953b9e-7173-4579-8433-639e70c733ff\", \"vid2clntxt_transcripts_archive13072021.zip\", 33930)"
      ],
      "text/plain": [
       "<IPython.core.display.Javascript object>"
      ]
     },
     "metadata": {
      "tags": []
     }
    },
    {
     "output_type": "display_data",
     "data": {
      "application/javascript": [
       "\n",
       "    async function download(id, filename, size) {\n",
       "      if (!google.colab.kernel.accessAllowed) {\n",
       "        return;\n",
       "      }\n",
       "      const div = document.createElement('div');\n",
       "      const label = document.createElement('label');\n",
       "      label.textContent = `Downloading \"${filename}\": `;\n",
       "      div.appendChild(label);\n",
       "      const progress = document.createElement('progress');\n",
       "      progress.max = size;\n",
       "      div.appendChild(progress);\n",
       "      document.body.appendChild(div);\n",
       "\n",
       "      const buffers = [];\n",
       "      let downloaded = 0;\n",
       "\n",
       "      const channel = await google.colab.kernel.comms.open(id);\n",
       "      // Send a message to notify the kernel that we're ready.\n",
       "      channel.send({})\n",
       "\n",
       "      for await (const message of channel.messages) {\n",
       "        // Send a message to notify the kernel that we're ready.\n",
       "        channel.send({})\n",
       "        if (message.buffers) {\n",
       "          for (const buffer of message.buffers) {\n",
       "            buffers.push(buffer);\n",
       "            downloaded += buffer.byteLength;\n",
       "            progress.value = downloaded;\n",
       "          }\n",
       "        }\n",
       "      }\n",
       "      const blob = new Blob(buffers, {type: 'application/binary'});\n",
       "      const a = document.createElement('a');\n",
       "      a.href = window.URL.createObjectURL(blob);\n",
       "      a.download = filename;\n",
       "      div.appendChild(a);\n",
       "      a.click();\n",
       "      div.remove();\n",
       "    }\n",
       "  "
      ],
      "text/plain": [
       "<IPython.core.display.Javascript object>"
      ]
     },
     "metadata": {
      "tags": []
     }
    },
    {
     "output_type": "display_data",
     "data": {
      "application/javascript": [
       "download(\"download_63f65740-ce63-4353-b0b5-b9b29d49479b\", \"vid2clntxt_metadata_archive13072021.zip\", 11748)"
      ],
      "text/plain": [
       "<IPython.core.display.Javascript object>"
      ]
     },
     "metadata": {
      "tags": []
     }
    },
    {
     "output_type": "stream",
     "text": [
      "downloaded files -  2021-07-13 01:46:36.261228\n"
     ],
     "name": "stdout"
    }
   ]
  },
  {
   "cell_type": "markdown",
   "metadata": {
    "id": "9kDbrxf54HAH"
   },
   "source": [
    "# Exit block"
   ]
  },
  {
   "cell_type": "code",
   "metadata": {
    "id": "OOoaNN5f5efD",
    "colab": {
     "base_uri": "https://localhost:8080/",
     "height": 188
    },
    "outputId": "17af171a-c0bb-4cf4-93fe-0b782f2df156"
   },
   "source": [
    "print(\n",
    "    \"\\n\\n----------------------------------- Script Complete -------------------------------\"\n",
    ")\n",
    "print(datetime.now())\n",
    "print(\"Transcription files + more in folder: \\n\", output_path_transcript)\n",
    "print(\"More specifically, best transcriptions in: \\n\", PL_out.get(\"SBD_dir\"))\n",
    "print(\"Metadata for each transcription located @ \\n\", output_path_metadata)\n",
    "time_log.append(time.perf_counter())\n",
    "time_log_desc.append(\"End\")"
   ],
   "execution_count": null,
   "outputs": [
    {
     "output_type": "display_data",
     "data": {
      "text/html": [
       "\n",
       "  <style>\n",
       "    pre {\n",
       "        white-space: pre-wrap;\n",
       "    }\n",
       "  </style>\n",
       "  "
      ],
      "text/plain": [
       "<IPython.core.display.HTML object>"
      ]
     },
     "metadata": {
      "tags": []
     }
    },
    {
     "output_type": "stream",
     "text": [
      "\n",
      "\n",
      "----------------------------------- Script Complete -------------------------------\n",
      "2021-07-13 01:46:02.566533\n",
      "Transcription files + more in folder: \n",
      " /content/drive/MyDrive/Video/ETHZ2021s/example_vid_transc/wav2vec2_sf_transcript\n",
      "More specifically, best transcriptions in: \n",
      " /content/drive/MyDrive/Video/ETHZ2021s/example_vid_transc/wav2vec2_sf_transcript/NSC + SBD\n",
      "Metadata for each transcription located @ \n",
      " /content/drive/MyDrive/Video/ETHZ2021s/example_vid_transc/wav2vec2_sf_metadata\n"
     ],
     "name": "stdout"
    }
   ]
  },
  {
   "cell_type": "markdown",
   "metadata": {
    "id": "nY0s6YRnXsgO"
   },
   "source": [
    "## runtime analysis "
   ]
  },
  {
   "cell_type": "markdown",
   "metadata": {
    "id": "umYdYiGzsetf"
   },
   "source": [
    "Viz time records"
   ]
  },
  {
   "cell_type": "code",
   "metadata": {
    "id": "5TQvGn1IXuxt",
    "colab": {
     "base_uri": "https://localhost:8080/",
     "height": 559
    },
    "outputId": "a5e979b9-b66b-4032-809f-a32bec947bee"
   },
   "source": [
    "import plotly.express as px\n",
    "\n",
    "timelog_analytics(\n",
    "    time_log,\n",
    "    time_log_desc,\n",
    "    save_path=output_path_metadata,\n",
    "    show_plot=True,\n",
    "    save_plot=True,\n",
    ")"
   ],
   "execution_count": null,
   "outputs": [
    {
     "output_type": "display_data",
     "data": {
      "text/html": [
       "\n",
       "  <style>\n",
       "    pre {\n",
       "        white-space: pre-wrap;\n",
       "    }\n",
       "  </style>\n",
       "  "
      ],
      "text/plain": [
       "<IPython.core.display.HTML object>"
      ]
     },
     "metadata": {
      "tags": []
     }
    },
    {
     "output_type": "stream",
     "text": [
      "total runtime was 9 minutes\n"
     ],
     "name": "stdout"
    },
    {
     "output_type": "display_data",
     "data": {
      "text/html": [
       "<html>\n",
       "<head><meta charset=\"utf-8\" /></head>\n",
       "<body>\n",
       "    <div>            <script src=\"https://cdnjs.cloudflare.com/ajax/libs/mathjax/2.7.5/MathJax.js?config=TeX-AMS-MML_SVG\"></script><script type=\"text/javascript\">if (window.MathJax) {MathJax.Hub.Config({SVG: {font: \"STIX-Web\"}});}</script>                <script type=\"text/javascript\">window.PlotlyConfig = {MathJaxConfig: 'local'};</script>\n",
       "        <script src=\"https://cdn.plot.ly/plotly-2.2.0.min.js\"></script>                <div id=\"aa68cc66-9039-46f5-bd1d-350e13505a1c\" class=\"plotly-graph-div\" style=\"height:525px; width:100%;\"></div>            <script type=\"text/javascript\">                                    window.PLOTLYENV=window.PLOTLYENV || {};                                    if (document.getElementById(\"aa68cc66-9039-46f5-bd1d-350e13505a1c\")) {                    Plotly.newPlot(                        \"aa68cc66-9039-46f5-bd1d-350e13505a1c\",                        [{\"domain\":{\"x\":[0.0,1.0],\"y\":[0.0,1.0]},\"hovertemplate\":\"Event=%{label}<br>diff_time_mins=%{value}<extra></extra>\",\"labels\":[\"Misc.\",\"Misc.\",\"starting to load model\",\"loaded model\",\"Misc.\",\"Misc.\",\"converted video to audio\",\"transc. file #1Cassi...\",\"Misc.\",\"Misc.\",\"Misc.\",\"SC, keywords\",\"End\"],\"legendgroup\":\"\",\"name\":\"\",\"showlegend\":true,\"type\":\"pie\",\"values\":[0.0,0.0018408020337422689,0.9792550921440124,0.6246721108754477,0.013471535841623972,0.0015197873115537774,0.6084384520848591,1.2878072500228885,0.006950608889261467,0.0004903157552087478,0.005547416210174294,4.401617554823558,0.9996935248374941]}],                        {\"legend\":{\"tracegroupgap\":0},\"template\":{\"data\":{\"bar\":[{\"error_x\":{\"color\":\"#f2f5fa\"},\"error_y\":{\"color\":\"#f2f5fa\"},\"marker\":{\"line\":{\"color\":\"rgb(17,17,17)\",\"width\":0.5},\"pattern\":{\"fillmode\":\"overlay\",\"size\":10,\"solidity\":0.2}},\"type\":\"bar\"}],\"barpolar\":[{\"marker\":{\"line\":{\"color\":\"rgb(17,17,17)\",\"width\":0.5},\"pattern\":{\"fillmode\":\"overlay\",\"size\":10,\"solidity\":0.2}},\"type\":\"barpolar\"}],\"carpet\":[{\"aaxis\":{\"endlinecolor\":\"#A2B1C6\",\"gridcolor\":\"#506784\",\"linecolor\":\"#506784\",\"minorgridcolor\":\"#506784\",\"startlinecolor\":\"#A2B1C6\"},\"baxis\":{\"endlinecolor\":\"#A2B1C6\",\"gridcolor\":\"#506784\",\"linecolor\":\"#506784\",\"minorgridcolor\":\"#506784\",\"startlinecolor\":\"#A2B1C6\"},\"type\":\"carpet\"}],\"choropleth\":[{\"colorbar\":{\"outlinewidth\":0,\"ticks\":\"\"},\"type\":\"choropleth\"}],\"contour\":[{\"colorbar\":{\"outlinewidth\":0,\"ticks\":\"\"},\"colorscale\":[[0.0,\"#0d0887\"],[0.1111111111111111,\"#46039f\"],[0.2222222222222222,\"#7201a8\"],[0.3333333333333333,\"#9c179e\"],[0.4444444444444444,\"#bd3786\"],[0.5555555555555556,\"#d8576b\"],[0.6666666666666666,\"#ed7953\"],[0.7777777777777778,\"#fb9f3a\"],[0.8888888888888888,\"#fdca26\"],[1.0,\"#f0f921\"]],\"type\":\"contour\"}],\"contourcarpet\":[{\"colorbar\":{\"outlinewidth\":0,\"ticks\":\"\"},\"type\":\"contourcarpet\"}],\"heatmap\":[{\"colorbar\":{\"outlinewidth\":0,\"ticks\":\"\"},\"colorscale\":[[0.0,\"#0d0887\"],[0.1111111111111111,\"#46039f\"],[0.2222222222222222,\"#7201a8\"],[0.3333333333333333,\"#9c179e\"],[0.4444444444444444,\"#bd3786\"],[0.5555555555555556,\"#d8576b\"],[0.6666666666666666,\"#ed7953\"],[0.7777777777777778,\"#fb9f3a\"],[0.8888888888888888,\"#fdca26\"],[1.0,\"#f0f921\"]],\"type\":\"heatmap\"}],\"heatmapgl\":[{\"colorbar\":{\"outlinewidth\":0,\"ticks\":\"\"},\"colorscale\":[[0.0,\"#0d0887\"],[0.1111111111111111,\"#46039f\"],[0.2222222222222222,\"#7201a8\"],[0.3333333333333333,\"#9c179e\"],[0.4444444444444444,\"#bd3786\"],[0.5555555555555556,\"#d8576b\"],[0.6666666666666666,\"#ed7953\"],[0.7777777777777778,\"#fb9f3a\"],[0.8888888888888888,\"#fdca26\"],[1.0,\"#f0f921\"]],\"type\":\"heatmapgl\"}],\"histogram\":[{\"marker\":{\"pattern\":{\"fillmode\":\"overlay\",\"size\":10,\"solidity\":0.2}},\"type\":\"histogram\"}],\"histogram2d\":[{\"colorbar\":{\"outlinewidth\":0,\"ticks\":\"\"},\"colorscale\":[[0.0,\"#0d0887\"],[0.1111111111111111,\"#46039f\"],[0.2222222222222222,\"#7201a8\"],[0.3333333333333333,\"#9c179e\"],[0.4444444444444444,\"#bd3786\"],[0.5555555555555556,\"#d8576b\"],[0.6666666666666666,\"#ed7953\"],[0.7777777777777778,\"#fb9f3a\"],[0.8888888888888888,\"#fdca26\"],[1.0,\"#f0f921\"]],\"type\":\"histogram2d\"}],\"histogram2dcontour\":[{\"colorbar\":{\"outlinewidth\":0,\"ticks\":\"\"},\"colorscale\":[[0.0,\"#0d0887\"],[0.1111111111111111,\"#46039f\"],[0.2222222222222222,\"#7201a8\"],[0.3333333333333333,\"#9c179e\"],[0.4444444444444444,\"#bd3786\"],[0.5555555555555556,\"#d8576b\"],[0.6666666666666666,\"#ed7953\"],[0.7777777777777778,\"#fb9f3a\"],[0.8888888888888888,\"#fdca26\"],[1.0,\"#f0f921\"]],\"type\":\"histogram2dcontour\"}],\"mesh3d\":[{\"colorbar\":{\"outlinewidth\":0,\"ticks\":\"\"},\"type\":\"mesh3d\"}],\"parcoords\":[{\"line\":{\"colorbar\":{\"outlinewidth\":0,\"ticks\":\"\"}},\"type\":\"parcoords\"}],\"pie\":[{\"automargin\":true,\"type\":\"pie\"}],\"scatter\":[{\"marker\":{\"line\":{\"color\":\"#283442\"}},\"type\":\"scatter\"}],\"scatter3d\":[{\"line\":{\"colorbar\":{\"outlinewidth\":0,\"ticks\":\"\"}},\"marker\":{\"colorbar\":{\"outlinewidth\":0,\"ticks\":\"\"}},\"type\":\"scatter3d\"}],\"scattercarpet\":[{\"marker\":{\"colorbar\":{\"outlinewidth\":0,\"ticks\":\"\"}},\"type\":\"scattercarpet\"}],\"scattergeo\":[{\"marker\":{\"colorbar\":{\"outlinewidth\":0,\"ticks\":\"\"}},\"type\":\"scattergeo\"}],\"scattergl\":[{\"marker\":{\"line\":{\"color\":\"#283442\"}},\"type\":\"scattergl\"}],\"scattermapbox\":[{\"marker\":{\"colorbar\":{\"outlinewidth\":0,\"ticks\":\"\"}},\"type\":\"scattermapbox\"}],\"scatterpolar\":[{\"marker\":{\"colorbar\":{\"outlinewidth\":0,\"ticks\":\"\"}},\"type\":\"scatterpolar\"}],\"scatterpolargl\":[{\"marker\":{\"colorbar\":{\"outlinewidth\":0,\"ticks\":\"\"}},\"type\":\"scatterpolargl\"}],\"scatterternary\":[{\"marker\":{\"colorbar\":{\"outlinewidth\":0,\"ticks\":\"\"}},\"type\":\"scatterternary\"}],\"surface\":[{\"colorbar\":{\"outlinewidth\":0,\"ticks\":\"\"},\"colorscale\":[[0.0,\"#0d0887\"],[0.1111111111111111,\"#46039f\"],[0.2222222222222222,\"#7201a8\"],[0.3333333333333333,\"#9c179e\"],[0.4444444444444444,\"#bd3786\"],[0.5555555555555556,\"#d8576b\"],[0.6666666666666666,\"#ed7953\"],[0.7777777777777778,\"#fb9f3a\"],[0.8888888888888888,\"#fdca26\"],[1.0,\"#f0f921\"]],\"type\":\"surface\"}],\"table\":[{\"cells\":{\"fill\":{\"color\":\"#506784\"},\"line\":{\"color\":\"rgb(17,17,17)\"}},\"header\":{\"fill\":{\"color\":\"#2a3f5f\"},\"line\":{\"color\":\"rgb(17,17,17)\"}},\"type\":\"table\"}]},\"layout\":{\"annotationdefaults\":{\"arrowcolor\":\"#f2f5fa\",\"arrowhead\":0,\"arrowwidth\":1},\"autotypenumbers\":\"strict\",\"coloraxis\":{\"colorbar\":{\"outlinewidth\":0,\"ticks\":\"\"}},\"colorscale\":{\"diverging\":[[0,\"#8e0152\"],[0.1,\"#c51b7d\"],[0.2,\"#de77ae\"],[0.3,\"#f1b6da\"],[0.4,\"#fde0ef\"],[0.5,\"#f7f7f7\"],[0.6,\"#e6f5d0\"],[0.7,\"#b8e186\"],[0.8,\"#7fbc41\"],[0.9,\"#4d9221\"],[1,\"#276419\"]],\"sequential\":[[0.0,\"#0d0887\"],[0.1111111111111111,\"#46039f\"],[0.2222222222222222,\"#7201a8\"],[0.3333333333333333,\"#9c179e\"],[0.4444444444444444,\"#bd3786\"],[0.5555555555555556,\"#d8576b\"],[0.6666666666666666,\"#ed7953\"],[0.7777777777777778,\"#fb9f3a\"],[0.8888888888888888,\"#fdca26\"],[1.0,\"#f0f921\"]],\"sequentialminus\":[[0.0,\"#0d0887\"],[0.1111111111111111,\"#46039f\"],[0.2222222222222222,\"#7201a8\"],[0.3333333333333333,\"#9c179e\"],[0.4444444444444444,\"#bd3786\"],[0.5555555555555556,\"#d8576b\"],[0.6666666666666666,\"#ed7953\"],[0.7777777777777778,\"#fb9f3a\"],[0.8888888888888888,\"#fdca26\"],[1.0,\"#f0f921\"]]},\"colorway\":[\"#636efa\",\"#EF553B\",\"#00cc96\",\"#ab63fa\",\"#FFA15A\",\"#19d3f3\",\"#FF6692\",\"#B6E880\",\"#FF97FF\",\"#FECB52\"],\"font\":{\"color\":\"#f2f5fa\"},\"geo\":{\"bgcolor\":\"rgb(17,17,17)\",\"lakecolor\":\"rgb(17,17,17)\",\"landcolor\":\"rgb(17,17,17)\",\"showlakes\":true,\"showland\":true,\"subunitcolor\":\"#506784\"},\"hoverlabel\":{\"align\":\"left\"},\"hovermode\":\"closest\",\"mapbox\":{\"style\":\"dark\"},\"paper_bgcolor\":\"rgb(17,17,17)\",\"plot_bgcolor\":\"rgb(17,17,17)\",\"polar\":{\"angularaxis\":{\"gridcolor\":\"#506784\",\"linecolor\":\"#506784\",\"ticks\":\"\"},\"bgcolor\":\"rgb(17,17,17)\",\"radialaxis\":{\"gridcolor\":\"#506784\",\"linecolor\":\"#506784\",\"ticks\":\"\"}},\"scene\":{\"xaxis\":{\"backgroundcolor\":\"rgb(17,17,17)\",\"gridcolor\":\"#506784\",\"gridwidth\":2,\"linecolor\":\"#506784\",\"showbackground\":true,\"ticks\":\"\",\"zerolinecolor\":\"#C8D4E3\"},\"yaxis\":{\"backgroundcolor\":\"rgb(17,17,17)\",\"gridcolor\":\"#506784\",\"gridwidth\":2,\"linecolor\":\"#506784\",\"showbackground\":true,\"ticks\":\"\",\"zerolinecolor\":\"#C8D4E3\"},\"zaxis\":{\"backgroundcolor\":\"rgb(17,17,17)\",\"gridcolor\":\"#506784\",\"gridwidth\":2,\"linecolor\":\"#506784\",\"showbackground\":true,\"ticks\":\"\",\"zerolinecolor\":\"#C8D4E3\"}},\"shapedefaults\":{\"line\":{\"color\":\"#f2f5fa\"}},\"sliderdefaults\":{\"bgcolor\":\"#C8D4E3\",\"bordercolor\":\"rgb(17,17,17)\",\"borderwidth\":1,\"tickwidth\":0},\"ternary\":{\"aaxis\":{\"gridcolor\":\"#506784\",\"linecolor\":\"#506784\",\"ticks\":\"\"},\"baxis\":{\"gridcolor\":\"#506784\",\"linecolor\":\"#506784\",\"ticks\":\"\"},\"bgcolor\":\"rgb(17,17,17)\",\"caxis\":{\"gridcolor\":\"#506784\",\"linecolor\":\"#506784\",\"ticks\":\"\"}},\"title\":{\"x\":0.05},\"updatemenudefaults\":{\"bgcolor\":\"#506784\",\"borderwidth\":0},\"xaxis\":{\"automargin\":true,\"gridcolor\":\"#283442\",\"linecolor\":\"#506784\",\"ticks\":\"\",\"title\":{\"standoff\":15},\"zerolinecolor\":\"#283442\",\"zerolinewidth\":2},\"yaxis\":{\"automargin\":true,\"gridcolor\":\"#283442\",\"linecolor\":\"#506784\",\"ticks\":\"\",\"title\":{\"standoff\":15},\"zerolinecolor\":\"#283442\",\"zerolinewidth\":2}}},\"title\":{\"text\":\"Run Time Viz - transc of 1 video files on 13.07.2021\"}},                        {\"responsive\": true}                    ).then(function(){\n",
       "                            \n",
       "var gd = document.getElementById('aa68cc66-9039-46f5-bd1d-350e13505a1c');\n",
       "var x = new MutationObserver(function (mutations, observer) {{\n",
       "        var display = window.getComputedStyle(gd).display;\n",
       "        if (!display || display === 'none') {{\n",
       "            console.log([gd, 'removed!']);\n",
       "            Plotly.purge(gd);\n",
       "            observer.disconnect();\n",
       "        }}\n",
       "}});\n",
       "\n",
       "// Listen for the removal of the full notebook cells\n",
       "var notebookContainer = gd.closest('#notebook-container');\n",
       "if (notebookContainer) {{\n",
       "    x.observe(notebookContainer, {childList: true});\n",
       "}}\n",
       "\n",
       "// Listen for the clearing of the current output cell\n",
       "var outputEl = gd.closest('.output');\n",
       "if (outputEl) {{\n",
       "    x.observe(outputEl, {childList: true});\n",
       "}}\n",
       "\n",
       "                        })                };                            </script>        </div>\n",
       "</body>\n",
       "</html>"
      ]
     },
     "metadata": {
      "tags": []
     }
    }
   ]
  }
 ]
}
