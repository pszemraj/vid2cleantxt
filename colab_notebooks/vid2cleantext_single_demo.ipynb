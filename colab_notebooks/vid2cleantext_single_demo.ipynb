{
  "cells": [
    {
      "cell_type": "markdown",
      "metadata": {
        "id": "view-in-github",
        "colab_type": "text"
      },
      "source": [
        "<a href=\"https://colab.research.google.com/github/pszemraj/vid2cleantxt/blob/fix-neuspell/colab_notebooks/vid2cleantext_single_demo.ipynb\" target=\"_parent\"><img src=\"https://colab.research.google.com/assets/colab-badge.svg\" alt=\"Open In Colab\"/></a>"
      ]
    },
    {
      "cell_type": "markdown",
      "metadata": {
        "id": "oiurzXGg8DyC"
      },
      "source": [
        "# vid2cleantxt - Demo (single file)\n",
        "\n",
        "> PURPOSE: MVP demo of vid2cleantxt, transcribes a single media file that is downloaded from a URL\n",
        "\n",
        "- developed as part of the [vid2cleantxt](https://github.com/pszemraj/vid2cleantxt) repo\n",
        "- by [Peter Szemraj](https://github.com/pszemraj)\n",
        "\n",
        "---\n",
        "\n"
      ]
    },
    {
      "cell_type": "code",
      "execution_count": 1,
      "metadata": {
        "cellView": "form",
        "id": "mIZn1aQe1rYk",
        "colab": {
          "base_uri": "https://localhost:8080/"
        },
        "outputId": "dae797c8-973d-4f0f-a0f7-61512a224bd9"
      },
      "outputs": [
        {
          "output_type": "stream",
          "name": "stdout",
          "text": [
            "Thu Feb 24 00:25:19 2022       \n",
            "+-----------------------------------------------------------------------------+\n",
            "| NVIDIA-SMI 460.32.03    Driver Version: 460.32.03    CUDA Version: 11.2     |\n",
            "|-------------------------------+----------------------+----------------------+\n",
            "| GPU  Name        Persistence-M| Bus-Id        Disp.A | Volatile Uncorr. ECC |\n",
            "| Fan  Temp  Perf  Pwr:Usage/Cap|         Memory-Usage | GPU-Util  Compute M. |\n",
            "|                               |                      |               MIG M. |\n",
            "|===============================+======================+======================|\n",
            "|   0  Tesla V100-SXM2...  Off  | 00000000:00:04.0 Off |                    0 |\n",
            "| N/A   32C    P0    24W / 300W |      0MiB / 16160MiB |      0%      Default |\n",
            "|                               |                      |                  N/A |\n",
            "+-------------------------------+----------------------+----------------------+\n",
            "                                                                               \n",
            "+-----------------------------------------------------------------------------+\n",
            "| Processes:                                                                  |\n",
            "|  GPU   GI   CI        PID   Type   Process name                  GPU Memory |\n",
            "|        ID   ID                                                   Usage      |\n",
            "|=============================================================================|\n",
            "|  No running processes found                                                 |\n",
            "+-----------------------------------------------------------------------------+\n"
          ]
        }
      ],
      "source": [
        "#@title print out GPU info\n",
        "#@markdown this is the Colab-allocated GPU. \n",
        "#@markdown - <font color=\"orange\"> If the output here says it fails, no\n",
        "#@markdown GPU is being used. go to runtime at the top of your colab to set runtime to GPU.\n",
        "#@markdown - To change runtime, go to Runtime->Change Runtime Type and set Hardware Acceleration to GPU </font>\n",
        "\n",
        "\n",
        "!nvidia-smi"
      ]
    },
    {
      "cell_type": "markdown",
      "metadata": {
        "id": "2sVrAUaTCCWx"
      },
      "source": [
        "# setup"
      ]
    },
    {
      "cell_type": "code",
      "execution_count": 2,
      "metadata": {
        "cellView": "form",
        "id": "LrDWdEzv3LaX"
      },
      "outputs": [],
      "source": [
        "#@markdown add auto-Colab formatting with `IPython.display`\n",
        "from IPython.display import HTML, display\n",
        "# colab formatting\n",
        "def set_css():\n",
        "    display(\n",
        "        HTML(\n",
        "            \"\"\"\n",
        "  <style>\n",
        "    pre {\n",
        "        white-space: pre-wrap;\n",
        "    }\n",
        "  </style>\n",
        "  \"\"\"\n",
        "        )\n",
        "    )\n",
        "\n",
        "get_ipython().events.register(\"pre_run_cell\", set_css)"
      ]
    },
    {
      "cell_type": "code",
      "execution_count": 3,
      "metadata": {
        "cellView": "form",
        "id": "edpWDhRuYSNr",
        "colab": {
          "base_uri": "https://localhost:8080/",
          "height": 103
        },
        "outputId": "9a03eb98-2dfc-43a6-89fe-9b8aeae07fd9"
      },
      "outputs": [
        {
          "output_type": "display_data",
          "data": {
            "text/html": [
              "\n",
              "  <style>\n",
              "    pre {\n",
              "        white-space: pre-wrap;\n",
              "    }\n",
              "  </style>\n",
              "  "
            ],
            "text/plain": [
              "<IPython.core.display.HTML object>"
            ]
          },
          "metadata": {}
        },
        {
          "output_type": "stream",
          "name": "stdout",
          "text": [
            "Will use the following as directory/file: \n",
            "/content/vid2cleantxt_demo\n",
            "Using the URL as the source for video files.\n",
            "Videos will be saved here: \n",
            "/content/downloaded_media\n"
          ]
        }
      ],
      "source": [
        "#@title setup inputs and outputs\n",
        "#@markdown - <font color=\"orange\"> **This is where you setup the input media.**</font>\n",
        "\n",
        "#@markdown - optionally, set `download_output_files` to `True` to download everything\n",
        "#@markdown as a zip file. \n",
        "import os\n",
        "from os.path import join\n",
        "from google.colab import files\n",
        "directory = \"/content/vid2cleantxt_demo\"  \n",
        "# set to false if you don't want it to download a zipped file of all the text\n",
        "download_output_files = True  # @param {type:\"boolean\"}\n",
        "use_url = True  \n",
        "URL_of_media = \"https://www.dropbox.com/s/q2gu4ik4h8zltpo/President%20Kennedy%27s%201962%20Speech%20on%20the%20US%20Space%20Program%20%20C-SPAN%20Classroom.mp4?dl=1\"  # @param {type:\"string\"}\n",
        "#@markdown for the sake of **this notebook** the URL is assumed to point to a **single media file**\n",
        "#@markdown i.e., if the link is pasted into your browser, it will immediately download a media file\n",
        "print(\"Will use the following as directory/file: \")\n",
        "print(directory)\n",
        "\n",
        "URL_save_folder = join(os.getcwd(), \"downloaded_media\")\n",
        "os.makedirs(URL_save_folder, exist_ok=True)\n",
        "\n",
        "print(\"Using the URL as the source for video files.\")\n",
        "print(\"Videos will be saved here: \\n{}\".format(URL_save_folder))\n",
        "from datetime import datetime\n",
        "\n",
        "run_start = datetime.now()\n",
        "tag_date = \"started_\" + run_start.strftime(\"%m/%d/%Y, %H-%M\")"
      ]
    },
    {
      "cell_type": "markdown",
      "metadata": {
        "id": "STyM3PrkCPzk"
      },
      "source": [
        "# Install, Import \n",
        "\n",
        "- imports and installs may take several minutes."
      ]
    },
    {
      "cell_type": "code",
      "execution_count": 4,
      "metadata": {
        "cellView": "form",
        "id": "aU0vhImmKeOc",
        "colab": {
          "base_uri": "https://localhost:8080/",
          "height": 1000,
          "referenced_widgets": [
            "6a84af0b82004731bafc06693ddf8042",
            "d41e49c0f34643ea9a48f3b747c65662",
            "92139c55ca564354bb25161139730fd1",
            "1707440cad3b443289c8e12a460cd962",
            "28adab32b0e84238b8296e4f9aa00366",
            "b8ce9aa68b6745b98cf5f1dc6847ebd5",
            "f7e129d275dd4b7ba7c65608a3c70998",
            "c4d54c1a3201484da4e4111369c1caa9",
            "ce118a0a43ae4f2fb21c55389b32e7ef",
            "e2d1edd119ab43dabb6d34a7e2f13752",
            "60ff9d964151489d801efb3c37baa5f0",
            "bcac201540684947912b1e54b25d033d",
            "4f6c9f5663fb49d689f75699be8f6f59",
            "8350f9059a5343d8bdb08618559f11e7",
            "6763283a6cf14759ab34a0af82472274",
            "4566017e333e41d79d77ada8c8ca1c3a",
            "db57df09efa84ddc8ec23f1037958fca",
            "b77d0799854845c59e5382d764f3b15f",
            "3834aa5c2ced47fa813ba477646ede35",
            "568cf72006534cb782a2ab890f0e1004",
            "ef7d0c89f92e40f98c382f9718f6cdf1",
            "3499c46c7ac546bc9275b333aea9385a",
            "8f9ee12ddae5462dac9550dd2010ae5c",
            "321763db8bd344bd8bfda4493ab5308a",
            "db540989536441248faadad48406682e",
            "09058a930ce44ba6810ece10738bdaa6",
            "e65cde6d653c4c7dbd7730df7f5be4e4",
            "49aa2a22affc4494883c2c5d707c6411",
            "9e26dac2ef8d46218ac7a51fa102ef20",
            "b3988aae3e714344893cb6dad5b56b7e",
            "9f18994a2ef3428c9defa93f1314daef",
            "c3a97f4dab1445a58acfc61ebfea42b7",
            "1b75fdf3c65741e485195c30edc34d85",
            "f9e41c71f83d498fa3c3acc56f165d8b",
            "b73c38544bf4434a890f0cb69f1f0082",
            "c8d9b1b11f37432cad3a599f37224d14",
            "45251925020d4b5389af127476616e3a",
            "6f3545f60b904aea848cd7f98453cad2",
            "933c5d83e91c46d68eabf1d69e08cea9",
            "d9e9cc00551742c58af2ce5543c6e001",
            "bc7fd4bc1a5b4482a53fe112309884ce",
            "ea5713571247415b960e62a40494b823",
            "135de8082cf6421bb00c02a3916fc077",
            "cbc6aecfb5724b84ac02fcd0f8d5b3bc"
          ]
        },
        "outputId": "5193df41-5dbb-4c50-a1da-072e6816bee3"
      },
      "outputs": [
        {
          "output_type": "display_data",
          "data": {
            "text/html": [
              "\n",
              "  <style>\n",
              "    pre {\n",
              "        white-space: pre-wrap;\n",
              "    }\n",
              "  </style>\n",
              "  "
            ],
            "text/plain": [
              "<IPython.core.display.HTML object>"
            ]
          },
          "metadata": {}
        },
        {
          "output_type": "stream",
          "name": "stdout",
          "text": [
            "\u001b[K     |████████████████████████████████| 71 kB 3.4 MB/s \n",
            "\u001b[K     |████████████████████████████████| 3.5 MB 4.3 MB/s \n",
            "\u001b[K     |████████████████████████████████| 67 kB 6.8 MB/s \n",
            "\u001b[K     |████████████████████████████████| 895 kB 81.2 MB/s \n",
            "\u001b[K     |████████████████████████████████| 596 kB 87.0 MB/s \n",
            "\u001b[K     |████████████████████████████████| 6.8 MB 78.0 MB/s \n",
            "\u001b[K     |████████████████████████████████| 541 kB 4.2 MB/s \n",
            "\u001b[?25h  Building wheel for wordninja (setup.py) ... \u001b[?25l\u001b[?25hdone\n",
            "\u001b[K     |████████████████████████████████| 60 kB 3.0 MB/s \n",
            "\u001b[K     |████████████████████████████████| 132 kB 8.5 MB/s \n",
            "\u001b[?25h  Building wheel for jellyfish (setup.py) ... \u001b[?25l\u001b[?25hdone\n",
            "\u001b[K     |████████████████████████████████| 2.6 MB 3.7 MB/s \n",
            "\u001b[K     |████████████████████████████████| 125 kB 76.0 MB/s \n",
            "\u001b[?25h  Building wheel for gputil (setup.py) ... \u001b[?25l\u001b[?25hdone\n",
            "\u001b[K     |████████████████████████████████| 27.7 MB 1.2 MB/s \n",
            "\u001b[K     |████████████████████████████████| 400 kB 4.1 MB/s \n",
            "\u001b[K     |████████████████████████████████| 3.3 MB 79.1 MB/s \n",
            "\u001b[K     |████████████████████████████████| 26.9 MB 1.2 MB/s \n",
            "\u001b[K     |████████████████████████████████| 4.3 MB 66.3 MB/s \n",
            "\u001b[?25h  Building wheel for moviepy (setup.py) ... \u001b[?25l\u001b[?25hdone\n",
            "  Building wheel for proglog (setup.py) ... \u001b[?25l\u001b[?25hdone\n",
            "\u001b[31mERROR: pip's dependency resolver does not currently take into account all the packages that are installed. This behaviour is the source of the following dependency conflicts.\n",
            "albumentations 0.1.12 requires imgaug<0.2.7,>=0.2.5, but you have imgaug 0.2.9 which is incompatible.\u001b[0m\n",
            "Reading package lists... Done\n",
            "Building dependency tree       \n",
            "Reading state information... Done\n",
            "ffmpeg is already the newest version (7:3.4.8-0ubuntu0.2).\n",
            "The following package was automatically installed and is no longer required:\n",
            "  libnvidia-common-470\n",
            "Use 'apt autoremove' to remove it.\n",
            "0 upgraded, 0 newly installed, 0 to remove and 39 not upgraded.\n",
            "\u001b[K     |████████████████████████████████| 184 kB 4.1 MB/s \n",
            "\u001b[K     |████████████████████████████████| 1.2 MB 51.8 MB/s \n",
            "\u001b[K     |████████████████████████████████| 123 kB 98.0 MB/s \n",
            "\u001b[K     |████████████████████████████████| 132 kB 94.2 MB/s \n",
            "\u001b[K     |████████████████████████████████| 79 kB 10.1 MB/s \n",
            "\u001b[K     |████████████████████████████████| 8.5 MB 97.2 MB/s \n",
            "\u001b[K     |████████████████████████████████| 138 kB 90.5 MB/s \n",
            "\u001b[K     |████████████████████████████████| 127 kB 97.2 MB/s \n",
            "\u001b[31mERROR: pip's dependency resolver does not currently take into account all the packages that are installed. This behaviour is the source of the following dependency conflicts.\n",
            "datascience 0.10.6 requires folium==0.2.1, but you have folium 0.8.3 which is incompatible.\u001b[0m\n",
            "\u001b[K     |████████████████████████████████| 174 kB 4.2 MB/s \n",
            "\u001b[K     |████████████████████████████████| 53 kB 2.3 MB/s \n",
            "\u001b[?25h  Building wheel for emoji (setup.py) ... \u001b[?25l\u001b[?25hdone\n",
            "data folder is set to `/usr/local/lib/python3.7/dist-packages/neuspell/../data` script\n"
          ]
        },
        {
          "output_type": "display_data",
          "data": {
            "application/vnd.jupyter.widget-view+json": {
              "model_id": "6a84af0b82004731bafc06693ddf8042",
              "version_minor": 0,
              "version_major": 2
            },
            "text/plain": [
              "Downloading:   0%|          | 0.00/29.0 [00:00<?, ?B/s]"
            ]
          },
          "metadata": {}
        },
        {
          "output_type": "display_data",
          "data": {
            "application/vnd.jupyter.widget-view+json": {
              "model_id": "bcac201540684947912b1e54b25d033d",
              "version_minor": 0,
              "version_major": 2
            },
            "text/plain": [
              "Downloading:   0%|          | 0.00/208k [00:00<?, ?B/s]"
            ]
          },
          "metadata": {}
        },
        {
          "output_type": "display_data",
          "data": {
            "application/vnd.jupyter.widget-view+json": {
              "model_id": "8f9ee12ddae5462dac9550dd2010ae5c",
              "version_minor": 0,
              "version_major": 2
            },
            "text/plain": [
              "Downloading:   0%|          | 0.00/426k [00:00<?, ?B/s]"
            ]
          },
          "metadata": {}
        },
        {
          "output_type": "display_data",
          "data": {
            "application/vnd.jupyter.widget-view+json": {
              "model_id": "f9e41c71f83d498fa3c3acc56f165d8b",
              "version_minor": 0,
              "version_major": 2
            },
            "text/plain": [
              "Downloading:   0%|          | 0.00/570 [00:00<?, ?B/s]"
            ]
          },
          "metadata": {}
        },
        {
          "output_type": "stream",
          "name": "stderr",
          "text": [
            "2022-02-24 00:27:00,985 WARNING:Since the GPL-licensed package `unidecode` is not installed, using Python's `unicodedata` package which yields worse results.\n"
          ]
        },
        {
          "output_type": "stream",
          "name": "stdout",
          "text": [
            "CPU times: user 4.04 s, sys: 1.49 s, total: 5.53 s\n",
            "Wall time: 1min 41s\n"
          ]
        }
      ],
      "source": [
        "%%time\n",
        "#@markdown import / install libraries as needed\n",
        "!pip install pysbd -q\n",
        "!pip install -U transformers -q\n",
        "!pip install wordninja -q\n",
        "!pip install yake -q\n",
        "!pip install symspellpy -q\n",
        "!pip install gputil -q\n",
        "!pip install humanize -q\n",
        "!pip install -U plotly -q\n",
        "!pip install moviepy --pre --upgrade -q\n",
        "!apt install ffmpeg\n",
        "!pip install -U tqdm -q\n",
        "!pip install -U neuspell -q\n",
        "!pip install clean-text -q\n",
        "\n",
        "# !apt-get install ffmpeg # if you get ffmpeg errors\n",
        "\n",
        "import math, re\n",
        "import os, shutil, time, gc\n",
        "import pprint as pp\n",
        "from datetime import datetime\n",
        "from os import listdir\n",
        "from os.path import isfile, join\n",
        "\n",
        "import librosa\n",
        "import moviepy.editor as mp\n",
        "import moviepy\n",
        "import pandas as pd\n",
        "import pkg_resources\n",
        "import pysbd\n",
        "import torch\n",
        "import wordninja\n",
        "import yake\n",
        "from natsort import natsorted\n",
        "from symspellpy import SymSpell\n",
        "import transformers\n",
        "from transformers import Wav2Vec2ForCTC, Wav2Vec2Tokenizer\n",
        "import psutil\n",
        "import humanize\n",
        "import GPUtil\n",
        "import GPUtil as GPU\n",
        "import neuspell\n",
        "from tqdm.auto import tqdm\n",
        "from cleantext import clean"
      ]
    },
    {
      "cell_type": "markdown",
      "metadata": {
        "id": "9gqce-JlruPm"
      },
      "source": [
        "# Function Definitions\n",
        "\n",
        "- there is **a lot** of code in here, which is sort of organized. \n",
        "- It should only need to be opened / adjusted for debugging any errors or implementing improvements, or if you love reading python code."
      ]
    },
    {
      "cell_type": "markdown",
      "metadata": {
        "id": "CqAOMIuzGtUx"
      },
      "source": [
        "## generic functions "
      ]
    },
    {
      "cell_type": "code",
      "execution_count": 5,
      "metadata": {
        "id": "GgmDOcLH2Apm",
        "colab": {
          "base_uri": "https://localhost:8080/",
          "height": 0
        },
        "outputId": "50ed8692-4943-44a5-d18c-341210e52dad"
      },
      "outputs": [
        {
          "output_type": "display_data",
          "data": {
            "text/html": [
              "\n",
              "  <style>\n",
              "    pre {\n",
              "        white-space: pre-wrap;\n",
              "    }\n",
              "  </style>\n",
              "  "
            ],
            "text/plain": [
              "<IPython.core.display.HTML object>"
            ]
          },
          "metadata": {}
        }
      ],
      "source": [
        "# define user functions\n",
        "\n",
        "\n",
        "def increase_font():\n",
        "    from IPython.display import Javascript\n",
        "\n",
        "    display(\n",
        "        Javascript(\n",
        "            \"\"\"\n",
        "  for (rule of document.styleSheets[0].cssRules){\n",
        "    if (rule.selectorText=='body') {\n",
        "      rule.style.fontSize = '24px'\n",
        "      break\n",
        "    }\n",
        "  }\n",
        "  \"\"\"\n",
        "        )\n",
        "    )\n",
        "\n",
        "\n",
        "def reset_font():\n",
        "    from IPython.display import Javascript\n",
        "\n",
        "    display(\n",
        "        Javascript(\n",
        "            \"\"\"\n",
        "  for (rule of document.styleSheets[0].cssRules){\n",
        "    if (rule.selectorText=='body') {\n",
        "      rule.style.fontSize = '14px'\n",
        "      break\n",
        "    }\n",
        "  }\n",
        "  \"\"\"\n",
        "        )\n",
        "    )\n",
        "\n",
        "\n",
        "def corr(s):\n",
        "    # adds space after period if there isn't one\n",
        "    # removes extra spaces\n",
        "    return re.sub(r\"\\.(?! )\", \". \", re.sub(r\" +\", \" \", s))\n",
        "\n",
        "\n",
        "def shorten_title(title_text, max_no=20):\n",
        "    if len(title_text) < max_no:\n",
        "        return title_text\n",
        "    else:\n",
        "        return title_text[:max_no] + \"...\"\n",
        "\n",
        "\n",
        "def digest_txt_directory(file_directory, identifer=\"\", verbose=False, make_folder=True):\n",
        "    run_date = datetime.now()\n",
        "    files_to_merge = natsorted(\n",
        "        [\n",
        "            f\n",
        "            for f in listdir(file_directory)\n",
        "            if isfile(join(file_directory, f)) & f.endswith(\".txt\")\n",
        "        ]\n",
        "    )\n",
        "    outfilename = (\n",
        "        \"Zealous_MERGED_words_\" + identifer + run_date.strftime(\"_%d%m%Y_%H\") + \".txt\"\n",
        "    )\n",
        "\n",
        "    og_wd = os.getcwd()\n",
        "    os.chdir(file_directory)\n",
        "\n",
        "    if make_folder:\n",
        "        folder_name = \"merged_txt_files\"\n",
        "        if not os.path.isdir(join(file_directory, folder_name)):\n",
        "            os.mkdir(\n",
        "                join(file_directory, folder_name)\n",
        "            )  # make a place to store outputs if one does not exist\n",
        "        output_loc = join(file_directory, folder_name)\n",
        "\n",
        "        outfilename = join(folder_name, outfilename)\n",
        "\n",
        "        if verbose:\n",
        "            print(\"created new folder. new full path is: \\n\", output_loc)\n",
        "\n",
        "    count = 0\n",
        "    with open(outfilename, \"w\") as outfile:\n",
        "\n",
        "        for names in files_to_merge:\n",
        "\n",
        "            with open(names) as infile:\n",
        "                count += 1\n",
        "                outfile.write(\"Start of: \" + names + \"\\n\")\n",
        "                outfile.writelines(infile.readlines())\n",
        "\n",
        "            outfile.write(\"\\n\")\n",
        "\n",
        "    print(\"Merged {} text files together.\".format(count))\n",
        "    if verbose:\n",
        "        print(\"the merged file is located at: \\n\", os.getcwd())\n",
        "    os.chdir(og_wd)\n",
        "\n",
        "\n",
        "def validate_output_directories(directory, verbose=False):\n",
        "\n",
        "    # checks and creates folders\n",
        "\n",
        "    t_folder_name = \"wav2vec2_sf_transcript\"\n",
        "    m_folder_name = \"wav2vec2_sf_metadata\"\n",
        "\n",
        "    # check if transcription folder exists. If not, create it'\n",
        "\n",
        "    t_path_full = join(directory, t_folder_name)\n",
        "    m_path_full = join(directory, m_folder_name)\n",
        "    create_folder(t_path_full)\n",
        "    create_folder(m_path_full)\n",
        "\n",
        "    output_locs = {\"t_out\": t_path_full, \"m_out\": m_path_full}\n",
        "\n",
        "    return output_locs\n",
        "\n",
        "\n",
        "def move2completed(from_dir, filename, new_folder=\"completed\", verbose=False):\n",
        "\n",
        "    # this is the better version\n",
        "    old_filepath = join(from_dir, filename)\n",
        "\n",
        "    new_filedirectory = join(from_dir, new_folder)\n",
        "    create_folder(new_filedirectory)\n",
        "\n",
        "    new_filepath = join(new_filedirectory, filename)\n",
        "\n",
        "    try:\n",
        "        shutil.move(old_filepath, new_filepath)\n",
        "        if verbose:\n",
        "            print(\"moved {} to */completed.\".format(filename))\n",
        "    except:\n",
        "        print(\n",
        "            \"Warning! unable to move file to \\n{}. Please investigate\".format(\n",
        "                new_filepath\n",
        "            )\n",
        "        )"
      ]
    },
    {
      "cell_type": "markdown",
      "metadata": {
        "id": "mFTrOyIk9Um7"
      },
      "source": [
        "### clean filenames"
      ]
    },
    {
      "cell_type": "code",
      "execution_count": 6,
      "metadata": {
        "id": "HOKvRjls9S_D",
        "colab": {
          "base_uri": "https://localhost:8080/",
          "height": 0
        },
        "outputId": "ecda91f6-2adc-4b2e-e7c6-1df60f9592ce"
      },
      "outputs": [
        {
          "output_type": "display_data",
          "data": {
            "text/html": [
              "\n",
              "  <style>\n",
              "    pre {\n",
              "        white-space: pre-wrap;\n",
              "    }\n",
              "  </style>\n",
              "  "
            ],
            "text/plain": [
              "<IPython.core.display.HTML object>"
            ]
          },
          "metadata": {}
        }
      ],
      "source": [
        "def cleantxt_wrap(ugly_text):\n",
        "    # a wrapper for clean text with options different than default\n",
        "\n",
        "    # https://pypi.org/project/clean-text/\n",
        "    cleaned_text = clean(\n",
        "        ugly_text,\n",
        "        fix_unicode=True,  # fix various unicode errors\n",
        "        to_ascii=True,  # transliterate to closest ASCII representation\n",
        "        lower=True,  # lowercase text\n",
        "        no_line_breaks=True,  # fully strip line breaks as opposed to only normalizing them\n",
        "        no_urls=True,  # replace all URLs with a special token\n",
        "        no_emails=True,  # replace all email addresses with a special token\n",
        "        no_phone_numbers=True,  # replace all phone numbers with a special token\n",
        "        no_numbers=False,  # replace all numbers with a special token\n",
        "        no_digits=False,  # replace all digits with a special token\n",
        "        no_currency_symbols=True,  # replace all currency symbols with a special token\n",
        "        no_punct=True,  # remove punctuations\n",
        "        replace_with_punct=\"\",  # instead of removing punctuations you may replace them\n",
        "        replace_with_url=\"<URL>\",\n",
        "        replace_with_email=\"<EMAIL>\",\n",
        "        replace_with_phone_number=\"<PHONE>\",\n",
        "        replace_with_number=\"<NUM>\",\n",
        "        replace_with_digit=\"0\",\n",
        "        replace_with_currency_symbol=\"<CUR>\",\n",
        "        lang=\"en\",  # set to 'de' for German special handling\n",
        "    )\n",
        "\n",
        "    return cleaned_text\n",
        "\n",
        "\n",
        "def beautify_filename(filename, num_words=20, start_reverse=False, word_separator=\"_\"):\n",
        "    # takes a filename stored as text, removes extension, separates into X words ...\n",
        "    # and returns a nice filename with the words separateed by\n",
        "    # useful for when you are reading files, doing things to them, and making new files\n",
        "\n",
        "    filename = str(filename)\n",
        "    index_file_Ext = filename.rfind(\".\")\n",
        "    current_name = str(filename)[:index_file_Ext]  # get rid of extension\n",
        "    if current_name[-1].isnumeric():\n",
        "        current_name = current_name + \"V2CT\"\n",
        "    clean_name = cleantxt_wrap(current_name)  # wrapper with custom defs\n",
        "    file_words = wordninja.split(clean_name)\n",
        "    # splits concatenated text into a list of words based on common word freq\n",
        "    if len(file_words) <= num_words:\n",
        "        num_words = len(file_words)\n",
        "\n",
        "    if start_reverse:\n",
        "        t_file_words = file_words[-num_words:]\n",
        "    else:\n",
        "        t_file_words = file_words[:num_words]\n",
        "\n",
        "    pretty_name = word_separator.join(t_file_words)  # see function argument\n",
        "\n",
        "    # NOTE IT DOES NOT RETURN THE EXTENSION\n",
        "    return pretty_name[\n",
        "        : (len(pretty_name) - 1)\n",
        "    ]  # there is a space always at the end, so -1"
      ]
    },
    {
      "cell_type": "code",
      "execution_count": 7,
      "metadata": {
        "id": "-BQmJNeb-5in",
        "colab": {
          "base_uri": "https://localhost:8080/",
          "height": 0
        },
        "outputId": "495f7215-e70f-48be-ba74-f8dfaf515d42"
      },
      "outputs": [
        {
          "output_type": "display_data",
          "data": {
            "text/html": [
              "\n",
              "  <style>\n",
              "    pre {\n",
              "        white-space: pre-wrap;\n",
              "    }\n",
              "  </style>\n",
              "  "
            ],
            "text/plain": [
              "<IPython.core.display.HTML object>"
            ]
          },
          "metadata": {}
        }
      ],
      "source": [
        "def fast_scandir(dirname):\n",
        "    # return all subfolders in a given filepath\n",
        "\n",
        "    subfolders = [f.path for f in os.scandir(dirname) if f.is_dir()]\n",
        "    for dirname in list(subfolders):\n",
        "        subfolders.extend(fast_scandir(dirname))\n",
        "    return subfolders  # list\n",
        "\n",
        "\n",
        "def create_folder(directory):\n",
        "    os.makedirs(directory, exist_ok=True)\n",
        "\n",
        "\n",
        "def chunks(lst, n):\n",
        "    \"\"\"Yield successive n-sized chunks from lst.\"\"\"\n",
        "    for i in range(0, len(lst), n):\n",
        "        yield lst[i : i + n]\n",
        "\n",
        "\n",
        "def chunky_pandas(my_df, num_chunks=4):\n",
        "    n = int(len(my_df) // num_chunks)\n",
        "    list_df = [my_df[i : i + n] for i in range(0, my_df.shape[0], n)]\n",
        "\n",
        "    return list_df"
      ]
    },
    {
      "cell_type": "code",
      "execution_count": 8,
      "metadata": {
        "id": "oWQYAWyo_RFq",
        "colab": {
          "base_uri": "https://localhost:8080/",
          "height": 0
        },
        "outputId": "46e52117-3a9d-42a7-e2b0-41bdc61f02aa"
      },
      "outputs": [
        {
          "output_type": "display_data",
          "data": {
            "text/html": [
              "\n",
              "  <style>\n",
              "    pre {\n",
              "        white-space: pre-wrap;\n",
              "    }\n",
              "  </style>\n",
              "  "
            ],
            "text/plain": [
              "<IPython.core.display.HTML object>"
            ]
          },
          "metadata": {}
        }
      ],
      "source": [
        "import os\n",
        "from os.path import basename\n",
        "from natsort import natsorted\n",
        "import pprint as pp\n",
        "\n",
        "\n",
        "def load_dir_files(directory, req_extension=\".txt\", return_type=\"list\", verbose=False):\n",
        "    appr_files = []\n",
        "    # r=root, d=directories, f = files\n",
        "    for r, d, f in os.walk(directory):\n",
        "        for prefile in f:\n",
        "            if prefile.endswith(req_extension):\n",
        "                fullpath = join(r, prefile)\n",
        "                appr_files.append(fullpath)\n",
        "\n",
        "    appr_files = natsorted(appr_files)\n",
        "\n",
        "    if verbose:\n",
        "        print(\"A list of files in the {} directory are: \\n\".format(directory))\n",
        "        if len(appr_files) < 10:\n",
        "            pp.pprint(appr_files)\n",
        "        else:\n",
        "            pp.pprint(appr_files[:10])\n",
        "            print(\"\\n and more. There are a total of {} files\".format(len(appr_files)))\n",
        "\n",
        "    if return_type.lower() == \"list\":\n",
        "        return appr_files\n",
        "    else:\n",
        "        if verbose:\n",
        "            print(\"returning dictionary\")\n",
        "\n",
        "        appr_file_dict = {}\n",
        "        for this_file in appr_files:\n",
        "            appr_file_dict[basename(this_file)] = this_file\n",
        "\n",
        "        return appr_file_dict"
      ]
    },
    {
      "cell_type": "markdown",
      "metadata": {
        "id": "glWI8J88XIt8"
      },
      "source": [
        "### time log"
      ]
    },
    {
      "cell_type": "code",
      "execution_count": 9,
      "metadata": {
        "id": "3vC3p0g-8R3K",
        "colab": {
          "base_uri": "https://localhost:8080/",
          "height": 0
        },
        "outputId": "5857eac6-f407-4e1e-f0bf-49f75947a47c"
      },
      "outputs": [
        {
          "output_type": "display_data",
          "data": {
            "text/html": [
              "\n",
              "  <style>\n",
              "    pre {\n",
              "        white-space: pre-wrap;\n",
              "    }\n",
              "  </style>\n",
              "  "
            ],
            "text/plain": [
              "<IPython.core.display.HTML object>"
            ]
          },
          "metadata": {}
        }
      ],
      "source": [
        "def get_timestamp(exact=False):\n",
        "    \"\"\"\n",
        "    get_timestamp - return a timestamp in the format YYYY-MM-DD_HH-MM-SS (exact=False)\n",
        "        or YYYY-MM-DD_HH-MM-SS-MS (exact=True)\n",
        "    exact : bool, optional, by default False,  if True, return a timestamp with seconds\n",
        "    \"\"\"\n",
        "    ts = (\n",
        "        datetime.now().strftime(\"%b-%d-%Y_-%H-%M-%S\")\n",
        "        if exact\n",
        "        else datetime.now().strftime(\"%b-%d-%Y_-%H\")\n",
        "    )\n",
        "    return ts\n"
      ]
    },
    {
      "cell_type": "markdown",
      "metadata": {
        "id": "mqtG5izgiOng"
      },
      "source": [
        "### download functions"
      ]
    },
    {
      "cell_type": "code",
      "execution_count": 10,
      "metadata": {
        "cellView": "form",
        "id": "l-obPW6BiRbb",
        "colab": {
          "base_uri": "https://localhost:8080/",
          "height": 0
        },
        "outputId": "dd45743f-84cb-41d0-b812-28e6bf572ac6"
      },
      "outputs": [
        {
          "output_type": "display_data",
          "data": {
            "text/html": [
              "\n",
              "  <style>\n",
              "    pre {\n",
              "        white-space: pre-wrap;\n",
              "    }\n",
              "  </style>\n",
              "  "
            ],
            "text/plain": [
              "<IPython.core.display.HTML object>"
            ]
          },
          "metadata": {}
        }
      ],
      "source": [
        "#@markdown define `download_single_file()` for downloading one media file of unknown type\n",
        "def download_single_file(file_url, verbose=False):\n",
        "    \"\"\"\n",
        "    download_single_file - Download a single file from a remote server. The file is saved in the current directory and the filename is the same as the remote file.\n",
        "\n",
        "    Parameters\n",
        "    ----------\n",
        "    file_url : str, required, default=None, the url of the file to download.\n",
        "    verbose : bool, optional, by default False\n",
        "\n",
        "    Returns\n",
        "    -------\n",
        "    str, the filename of the downloaded file.\n",
        "    \"\"\"\n",
        "\n",
        "\n",
        "    # get the file extension from the URL\n",
        "    _extension = file_url.split(\".\")[-1]\n",
        "    _extension = _extension.replace(\"?dl=1\", \"\")\n",
        "    print(f\"Found extension: {_extension}\")\n",
        "    # get the file name from the URL\n",
        "    file_name = file_url.split(\"/\")[-1]\n",
        "    file_name_ext = file_name.replace(\"?dl=1\", \"\") # remove the ?dl=1 parameter from the file name, relevant for dropbox links\n",
        "    # get the local file name\n",
        "    local_name = join(os.getcwd(), file_name_ext)\n",
        "    if os.path.exists(local_name):\n",
        "        if verbose:\n",
        "            print(f\"File {file_name_ext} already exists. Skipping download.\")\n",
        "        return local_name\n",
        "    if verbose:\n",
        "        print(\"Downloading file...\")\n",
        "    with open(local_name, \"wb\") as f:\n",
        "        f.write(requests.get(file_url).content)\n",
        "    if verbose:\n",
        "        print(\"Download complete.\")\n",
        "    return local_name"
      ]
    },
    {
      "cell_type": "code",
      "execution_count": 11,
      "metadata": {
        "cellView": "form",
        "id": "z4KE8dcNVg5b",
        "colab": {
          "base_uri": "https://localhost:8080/",
          "height": 0
        },
        "outputId": "66c18d17-cecd-4664-9ffc-6f39bc85b2f0"
      },
      "outputs": [
        {
          "output_type": "display_data",
          "data": {
            "text/html": [
              "\n",
              "  <style>\n",
              "    pre {\n",
              "        white-space: pre-wrap;\n",
              "    }\n",
              "  </style>\n",
              "  "
            ],
            "text/plain": [
              "<IPython.core.display.HTML object>"
            ]
          },
          "metadata": {}
        }
      ],
      "source": [
        "#@markdown colab download alias\n",
        "\n",
        "from google.colab import files\n",
        "\n",
        "download = files.download"
      ]
    },
    {
      "cell_type": "markdown",
      "metadata": {
        "id": "bjFiyKzZgM0j"
      },
      "source": [
        "## check hardware\n"
      ]
    },
    {
      "cell_type": "code",
      "execution_count": 12,
      "metadata": {
        "id": "_2Km3l-G3ngO",
        "colab": {
          "base_uri": "https://localhost:8080/",
          "height": 0
        },
        "outputId": "f3bce6ea-f69e-4e97-b7db-71c47d140034"
      },
      "outputs": [
        {
          "output_type": "display_data",
          "data": {
            "text/html": [
              "\n",
              "  <style>\n",
              "    pre {\n",
              "        white-space: pre-wrap;\n",
              "    }\n",
              "  </style>\n",
              "  "
            ],
            "text/plain": [
              "<IPython.core.display.HTML object>"
            ]
          },
          "metadata": {}
        }
      ],
      "source": [
        "def gpu_mem_total():\n",
        "    # Returns the total memory of the first available GPU\n",
        "    try:\n",
        "        gpus = GPUtil.getGPUs()\n",
        "    except:\n",
        "        LOGGER.warning(\n",
        "            \"Unable to detect GPU model. Is your GPU configured? Is Colab Runtime set to GPU?\"\n",
        "        )\n",
        "        return np.nan\n",
        "    if len(gpus) == 0:\n",
        "        raise ValueError(\"No GPUs detected in the system\")\n",
        "    return gpus[0].memoryTotal"
      ]
    },
    {
      "cell_type": "markdown",
      "metadata": {
        "id": "lgxosi5s3ocK"
      },
      "source": [
        "checks and resets"
      ]
    },
    {
      "cell_type": "code",
      "execution_count": 13,
      "metadata": {
        "id": "4xm8WRBxgK5t",
        "colab": {
          "base_uri": "https://localhost:8080/",
          "height": 0
        },
        "outputId": "b24bf212-6190-4f10-d476-84987896e35b"
      },
      "outputs": [
        {
          "output_type": "display_data",
          "data": {
            "text/html": [
              "\n",
              "  <style>\n",
              "    pre {\n",
              "        white-space: pre-wrap;\n",
              "    }\n",
              "  </style>\n",
              "  "
            ],
            "text/plain": [
              "<IPython.core.display.HTML object>"
            ]
          },
          "metadata": {}
        },
        {
          "output_type": "stream",
          "name": "stdout",
          "text": [
            "loaded all hardware functions at:  2022-02-24 00:27:01.243237\n"
          ]
        }
      ],
      "source": [
        "def clear_GPU_cache(verbose=False):\n",
        "\n",
        "    GPUs = GPU.getGPUs()\n",
        "\n",
        "    if len(GPUs) > 0:\n",
        "        check_runhardware_torch()\n",
        "        torch.cuda.empty_cache()\n",
        "        print(\"\\nchecked and cleared cache\")\n",
        "    else:\n",
        "        print(\"\\nNo GPU being used :( time = \", datetime.now())\n",
        "    if verbose:\n",
        "        print(\"-----------End of Cache Clear----------------\")\n",
        "\n",
        "\n",
        "print(\"loaded all hardware functions at: \", datetime.now())\n",
        "\n",
        "\n",
        "def check_runhardware_torch(verbose=False):\n",
        "    # https://www.run.ai/guides/gpu-deep-learning/pytorch-gpu/\n",
        "\n",
        "    GPUs = GPU.getGPUs()\n",
        "\n",
        "    if len(GPUs) > 0:\n",
        "        if verbose:\n",
        "            print(\"\\n ------------------------------\")\n",
        "            print(\"Checking CUDA status for PyTorch\")\n",
        "\n",
        "        torch.cuda.init()\n",
        "\n",
        "        print(\"Cuda availability (PyTorch): \", torch.cuda.is_available())\n",
        "\n",
        "        # Get Id of default device\n",
        "        torch.cuda.current_device()\n",
        "        if verbose:\n",
        "            print(\n",
        "                \"Name of GPU: \", torch.cuda.get_device_name(device=0)\n",
        "            )  # '0' is the id of your GPU\n",
        "            print(\"------------------------------\\n\")\n",
        "        return True\n",
        "\n",
        "    else:\n",
        "        print(\"No GPU being used :(\")\n",
        "        return False\n",
        "\n",
        "\n",
        "def torch_validate_cuda(verbose=False):\n",
        "    GPUs = GPU.getGPUs()\n",
        "    num_gpus = len(GPUs)\n",
        "    try:\n",
        "        torch.cuda.init()\n",
        "        if not torch.cuda.is_available():\n",
        "            print(\n",
        "                \"WARNING - CUDA is not being used in processing - expect longer runtime\"\n",
        "            )\n",
        "            if verbose:\n",
        "                print(\"GPU util detects {} GPUs on your system\".format(num_gpus))\n",
        "    except:\n",
        "        print(\n",
        "            \"WARNING - unable to start CUDA. If you wanted to use a GPU, exit and check hardware.\"\n",
        "        )\n",
        "\n",
        "\n",
        "def check_runhardware(verbose=False):\n",
        "    # ML package agnostic hardware check\n",
        "    GPUs = GPU.getGPUs()\n",
        "\n",
        "    if verbose:\n",
        "        print(\"\\n ------------------------------\")\n",
        "        print(\"Checking hardware with psutil\")\n",
        "    try:\n",
        "        gpu = GPUs[0]\n",
        "    except:\n",
        "        if verbose:\n",
        "            print(\"GPU not available - \", datetime.now())\n",
        "        gpu = None\n",
        "    process = psutil.Process(os.getpid())\n",
        "\n",
        "    CPU_load = psutil.cpu_percent()\n",
        "    if CPU_load > 0:\n",
        "        cpu_load_string = \"loaded at {} % |\".format(CPU_load)\n",
        "    else:\n",
        "        # the first time process.cpu_percent() is called it returns 0 which can be confusing\n",
        "        cpu_load_string = \"|\"\n",
        "    print(\n",
        "        \"\\nGen RAM Free: \" + humanize.naturalsize(psutil.virtual_memory().available),\n",
        "        \" | Proc size: \" + humanize.naturalsize(process.memory_info().rss),\n",
        "        \" | {} CPUs \".format(psutil.cpu_count()),\n",
        "        cpu_load_string,\n",
        "    )\n",
        "\n",
        "    if len(GPUs) > 0 and GPUs is not None:\n",
        "        print(\n",
        "            \"GPU RAM Free: {0:.0f}MB | Used: {1:.0f}MB | Util {2:3.0f}% | Total {3:.0f}MB\\n\".format(\n",
        "                gpu.memoryFree, gpu.memoryUsed, gpu.memoryUtil * 100, gpu.memoryTotal\n",
        "            )\n",
        "        )\n",
        "    else:\n",
        "        print(\"No GPU being used :(\", \"\\n-----------------\\n\")\n",
        "\n",
        "\n",
        "def only_clear_GPU_cache(verbose=False):\n",
        "\n",
        "    GPUs = GPU.getGPUs()\n",
        "\n",
        "    if len(GPUs) > 0:\n",
        "        torch.cuda.empty_cache()\n",
        "        if verbose:\n",
        "            print(\"\\nchecked and cleared cache\")\n",
        "    else:\n",
        "        print(\"\\nClearCache - No GPU being used :( time = \", datetime.now())\n",
        "\n",
        "\n"
      ]
    },
    {
      "cell_type": "markdown",
      "metadata": {
        "id": "msVwVwC9aY1C"
      },
      "source": [
        "## spell correction"
      ]
    },
    {
      "cell_type": "markdown",
      "metadata": {
        "id": "jnenTXRW8fs-"
      },
      "source": [
        "symspell is defined for backup purposes. It is faster than neuspell and decently accurate. It does not do grammar though."
      ]
    },
    {
      "cell_type": "code",
      "execution_count": 14,
      "metadata": {
        "id": "GYIg5oMlaau2",
        "colab": {
          "base_uri": "https://localhost:8080/",
          "height": 0
        },
        "outputId": "13fe00f7-47ca-433a-cca8-b1d8c31142f6"
      },
      "outputs": [
        {
          "output_type": "display_data",
          "data": {
            "text/html": [
              "\n",
              "  <style>\n",
              "    pre {\n",
              "        white-space: pre-wrap;\n",
              "    }\n",
              "  </style>\n",
              "  "
            ],
            "text/plain": [
              "<IPython.core.display.HTML object>"
            ]
          },
          "metadata": {}
        }
      ],
      "source": [
        "%%capture\n",
        "\n",
        "def symspell_file(filepath, filename, dist=2, keep_numb_words=True, create_folder=True, save_metrics=False,\n",
        "                  verbose=False):\n",
        "    # given a text (has to be text) file, reads the file, autocorrects any words it deems misspelled, saves as new file\n",
        "    # it can store the new file in a sub-folder it creates as needed\n",
        "    # distance represents how far it searches for a better spelling. higher dist = higher RT.\n",
        "    # https://github.com/mammothb/symspellpy\n",
        "\n",
        "    script_start_time = time.time()\n",
        "    sym_spell = SymSpell(max_dictionary_edit_distance=dist, prefix_length=7)\n",
        "    print(\"\\nPySymSpell - Starting to correct the file: \", filename)\n",
        "    # ------------------------------------\n",
        "\n",
        "    dictionary_path = pkg_resources.resource_filename(\n",
        "        \"symspellpy\", \"frequency_dictionary_en_82_765.txt\")\n",
        "    bigram_path = pkg_resources.resource_filename(\n",
        "        \"symspellpy\", \"frequency_bigramdictionary_en_243_342.txt\")\n",
        "    # term_index is the column of the term and count_index is the\n",
        "    # column of the term frequency\n",
        "    sym_spell.load_dictionary(dictionary_path, term_index=0, count_index=1)\n",
        "    sym_spell.load_bigram_dictionary(bigram_path, term_index=0, count_index=2)\n",
        "\n",
        "    # ------------------------------------\n",
        "    file = open(join(filepath, filename), 'r', encoding=\"utf-8\", errors='ignore')\n",
        "    textlines = file.readlines()  # return a list\n",
        "    file.close()\n",
        "\n",
        "    if create_folder:\n",
        "        # create a folder\n",
        "        output_folder_name = \"auto-corrected\" \n",
        "        if not os.path.isdir(join(filepath, output_folder_name)):\n",
        "            os.mkdir(join(filepath, output_folder_name))  # make a place to store outputs if one does not exist\n",
        "        filepath = join(filepath, output_folder_name)\n",
        "\n",
        "    if verbose:\n",
        "        print(\"loaded text with {0:6d} lines \".format(len(textlines)))\n",
        "\n",
        "    corrected_list = []\n",
        "\n",
        "    # iterate through list of lines. Pass each line to be corrected. \n",
        "    #Append / sum results from each line till done\n",
        "    for line in textlines:\n",
        "        if line == \"\":\n",
        "            # blank line, skip to next run\n",
        "            continue\n",
        "\n",
        "        # correct the line of text using spellcorrect_line() which returns a dictionary\n",
        "        suggestions = sym_spell.lookup_compound(phrase=line, max_edit_distance=dist, \n",
        "                                                ignore_non_words=keep_numb_words,\n",
        "                                                ignore_term_with_digits=keep_numb_words)\n",
        "        all_sugg_for_line = []\n",
        "        for suggestion in suggestions:\n",
        "            all_sugg_for_line.append(suggestion.term)\n",
        "\n",
        "        # append / sum / log results from correcting the line\n",
        "\n",
        "        corrected_list.append(' '.join(all_sugg_for_line) + \"\\n\")\n",
        "\n",
        "    # finished iterating through lines. Now sum total metrics\n",
        "\n",
        "    corrected_doc = \"\".join(corrected_list)\n",
        "    corrected_fname = \"Corrected_SSP_\" + beautify_filename(filename, \n",
        "                                                           num_words=10, start_reverse=False) + \".txt\"\n",
        "\n",
        "    # proceed to saving\n",
        "    file_out = open(join(filepath, corrected_fname), 'w',\n",
        "                    encoding=\"utf-8\", errors='ignore')\n",
        "    file_out.writelines(corrected_doc)\n",
        "    file_out.close()\n",
        "\n",
        "    # report RT\n",
        "    if verbose:\n",
        "        script_rt_m = (time.time() - script_start_time) / 60\n",
        "        print(\"RT for this file was {0:5f} minutes\".format(script_rt_m))\n",
        "        print(\"output folder for this transcription is: \\n\", \n",
        "              filepath)\n",
        "\n",
        "    print(\"Done correcting \", filename, \" at time: \", \n",
        "          datetime.now().strftime(\"%H:%M:%S\"), \"\\n\")\n",
        "\n",
        "    corr_file_Data = {\n",
        "        \"corrected_ssp_text\": corrected_doc,\n",
        "        \"corrected_ssp_fname\": corrected_fname,\n",
        "        \"output_path\": filepath,\n",
        "    }\n",
        "    return corr_file_Data\n",
        "\n",
        "\n",
        "# preload defaults\n",
        "sym_spell = SymSpell(max_dictionary_edit_distance=3, prefix_length=7)\n",
        "\n",
        "dictionary_path = pkg_resources.resource_filename(\n",
        "        \"symspellpy\", \"frequency_dictionary_en_82_765.txt\")\n",
        "bigram_path = pkg_resources.resource_filename(\n",
        "        \"symspellpy\", \"frequency_bigramdictionary_en_243_342.txt\")\n",
        "# term_index is the column of the term and count_index is the\n",
        "# column of the term frequency\n",
        "sym_spell.load_dictionary(dictionary_path, term_index=0, count_index=1)\n",
        "sym_spell.load_bigram_dictionary(bigram_path, term_index=0, count_index=2)\n",
        "\n",
        "print(\"loaded defaults - \", datetime.now())\n",
        "\n",
        "def symspell_freetext(textlines, dist=3, keep_numb_words=True, verbose=False,\n",
        "                      d_path=dictionary_path, b_path=bigram_path, default=sym_spell):\n",
        "    # https://github.com/mammothb/symspellpy\n",
        "\n",
        "    if dist != 3:\n",
        "\n",
        "        # have to recreate object each time because doesn't match pre-built\n",
        "\n",
        "        sym_spell = SymSpell(max_dictionary_edit_distance=dist, prefix_length=7)\n",
        "        sym_spell.load_dictionary(d_path, term_index=0, count_index=1)\n",
        "        sym_spell.load_bigram_dictionary(b_path, term_index=0, count_index=2)\n",
        "    else:\n",
        "        sym_spell=default\n",
        "\n",
        "    corrected_list = []\n",
        "\n",
        "    if type(textlines) == str:\n",
        "        textlines = [textlines] # put in a list if a string\n",
        "\n",
        "    if verbose:\n",
        "        print(\"\\nStarting to correct text with {0:6d} lines \".format(len(textlines)))\n",
        "        print(\"the type of textlines var is \",type(textlines))\n",
        "\n",
        "    # iterate through list of lines. Pass each line to be corrected. Append / sum results from each line till done\n",
        "    for line_obj in textlines:\n",
        "        line = ''.join(line_obj) \n",
        "        if verbose:\n",
        "            print(\"line {} in the text is: \".format(textlines.index(line_obj)))\n",
        "            pp.pprint(line) \n",
        "        if line == \"\":\n",
        "            # blank line, skip to next run\n",
        "            continue\n",
        "\n",
        "        suggestions = sym_spell.lookup_compound(phrase=line, max_edit_distance=dist, \n",
        "                                                ignore_non_words=keep_numb_words,\n",
        "                                                ignore_term_with_digits=keep_numb_words)\n",
        "        all_sugg_for_line = []\n",
        "        for suggestion in suggestions:\n",
        "            all_sugg_for_line.append(suggestion.term)\n",
        "\n",
        "        # append / sum / log results from correcting the line\n",
        "\n",
        "        corrected_list.append(' '.join(all_sugg_for_line) + \"\\n\")\n",
        "\n",
        "    # join corrected text\n",
        "\n",
        "    corrected_text = \"\".join(corrected_list)\n",
        "\n",
        "    if verbose:\n",
        "        print(\"Finished correcting w/ symspell at time: \", datetime.now(), \"\\n\")\n",
        "\n",
        "    return corrected_text\n",
        "\n"
      ]
    },
    {
      "cell_type": "markdown",
      "metadata": {
        "id": "u1oEeuGu8V9X"
      },
      "source": [
        "neuspell\n",
        "\n",
        "- a better spellchecker (but more intensive)"
      ]
    },
    {
      "cell_type": "code",
      "execution_count": 15,
      "metadata": {
        "id": "OlEcmCfw8Lol",
        "colab": {
          "base_uri": "https://localhost:8080/",
          "height": 0
        },
        "outputId": "c2ec1fe9-78ce-464e-d9b9-7809c45750ef"
      },
      "outputs": [
        {
          "output_type": "display_data",
          "data": {
            "text/html": [
              "\n",
              "  <style>\n",
              "    pre {\n",
              "        white-space: pre-wrap;\n",
              "    }\n",
              "  </style>\n",
              "  "
            ],
            "text/plain": [
              "<IPython.core.display.HTML object>"
            ]
          },
          "metadata": {}
        },
        {
          "output_type": "stream",
          "name": "stderr",
          "text": [
            "Some weights of the model checkpoint at bert-base-cased were not used when initializing BertModel: ['cls.seq_relationship.bias', 'cls.predictions.transform.LayerNorm.bias', 'cls.predictions.decoder.weight', 'cls.predictions.transform.dense.bias', 'cls.predictions.transform.dense.weight', 'cls.predictions.transform.LayerNorm.weight', 'cls.predictions.bias', 'cls.seq_relationship.weight']\n",
            "- This IS expected if you are initializing BertModel from the checkpoint of a model trained on another task or with another architecture (e.g. initializing a BertForSequenceClassification model from a BertForPreTraining model).\n",
            "- This IS NOT expected if you are initializing BertModel from the checkpoint of a model that you expect to be exactly identical (initializing a BertForSequenceClassification model from a BertForSequenceClassification model).\n"
          ]
        }
      ],
      "source": [
        "%%capture\n",
        "# START OF NEUSPELL\n",
        "\n",
        "try:\n",
        "    checker = neuspell.BertChecker()\n",
        "    checker.from_pretrained()\n",
        "    use_base = False\n",
        "except Exception as e:\n",
        "    print(\"Note: failed to initialize Neuspell. Will use SymSpell backup.\")\n",
        "    print(f\"Error causing Neuspell failure is:\\n{e}\")\n",
        "    use_base = True\n",
        "\n",
        "\n",
        "def neuspell_freetext(textlines, verbose=False):\n",
        "\n",
        "    corrected_list = []\n",
        "\n",
        "    if type(textlines) == str:\n",
        "        textlines = [textlines]  # put in a list if a string\n",
        "\n",
        "    # iterate through list of lines. Pass each line to be corrected. Append / sum results from each line till done\n",
        "    for line_obj in textlines:\n",
        "        line = \"\".join(line_obj)\n",
        "\n",
        "        if verbose:\n",
        "            print(\"line {} in the text is: \".format(textlines.index(line_obj)))\n",
        "            pp.pprint(line)\n",
        "        if line == \"\" or (len(line) <= 5):\n",
        "            # blank line, skip to next run\n",
        "            continue\n",
        "\n",
        "        line = line.lower()\n",
        "        corrected_text = checker.correct_strings([line])\n",
        "        corrected_text_f = \" \".join(corrected_text)\n",
        "\n",
        "        corrected_list.append(corrected_text_f + \"\\n\")\n",
        "\n",
        "    # join corrected text\n",
        "\n",
        "    corrected_text = \" \".join(corrected_list)\n",
        "\n",
        "    if verbose:\n",
        "        print(\"Finished correcting w/ neuspell at time: \", datetime.now(), \"\\n\")\n",
        "\n",
        "    return corrected_text"
      ]
    },
    {
      "cell_type": "markdown",
      "metadata": {
        "id": "jOOdismL8TWd"
      },
      "source": [
        "sentence boundary disambiguation"
      ]
    },
    {
      "cell_type": "code",
      "execution_count": 16,
      "metadata": {
        "id": "dDlWwLD18MHo",
        "colab": {
          "base_uri": "https://localhost:8080/",
          "height": 0
        },
        "outputId": "6cc8bffd-d647-44be-a765-de59e025e6d2"
      },
      "outputs": [
        {
          "output_type": "display_data",
          "data": {
            "text/html": [
              "\n",
              "  <style>\n",
              "    pre {\n",
              "        white-space: pre-wrap;\n",
              "    }\n",
              "  </style>\n",
              "  "
            ],
            "text/plain": [
              "<IPython.core.display.HTML object>"
            ]
          },
          "metadata": {}
        }
      ],
      "source": [
        "def SBD_freetext(text, verbose=False):\n",
        "    # input should be STRING\n",
        "    # use pysbd to segment\n",
        "\n",
        "    if isinstance(text, list):\n",
        "        print(\n",
        "            \"Warning, input ~text~ has type {}. Will convert to str\".format(type(text))\n",
        "        )\n",
        "        text = \" \".join(text)\n",
        "\n",
        "    seg = pysbd.Segmenter(language=\"en\", clean=True)\n",
        "    sentences = []\n",
        "    sentences = seg.segment(text)\n",
        "\n",
        "    if verbose:\n",
        "        print(\n",
        "            \"input text of {} words was split into \".format(len(text.split(\" \"))),\n",
        "            len(sentences),\n",
        "            \"sentences\",\n",
        "        )\n",
        "\n",
        "    # take segments and make them sentences\n",
        "\n",
        "    capitalized = []\n",
        "    for sentence in sentences:\n",
        "        if sentence and sentence.strip():\n",
        "            # ensure that the line is not all spaces\n",
        "            first_letter = sentence[0].upper()\n",
        "            rest = sentence[1:]\n",
        "            capitalized.append(first_letter + rest)\n",
        "\n",
        "    seg_and_capital = \". \".join(capitalized)\n",
        "\n",
        "    return seg_and_capital"
      ]
    },
    {
      "cell_type": "markdown",
      "metadata": {
        "id": "QeNIcsUbifDn"
      },
      "source": [
        "### pipeline"
      ]
    },
    {
      "cell_type": "code",
      "execution_count": 17,
      "metadata": {
        "id": "kmvV2gFMieUw",
        "colab": {
          "base_uri": "https://localhost:8080/",
          "height": 0
        },
        "outputId": "f80bfb84-a95e-4ce0-d27e-fd1e5556dec0"
      },
      "outputs": [
        {
          "output_type": "display_data",
          "data": {
            "text/html": [
              "\n",
              "  <style>\n",
              "    pre {\n",
              "        white-space: pre-wrap;\n",
              "    }\n",
              "  </style>\n",
              "  "
            ],
            "text/plain": [
              "<IPython.core.display.HTML object>"
            ]
          },
          "metadata": {}
        }
      ],
      "source": [
        "def spellcorrect_pipeline(filepath, filename, verbose=False, \n",
        "                          basic_sc=False):\n",
        "    # uses two functions (neuspell_freetext, SBD_freetext)\n",
        "    # in a pipeline\n",
        "    _input = join(filepath, filename)\n",
        "    with open(_input, \"r\", encoding=\"utf-8\", errors=\"ignore\") as fi:\n",
        "        textlines = fi.readlines()  # return a list\n",
        "    textlines = [line.lower() for line in textlines]\n",
        "\n",
        "    if basic_sc:\n",
        "        sc_textlines = symspell_freetext(textlines, verbose=verbose)\n",
        "    else:\n",
        "        sc_textlines = neuspell_freetext(textlines, verbose=verbose)\n",
        "\n",
        "    loc_SC = \"spell_corrected\"\n",
        "    if not os.path.isdir(join(filepath, loc_SC)):\n",
        "        os.mkdir(\n",
        "            join(filepath, loc_SC)\n",
        "        )  # make a place to store outputs if one does not exist\n",
        "\n",
        "    sc_outname = (\n",
        "        \"NSC_\" + beautify_filename(filename, num_words=15, start_reverse=False) + \".txt\"\n",
        "    )\n",
        "\n",
        "    file_sc = open(\n",
        "        join(filepath, loc_SC, sc_outname), \"w\", encoding=\"utf-8\", errors=\"replace\"\n",
        "    )\n",
        "    file_sc.writelines(sc_textlines)\n",
        "    file_sc.close()\n",
        "    quick_sc_fixes = {\n",
        "        \" ' \": \"'\",\n",
        "    }\n",
        "    if isinstance(sc_textlines, list):\n",
        "        SBD_sc_textlines = []\n",
        "        for line in sc_textlines:\n",
        "            if isinstance(line, list):\n",
        "                # handles weird corner cases\n",
        "                line = \" \".join(line)\n",
        "\n",
        "            sentenced = SBD_freetext(line, verbose=verbose)\n",
        "            for key, value in quick_sc_fixes.items():\n",
        "\n",
        "                sentenced = sentenced.replace(key, value)\n",
        "\n",
        "            SBD_sc_textlines.append(sentenced)\n",
        "    else:\n",
        "        SBD_sc_textlines = SBD_freetext(sc_textlines, verbose=verbose)\n",
        "\n",
        "        for key, value in quick_sc_fixes.items():\n",
        "\n",
        "            SBD_sc_textlines = SBD_sc_textlines.replace(key, value)\n",
        "\n",
        "    # SBD_text = \" \".join(SBD_sc_textlines)\n",
        "\n",
        "    loc_SBD = \"FULLY_COMPLETE\"\n",
        "    if not os.path.isdir(join(filepath, loc_SBD)):\n",
        "        os.mkdir(\n",
        "            join(filepath, loc_SBD)\n",
        "        )  # make a place to store outputs if one does not exist\n",
        "\n",
        "    SBD_outname = (\n",
        "        \"FIN_\" + beautify_filename(filename, num_words=15, start_reverse=False) + \".txt\"\n",
        "    )\n",
        "    ncsbd_path = join(filepath, loc_SBD, SBD_outname)\n",
        "    file_sc = open(ncsbd_path, \"w\", encoding=\"utf-8\", errors=\"replace\")\n",
        "    file_sc.writelines(SBD_sc_textlines)\n",
        "    file_sc.close()\n",
        "    pipelineout = {\n",
        "        \"original_transcript_text\": \" \".join(textlines),\n",
        "        \"spellcorrected_text\": \" \".join(sc_textlines),\n",
        "        \"final_text\": \" \".join(SBD_sc_textlines),\n",
        "        \"spell_corrected_dir\": join(filepath, loc_SC),\n",
        "        \"sc_filename\": sc_outname,\n",
        "        \"SBD_dir\": join(filepath, loc_SBD),\n",
        "        \"SBD_filename\": SBD_outname,\n",
        "    }\n",
        "\n",
        "    return pipelineout"
      ]
    },
    {
      "cell_type": "code",
      "execution_count": 18,
      "metadata": {
        "id": "u-8DHqFG8HVZ",
        "colab": {
          "base_uri": "https://localhost:8080/",
          "height": 0
        },
        "outputId": "7e2bbedd-1c59-4cbb-945d-5cd08476658a"
      },
      "outputs": [
        {
          "output_type": "display_data",
          "data": {
            "text/html": [
              "\n",
              "  <style>\n",
              "    pre {\n",
              "        white-space: pre-wrap;\n",
              "    }\n",
              "  </style>\n",
              "  "
            ],
            "text/plain": [
              "<IPython.core.display.HTML object>"
            ]
          },
          "metadata": {}
        },
        {
          "output_type": "stream",
          "name": "stdout",
          "text": [
            "loaded all spell correction functions at:  2022-02-24 00:27:20.794094\n"
          ]
        }
      ],
      "source": [
        "print(\"loaded all spell correction functions at: \", datetime.now())"
      ]
    },
    {
      "cell_type": "markdown",
      "metadata": {
        "id": "X-ZxcOJeCB6I"
      },
      "source": [
        "## vid2cleantext specific\n",
        "\n",
        "things that are more or less unique to video conversion / audio transcription."
      ]
    },
    {
      "cell_type": "markdown",
      "metadata": {
        "id": "DHiS5c94_VCB"
      },
      "source": [
        "### convert media"
      ]
    },
    {
      "cell_type": "code",
      "execution_count": 19,
      "metadata": {
        "cellView": "form",
        "id": "lOmw4BYZ7ehH",
        "colab": {
          "base_uri": "https://localhost:8080/",
          "height": 0
        },
        "outputId": "7939524d-b162-48b8-f15c-51905ce8cb2d"
      },
      "outputs": [
        {
          "output_type": "display_data",
          "data": {
            "text/html": [
              "\n",
              "  <style>\n",
              "    pre {\n",
              "        white-space: pre-wrap;\n",
              "    }\n",
              "  </style>\n",
              "  "
            ],
            "text/plain": [
              "<IPython.core.display.HTML object>"
            ]
          },
          "metadata": {}
        }
      ],
      "source": [
        "!pip install -U -q pydub\n",
        "from natsort import natsorted\n",
        "from pydub import AudioSegment\n",
        "\n",
        "#@title new function `prep_transc_pydub`\n",
        "def prep_transc_pydub(\n",
        "    _vid2beconv,\n",
        "    in_dir,\n",
        "    out_dir,\n",
        "    len_chunks=15,\n",
        "    verbose=False,\n",
        "):\n",
        "    \"\"\"\n",
        "    prep_transc_pydub - prepares audio files for transcription using pydub\n",
        "\n",
        "    Parameters\n",
        "    ----------\n",
        "    _vid2beconv : str, the name of the video file to be converted\n",
        "    in_dir : str or Path, the path to the video file directory\n",
        "    out_dir : str or Path, the path to the output audio file directory\n",
        "    len_chunks : int, optional, by default 15, the length of the audio chunks in seconds\n",
        "    verbose : bool, optional, by default False\n",
        "        [description], by default False\n",
        "\n",
        "    Returns\n",
        "    -------\n",
        "    list, the list of audio filepaths created\n",
        "    \"\"\"\n",
        "\n",
        "    load_path = join(in_dir, _vid2beconv) if in_dir is not None else _vid2beconv\n",
        "    vid_audio = AudioSegment.from_file(load_path)\n",
        "    sound = AudioSegment.set_channels(vid_audio, 1)\n",
        "\n",
        "    create_folder(out_dir)  # create the output directory if it doesn't exist\n",
        "    dur_seconds = len(sound) / 1000\n",
        "    n_chunks = math.ceil(dur_seconds / len_chunks)  # to get in minutes, round up\n",
        "    preamble = shorten_title(_vid2beconv)\n",
        "    chunk_fnames = []\n",
        "    # split sound in 5-second slices and export\n",
        "    slicer = 1000 * len_chunks  # in milliseconds\n",
        "    st = time.perf_counter()\n",
        "    for i, chunk in enumerate(sound[::slicer]):\n",
        "        chunk_name = f\"{preamble}_clipaudio_{i}.wav\"\n",
        "        with open(join(out_dir, chunk_name), \"wb\") as f:\n",
        "            chunk.export(f, format=\"wav\")\n",
        "        chunk_fnames.append(chunk_name)\n",
        "    rt = round(time.perf_counter() -st, 5)\n",
        "    print(f\"\\ncreated audio chunks in {rt} seconds - {get_timestamp()}\")\n",
        "    if verbose:\n",
        "        print(f\" files saved to {out_dir}\")\n",
        "\n",
        "    return natsorted(chunk_fnames)\n"
      ]
    },
    {
      "cell_type": "markdown",
      "metadata": {
        "id": "-BjICySo_SKd"
      },
      "source": [
        "### transcribe (main)"
      ]
    },
    {
      "cell_type": "code",
      "execution_count": 20,
      "metadata": {
        "id": "0OsO-NNt_Qea",
        "colab": {
          "base_uri": "https://localhost:8080/",
          "height": 0
        },
        "outputId": "a04f7daf-60f6-4f32-e865-05001ecdaceb"
      },
      "outputs": [
        {
          "output_type": "display_data",
          "data": {
            "text/html": [
              "\n",
              "  <style>\n",
              "    pre {\n",
              "        white-space: pre-wrap;\n",
              "    }\n",
              "  </style>\n",
              "  "
            ],
            "text/plain": [
              "<IPython.core.display.HTML object>"
            ]
          },
          "metadata": {}
        }
      ],
      "source": [
        "import warnings \n",
        "warnings.filterwarnings(\"ignore\", message=\"It is strongly recommended to pass the\")\n",
        "import transformers\n",
        "transformers.utils.logging.set_verbosity(40)\n",
        "def transcribe_wav2vec(\n",
        "    transcription_model, directory, vid_clip_name, \n",
        "    chunk_length_seconds, verbose=False\n",
        "):\n",
        "    # this is the same process as used in the single video transcription, now as a function. Note that spell correction\n",
        "    # and keyword extraction are now done separately in the script\n",
        "    # user needs to pass in: the model, the folder the video is in, and the name of the video\n",
        "    output_path_full = directory\n",
        "\n",
        "    # Split Video into Audio Chunks-----------------------------------------------\n",
        "\n",
        "    print(\"Starting file: \", vid_clip_name)\n",
        "\n",
        "    # create audio chunk folder\n",
        "    output_folder_name = \"audio_chunks\"\n",
        "    path2audiochunks = join(directory, output_folder_name)\n",
        "    os.makedirs(path2audiochunks, exist_ok=True)\n",
        "    chunk_directory = prep_transc_pydub(    \n",
        "                                        vid_clip_name,\n",
        "                                        in_dir=directory,\n",
        "                                        out_dir=path2audiochunks,\n",
        "                                        len_chunks=chunk_length_seconds,\n",
        "                                        verbose=verbose,\n",
        "                                    )\n",
        "   \n",
        "\n",
        "    if verbose:\n",
        "        print(\n",
        "            \"converted video to audio. About to start transcription loop for file: \",\n",
        "            vid_clip_name,\n",
        "        )\n",
        "    torch_validate_cuda()\n",
        "    check_runhardware()\n",
        "    full_transcription = []\n",
        "    before_loop_st = time.time()\n",
        "    GPU_update_incr = math.ceil(len(chunk_directory) / 2)\n",
        "    _need_update = True\n",
        "    # Load audio chunks by name, pass into model, append output text-----------------------------------------------\n",
        "\n",
        "    for audio_chunk in tqdm(\n",
        "        chunk_directory,\n",
        "        total=len(chunk_directory),\n",
        "        desc= f\"transcribing {shorten_title(vid_clip_name)}:\\t\",\n",
        "    ):\n",
        "\n",
        "\n",
        "        current_loc = chunk_directory.index(audio_chunk)\n",
        "\n",
        "        if (current_loc % GPU_update_incr == 0) and (GPU_update_incr != 0) and _need_update:\n",
        "            # provide update on GPU usage\n",
        "            check_runhardware()\n",
        "            _need_update = False\n",
        "\n",
        "        # load dat chunk\n",
        "        audio_input, rate = librosa.load(\n",
        "                                        join(path2audiochunks,\n",
        "                                            audio_chunk),\n",
        "                                        sr=16000\n",
        "                                    )\n",
        "        # MODEL\n",
        "        device = \"cuda:0\" if torch.cuda.is_available() else \"cpu\"\n",
        "        input_values = tokenizer(\n",
        "                    audio_input, return_tensors=\"pt\", padding=\"longest\", \n",
        "                ).input_values.to(\n",
        "                    device\n",
        "            )\n",
        "        transcription_model = transcription_model.to(device)\n",
        "        logits = transcription_model(input_values).logits\n",
        "        predicted_ids = torch.argmax(logits, dim=-1)\n",
        "        transcription = str(tokenizer.batch_decode(predicted_ids)[0])\n",
        "        full_transcription.append(transcription + \"\\n\")\n",
        "        # empty memory so you don't overload the GPU\n",
        "        del input_values, logits, predicted_ids, audio_input\n",
        "        torch.cuda.empty_cache()\n",
        "\n",
        "    if verbose:\n",
        "        print(\"\\nFinished transc. of {}, saving metrics \".format(vid_clip_name))\n",
        "\n",
        "    # build metadata log -------------------------------------------------\n",
        "    mdata = []\n",
        "    mdata.append(\"original file name: \" + vid_clip_name + \"\\n\")\n",
        "    mdata.append(\n",
        "        \"number of recorded audio chunks: \"\n",
        "        + str(len(chunk_directory))\n",
        "        + \" of lengths seconds each\"\n",
        "        + str(chunk_length_seconds)\n",
        "        + \"\\n\"\n",
        "    )\n",
        "    approx_input_len = (len(chunk_directory) * chunk_length_seconds) / 60\n",
        "    mdata.append(\n",
        "        \"approx {0:3f}\".format(approx_input_len) + \" minutes of input audio \\n\"\n",
        "    )\n",
        "    mdata.append(\n",
        "        \"transcription date: \"\n",
        "        + datetime.now().strftime(\"date_%d_%m_%Y_time_%H-%M-%S\")\n",
        "        + \"\\n\"\n",
        "    )\n",
        "    full_text = \" \".join(full_transcription)\n",
        "    transcript_length = len(full_text)\n",
        "    mdata.append(\n",
        "        \"length of transcribed text: \" + str(transcript_length) + \" characters \\n\"\n",
        "    )\n",
        "    t_word_count = len(full_text.split(\" \"))\n",
        "    mdata.append(\n",
        "        \"total word count: \" + str(t_word_count) + \" words (based on spaces) \\n\"\n",
        "    )\n",
        "\n",
        "    # delete audio chunks in folder -------------------------------------------------\n",
        "    try:\n",
        "        shutil.rmtree(path2audiochunks)\n",
        "        if verbose:\n",
        "            print(\"\\nDeleted Audio Chunk Folder + Files\")\n",
        "    except:\n",
        "        print(\"warning - could not delete the audio chunk folder on VM\")\n",
        "    # compile results -------------------------------------------------\n",
        "    transcription_results = {\n",
        "        \"audio_transcription\": full_transcription,\n",
        "        \"metadata\": mdata,\n",
        "    }\n",
        "\n",
        "    return transcription_results"
      ]
    },
    {
      "cell_type": "code",
      "execution_count": 21,
      "metadata": {
        "id": "cDWUIQodL85m",
        "colab": {
          "base_uri": "https://localhost:8080/",
          "height": 0
        },
        "outputId": "b62214ce-5cbd-4ae3-8920-05c1ff482cd8"
      },
      "outputs": [
        {
          "output_type": "display_data",
          "data": {
            "text/html": [
              "\n",
              "  <style>\n",
              "    pre {\n",
              "        white-space: pre-wrap;\n",
              "    }\n",
              "  </style>\n",
              "  "
            ],
            "text/plain": [
              "<IPython.core.display.HTML object>"
            ]
          },
          "metadata": {}
        }
      ],
      "source": [
        "def save_transcript_outputs(fileheader, file_id, output_dict):\n",
        "\n",
        "    full_transcription = output_dict.get(\"audio_transcription\")\n",
        "    metadata = output_dict.get(\"metadata\")\n",
        "\n",
        "    # check if directories for output exist. If not, create them\n",
        "    storage_locs = validate_output_directories(directory)\n",
        "    output_path_transcript = storage_locs.get(\"t_out\")\n",
        "    output_path_metadata = storage_locs.get(\"m_out\")\n",
        "\n",
        "    transcribed_filename = fileheader + \"_transcription_\" + file_id + \".txt\"\n",
        "    transcribed_file = open(\n",
        "        join(output_path_transcript, transcribed_filename),\n",
        "        \"w\",\n",
        "        encoding=\"utf-8\",\n",
        "        errors=\"ignore\",\n",
        "    )\n",
        "    transcribed_file.writelines(full_transcription)\n",
        "    transcribed_file.close()\n",
        "    # metadata\n",
        "    metadata_filename = (\n",
        "        \"metadata - \" + fileheader + \"_transcription_\" + file_id + \".txt\"\n",
        "    )\n",
        "    metadata_file = open(\n",
        "        join(output_path_metadata, metadata_filename),\n",
        "        \"w\",\n",
        "        encoding=\"utf-8\",\n",
        "        errors=\"ignore\",\n",
        "    )\n",
        "    metadata_file.writelines(metadata)\n",
        "    metadata_file.close()\n",
        "\n",
        "    print(\"saved outputs for file ID {} - \".format(file_id), datetime.now())"
      ]
    },
    {
      "cell_type": "markdown",
      "metadata": {
        "id": "TVc71e0R9fa-"
      },
      "source": [
        "### keyword extraction"
      ]
    },
    {
      "cell_type": "code",
      "execution_count": 22,
      "metadata": {
        "id": "78rJKtvP9d-T",
        "colab": {
          "base_uri": "https://localhost:8080/",
          "height": 0
        },
        "outputId": "906619dd-af1e-4e2a-b082-8497f3dff924"
      },
      "outputs": [
        {
          "output_type": "display_data",
          "data": {
            "text/html": [
              "\n",
              "  <style>\n",
              "    pre {\n",
              "        white-space: pre-wrap;\n",
              "    }\n",
              "  </style>\n",
              "  "
            ],
            "text/plain": [
              "<IPython.core.display.HTML object>"
            ]
          },
          "metadata": {}
        }
      ],
      "source": [
        "def quick_keys(\n",
        "    filename, filepath, max_ngrams=3, num_keywords=20, save_db=False, verbose=False\n",
        "):\n",
        "    # uses YAKE to quickly determine keywords in a text file. Saves Keywords and YAKE score (0 means very important) in\n",
        "    # an excel file (from a dataframe)\n",
        "    # yes, the double entendre is intended.\n",
        "    file = open(join(filepath, filename), \"r\", encoding=\"utf-8\", errors=\"ignore\")\n",
        "    text = file.read()\n",
        "    file.close()\n",
        "\n",
        "    language = \"en\"\n",
        "    deduplication_threshold = 0.6  # technically a hyperparameter\n",
        "    custom_kw_extractor = yake.KeywordExtractor(\n",
        "        lan=language,\n",
        "        n=max_ngrams,\n",
        "        dedupLim=deduplication_threshold,\n",
        "        top=num_keywords,\n",
        "        features=None,\n",
        "    )\n",
        "    yake_keywords = custom_kw_extractor.extract_keywords(text)\n",
        "    phrase_db = pd.DataFrame(yake_keywords)\n",
        "    if verbose:\n",
        "        print(\"YAKE keywords are: \\n\", yake_keywords)\n",
        "        print(\"dataframe looks like: \\n\")\n",
        "        pp.pprint(phrase_db.head())\n",
        "\n",
        "    if len(phrase_db) == 0:\n",
        "        print(\"warning - no phrases were able to be extracted... \")\n",
        "        return None\n",
        "\n",
        "    phrase_db.columns = [\"key_phrase\", \"YAKE_score\"]\n",
        "\n",
        "    # add a column for how many words the phrases contain\n",
        "    yake_kw_len = []\n",
        "    yake_kw_freq = []\n",
        "    for entry in yake_keywords:\n",
        "        entry_wordcount = len(str(entry).split(\" \")) - 1\n",
        "        yake_kw_len.append(entry_wordcount)\n",
        "\n",
        "    for index, row in phrase_db.iterrows():\n",
        "        search_term = row[\"key_phrase\"]\n",
        "        entry_freq = text.count(str(search_term))\n",
        "        yake_kw_freq.append(entry_freq)\n",
        "\n",
        "    word_len_series = pd.Series(yake_kw_len, name=\"No. Words in Phrase\")\n",
        "    word_freq_series = pd.Series(yake_kw_freq, name=\"Phrase Freq. in Text\")\n",
        "    phrase_db2 = pd.concat([phrase_db, word_len_series, word_freq_series], axis=1)\n",
        "    # add column names and save file as excel because CSVs suck\n",
        "    phrase_db2.columns = [\n",
        "        \"key_phrase\",\n",
        "        \"YAKE Score (Lower = More Important)\",\n",
        "        \"num_words\",\n",
        "        \"freq_in_text\",\n",
        "    ]\n",
        "\n",
        "    if save_db:\n",
        "        # saves individual file if user asks\n",
        "        yake_fname = (\n",
        "            beautify_filename(filename=filename, start_reverse=False)\n",
        "            + \"_top_phrases_YAKE.xlsx\"\n",
        "        )\n",
        "        phrase_db2.to_excel(join(filepath, yake_fname), index=False)\n",
        "\n",
        "    # print out top 10 keywords, or if desired num keywords less than 10, all of them\n",
        "    max_no_disp = 10\n",
        "    if num_keywords > max_no_disp:\n",
        "        num_phrases_disp = max_no_disp\n",
        "    else:\n",
        "        num_phrases_disp = num_keywords\n",
        "\n",
        "    if verbose:\n",
        "        print(\"Top Key Phrases from YAKE, with max n-gram length: \", max_ngrams, \"\\n\")\n",
        "        pp.pprint(phrase_db2.head(n=num_phrases_disp))\n",
        "    else:\n",
        "        list_o_words = phrase_db2[\"key_phrase\"].to_list()\n",
        "        print(\"top 5 phrases are: \\n\")\n",
        "        if len(list_o_words) < 5:\n",
        "            pp.pprint(list_o_words)\n",
        "        else:\n",
        "            pp.pprint(list_o_words[:5])\n",
        "\n",
        "    return phrase_db2"
      ]
    },
    {
      "cell_type": "markdown",
      "metadata": {
        "id": "hZjjohmBr7Oa"
      },
      "source": [
        "# Specify Key Parameters"
      ]
    },
    {
      "cell_type": "markdown",
      "metadata": {
        "id": "ph6f5Bo0Yt3q"
      },
      "source": [
        "## Load & Validate Source Files"
      ]
    },
    {
      "cell_type": "code",
      "execution_count": 23,
      "metadata": {
        "cellView": "form",
        "id": "pusCMJhVpLD7",
        "colab": {
          "base_uri": "https://localhost:8080/",
          "height": 51
        },
        "outputId": "f36d14fa-9bfe-4ff9-fbf3-4a0833654a4c"
      },
      "outputs": [
        {
          "output_type": "display_data",
          "data": {
            "text/html": [
              "\n",
              "  <style>\n",
              "    pre {\n",
              "        white-space: pre-wrap;\n",
              "    }\n",
              "  </style>\n",
              "  "
            ],
            "text/plain": [
              "<IPython.core.display.HTML object>"
            ]
          },
          "metadata": {}
        },
        {
          "output_type": "stream",
          "name": "stdout",
          "text": [
            "currently allowed media types are:\n",
            "['.mp4', '.mov', '.mkv', '.mp3', '.wav', '.ogg', '.m4a']\n"
          ]
        }
      ],
      "source": [
        "from pathlib import Path\n",
        "#@markdown define allowed extension types and a function to validate if media present in user folder\n",
        "\n",
        "extensions = [\".mp4\",\".mov\",\".mkv\",\n",
        "                  \".mp3\",\".wav\",\".ogg\", \".m4a\",\n",
        "                  ]\n",
        "def is_media_empty(dir):\n",
        "    _dir = Path(dir)\n",
        "    dirfiles = [f for f in _dir.iterdir() if f.is_file()]\n",
        "    if len(dirfiles) < 1: return True\n",
        "\n",
        "    for df in dirfiles:\n",
        "        this_ext = df.suffix\n",
        "        if any([m in this_ext for m in extensions]):\n",
        "            return False\n",
        "    return True\n",
        "\n",
        "print(f'currently allowed media types are:\\n{extensions}')"
      ]
    },
    {
      "cell_type": "code",
      "execution_count": 24,
      "metadata": {
        "cellView": "form",
        "id": "9xPJyuR6XVFc",
        "colab": {
          "base_uri": "https://localhost:8080/",
          "height": 121
        },
        "outputId": "a07a6af9-b57e-4219-de04-acab43a46c6c"
      },
      "outputs": [
        {
          "output_type": "display_data",
          "data": {
            "text/html": [
              "\n",
              "  <style>\n",
              "    pre {\n",
              "        white-space: pre-wrap;\n",
              "    }\n",
              "  </style>\n",
              "  "
            ],
            "text/plain": [
              "<IPython.core.display.HTML object>"
            ]
          },
          "metadata": {}
        },
        {
          "output_type": "stream",
          "name": "stdout",
          "text": [
            "Found extension: mp4\n",
            "Downloading file...\n",
            "Download complete.\n",
            "Will transcribe the following: \n",
            "\n",
            "['/content/President%20Kennedy%27s%201962%20Speech%20on%20the%20US%20Space%20Program%20%20C-SPAN%20Classroom.mp4']\n"
          ]
        }
      ],
      "source": [
        "#@title load media files \n",
        "#@markdown allowed extensions defined in cell above\n",
        "# iterate through and grab files:\n",
        "import requests\n",
        "files_to_munch = []\n",
        "_target_file = download_single_file(\n",
        "    URL_of_media, \n",
        "    verbose=True,\n",
        ")\n",
        "files_to_munch.append(_target_file)\n",
        "total_files_1 = len(files_to_munch)\n",
        "removed_count_1 = 0\n",
        "approved_files = []\n",
        "# remove non-media files\n",
        "for prefile in files_to_munch:\n",
        "    if any([m in prefile for m in extensions]):\n",
        "        approved_files.append(prefile)\n",
        "    else:\n",
        "        files_to_munch.remove(prefile)\n",
        "        removed_count_1 += 1\n",
        "\n",
        "print(\"Will transcribe the following: \\n\")\n",
        "pp.pprint(approved_files)"
      ]
    },
    {
      "cell_type": "markdown",
      "source": [
        "Original video can be viewed [here](https://www.c-span.org/classroom/document/?7986)"
      ],
      "metadata": {
        "id": "lQHuf3zEDn7D"
      }
    },
    {
      "cell_type": "markdown",
      "metadata": {
        "id": "bV3ov-0Z_PXf"
      },
      "source": [
        "## Load wav2vec2 model (#3)\n",
        "\n",
        "- <font color = \"orange\">enter chunk length & choose a model. defaults should work fine for most cases \n",
        "- with recent upgrades made on the function to convert media to `.wav` audio chunks there is no \"runtime penalty\" of a smaller chunk length as before. Just keep in mind as the number decreases **too low** then the model won't have the relevant auditory context to determine what is being said effectively.\n",
        "\n",
        "\n"
      ]
    },
    {
      "cell_type": "code",
      "execution_count": 25,
      "metadata": {
        "cellView": "form",
        "id": "yTmbBo39ZUkI",
        "colab": {
          "base_uri": "https://localhost:8080/",
          "height": 17
        },
        "outputId": "cfce810f-c702-4e6b-c4bc-6afbd6168324"
      },
      "outputs": [
        {
          "output_type": "display_data",
          "data": {
            "text/html": [
              "\n",
              "  <style>\n",
              "    pre {\n",
              "        white-space: pre-wrap;\n",
              "    }\n",
              "  </style>\n",
              "  "
            ],
            "text/plain": [
              "<IPython.core.display.HTML object>"
            ]
          },
          "metadata": {}
        }
      ],
      "source": [
        "chunk_length =   15# @param {type:\"integer\"}\n",
        "_model = \"facebook/hubert-large-ls960-ft\" #@param [\"facebook/wav2vec2-large-960h-lv60-self\", \"facebook/hubert-large-ls960-ft\", \"facebook/hubert-xlarge-ls960-ft\", \"facebook/wav2vec2-base-960h\"] {allow-input: true}\n",
        "#@markdown - model name is the tag on huggingface.co\n",
        "#@markdown - demo output uses `facebook/hubert-xlarge-ls960-ft` but this is pretty GPU intensive; try `large` first.\n",
        "#@markdown - if experiencing GPU memory usage issues, try `facebook/wav2vec2-base-960h`"
      ]
    },
    {
      "cell_type": "code",
      "execution_count": 26,
      "metadata": {
        "cellView": "form",
        "id": "k_gAUG_9aK-d",
        "colab": {
          "base_uri": "https://localhost:8080/",
          "height": 296,
          "referenced_widgets": [
            "5c532ad2ce3c43799635f698c69ee24d",
            "5ff1c145295d4d4ea18c31548c9bf100",
            "aa896b21767f426ea9450de7ed656931",
            "5cb8502aeac54119a5796178ead90383",
            "9f9c444d2c7c4268a0b35add61c31421",
            "6ace1d59e3ec4e599cdc2a4f965c75b1",
            "25b0f375a1d34b56a4e08eaa14398c84",
            "31b9c44b0b2c493b9594e57d302e8662",
            "6e494b8bf4384d37a97a4c8ac97718cb",
            "ccde85c564374b0dafd84c67cbb5ddb1",
            "d8046e26e8584481926cd7969f111a95",
            "7a014a4f2eec43809132af3ca610ce19",
            "cbe7193992a8404d83dc4460d637f6da",
            "56ec306654734395bb158cfda6800ed0",
            "557ecd0a1c294306a0bf17341df4bb1d",
            "e4a38f978cb14e25abe44b763e6b2d0f",
            "3ffb34fbfa5b4158bc5b8027d1112707",
            "11d94b07f90543ec991dc4f7ec2c0e77",
            "08cb6afa9c524ca29a6d00833b77232e",
            "fff426126cb84fcbb22d0c04755be639",
            "f711ad606c154a7a84d79290c7037dad",
            "4cdde4be94bf40ee8241784d5aaeddb7",
            "f31858a3dab840ffb5bad9e8248b257c",
            "454d6d2332994753ada7d32fb3c2ae26",
            "ce7ed9d5df0e4dd19ca2e7f925f25066",
            "8a657cb9bcca4944a6567df6c104c477",
            "c75b29f82bb3441ba6299f105c73f19b",
            "5f43ad67cae5479f88a96c11388de19f",
            "85a14b8f509c4c8cb675d726d6a6b615",
            "226075549432490ca463c2d34d194e7f",
            "d6d83c9565ce4450aec4944a38261a7b",
            "8eaa7ed8ecc34260a21f5dd21c7fc0df",
            "fd736d25de4346598ba7c8434541775b",
            "63088aca407841828907d1871dfd0454",
            "185e22bc0250439cbf3200b11b1061aa",
            "ef2fe665d3404c64ad5c338614db8196",
            "4fcffeba3f9949bdbb51aedadff2c732",
            "b029e62ca7ec459a8095bca448a35a30",
            "3bcb811cae4a4e1d9bc9f52f1045159b",
            "8641b642c9e8423c90eb42e364d715a3",
            "142518b13ef3459e8dfd0c6c1321ed01",
            "8086541194884153b1f287de295c7a43",
            "dc811288c64c40589bb68d58f3a2705e",
            "e7b1b8919dc441e8a70e8e056442c418",
            "270eb9b3065e49e0a612cb2f146e9e4b",
            "c6eb4597cefb4b27afeb5831370a577c",
            "5fc210d72b24467a8083301a3a3b99c0",
            "1048d600cae541719f85c3a2ea410ccf",
            "2990f0e2b10f41beab4ba73da5b27ff9",
            "a6e585d6038d4938980603e5a64970fb",
            "5af2561b02b44d82af60a126f8c686d9",
            "3b7231fbce6c42e7b796d03dfe279d83",
            "426a29852b3a405db448b5837cc448de",
            "a0f8c1887e2940849fd990a577783c80",
            "440cd4d83edf457aa68d3faf58b556d5",
            "e86c740ca1164721984e8f9f5685e0d5",
            "04d158ce6ef44a6e874499fa94900958",
            "23718ab59e974395add2e5eacc3f1255",
            "816d85ee5ed54f2d8f6d70a5785a108f",
            "b0e64e63203d411e9fd0a21db332d6de",
            "23fcd017787d4b7595bf02dd2da9b549",
            "b0ffd48c9fc04a448274473628bf8da7",
            "18c847d4909444668f285a66d3c63a52",
            "41dc70a96aac430c99a13b23e918fc0a",
            "8debc7d4a2eb45eea8d23d7cd716b2fc",
            "110a5439bc5240d7b94cfab912c3b09d"
          ]
        },
        "outputId": "50ebf0b4-de24-4f17-c5b5-971582aee279"
      },
      "outputs": [
        {
          "output_type": "display_data",
          "data": {
            "text/html": [
              "\n",
              "  <style>\n",
              "    pre {\n",
              "        white-space: pre-wrap;\n",
              "    }\n",
              "  </style>\n",
              "  "
            ],
            "text/plain": [
              "<IPython.core.display.HTML object>"
            ]
          },
          "metadata": {}
        },
        {
          "output_type": "stream",
          "name": "stdout",
          "text": [
            "\n",
            "Preparing to load model: facebook/hubert-xlarge-ls960-ft\n"
          ]
        },
        {
          "output_type": "display_data",
          "data": {
            "application/vnd.jupyter.widget-view+json": {
              "model_id": "5c532ad2ce3c43799635f698c69ee24d",
              "version_minor": 0,
              "version_major": 2
            },
            "text/plain": [
              "Downloading:   0%|          | 0.00/212 [00:00<?, ?B/s]"
            ]
          },
          "metadata": {}
        },
        {
          "output_type": "display_data",
          "data": {
            "application/vnd.jupyter.widget-view+json": {
              "model_id": "7a014a4f2eec43809132af3ca610ce19",
              "version_minor": 0,
              "version_major": 2
            },
            "text/plain": [
              "Downloading:   0%|          | 0.00/138 [00:00<?, ?B/s]"
            ]
          },
          "metadata": {}
        },
        {
          "output_type": "display_data",
          "data": {
            "application/vnd.jupyter.widget-view+json": {
              "model_id": "f31858a3dab840ffb5bad9e8248b257c",
              "version_minor": 0,
              "version_major": 2
            },
            "text/plain": [
              "Downloading:   0%|          | 0.00/1.45k [00:00<?, ?B/s]"
            ]
          },
          "metadata": {}
        },
        {
          "output_type": "display_data",
          "data": {
            "application/vnd.jupyter.widget-view+json": {
              "model_id": "63088aca407841828907d1871dfd0454",
              "version_minor": 0,
              "version_major": 2
            },
            "text/plain": [
              "Downloading:   0%|          | 0.00/292 [00:00<?, ?B/s]"
            ]
          },
          "metadata": {}
        },
        {
          "output_type": "display_data",
          "data": {
            "application/vnd.jupyter.widget-view+json": {
              "model_id": "270eb9b3065e49e0a612cb2f146e9e4b",
              "version_minor": 0,
              "version_major": 2
            },
            "text/plain": [
              "Downloading:   0%|          | 0.00/85.0 [00:00<?, ?B/s]"
            ]
          },
          "metadata": {}
        },
        {
          "output_type": "display_data",
          "data": {
            "application/vnd.jupyter.widget-view+json": {
              "model_id": "e86c740ca1164721984e8f9f5685e0d5",
              "version_minor": 0,
              "version_major": 2
            },
            "text/plain": [
              "Downloading:   0%|          | 0.00/3.59G [00:00<?, ?B/s]"
            ]
          },
          "metadata": {}
        },
        {
          "output_type": "stream",
          "name": "stdout",
          "text": [
            "loaded the following model: facebook/hubert-xlarge-ls960-ft  at  2022-02-24 00:30:47.248565\n",
            "CPU times: user 1min 9s, sys: 11.9 s, total: 1min 21s\n",
            "Wall time: 3min 18s\n"
          ]
        }
      ],
      "source": [
        "#@title load model from huggingface hub\n",
        "%%time\n",
        "from transformers import (\n",
        "    Wav2Vec2ForMaskedLM, \n",
        "    Wav2Vec2CTCTokenizer, \n",
        "    Wav2Vec2Processor,\n",
        "    HubertForCTC,\n",
        ")\n",
        "\n",
        "gpu_mem = round(gpu_mem_total() / 1024, 2)\n",
        "\n",
        "if gpu_mem < 15 and chunk_length > 20:\n",
        "    print(\"GPU memory of {} is too low.. setting chunk length to 20\".format(gpu_mem))\n",
        "    chunk_length = 20  # automatically adjust down to avoid issues\n",
        "\n",
        "\n",
        "print(\"\\nPreparing to load model: \" + _model)\n",
        "tokenizer = Wav2Vec2Processor.from_pretrained(_model)\n",
        "\n",
        "if \"hubert\" in _model.lower():\n",
        "    model = HubertForCTC.from_pretrained(_model,\n",
        "                                         gradient_checkpointing=True,\n",
        "                                         low_cpu_mem_usage=False, # set to true if issues\n",
        "                                    )\n",
        "else:\n",
        "    model = Wav2Vec2ForCTC.from_pretrained(_model)\n",
        "# (in seconds) if model fails to work or errors out (and there isn't some other\n",
        "# obvious error, reduce this number. 20-25 is a good start.\n",
        "print(\"loaded the following model:\", _model, \" at \", datetime.now())"
      ]
    },
    {
      "cell_type": "markdown",
      "metadata": {
        "id": "2P4LaEB-ecL3"
      },
      "source": [
        "---"
      ]
    },
    {
      "cell_type": "markdown",
      "metadata": {
        "id": "zybapeYW_4uw"
      },
      "source": [
        "# Run Transformers Model "
      ]
    },
    {
      "cell_type": "code",
      "execution_count": 27,
      "metadata": {
        "cellView": "form",
        "id": "PigSuPnG_qP6",
        "colab": {
          "base_uri": "https://localhost:8080/",
          "height": 86
        },
        "outputId": "caf65c88-b81b-4394-cb09-bae83528adc7"
      },
      "outputs": [
        {
          "output_type": "display_data",
          "data": {
            "text/html": [
              "\n",
              "  <style>\n",
              "    pre {\n",
              "        white-space: pre-wrap;\n",
              "    }\n",
              "  </style>\n",
              "  "
            ],
            "text/plain": [
              "<IPython.core.display.HTML object>"
            ]
          },
          "metadata": {}
        },
        {
          "output_type": "stream",
          "name": "stdout",
          "text": [
            "\n",
            "Gen RAM Free: 47.5 GB  | Proc size: 10.4 GB  | 8 CPUs  loaded at 10.0 % |\n",
            "GPU RAM Free: 16158MB | Used: 2MB | Util   0% | Total 16160MB\n",
            "\n"
          ]
        }
      ],
      "source": [
        "import gc\n",
        "#@markdown initial check - hardware\n",
        "gc.collect()\n",
        "check_runhardware()"
      ]
    },
    {
      "cell_type": "code",
      "execution_count": 28,
      "metadata": {
        "cellView": "form",
        "collapsed": true,
        "id": "7EkpWuk3bmpP",
        "colab": {
          "base_uri": "https://localhost:8080/",
          "height": 289,
          "referenced_widgets": [
            "484af60f9fa84c1eabc13cef6016cf6a",
            "4cc9043876e7444b9c5852167fe142fb",
            "9ac5cae02fcc48ac817a9b1b1c65fde7",
            "e7936c56be2042ac9dd928145a55bb69",
            "2d2840e66467415fa8941d3a2dabddc0",
            "e36413c2943e4f39a13423674eab74e9",
            "0db1764e88374933b9c985caaa18f91e",
            "aef61738cab54fcb9d21d04ae8cd1dc6",
            "33aaefd908fb45439f2605921c3da25c",
            "b3092828f45f4096a2fce0bdc3d8b876",
            "86bc04a4994b4e84bd139af3839bac62",
            "0a4894bf11bb4dfebefe588715af6fad",
            "cffa26ba77734db892e926a4791036d8",
            "30fe8646c62b41578d78c1642d537388",
            "a0b98caa4863447ca2323b0f6e7e45d7",
            "fa7a29fe65094e04aad54a893ec89774",
            "4dd036e6df9f4e24b3002b6f53a3bb9e",
            "bb6c0b6b2cf34084814b244c16460a5c",
            "d4c08ec999ef43cda6dc77a65fac38d5",
            "fa2e9672ea114a64818d6f4edb6bfd9a",
            "b70c8cb21b124147ba41539e62264431",
            "959e465783834b48965f9d2cb514a7da"
          ]
        },
        "outputId": "3e3cbfc1-465a-4be8-bc5f-e350868a13b2"
      },
      "outputs": [
        {
          "output_type": "display_data",
          "data": {
            "text/html": [
              "\n",
              "  <style>\n",
              "    pre {\n",
              "        white-space: pre-wrap;\n",
              "    }\n",
              "  </style>\n",
              "  "
            ],
            "text/plain": [
              "<IPython.core.display.HTML object>"
            ]
          },
          "metadata": {}
        },
        {
          "output_type": "display_data",
          "data": {
            "application/vnd.jupyter.widget-view+json": {
              "model_id": "484af60f9fa84c1eabc13cef6016cf6a",
              "version_minor": 0,
              "version_major": 2
            },
            "text/plain": [
              "Main Proc: \t:   0%|          | 0/1 [00:00<?, ?it/s]"
            ]
          },
          "metadata": {}
        },
        {
          "output_type": "stream",
          "name": "stdout",
          "text": [
            "Starting file:  /content/President%20Kennedy%27s%201962%20Speech%20on%20the%20US%20Space%20Program%20%20C-SPAN%20Classroom.mp4\n",
            "\n",
            "created audio chunks in 0.01931 seconds - Feb-24-2022_-00\n",
            "\n",
            "Gen RAM Free: 47.5 GB  | Proc size: 10.4 GB  | 8 CPUs  loaded at 11.4 % |\n",
            "GPU RAM Free: 16158MB | Used: 2MB | Util   0% | Total 16160MB\n",
            "\n"
          ]
        },
        {
          "output_type": "display_data",
          "data": {
            "application/vnd.jupyter.widget-view+json": {
              "model_id": "0a4894bf11bb4dfebefe588715af6fad",
              "version_minor": 0,
              "version_major": 2
            },
            "text/plain": [
              "transcribing /content/President%2...:\t:   0%|          | 0/16 [00:00<?, ?it/s]"
            ]
          },
          "metadata": {}
        },
        {
          "output_type": "stream",
          "name": "stdout",
          "text": [
            "\n",
            "Gen RAM Free: 47.5 GB  | Proc size: 10.4 GB  | 8 CPUs  loaded at 17.8 % |\n",
            "GPU RAM Free: 16158MB | Used: 2MB | Util   0% | Total 16160MB\n",
            "\n",
            "saved outputs for file ID 1 -  2022-02-24 00:31:23.345502\n"
          ]
        }
      ],
      "source": [
        "#@title Transcription Loop\n",
        "#@markdown - here's where the transformer model is applied.\n",
        "#@markdown - transcription speed depends on a lot of things, most notably what \n",
        "#@markdown GPU the runtime was assigned (check at the top of notebook)\n",
        "\n",
        "\n",
        "if use_url:\n",
        "    vid_src_folder = URL_save_folder\n",
        "else:\n",
        "    vid_src_folder = directory\n",
        "\n",
        "storage_locs = validate_output_directories(directory)\n",
        "output_path_transcript = storage_locs.get(\"t_out\")\n",
        "output_path_metadata = storage_locs.get(\"m_out\")\n",
        "\n",
        "for filename in tqdm(\n",
        "    approved_files, \n",
        "    total=len(approved_files), \n",
        "    desc=\"Main Proc: \\t\"\n",
        "):\n",
        "\n",
        "    t_results = transcribe_wav2vec(\n",
        "        transcription_model=model,\n",
        "        directory=vid_src_folder,\n",
        "        vid_clip_name=filename,\n",
        "        chunk_length_seconds=chunk_length,\n",
        "    )\n",
        "    # t_results is a dictonary containing the transcript and associated metadata\n",
        "    # label and store this transcription\n",
        "    vid_preamble = beautify_filename(\n",
        "        filename, num_words=30, start_reverse=False\n",
        "    )  # gets a nice phrase from filename\n",
        "    # transcription\n",
        "    ID = str(1 + approved_files.index(filename))\n",
        "    save_transcript_outputs(vid_preamble, ID, t_results)\n"
      ]
    },
    {
      "cell_type": "markdown",
      "metadata": {
        "id": "ZpwGP9EEVWFX"
      },
      "source": [
        "---"
      ]
    },
    {
      "cell_type": "markdown",
      "metadata": {
        "id": "KAlsOjR8AD7R"
      },
      "source": [
        "# Post Model Processing\n",
        "\n",
        "If you got to here, your colab file was able to run the model and transcribe it. Now a little cleaning up, then done."
      ]
    },
    {
      "cell_type": "code",
      "execution_count": 29,
      "metadata": {
        "cellView": "form",
        "id": "5ECdmK3tjP4L",
        "colab": {
          "base_uri": "https://localhost:8080/",
          "height": 71
        },
        "outputId": "e6910ce7-e5ff-4cb2-a93d-0e45f82383a8"
      },
      "outputs": [
        {
          "output_type": "display_data",
          "data": {
            "text/html": [
              "\n",
              "  <style>\n",
              "    pre {\n",
              "        white-space: pre-wrap;\n",
              "    }\n",
              "  </style>\n",
              "  "
            ],
            "text/plain": [
              "<IPython.core.display.HTML object>"
            ]
          },
          "metadata": {}
        },
        {
          "output_type": "stream",
          "name": "stdout",
          "text": [
            "out of   1 file(s) originally in the folder,    0 non-txt files were removed\n"
          ]
        },
        {
          "output_type": "execute_result",
          "data": {
            "text/plain": [
              "['content_president_20_kennedy_27_s_20196220_speech_20_on_20_the_20_us_20_space_20_program_2020_c_span_20_classroo_transcription_1.txt']"
            ]
          },
          "metadata": {},
          "execution_count": 29
        }
      ],
      "source": [
        "#@title Validate text files to spell-check\n",
        "#@markdown reload everything from the text directory in case of changes\n",
        "# first, you need to go through the output directory of transcripts and make sure that all those files are gucci\n",
        "transcripts_to_munch = natsorted(\n",
        "    [\n",
        "        f\n",
        "        for f in listdir(output_path_transcript)\n",
        "        if isfile(join(output_path_transcript, f))\n",
        "    ]\n",
        ")\n",
        "t_files = len(transcripts_to_munch)\n",
        "removed_count_t = 0\n",
        "approved_txt_files = []\n",
        "# remove non-.txt files\n",
        "for tfile in transcripts_to_munch:\n",
        "    if tfile.endswith(\".txt\"):\n",
        "        approved_txt_files.append(tfile)\n",
        "    else:\n",
        "        transcripts_to_munch.remove(tfile)\n",
        "        removed_count_t += 1\n",
        "\n",
        "print(\n",
        "    \"out of {0:3d} file(s) originally in the folder, \".format(t_files),\n",
        "    \"{0:3d} non-txt files were removed\".format(removed_count_t),\n",
        ")\n",
        "\n",
        "approved_txt_files"
      ]
    },
    {
      "cell_type": "code",
      "execution_count": 30,
      "metadata": {
        "id": "9VVqBJnxdb7Y",
        "cellView": "form",
        "colab": {
          "base_uri": "https://localhost:8080/",
          "height": 309,
          "referenced_widgets": [
            "49ebb609df7c4a17ab2520c33255f107",
            "c52541e3ba974e70a542176a0da11cf0",
            "c7177cadae0c408b9cba96f7ab586171",
            "c3f6df16fae948bba3ed671285c4dc25",
            "2b1fa4b54f7c4f0e92e2df7775dcb932",
            "96d7b3c3686c47a1b9ab0498d543b113",
            "6135f89983994ca0b93e193f5767647c",
            "5c1fbecd6cfa4943827b7f17355f3a93",
            "7801d87655644b8ea5b226681e2e86cf",
            "c440da19a18e47d48c23a6c5673c0d9f",
            "0bb1c9e832b9419d9dc1b90803349311"
          ]
        },
        "outputId": "8adc007a-72b7-4fa9-c4dd-a1eb2b668f87"
      },
      "outputs": [
        {
          "output_type": "display_data",
          "data": {
            "text/html": [
              "\n",
              "  <style>\n",
              "    pre {\n",
              "        white-space: pre-wrap;\n",
              "    }\n",
              "  </style>\n",
              "  "
            ],
            "text/plain": [
              "<IPython.core.display.HTML object>"
            ]
          },
          "metadata": {}
        },
        {
          "output_type": "display_data",
          "data": {
            "application/vnd.jupyter.widget-view+json": {
              "model_id": "49ebb609df7c4a17ab2520c33255f107",
              "version_minor": 0,
              "version_major": 2
            },
            "text/plain": [
              "spellcorrect_pipeline on transcriptions:   0%|          | 0/1 [00:00<?, ?it/s]"
            ]
          },
          "metadata": {}
        },
        {
          "output_type": "stream",
          "name": "stdout",
          "text": [
            "\n",
            "Starting file 1 of  1  |  content_president_20_kennedy_27_s_20196220_speech_20_on_20_the_20_us_20_space_20_program_2020_c_span_20_classroo_transcription_1.txt\n",
            "top 5 phrases are: \n",
            "\n",
            "['space fearing nation',\n",
            " 'leading space fearing',\n",
            " 'worlds leading space',\n",
            " 'years ago fly',\n",
            " 'united states occupies']\n",
            "completed keywords\n"
          ]
        },
        {
          "output_type": "display_data",
          "data": {
            "application/javascript": [
              "\n",
              "    async function download(id, filename, size) {\n",
              "      if (!google.colab.kernel.accessAllowed) {\n",
              "        return;\n",
              "      }\n",
              "      const div = document.createElement('div');\n",
              "      const label = document.createElement('label');\n",
              "      label.textContent = `Downloading \"${filename}\": `;\n",
              "      div.appendChild(label);\n",
              "      const progress = document.createElement('progress');\n",
              "      progress.max = size;\n",
              "      div.appendChild(progress);\n",
              "      document.body.appendChild(div);\n",
              "\n",
              "      const buffers = [];\n",
              "      let downloaded = 0;\n",
              "\n",
              "      const channel = await google.colab.kernel.comms.open(id);\n",
              "      // Send a message to notify the kernel that we're ready.\n",
              "      channel.send({})\n",
              "\n",
              "      for await (const message of channel.messages) {\n",
              "        // Send a message to notify the kernel that we're ready.\n",
              "        channel.send({})\n",
              "        if (message.buffers) {\n",
              "          for (const buffer of message.buffers) {\n",
              "            buffers.push(buffer);\n",
              "            downloaded += buffer.byteLength;\n",
              "            progress.value = downloaded;\n",
              "          }\n",
              "        }\n",
              "      }\n",
              "      const blob = new Blob(buffers, {type: 'application/binary'});\n",
              "      const a = document.createElement('a');\n",
              "      a.href = window.URL.createObjectURL(blob);\n",
              "      a.download = filename;\n",
              "      div.appendChild(a);\n",
              "      a.click();\n",
              "      div.remove();\n",
              "    }\n",
              "  "
            ],
            "text/plain": [
              "<IPython.core.display.Javascript object>"
            ]
          },
          "metadata": {}
        },
        {
          "output_type": "display_data",
          "data": {
            "application/javascript": [
              "download(\"download_8c3abc2a-ca8b-42b0-bf42-6311d39af5bb\", \"YAKE - all keywords - vid2cleantxt_demo - 24022022.csv\", 1207)"
            ],
            "text/plain": [
              "<IPython.core.display.Javascript object>"
            ]
          },
          "metadata": {}
        },
        {
          "output_type": "stream",
          "name": "stdout",
          "text": [
            "Transcription files used to extract KW can be found in: \n",
            "  /content/vid2cleantxt_demo/wav2vec2_sf_transcript/spell_corrected\n",
            "A file with keyword results is in /content/vid2cleantxt_demo/wav2vec2_sf_transcript \n",
            "titled YAKE - all keywords - vid2cleantxt_demo - 24022022.csv\n"
          ]
        }
      ],
      "source": [
        "#@title Spellcorrect Pipeline\n",
        "#@markdown 1. lower output text and correct with Neuspell\n",
        "#@markdown 2. apply pySBD for sentence boundary detection\n",
        "#@markdown 3. extract keywords with the YAKE library\n",
        "\n",
        "transcript_run_qk = pd.DataFrame()  # empty df to hold all the keywords\n",
        "\n",
        "for orig_tscript in tqdm(\n",
        "    approved_txt_files,\n",
        "    total=len(approved_txt_files),\n",
        "    desc=\"spellcorrect_pipeline on transcriptions\",\n",
        "):\n",
        "\n",
        "    current_loc = approved_txt_files.index(orig_tscript) + 1  # add 1 bc start at 0\n",
        "    print(\n",
        "        \"\\nStarting file {} of \".format(current_loc),\n",
        "        len(approved_txt_files),\n",
        "        \" | \",\n",
        "        orig_tscript,\n",
        "    )\n",
        "\n",
        "    PL_out = spellcorrect_pipeline(\n",
        "        output_path_transcript, \n",
        "        orig_tscript,\n",
        "        basic_sc=use_base,\n",
        "        verbose=False,\n",
        "    )  # verbose is just for debug\n",
        "    directory_for_keywords = PL_out.get(\"spell_corrected_dir\")\n",
        "    filename_for_keywords = PL_out.get(\"sc_filename\")\n",
        "\n",
        "    qk_df = quick_keys(\n",
        "        filepath=directory_for_keywords,\n",
        "        filename=filename_for_keywords,\n",
        "        num_keywords=25,\n",
        "        max_ngrams=3,\n",
        "        save_db=False,\n",
        "        verbose=False,\n",
        "    )\n",
        "\n",
        "    print(\"completed keywords\")\n",
        "    transcript_run_qk = pd.concat([transcript_run_qk, qk_df], axis=1)\n",
        "\n",
        "# save overall transcription file\n",
        "date_field = datetime.now().strftime(\"%d%m%Y\")\n",
        "folder_desc = basename(directory)\n",
        "keyword_db_name = \"YAKE - all keywords - {} - {}.csv\".format(folder_desc, date_field)\n",
        "keywords_total_path = join(output_path_transcript, keyword_db_name)\n",
        "transcript_run_qk.to_csv(keywords_total_path, index=True)\n",
        "download(keywords_total_path)\n",
        "\n",
        "# print results\n",
        "print(\n",
        "    \"Transcription files used to extract KW can be found in: \\n \",\n",
        "    directory_for_keywords,\n",
        ")\n",
        "print(\n",
        "    \"A file with keyword results is in {} \\ntitled {}\".format(\n",
        "        output_path_transcript, keyword_db_name\n",
        "    )\n",
        ")"
      ]
    },
    {
      "cell_type": "markdown",
      "metadata": {
        "id": "3A9BykjRbOpc"
      },
      "source": [
        "---"
      ]
    },
    {
      "cell_type": "markdown",
      "metadata": {
        "id": "a9qbVc4PAcFZ"
      },
      "source": [
        "# Save, Download, Exit\n"
      ]
    },
    {
      "cell_type": "code",
      "execution_count": 31,
      "metadata": {
        "cellView": "form",
        "id": "sHfbbCPcKVZp",
        "colab": {
          "base_uri": "https://localhost:8080/",
          "height": 34
        },
        "outputId": "68be9552-b1b9-4815-f39c-6c1d40628150"
      },
      "outputs": [
        {
          "output_type": "display_data",
          "data": {
            "text/html": [
              "\n",
              "  <style>\n",
              "    pre {\n",
              "        white-space: pre-wrap;\n",
              "    }\n",
              "  </style>\n",
              "  "
            ],
            "text/plain": [
              "<IPython.core.display.HTML object>"
            ]
          },
          "metadata": {}
        },
        {
          "output_type": "display_data",
          "data": {
            "application/javascript": [
              "\n",
              "    async function download(id, filename, size) {\n",
              "      if (!google.colab.kernel.accessAllowed) {\n",
              "        return;\n",
              "      }\n",
              "      const div = document.createElement('div');\n",
              "      const label = document.createElement('label');\n",
              "      label.textContent = `Downloading \"${filename}\": `;\n",
              "      div.appendChild(label);\n",
              "      const progress = document.createElement('progress');\n",
              "      progress.max = size;\n",
              "      div.appendChild(progress);\n",
              "      document.body.appendChild(div);\n",
              "\n",
              "      const buffers = [];\n",
              "      let downloaded = 0;\n",
              "\n",
              "      const channel = await google.colab.kernel.comms.open(id);\n",
              "      // Send a message to notify the kernel that we're ready.\n",
              "      channel.send({})\n",
              "\n",
              "      for await (const message of channel.messages) {\n",
              "        // Send a message to notify the kernel that we're ready.\n",
              "        channel.send({})\n",
              "        if (message.buffers) {\n",
              "          for (const buffer of message.buffers) {\n",
              "            buffers.push(buffer);\n",
              "            downloaded += buffer.byteLength;\n",
              "            progress.value = downloaded;\n",
              "          }\n",
              "        }\n",
              "      }\n",
              "      const blob = new Blob(buffers, {type: 'application/binary'});\n",
              "      const a = document.createElement('a');\n",
              "      a.href = window.URL.createObjectURL(blob);\n",
              "      a.download = filename;\n",
              "      div.appendChild(a);\n",
              "      a.click();\n",
              "      div.remove();\n",
              "    }\n",
              "  "
            ],
            "text/plain": [
              "<IPython.core.display.Javascript object>"
            ]
          },
          "metadata": {}
        },
        {
          "output_type": "display_data",
          "data": {
            "application/javascript": [
              "download(\"download_916b5584-0455-4d49-b6d8-3a679e7553e6\", \"vid2clntxt_transcripts_archive24022022vid2cleantxt_demo.zip\", 5039)"
            ],
            "text/plain": [
              "<IPython.core.display.Javascript object>"
            ]
          },
          "metadata": {}
        },
        {
          "output_type": "display_data",
          "data": {
            "application/javascript": [
              "\n",
              "    async function download(id, filename, size) {\n",
              "      if (!google.colab.kernel.accessAllowed) {\n",
              "        return;\n",
              "      }\n",
              "      const div = document.createElement('div');\n",
              "      const label = document.createElement('label');\n",
              "      label.textContent = `Downloading \"${filename}\": `;\n",
              "      div.appendChild(label);\n",
              "      const progress = document.createElement('progress');\n",
              "      progress.max = size;\n",
              "      div.appendChild(progress);\n",
              "      document.body.appendChild(div);\n",
              "\n",
              "      const buffers = [];\n",
              "      let downloaded = 0;\n",
              "\n",
              "      const channel = await google.colab.kernel.comms.open(id);\n",
              "      // Send a message to notify the kernel that we're ready.\n",
              "      channel.send({})\n",
              "\n",
              "      for await (const message of channel.messages) {\n",
              "        // Send a message to notify the kernel that we're ready.\n",
              "        channel.send({})\n",
              "        if (message.buffers) {\n",
              "          for (const buffer of message.buffers) {\n",
              "            buffers.push(buffer);\n",
              "            downloaded += buffer.byteLength;\n",
              "            progress.value = downloaded;\n",
              "          }\n",
              "        }\n",
              "      }\n",
              "      const blob = new Blob(buffers, {type: 'application/binary'});\n",
              "      const a = document.createElement('a');\n",
              "      a.href = window.URL.createObjectURL(blob);\n",
              "      a.download = filename;\n",
              "      div.appendChild(a);\n",
              "      a.click();\n",
              "      div.remove();\n",
              "    }\n",
              "  "
            ],
            "text/plain": [
              "<IPython.core.display.Javascript object>"
            ]
          },
          "metadata": {}
        },
        {
          "output_type": "display_data",
          "data": {
            "application/javascript": [
              "download(\"download_5069f861-c3cb-459e-9ce5-aff42d6bc238\", \"vid2clntxt_metadata_archive24022022vid2cleantxt_demo.zip\", 648)"
            ],
            "text/plain": [
              "<IPython.core.display.Javascript object>"
            ]
          },
          "metadata": {}
        },
        {
          "output_type": "stream",
          "name": "stdout",
          "text": [
            "downloaded files -  2022-02-24 00:31:29.151275\n"
          ]
        }
      ],
      "source": [
        "#@title Download All Files in .zip\n",
        "#@markdown this needs to be specified in _Setup_ at the beginning\n",
        "import os, shutil\n",
        "from os.path import basename\n",
        "\n",
        "zip_dir = join(directory, \"zipped_outputs\")\n",
        "os.makedirs(zip_dir, exist_ok=True)\n",
        "\n",
        "date_field = datetime.now().strftime(\"%d%m%Y\")\n",
        "folder_desc = basename(directory)\n",
        "base_header = date_field + folder_desc\n",
        "# transcriptions\n",
        "transc_header = \"vid2clntxt_transcripts_archive\" + base_header\n",
        "zip_path_t = join(zip_dir, transc_header)\n",
        "shutil.make_archive(zip_path_t, \"zip\", output_path_transcript)\n",
        "# metadata\n",
        "meta_header = \"vid2clntxt_metadata_archive\" + base_header\n",
        "zip_path_m = join(zip_dir, meta_header)\n",
        "shutil.make_archive(zip_path_m, \"zip\", output_path_metadata)\n",
        "\n",
        "if download_output_files:\n",
        "    files.download(join(zip_dir, zip_path_t + \".zip\"))\n",
        "    time.sleep(5) # browsers do not like when 2 files download instantly\n",
        "    files.download(join(zip_dir, zip_path_m + \".zip\"))\n",
        "    print(\"downloaded files - \", datetime.now())\n",
        "else:\n",
        "    print(\"download_output_files is set to: \", download_output_files)"
      ]
    },
    {
      "cell_type": "code",
      "execution_count": 32,
      "metadata": {
        "cellView": "form",
        "id": "e8ekwnvWk9rb",
        "colab": {
          "base_uri": "https://localhost:8080/",
          "height": 641
        },
        "outputId": "2cdda84a-227d-4394-9274-13d703d05725"
      },
      "outputs": [
        {
          "output_type": "display_data",
          "data": {
            "text/html": [
              "\n",
              "  <style>\n",
              "    pre {\n",
              "        white-space: pre-wrap;\n",
              "    }\n",
              "  </style>\n",
              "  "
            ],
            "text/plain": [
              "<IPython.core.display.HTML object>"
            ]
          },
          "metadata": {}
        },
        {
          "output_type": "stream",
          "name": "stdout",
          "text": [
            "\n",
            "\n",
            "the contents of transcribed file FIN_content_president_20_kennedy_27_s_20196220_speech_20_on_20_the_20_us_2.txt:\n",
            "\n",
            "('Now look into space to the moon and to the planets beyond and we have vowed '\n",
            " 'that we shall not see it governed by a hostile flag of conquest but. By a '\n",
            " 'banner of freedom and peace we have vowed that we shall not see space filled '\n",
            " 'with weapons of mans destruction but with instruments of knowledge and '\n",
            " 'understanding yet the vow. A of this nation can only be fulfilled if we in '\n",
            " 'this nation are first and therefore we intend to be first. In short our '\n",
            " 'leadership in science and industry our hopes for peace and security our '\n",
            " 'obligations to ourselves as well as others all require. Us to make this '\n",
            " 'effort to solve these mysteries to solve them for the good of all men and to '\n",
            " 'become the worlds leading space fearing nation we set sail on this new sea. '\n",
            " 'Because there is new knowledge to be gained and new right to be won and they '\n",
            " 'must be won and used for the progress of all be one for space science like '\n",
            " 'nuclear science and all tech. Logy has no conscience of its own whether it '\n",
            " 'will become a force for good or ill depends on man and only if the united '\n",
            " 'states occupies a position of preeminence. Can we help decide whether this '\n",
            " 'new ocean will be a sea of peace or a new terrifying theatre of war i do not '\n",
            " 'say that we should or will go in. Rec tet against the hostile misuse of '\n",
            " 'space any more than we go unprotected against the hostile use of land or sea '\n",
            " 'but i do say that space can be explored and mastered. Without feeding the '\n",
            " 'fires of war without repeating the mistakes that man has made in extending '\n",
            " 'his writ around this globe of ours there is no strife no prejudice no '\n",
            " 'national conflict. In outer space as yet its hazards are hostile to us all '\n",
            " 'its conquest deserves the best of all mankind and its opportunity for '\n",
            " 'peaceful co operation may never come again. But why some say the moon why '\n",
            " 'choose this as our goal and they may well ask why climb the highest mountain '\n",
            " 'why thirty five years ago fly the atlantic why does. Splay texas we choose '\n",
            " 'to go to the moon we choose to go to the moon we choose to go to the moon in '\n",
            " 'this dec. And do the other things not because they are easy but because they '\n",
            " 'are hard because that gold will serve to organize and measure the best of '\n",
            " \"our energies and skills because that challenge is. That we're willing to \"\n",
            " 'accept one we are unwilling to postpone and one we intend to win and the '\n",
            " 'others too it is for these reasons that i regard the decision last year')\n"
          ]
        }
      ],
      "source": [
        "#@title print contents of final transcript\n",
        "\n",
        "#@markdown mostly for demo purposes, usually it takes too much space\n",
        "from pathlib import Path\n",
        "_final_out = Path(\"/content/vid2cleantxt_demo/wav2vec2_sf_transcript/FULLY_COMPLETE\")\n",
        "text_files = [f for f in _final_out.iterdir() if f.is_file() and f.suffix == \".txt\"]\n",
        "\n",
        "for _txt in text_files:\n",
        "    print(f\"\\n\\nthe contents of transcribed file {_txt.name}:\\n\")\n",
        "    with open(_txt, 'r', encoding='utf-8', errors='ignore') as fi:\n",
        "        _text = fi.read()\n",
        "    pp.pprint(_text, indent=4)\n"
      ]
    },
    {
      "cell_type": "markdown",
      "metadata": {
        "id": "d5xXtKzB3BaT"
      },
      "source": [
        "Not bad eh, given the video quality? Note that the above was completed with `facebook/hubert-xlarge-ls960-ft` but the official version will be with just `large` as the XL has heavy memory requirements.\n",
        "\n",
        "---"
      ]
    },
    {
      "cell_type": "code",
      "execution_count": 33,
      "metadata": {
        "cellView": "form",
        "id": "OOoaNN5f5efD",
        "colab": {
          "base_uri": "https://localhost:8080/",
          "height": 344
        },
        "outputId": "ecf1c47b-4638-4606-c592-f08fcf1055ee"
      },
      "outputs": [
        {
          "output_type": "display_data",
          "data": {
            "text/html": [
              "\n",
              "  <style>\n",
              "    pre {\n",
              "        white-space: pre-wrap;\n",
              "    }\n",
              "  </style>\n",
              "  "
            ],
            "text/plain": [
              "<IPython.core.display.HTML object>"
            ]
          },
          "metadata": {}
        },
        {
          "output_type": "display_data",
          "data": {
            "application/javascript": [
              "\n",
              "  for (rule of document.styleSheets[0].cssRules){\n",
              "    if (rule.selectorText=='body') {\n",
              "      rule.style.fontSize = '24px'\n",
              "      break\n",
              "    }\n",
              "  }\n",
              "  "
            ],
            "text/plain": [
              "<IPython.core.display.Javascript object>"
            ]
          },
          "metadata": {}
        },
        {
          "output_type": "stream",
          "name": "stdout",
          "text": [
            "\n",
            "\n",
            "----------------------------------- Script Complete -------------------------------\n",
            "2022-02-24 00:31:29.178054\n",
            "Transcription files + more in folder: \n",
            " /content/vid2cleantxt_demo/wav2vec2_sf_transcript\n",
            "More specifically, best transcriptions in: \n",
            " /content/vid2cleantxt_demo/wav2vec2_sf_transcript/FULLY_COMPLETE\n",
            "Metadata for each transcription located @ \n",
            " /content/vid2cleantxt_demo/wav2vec2_sf_metadata\n"
          ]
        }
      ],
      "source": [
        "#@title  Exit block\n",
        "increase_font()\n",
        "print(\n",
        "    \"\\n\\n----------------------------------- Script Complete -------------------------------\"\n",
        ")\n",
        "print(datetime.now())\n",
        "print(\"Transcription files + more in folder: \\n\", output_path_transcript)\n",
        "print(\"More specifically, best transcriptions in: \\n\", PL_out.get(\"SBD_dir\"))\n",
        "print(\"Metadata for each transcription located @ \\n\", output_path_metadata)"
      ]
    }
  ],
  "metadata": {
    "accelerator": "GPU",
    "colab": {
      "background_execution": "on",
      "collapsed_sections": [
        "9gqce-JlruPm",
        "mqtG5izgiOng"
      ],
      "machine_shape": "hm",
      "name": "vid2cleantext-single-demo.ipynb",
      "provenance": [],
      "toc_visible": true,
      "include_colab_link": true
    },
    "kernelspec": {
      "display_name": "Python 3",
      "name": "python3"
    },
    "widgets": {
      "application/vnd.jupyter.widget-state+json": {
        "6a84af0b82004731bafc06693ddf8042": {
          "model_module": "@jupyter-widgets/controls",
          "model_name": "HBoxModel",
          "model_module_version": "1.5.0",
          "state": {
            "_view_name": "HBoxView",
            "_dom_classes": [],
            "_model_name": "HBoxModel",
            "_view_module": "@jupyter-widgets/controls",
            "_model_module_version": "1.5.0",
            "_view_count": null,
            "_view_module_version": "1.5.0",
            "box_style": "",
            "layout": "IPY_MODEL_d41e49c0f34643ea9a48f3b747c65662",
            "_model_module": "@jupyter-widgets/controls",
            "children": [
              "IPY_MODEL_92139c55ca564354bb25161139730fd1",
              "IPY_MODEL_1707440cad3b443289c8e12a460cd962",
              "IPY_MODEL_28adab32b0e84238b8296e4f9aa00366"
            ]
          }
        },
        "d41e49c0f34643ea9a48f3b747c65662": {
          "model_module": "@jupyter-widgets/base",
          "model_name": "LayoutModel",
          "model_module_version": "1.2.0",
          "state": {
            "_view_name": "LayoutView",
            "grid_template_rows": null,
            "right": null,
            "justify_content": null,
            "_view_module": "@jupyter-widgets/base",
            "overflow": null,
            "_model_module_version": "1.2.0",
            "_view_count": null,
            "flex_flow": null,
            "width": null,
            "min_width": null,
            "border": null,
            "align_items": null,
            "bottom": null,
            "_model_module": "@jupyter-widgets/base",
            "top": null,
            "grid_column": null,
            "overflow_y": null,
            "overflow_x": null,
            "grid_auto_flow": null,
            "grid_area": null,
            "grid_template_columns": null,
            "flex": null,
            "_model_name": "LayoutModel",
            "justify_items": null,
            "grid_row": null,
            "max_height": null,
            "align_content": null,
            "visibility": null,
            "align_self": null,
            "height": null,
            "min_height": null,
            "padding": null,
            "grid_auto_rows": null,
            "grid_gap": null,
            "max_width": null,
            "order": null,
            "_view_module_version": "1.2.0",
            "grid_template_areas": null,
            "object_position": null,
            "object_fit": null,
            "grid_auto_columns": null,
            "margin": null,
            "display": null,
            "left": null
          }
        },
        "92139c55ca564354bb25161139730fd1": {
          "model_module": "@jupyter-widgets/controls",
          "model_name": "HTMLModel",
          "model_module_version": "1.5.0",
          "state": {
            "_view_name": "HTMLView",
            "style": "IPY_MODEL_b8ce9aa68b6745b98cf5f1dc6847ebd5",
            "_dom_classes": [],
            "description": "",
            "_model_name": "HTMLModel",
            "placeholder": "​",
            "_view_module": "@jupyter-widgets/controls",
            "_model_module_version": "1.5.0",
            "value": "Downloading: 100%",
            "_view_count": null,
            "_view_module_version": "1.5.0",
            "description_tooltip": null,
            "_model_module": "@jupyter-widgets/controls",
            "layout": "IPY_MODEL_f7e129d275dd4b7ba7c65608a3c70998"
          }
        },
        "1707440cad3b443289c8e12a460cd962": {
          "model_module": "@jupyter-widgets/controls",
          "model_name": "FloatProgressModel",
          "model_module_version": "1.5.0",
          "state": {
            "_view_name": "ProgressView",
            "style": "IPY_MODEL_c4d54c1a3201484da4e4111369c1caa9",
            "_dom_classes": [],
            "description": "",
            "_model_name": "FloatProgressModel",
            "bar_style": "success",
            "max": 29,
            "_view_module": "@jupyter-widgets/controls",
            "_model_module_version": "1.5.0",
            "value": 29,
            "_view_count": null,
            "_view_module_version": "1.5.0",
            "orientation": "horizontal",
            "min": 0,
            "description_tooltip": null,
            "_model_module": "@jupyter-widgets/controls",
            "layout": "IPY_MODEL_ce118a0a43ae4f2fb21c55389b32e7ef"
          }
        },
        "28adab32b0e84238b8296e4f9aa00366": {
          "model_module": "@jupyter-widgets/controls",
          "model_name": "HTMLModel",
          "model_module_version": "1.5.0",
          "state": {
            "_view_name": "HTMLView",
            "style": "IPY_MODEL_e2d1edd119ab43dabb6d34a7e2f13752",
            "_dom_classes": [],
            "description": "",
            "_model_name": "HTMLModel",
            "placeholder": "​",
            "_view_module": "@jupyter-widgets/controls",
            "_model_module_version": "1.5.0",
            "value": " 29.0/29.0 [00:00&lt;00:00, 1.09kB/s]",
            "_view_count": null,
            "_view_module_version": "1.5.0",
            "description_tooltip": null,
            "_model_module": "@jupyter-widgets/controls",
            "layout": "IPY_MODEL_60ff9d964151489d801efb3c37baa5f0"
          }
        },
        "b8ce9aa68b6745b98cf5f1dc6847ebd5": {
          "model_module": "@jupyter-widgets/controls",
          "model_name": "DescriptionStyleModel",
          "model_module_version": "1.5.0",
          "state": {
            "_view_name": "StyleView",
            "_model_name": "DescriptionStyleModel",
            "description_width": "",
            "_view_module": "@jupyter-widgets/base",
            "_model_module_version": "1.5.0",
            "_view_count": null,
            "_view_module_version": "1.2.0",
            "_model_module": "@jupyter-widgets/controls"
          }
        },
        "f7e129d275dd4b7ba7c65608a3c70998": {
          "model_module": "@jupyter-widgets/base",
          "model_name": "LayoutModel",
          "model_module_version": "1.2.0",
          "state": {
            "_view_name": "LayoutView",
            "grid_template_rows": null,
            "right": null,
            "justify_content": null,
            "_view_module": "@jupyter-widgets/base",
            "overflow": null,
            "_model_module_version": "1.2.0",
            "_view_count": null,
            "flex_flow": null,
            "width": null,
            "min_width": null,
            "border": null,
            "align_items": null,
            "bottom": null,
            "_model_module": "@jupyter-widgets/base",
            "top": null,
            "grid_column": null,
            "overflow_y": null,
            "overflow_x": null,
            "grid_auto_flow": null,
            "grid_area": null,
            "grid_template_columns": null,
            "flex": null,
            "_model_name": "LayoutModel",
            "justify_items": null,
            "grid_row": null,
            "max_height": null,
            "align_content": null,
            "visibility": null,
            "align_self": null,
            "height": null,
            "min_height": null,
            "padding": null,
            "grid_auto_rows": null,
            "grid_gap": null,
            "max_width": null,
            "order": null,
            "_view_module_version": "1.2.0",
            "grid_template_areas": null,
            "object_position": null,
            "object_fit": null,
            "grid_auto_columns": null,
            "margin": null,
            "display": null,
            "left": null
          }
        },
        "c4d54c1a3201484da4e4111369c1caa9": {
          "model_module": "@jupyter-widgets/controls",
          "model_name": "ProgressStyleModel",
          "model_module_version": "1.5.0",
          "state": {
            "_view_name": "StyleView",
            "_model_name": "ProgressStyleModel",
            "description_width": "",
            "_view_module": "@jupyter-widgets/base",
            "_model_module_version": "1.5.0",
            "_view_count": null,
            "_view_module_version": "1.2.0",
            "bar_color": null,
            "_model_module": "@jupyter-widgets/controls"
          }
        },
        "ce118a0a43ae4f2fb21c55389b32e7ef": {
          "model_module": "@jupyter-widgets/base",
          "model_name": "LayoutModel",
          "model_module_version": "1.2.0",
          "state": {
            "_view_name": "LayoutView",
            "grid_template_rows": null,
            "right": null,
            "justify_content": null,
            "_view_module": "@jupyter-widgets/base",
            "overflow": null,
            "_model_module_version": "1.2.0",
            "_view_count": null,
            "flex_flow": null,
            "width": null,
            "min_width": null,
            "border": null,
            "align_items": null,
            "bottom": null,
            "_model_module": "@jupyter-widgets/base",
            "top": null,
            "grid_column": null,
            "overflow_y": null,
            "overflow_x": null,
            "grid_auto_flow": null,
            "grid_area": null,
            "grid_template_columns": null,
            "flex": null,
            "_model_name": "LayoutModel",
            "justify_items": null,
            "grid_row": null,
            "max_height": null,
            "align_content": null,
            "visibility": null,
            "align_self": null,
            "height": null,
            "min_height": null,
            "padding": null,
            "grid_auto_rows": null,
            "grid_gap": null,
            "max_width": null,
            "order": null,
            "_view_module_version": "1.2.0",
            "grid_template_areas": null,
            "object_position": null,
            "object_fit": null,
            "grid_auto_columns": null,
            "margin": null,
            "display": null,
            "left": null
          }
        },
        "e2d1edd119ab43dabb6d34a7e2f13752": {
          "model_module": "@jupyter-widgets/controls",
          "model_name": "DescriptionStyleModel",
          "model_module_version": "1.5.0",
          "state": {
            "_view_name": "StyleView",
            "_model_name": "DescriptionStyleModel",
            "description_width": "",
            "_view_module": "@jupyter-widgets/base",
            "_model_module_version": "1.5.0",
            "_view_count": null,
            "_view_module_version": "1.2.0",
            "_model_module": "@jupyter-widgets/controls"
          }
        },
        "60ff9d964151489d801efb3c37baa5f0": {
          "model_module": "@jupyter-widgets/base",
          "model_name": "LayoutModel",
          "model_module_version": "1.2.0",
          "state": {
            "_view_name": "LayoutView",
            "grid_template_rows": null,
            "right": null,
            "justify_content": null,
            "_view_module": "@jupyter-widgets/base",
            "overflow": null,
            "_model_module_version": "1.2.0",
            "_view_count": null,
            "flex_flow": null,
            "width": null,
            "min_width": null,
            "border": null,
            "align_items": null,
            "bottom": null,
            "_model_module": "@jupyter-widgets/base",
            "top": null,
            "grid_column": null,
            "overflow_y": null,
            "overflow_x": null,
            "grid_auto_flow": null,
            "grid_area": null,
            "grid_template_columns": null,
            "flex": null,
            "_model_name": "LayoutModel",
            "justify_items": null,
            "grid_row": null,
            "max_height": null,
            "align_content": null,
            "visibility": null,
            "align_self": null,
            "height": null,
            "min_height": null,
            "padding": null,
            "grid_auto_rows": null,
            "grid_gap": null,
            "max_width": null,
            "order": null,
            "_view_module_version": "1.2.0",
            "grid_template_areas": null,
            "object_position": null,
            "object_fit": null,
            "grid_auto_columns": null,
            "margin": null,
            "display": null,
            "left": null
          }
        },
        "bcac201540684947912b1e54b25d033d": {
          "model_module": "@jupyter-widgets/controls",
          "model_name": "HBoxModel",
          "model_module_version": "1.5.0",
          "state": {
            "_view_name": "HBoxView",
            "_dom_classes": [],
            "_model_name": "HBoxModel",
            "_view_module": "@jupyter-widgets/controls",
            "_model_module_version": "1.5.0",
            "_view_count": null,
            "_view_module_version": "1.5.0",
            "box_style": "",
            "layout": "IPY_MODEL_4f6c9f5663fb49d689f75699be8f6f59",
            "_model_module": "@jupyter-widgets/controls",
            "children": [
              "IPY_MODEL_8350f9059a5343d8bdb08618559f11e7",
              "IPY_MODEL_6763283a6cf14759ab34a0af82472274",
              "IPY_MODEL_4566017e333e41d79d77ada8c8ca1c3a"
            ]
          }
        },
        "4f6c9f5663fb49d689f75699be8f6f59": {
          "model_module": "@jupyter-widgets/base",
          "model_name": "LayoutModel",
          "model_module_version": "1.2.0",
          "state": {
            "_view_name": "LayoutView",
            "grid_template_rows": null,
            "right": null,
            "justify_content": null,
            "_view_module": "@jupyter-widgets/base",
            "overflow": null,
            "_model_module_version": "1.2.0",
            "_view_count": null,
            "flex_flow": null,
            "width": null,
            "min_width": null,
            "border": null,
            "align_items": null,
            "bottom": null,
            "_model_module": "@jupyter-widgets/base",
            "top": null,
            "grid_column": null,
            "overflow_y": null,
            "overflow_x": null,
            "grid_auto_flow": null,
            "grid_area": null,
            "grid_template_columns": null,
            "flex": null,
            "_model_name": "LayoutModel",
            "justify_items": null,
            "grid_row": null,
            "max_height": null,
            "align_content": null,
            "visibility": null,
            "align_self": null,
            "height": null,
            "min_height": null,
            "padding": null,
            "grid_auto_rows": null,
            "grid_gap": null,
            "max_width": null,
            "order": null,
            "_view_module_version": "1.2.0",
            "grid_template_areas": null,
            "object_position": null,
            "object_fit": null,
            "grid_auto_columns": null,
            "margin": null,
            "display": null,
            "left": null
          }
        },
        "8350f9059a5343d8bdb08618559f11e7": {
          "model_module": "@jupyter-widgets/controls",
          "model_name": "HTMLModel",
          "model_module_version": "1.5.0",
          "state": {
            "_view_name": "HTMLView",
            "style": "IPY_MODEL_db57df09efa84ddc8ec23f1037958fca",
            "_dom_classes": [],
            "description": "",
            "_model_name": "HTMLModel",
            "placeholder": "​",
            "_view_module": "@jupyter-widgets/controls",
            "_model_module_version": "1.5.0",
            "value": "Downloading: 100%",
            "_view_count": null,
            "_view_module_version": "1.5.0",
            "description_tooltip": null,
            "_model_module": "@jupyter-widgets/controls",
            "layout": "IPY_MODEL_b77d0799854845c59e5382d764f3b15f"
          }
        },
        "6763283a6cf14759ab34a0af82472274": {
          "model_module": "@jupyter-widgets/controls",
          "model_name": "FloatProgressModel",
          "model_module_version": "1.5.0",
          "state": {
            "_view_name": "ProgressView",
            "style": "IPY_MODEL_3834aa5c2ced47fa813ba477646ede35",
            "_dom_classes": [],
            "description": "",
            "_model_name": "FloatProgressModel",
            "bar_style": "success",
            "max": 213450,
            "_view_module": "@jupyter-widgets/controls",
            "_model_module_version": "1.5.0",
            "value": 213450,
            "_view_count": null,
            "_view_module_version": "1.5.0",
            "orientation": "horizontal",
            "min": 0,
            "description_tooltip": null,
            "_model_module": "@jupyter-widgets/controls",
            "layout": "IPY_MODEL_568cf72006534cb782a2ab890f0e1004"
          }
        },
        "4566017e333e41d79d77ada8c8ca1c3a": {
          "model_module": "@jupyter-widgets/controls",
          "model_name": "HTMLModel",
          "model_module_version": "1.5.0",
          "state": {
            "_view_name": "HTMLView",
            "style": "IPY_MODEL_ef7d0c89f92e40f98c382f9718f6cdf1",
            "_dom_classes": [],
            "description": "",
            "_model_name": "HTMLModel",
            "placeholder": "​",
            "_view_module": "@jupyter-widgets/controls",
            "_model_module_version": "1.5.0",
            "value": " 208k/208k [00:00&lt;00:00, 252kB/s]",
            "_view_count": null,
            "_view_module_version": "1.5.0",
            "description_tooltip": null,
            "_model_module": "@jupyter-widgets/controls",
            "layout": "IPY_MODEL_3499c46c7ac546bc9275b333aea9385a"
          }
        },
        "db57df09efa84ddc8ec23f1037958fca": {
          "model_module": "@jupyter-widgets/controls",
          "model_name": "DescriptionStyleModel",
          "model_module_version": "1.5.0",
          "state": {
            "_view_name": "StyleView",
            "_model_name": "DescriptionStyleModel",
            "description_width": "",
            "_view_module": "@jupyter-widgets/base",
            "_model_module_version": "1.5.0",
            "_view_count": null,
            "_view_module_version": "1.2.0",
            "_model_module": "@jupyter-widgets/controls"
          }
        },
        "b77d0799854845c59e5382d764f3b15f": {
          "model_module": "@jupyter-widgets/base",
          "model_name": "LayoutModel",
          "model_module_version": "1.2.0",
          "state": {
            "_view_name": "LayoutView",
            "grid_template_rows": null,
            "right": null,
            "justify_content": null,
            "_view_module": "@jupyter-widgets/base",
            "overflow": null,
            "_model_module_version": "1.2.0",
            "_view_count": null,
            "flex_flow": null,
            "width": null,
            "min_width": null,
            "border": null,
            "align_items": null,
            "bottom": null,
            "_model_module": "@jupyter-widgets/base",
            "top": null,
            "grid_column": null,
            "overflow_y": null,
            "overflow_x": null,
            "grid_auto_flow": null,
            "grid_area": null,
            "grid_template_columns": null,
            "flex": null,
            "_model_name": "LayoutModel",
            "justify_items": null,
            "grid_row": null,
            "max_height": null,
            "align_content": null,
            "visibility": null,
            "align_self": null,
            "height": null,
            "min_height": null,
            "padding": null,
            "grid_auto_rows": null,
            "grid_gap": null,
            "max_width": null,
            "order": null,
            "_view_module_version": "1.2.0",
            "grid_template_areas": null,
            "object_position": null,
            "object_fit": null,
            "grid_auto_columns": null,
            "margin": null,
            "display": null,
            "left": null
          }
        },
        "3834aa5c2ced47fa813ba477646ede35": {
          "model_module": "@jupyter-widgets/controls",
          "model_name": "ProgressStyleModel",
          "model_module_version": "1.5.0",
          "state": {
            "_view_name": "StyleView",
            "_model_name": "ProgressStyleModel",
            "description_width": "",
            "_view_module": "@jupyter-widgets/base",
            "_model_module_version": "1.5.0",
            "_view_count": null,
            "_view_module_version": "1.2.0",
            "bar_color": null,
            "_model_module": "@jupyter-widgets/controls"
          }
        },
        "568cf72006534cb782a2ab890f0e1004": {
          "model_module": "@jupyter-widgets/base",
          "model_name": "LayoutModel",
          "model_module_version": "1.2.0",
          "state": {
            "_view_name": "LayoutView",
            "grid_template_rows": null,
            "right": null,
            "justify_content": null,
            "_view_module": "@jupyter-widgets/base",
            "overflow": null,
            "_model_module_version": "1.2.0",
            "_view_count": null,
            "flex_flow": null,
            "width": null,
            "min_width": null,
            "border": null,
            "align_items": null,
            "bottom": null,
            "_model_module": "@jupyter-widgets/base",
            "top": null,
            "grid_column": null,
            "overflow_y": null,
            "overflow_x": null,
            "grid_auto_flow": null,
            "grid_area": null,
            "grid_template_columns": null,
            "flex": null,
            "_model_name": "LayoutModel",
            "justify_items": null,
            "grid_row": null,
            "max_height": null,
            "align_content": null,
            "visibility": null,
            "align_self": null,
            "height": null,
            "min_height": null,
            "padding": null,
            "grid_auto_rows": null,
            "grid_gap": null,
            "max_width": null,
            "order": null,
            "_view_module_version": "1.2.0",
            "grid_template_areas": null,
            "object_position": null,
            "object_fit": null,
            "grid_auto_columns": null,
            "margin": null,
            "display": null,
            "left": null
          }
        },
        "ef7d0c89f92e40f98c382f9718f6cdf1": {
          "model_module": "@jupyter-widgets/controls",
          "model_name": "DescriptionStyleModel",
          "model_module_version": "1.5.0",
          "state": {
            "_view_name": "StyleView",
            "_model_name": "DescriptionStyleModel",
            "description_width": "",
            "_view_module": "@jupyter-widgets/base",
            "_model_module_version": "1.5.0",
            "_view_count": null,
            "_view_module_version": "1.2.0",
            "_model_module": "@jupyter-widgets/controls"
          }
        },
        "3499c46c7ac546bc9275b333aea9385a": {
          "model_module": "@jupyter-widgets/base",
          "model_name": "LayoutModel",
          "model_module_version": "1.2.0",
          "state": {
            "_view_name": "LayoutView",
            "grid_template_rows": null,
            "right": null,
            "justify_content": null,
            "_view_module": "@jupyter-widgets/base",
            "overflow": null,
            "_model_module_version": "1.2.0",
            "_view_count": null,
            "flex_flow": null,
            "width": null,
            "min_width": null,
            "border": null,
            "align_items": null,
            "bottom": null,
            "_model_module": "@jupyter-widgets/base",
            "top": null,
            "grid_column": null,
            "overflow_y": null,
            "overflow_x": null,
            "grid_auto_flow": null,
            "grid_area": null,
            "grid_template_columns": null,
            "flex": null,
            "_model_name": "LayoutModel",
            "justify_items": null,
            "grid_row": null,
            "max_height": null,
            "align_content": null,
            "visibility": null,
            "align_self": null,
            "height": null,
            "min_height": null,
            "padding": null,
            "grid_auto_rows": null,
            "grid_gap": null,
            "max_width": null,
            "order": null,
            "_view_module_version": "1.2.0",
            "grid_template_areas": null,
            "object_position": null,
            "object_fit": null,
            "grid_auto_columns": null,
            "margin": null,
            "display": null,
            "left": null
          }
        },
        "8f9ee12ddae5462dac9550dd2010ae5c": {
          "model_module": "@jupyter-widgets/controls",
          "model_name": "HBoxModel",
          "model_module_version": "1.5.0",
          "state": {
            "_view_name": "HBoxView",
            "_dom_classes": [],
            "_model_name": "HBoxModel",
            "_view_module": "@jupyter-widgets/controls",
            "_model_module_version": "1.5.0",
            "_view_count": null,
            "_view_module_version": "1.5.0",
            "box_style": "",
            "layout": "IPY_MODEL_321763db8bd344bd8bfda4493ab5308a",
            "_model_module": "@jupyter-widgets/controls",
            "children": [
              "IPY_MODEL_db540989536441248faadad48406682e",
              "IPY_MODEL_09058a930ce44ba6810ece10738bdaa6",
              "IPY_MODEL_e65cde6d653c4c7dbd7730df7f5be4e4"
            ]
          }
        },
        "321763db8bd344bd8bfda4493ab5308a": {
          "model_module": "@jupyter-widgets/base",
          "model_name": "LayoutModel",
          "model_module_version": "1.2.0",
          "state": {
            "_view_name": "LayoutView",
            "grid_template_rows": null,
            "right": null,
            "justify_content": null,
            "_view_module": "@jupyter-widgets/base",
            "overflow": null,
            "_model_module_version": "1.2.0",
            "_view_count": null,
            "flex_flow": null,
            "width": null,
            "min_width": null,
            "border": null,
            "align_items": null,
            "bottom": null,
            "_model_module": "@jupyter-widgets/base",
            "top": null,
            "grid_column": null,
            "overflow_y": null,
            "overflow_x": null,
            "grid_auto_flow": null,
            "grid_area": null,
            "grid_template_columns": null,
            "flex": null,
            "_model_name": "LayoutModel",
            "justify_items": null,
            "grid_row": null,
            "max_height": null,
            "align_content": null,
            "visibility": null,
            "align_self": null,
            "height": null,
            "min_height": null,
            "padding": null,
            "grid_auto_rows": null,
            "grid_gap": null,
            "max_width": null,
            "order": null,
            "_view_module_version": "1.2.0",
            "grid_template_areas": null,
            "object_position": null,
            "object_fit": null,
            "grid_auto_columns": null,
            "margin": null,
            "display": null,
            "left": null
          }
        },
        "db540989536441248faadad48406682e": {
          "model_module": "@jupyter-widgets/controls",
          "model_name": "HTMLModel",
          "model_module_version": "1.5.0",
          "state": {
            "_view_name": "HTMLView",
            "style": "IPY_MODEL_49aa2a22affc4494883c2c5d707c6411",
            "_dom_classes": [],
            "description": "",
            "_model_name": "HTMLModel",
            "placeholder": "​",
            "_view_module": "@jupyter-widgets/controls",
            "_model_module_version": "1.5.0",
            "value": "Downloading: 100%",
            "_view_count": null,
            "_view_module_version": "1.5.0",
            "description_tooltip": null,
            "_model_module": "@jupyter-widgets/controls",
            "layout": "IPY_MODEL_9e26dac2ef8d46218ac7a51fa102ef20"
          }
        },
        "09058a930ce44ba6810ece10738bdaa6": {
          "model_module": "@jupyter-widgets/controls",
          "model_name": "FloatProgressModel",
          "model_module_version": "1.5.0",
          "state": {
            "_view_name": "ProgressView",
            "style": "IPY_MODEL_b3988aae3e714344893cb6dad5b56b7e",
            "_dom_classes": [],
            "description": "",
            "_model_name": "FloatProgressModel",
            "bar_style": "success",
            "max": 435797,
            "_view_module": "@jupyter-widgets/controls",
            "_model_module_version": "1.5.0",
            "value": 435797,
            "_view_count": null,
            "_view_module_version": "1.5.0",
            "orientation": "horizontal",
            "min": 0,
            "description_tooltip": null,
            "_model_module": "@jupyter-widgets/controls",
            "layout": "IPY_MODEL_9f18994a2ef3428c9defa93f1314daef"
          }
        },
        "e65cde6d653c4c7dbd7730df7f5be4e4": {
          "model_module": "@jupyter-widgets/controls",
          "model_name": "HTMLModel",
          "model_module_version": "1.5.0",
          "state": {
            "_view_name": "HTMLView",
            "style": "IPY_MODEL_c3a97f4dab1445a58acfc61ebfea42b7",
            "_dom_classes": [],
            "description": "",
            "_model_name": "HTMLModel",
            "placeholder": "​",
            "_view_module": "@jupyter-widgets/controls",
            "_model_module_version": "1.5.0",
            "value": " 426k/426k [00:00&lt;00:00, 604kB/s]",
            "_view_count": null,
            "_view_module_version": "1.5.0",
            "description_tooltip": null,
            "_model_module": "@jupyter-widgets/controls",
            "layout": "IPY_MODEL_1b75fdf3c65741e485195c30edc34d85"
          }
        },
        "49aa2a22affc4494883c2c5d707c6411": {
          "model_module": "@jupyter-widgets/controls",
          "model_name": "DescriptionStyleModel",
          "model_module_version": "1.5.0",
          "state": {
            "_view_name": "StyleView",
            "_model_name": "DescriptionStyleModel",
            "description_width": "",
            "_view_module": "@jupyter-widgets/base",
            "_model_module_version": "1.5.0",
            "_view_count": null,
            "_view_module_version": "1.2.0",
            "_model_module": "@jupyter-widgets/controls"
          }
        },
        "9e26dac2ef8d46218ac7a51fa102ef20": {
          "model_module": "@jupyter-widgets/base",
          "model_name": "LayoutModel",
          "model_module_version": "1.2.0",
          "state": {
            "_view_name": "LayoutView",
            "grid_template_rows": null,
            "right": null,
            "justify_content": null,
            "_view_module": "@jupyter-widgets/base",
            "overflow": null,
            "_model_module_version": "1.2.0",
            "_view_count": null,
            "flex_flow": null,
            "width": null,
            "min_width": null,
            "border": null,
            "align_items": null,
            "bottom": null,
            "_model_module": "@jupyter-widgets/base",
            "top": null,
            "grid_column": null,
            "overflow_y": null,
            "overflow_x": null,
            "grid_auto_flow": null,
            "grid_area": null,
            "grid_template_columns": null,
            "flex": null,
            "_model_name": "LayoutModel",
            "justify_items": null,
            "grid_row": null,
            "max_height": null,
            "align_content": null,
            "visibility": null,
            "align_self": null,
            "height": null,
            "min_height": null,
            "padding": null,
            "grid_auto_rows": null,
            "grid_gap": null,
            "max_width": null,
            "order": null,
            "_view_module_version": "1.2.0",
            "grid_template_areas": null,
            "object_position": null,
            "object_fit": null,
            "grid_auto_columns": null,
            "margin": null,
            "display": null,
            "left": null
          }
        },
        "b3988aae3e714344893cb6dad5b56b7e": {
          "model_module": "@jupyter-widgets/controls",
          "model_name": "ProgressStyleModel",
          "model_module_version": "1.5.0",
          "state": {
            "_view_name": "StyleView",
            "_model_name": "ProgressStyleModel",
            "description_width": "",
            "_view_module": "@jupyter-widgets/base",
            "_model_module_version": "1.5.0",
            "_view_count": null,
            "_view_module_version": "1.2.0",
            "bar_color": null,
            "_model_module": "@jupyter-widgets/controls"
          }
        },
        "9f18994a2ef3428c9defa93f1314daef": {
          "model_module": "@jupyter-widgets/base",
          "model_name": "LayoutModel",
          "model_module_version": "1.2.0",
          "state": {
            "_view_name": "LayoutView",
            "grid_template_rows": null,
            "right": null,
            "justify_content": null,
            "_view_module": "@jupyter-widgets/base",
            "overflow": null,
            "_model_module_version": "1.2.0",
            "_view_count": null,
            "flex_flow": null,
            "width": null,
            "min_width": null,
            "border": null,
            "align_items": null,
            "bottom": null,
            "_model_module": "@jupyter-widgets/base",
            "top": null,
            "grid_column": null,
            "overflow_y": null,
            "overflow_x": null,
            "grid_auto_flow": null,
            "grid_area": null,
            "grid_template_columns": null,
            "flex": null,
            "_model_name": "LayoutModel",
            "justify_items": null,
            "grid_row": null,
            "max_height": null,
            "align_content": null,
            "visibility": null,
            "align_self": null,
            "height": null,
            "min_height": null,
            "padding": null,
            "grid_auto_rows": null,
            "grid_gap": null,
            "max_width": null,
            "order": null,
            "_view_module_version": "1.2.0",
            "grid_template_areas": null,
            "object_position": null,
            "object_fit": null,
            "grid_auto_columns": null,
            "margin": null,
            "display": null,
            "left": null
          }
        },
        "c3a97f4dab1445a58acfc61ebfea42b7": {
          "model_module": "@jupyter-widgets/controls",
          "model_name": "DescriptionStyleModel",
          "model_module_version": "1.5.0",
          "state": {
            "_view_name": "StyleView",
            "_model_name": "DescriptionStyleModel",
            "description_width": "",
            "_view_module": "@jupyter-widgets/base",
            "_model_module_version": "1.5.0",
            "_view_count": null,
            "_view_module_version": "1.2.0",
            "_model_module": "@jupyter-widgets/controls"
          }
        },
        "1b75fdf3c65741e485195c30edc34d85": {
          "model_module": "@jupyter-widgets/base",
          "model_name": "LayoutModel",
          "model_module_version": "1.2.0",
          "state": {
            "_view_name": "LayoutView",
            "grid_template_rows": null,
            "right": null,
            "justify_content": null,
            "_view_module": "@jupyter-widgets/base",
            "overflow": null,
            "_model_module_version": "1.2.0",
            "_view_count": null,
            "flex_flow": null,
            "width": null,
            "min_width": null,
            "border": null,
            "align_items": null,
            "bottom": null,
            "_model_module": "@jupyter-widgets/base",
            "top": null,
            "grid_column": null,
            "overflow_y": null,
            "overflow_x": null,
            "grid_auto_flow": null,
            "grid_area": null,
            "grid_template_columns": null,
            "flex": null,
            "_model_name": "LayoutModel",
            "justify_items": null,
            "grid_row": null,
            "max_height": null,
            "align_content": null,
            "visibility": null,
            "align_self": null,
            "height": null,
            "min_height": null,
            "padding": null,
            "grid_auto_rows": null,
            "grid_gap": null,
            "max_width": null,
            "order": null,
            "_view_module_version": "1.2.0",
            "grid_template_areas": null,
            "object_position": null,
            "object_fit": null,
            "grid_auto_columns": null,
            "margin": null,
            "display": null,
            "left": null
          }
        },
        "f9e41c71f83d498fa3c3acc56f165d8b": {
          "model_module": "@jupyter-widgets/controls",
          "model_name": "HBoxModel",
          "model_module_version": "1.5.0",
          "state": {
            "_view_name": "HBoxView",
            "_dom_classes": [],
            "_model_name": "HBoxModel",
            "_view_module": "@jupyter-widgets/controls",
            "_model_module_version": "1.5.0",
            "_view_count": null,
            "_view_module_version": "1.5.0",
            "box_style": "",
            "layout": "IPY_MODEL_b73c38544bf4434a890f0cb69f1f0082",
            "_model_module": "@jupyter-widgets/controls",
            "children": [
              "IPY_MODEL_c8d9b1b11f37432cad3a599f37224d14",
              "IPY_MODEL_45251925020d4b5389af127476616e3a",
              "IPY_MODEL_6f3545f60b904aea848cd7f98453cad2"
            ]
          }
        },
        "b73c38544bf4434a890f0cb69f1f0082": {
          "model_module": "@jupyter-widgets/base",
          "model_name": "LayoutModel",
          "model_module_version": "1.2.0",
          "state": {
            "_view_name": "LayoutView",
            "grid_template_rows": null,
            "right": null,
            "justify_content": null,
            "_view_module": "@jupyter-widgets/base",
            "overflow": null,
            "_model_module_version": "1.2.0",
            "_view_count": null,
            "flex_flow": null,
            "width": null,
            "min_width": null,
            "border": null,
            "align_items": null,
            "bottom": null,
            "_model_module": "@jupyter-widgets/base",
            "top": null,
            "grid_column": null,
            "overflow_y": null,
            "overflow_x": null,
            "grid_auto_flow": null,
            "grid_area": null,
            "grid_template_columns": null,
            "flex": null,
            "_model_name": "LayoutModel",
            "justify_items": null,
            "grid_row": null,
            "max_height": null,
            "align_content": null,
            "visibility": null,
            "align_self": null,
            "height": null,
            "min_height": null,
            "padding": null,
            "grid_auto_rows": null,
            "grid_gap": null,
            "max_width": null,
            "order": null,
            "_view_module_version": "1.2.0",
            "grid_template_areas": null,
            "object_position": null,
            "object_fit": null,
            "grid_auto_columns": null,
            "margin": null,
            "display": null,
            "left": null
          }
        },
        "c8d9b1b11f37432cad3a599f37224d14": {
          "model_module": "@jupyter-widgets/controls",
          "model_name": "HTMLModel",
          "model_module_version": "1.5.0",
          "state": {
            "_view_name": "HTMLView",
            "style": "IPY_MODEL_933c5d83e91c46d68eabf1d69e08cea9",
            "_dom_classes": [],
            "description": "",
            "_model_name": "HTMLModel",
            "placeholder": "​",
            "_view_module": "@jupyter-widgets/controls",
            "_model_module_version": "1.5.0",
            "value": "Downloading: 100%",
            "_view_count": null,
            "_view_module_version": "1.5.0",
            "description_tooltip": null,
            "_model_module": "@jupyter-widgets/controls",
            "layout": "IPY_MODEL_d9e9cc00551742c58af2ce5543c6e001"
          }
        },
        "45251925020d4b5389af127476616e3a": {
          "model_module": "@jupyter-widgets/controls",
          "model_name": "FloatProgressModel",
          "model_module_version": "1.5.0",
          "state": {
            "_view_name": "ProgressView",
            "style": "IPY_MODEL_bc7fd4bc1a5b4482a53fe112309884ce",
            "_dom_classes": [],
            "description": "",
            "_model_name": "FloatProgressModel",
            "bar_style": "success",
            "max": 570,
            "_view_module": "@jupyter-widgets/controls",
            "_model_module_version": "1.5.0",
            "value": 570,
            "_view_count": null,
            "_view_module_version": "1.5.0",
            "orientation": "horizontal",
            "min": 0,
            "description_tooltip": null,
            "_model_module": "@jupyter-widgets/controls",
            "layout": "IPY_MODEL_ea5713571247415b960e62a40494b823"
          }
        },
        "6f3545f60b904aea848cd7f98453cad2": {
          "model_module": "@jupyter-widgets/controls",
          "model_name": "HTMLModel",
          "model_module_version": "1.5.0",
          "state": {
            "_view_name": "HTMLView",
            "style": "IPY_MODEL_135de8082cf6421bb00c02a3916fc077",
            "_dom_classes": [],
            "description": "",
            "_model_name": "HTMLModel",
            "placeholder": "​",
            "_view_module": "@jupyter-widgets/controls",
            "_model_module_version": "1.5.0",
            "value": " 570/570 [00:00&lt;00:00, 23.4kB/s]",
            "_view_count": null,
            "_view_module_version": "1.5.0",
            "description_tooltip": null,
            "_model_module": "@jupyter-widgets/controls",
            "layout": "IPY_MODEL_cbc6aecfb5724b84ac02fcd0f8d5b3bc"
          }
        },
        "933c5d83e91c46d68eabf1d69e08cea9": {
          "model_module": "@jupyter-widgets/controls",
          "model_name": "DescriptionStyleModel",
          "model_module_version": "1.5.0",
          "state": {
            "_view_name": "StyleView",
            "_model_name": "DescriptionStyleModel",
            "description_width": "",
            "_view_module": "@jupyter-widgets/base",
            "_model_module_version": "1.5.0",
            "_view_count": null,
            "_view_module_version": "1.2.0",
            "_model_module": "@jupyter-widgets/controls"
          }
        },
        "d9e9cc00551742c58af2ce5543c6e001": {
          "model_module": "@jupyter-widgets/base",
          "model_name": "LayoutModel",
          "model_module_version": "1.2.0",
          "state": {
            "_view_name": "LayoutView",
            "grid_template_rows": null,
            "right": null,
            "justify_content": null,
            "_view_module": "@jupyter-widgets/base",
            "overflow": null,
            "_model_module_version": "1.2.0",
            "_view_count": null,
            "flex_flow": null,
            "width": null,
            "min_width": null,
            "border": null,
            "align_items": null,
            "bottom": null,
            "_model_module": "@jupyter-widgets/base",
            "top": null,
            "grid_column": null,
            "overflow_y": null,
            "overflow_x": null,
            "grid_auto_flow": null,
            "grid_area": null,
            "grid_template_columns": null,
            "flex": null,
            "_model_name": "LayoutModel",
            "justify_items": null,
            "grid_row": null,
            "max_height": null,
            "align_content": null,
            "visibility": null,
            "align_self": null,
            "height": null,
            "min_height": null,
            "padding": null,
            "grid_auto_rows": null,
            "grid_gap": null,
            "max_width": null,
            "order": null,
            "_view_module_version": "1.2.0",
            "grid_template_areas": null,
            "object_position": null,
            "object_fit": null,
            "grid_auto_columns": null,
            "margin": null,
            "display": null,
            "left": null
          }
        },
        "bc7fd4bc1a5b4482a53fe112309884ce": {
          "model_module": "@jupyter-widgets/controls",
          "model_name": "ProgressStyleModel",
          "model_module_version": "1.5.0",
          "state": {
            "_view_name": "StyleView",
            "_model_name": "ProgressStyleModel",
            "description_width": "",
            "_view_module": "@jupyter-widgets/base",
            "_model_module_version": "1.5.0",
            "_view_count": null,
            "_view_module_version": "1.2.0",
            "bar_color": null,
            "_model_module": "@jupyter-widgets/controls"
          }
        },
        "ea5713571247415b960e62a40494b823": {
          "model_module": "@jupyter-widgets/base",
          "model_name": "LayoutModel",
          "model_module_version": "1.2.0",
          "state": {
            "_view_name": "LayoutView",
            "grid_template_rows": null,
            "right": null,
            "justify_content": null,
            "_view_module": "@jupyter-widgets/base",
            "overflow": null,
            "_model_module_version": "1.2.0",
            "_view_count": null,
            "flex_flow": null,
            "width": null,
            "min_width": null,
            "border": null,
            "align_items": null,
            "bottom": null,
            "_model_module": "@jupyter-widgets/base",
            "top": null,
            "grid_column": null,
            "overflow_y": null,
            "overflow_x": null,
            "grid_auto_flow": null,
            "grid_area": null,
            "grid_template_columns": null,
            "flex": null,
            "_model_name": "LayoutModel",
            "justify_items": null,
            "grid_row": null,
            "max_height": null,
            "align_content": null,
            "visibility": null,
            "align_self": null,
            "height": null,
            "min_height": null,
            "padding": null,
            "grid_auto_rows": null,
            "grid_gap": null,
            "max_width": null,
            "order": null,
            "_view_module_version": "1.2.0",
            "grid_template_areas": null,
            "object_position": null,
            "object_fit": null,
            "grid_auto_columns": null,
            "margin": null,
            "display": null,
            "left": null
          }
        },
        "135de8082cf6421bb00c02a3916fc077": {
          "model_module": "@jupyter-widgets/controls",
          "model_name": "DescriptionStyleModel",
          "model_module_version": "1.5.0",
          "state": {
            "_view_name": "StyleView",
            "_model_name": "DescriptionStyleModel",
            "description_width": "",
            "_view_module": "@jupyter-widgets/base",
            "_model_module_version": "1.5.0",
            "_view_count": null,
            "_view_module_version": "1.2.0",
            "_model_module": "@jupyter-widgets/controls"
          }
        },
        "cbc6aecfb5724b84ac02fcd0f8d5b3bc": {
          "model_module": "@jupyter-widgets/base",
          "model_name": "LayoutModel",
          "model_module_version": "1.2.0",
          "state": {
            "_view_name": "LayoutView",
            "grid_template_rows": null,
            "right": null,
            "justify_content": null,
            "_view_module": "@jupyter-widgets/base",
            "overflow": null,
            "_model_module_version": "1.2.0",
            "_view_count": null,
            "flex_flow": null,
            "width": null,
            "min_width": null,
            "border": null,
            "align_items": null,
            "bottom": null,
            "_model_module": "@jupyter-widgets/base",
            "top": null,
            "grid_column": null,
            "overflow_y": null,
            "overflow_x": null,
            "grid_auto_flow": null,
            "grid_area": null,
            "grid_template_columns": null,
            "flex": null,
            "_model_name": "LayoutModel",
            "justify_items": null,
            "grid_row": null,
            "max_height": null,
            "align_content": null,
            "visibility": null,
            "align_self": null,
            "height": null,
            "min_height": null,
            "padding": null,
            "grid_auto_rows": null,
            "grid_gap": null,
            "max_width": null,
            "order": null,
            "_view_module_version": "1.2.0",
            "grid_template_areas": null,
            "object_position": null,
            "object_fit": null,
            "grid_auto_columns": null,
            "margin": null,
            "display": null,
            "left": null
          }
        },
        "5c532ad2ce3c43799635f698c69ee24d": {
          "model_module": "@jupyter-widgets/controls",
          "model_name": "HBoxModel",
          "model_module_version": "1.5.0",
          "state": {
            "_view_name": "HBoxView",
            "_dom_classes": [],
            "_model_name": "HBoxModel",
            "_view_module": "@jupyter-widgets/controls",
            "_model_module_version": "1.5.0",
            "_view_count": null,
            "_view_module_version": "1.5.0",
            "box_style": "",
            "layout": "IPY_MODEL_5ff1c145295d4d4ea18c31548c9bf100",
            "_model_module": "@jupyter-widgets/controls",
            "children": [
              "IPY_MODEL_aa896b21767f426ea9450de7ed656931",
              "IPY_MODEL_5cb8502aeac54119a5796178ead90383",
              "IPY_MODEL_9f9c444d2c7c4268a0b35add61c31421"
            ]
          }
        },
        "5ff1c145295d4d4ea18c31548c9bf100": {
          "model_module": "@jupyter-widgets/base",
          "model_name": "LayoutModel",
          "model_module_version": "1.2.0",
          "state": {
            "_view_name": "LayoutView",
            "grid_template_rows": null,
            "right": null,
            "justify_content": null,
            "_view_module": "@jupyter-widgets/base",
            "overflow": null,
            "_model_module_version": "1.2.0",
            "_view_count": null,
            "flex_flow": null,
            "width": null,
            "min_width": null,
            "border": null,
            "align_items": null,
            "bottom": null,
            "_model_module": "@jupyter-widgets/base",
            "top": null,
            "grid_column": null,
            "overflow_y": null,
            "overflow_x": null,
            "grid_auto_flow": null,
            "grid_area": null,
            "grid_template_columns": null,
            "flex": null,
            "_model_name": "LayoutModel",
            "justify_items": null,
            "grid_row": null,
            "max_height": null,
            "align_content": null,
            "visibility": null,
            "align_self": null,
            "height": null,
            "min_height": null,
            "padding": null,
            "grid_auto_rows": null,
            "grid_gap": null,
            "max_width": null,
            "order": null,
            "_view_module_version": "1.2.0",
            "grid_template_areas": null,
            "object_position": null,
            "object_fit": null,
            "grid_auto_columns": null,
            "margin": null,
            "display": null,
            "left": null
          }
        },
        "aa896b21767f426ea9450de7ed656931": {
          "model_module": "@jupyter-widgets/controls",
          "model_name": "HTMLModel",
          "model_module_version": "1.5.0",
          "state": {
            "_view_name": "HTMLView",
            "style": "IPY_MODEL_6ace1d59e3ec4e599cdc2a4f965c75b1",
            "_dom_classes": [],
            "description": "",
            "_model_name": "HTMLModel",
            "placeholder": "​",
            "_view_module": "@jupyter-widgets/controls",
            "_model_module_version": "1.5.0",
            "value": "Downloading: 100%",
            "_view_count": null,
            "_view_module_version": "1.5.0",
            "description_tooltip": null,
            "_model_module": "@jupyter-widgets/controls",
            "layout": "IPY_MODEL_25b0f375a1d34b56a4e08eaa14398c84"
          }
        },
        "5cb8502aeac54119a5796178ead90383": {
          "model_module": "@jupyter-widgets/controls",
          "model_name": "FloatProgressModel",
          "model_module_version": "1.5.0",
          "state": {
            "_view_name": "ProgressView",
            "style": "IPY_MODEL_31b9c44b0b2c493b9594e57d302e8662",
            "_dom_classes": [],
            "description": "",
            "_model_name": "FloatProgressModel",
            "bar_style": "success",
            "max": 212,
            "_view_module": "@jupyter-widgets/controls",
            "_model_module_version": "1.5.0",
            "value": 212,
            "_view_count": null,
            "_view_module_version": "1.5.0",
            "orientation": "horizontal",
            "min": 0,
            "description_tooltip": null,
            "_model_module": "@jupyter-widgets/controls",
            "layout": "IPY_MODEL_6e494b8bf4384d37a97a4c8ac97718cb"
          }
        },
        "9f9c444d2c7c4268a0b35add61c31421": {
          "model_module": "@jupyter-widgets/controls",
          "model_name": "HTMLModel",
          "model_module_version": "1.5.0",
          "state": {
            "_view_name": "HTMLView",
            "style": "IPY_MODEL_ccde85c564374b0dafd84c67cbb5ddb1",
            "_dom_classes": [],
            "description": "",
            "_model_name": "HTMLModel",
            "placeholder": "​",
            "_view_module": "@jupyter-widgets/controls",
            "_model_module_version": "1.5.0",
            "value": " 212/212 [00:00&lt;00:00, 6.87kB/s]",
            "_view_count": null,
            "_view_module_version": "1.5.0",
            "description_tooltip": null,
            "_model_module": "@jupyter-widgets/controls",
            "layout": "IPY_MODEL_d8046e26e8584481926cd7969f111a95"
          }
        },
        "6ace1d59e3ec4e599cdc2a4f965c75b1": {
          "model_module": "@jupyter-widgets/controls",
          "model_name": "DescriptionStyleModel",
          "model_module_version": "1.5.0",
          "state": {
            "_view_name": "StyleView",
            "_model_name": "DescriptionStyleModel",
            "description_width": "",
            "_view_module": "@jupyter-widgets/base",
            "_model_module_version": "1.5.0",
            "_view_count": null,
            "_view_module_version": "1.2.0",
            "_model_module": "@jupyter-widgets/controls"
          }
        },
        "25b0f375a1d34b56a4e08eaa14398c84": {
          "model_module": "@jupyter-widgets/base",
          "model_name": "LayoutModel",
          "model_module_version": "1.2.0",
          "state": {
            "_view_name": "LayoutView",
            "grid_template_rows": null,
            "right": null,
            "justify_content": null,
            "_view_module": "@jupyter-widgets/base",
            "overflow": null,
            "_model_module_version": "1.2.0",
            "_view_count": null,
            "flex_flow": null,
            "width": null,
            "min_width": null,
            "border": null,
            "align_items": null,
            "bottom": null,
            "_model_module": "@jupyter-widgets/base",
            "top": null,
            "grid_column": null,
            "overflow_y": null,
            "overflow_x": null,
            "grid_auto_flow": null,
            "grid_area": null,
            "grid_template_columns": null,
            "flex": null,
            "_model_name": "LayoutModel",
            "justify_items": null,
            "grid_row": null,
            "max_height": null,
            "align_content": null,
            "visibility": null,
            "align_self": null,
            "height": null,
            "min_height": null,
            "padding": null,
            "grid_auto_rows": null,
            "grid_gap": null,
            "max_width": null,
            "order": null,
            "_view_module_version": "1.2.0",
            "grid_template_areas": null,
            "object_position": null,
            "object_fit": null,
            "grid_auto_columns": null,
            "margin": null,
            "display": null,
            "left": null
          }
        },
        "31b9c44b0b2c493b9594e57d302e8662": {
          "model_module": "@jupyter-widgets/controls",
          "model_name": "ProgressStyleModel",
          "model_module_version": "1.5.0",
          "state": {
            "_view_name": "StyleView",
            "_model_name": "ProgressStyleModel",
            "description_width": "",
            "_view_module": "@jupyter-widgets/base",
            "_model_module_version": "1.5.0",
            "_view_count": null,
            "_view_module_version": "1.2.0",
            "bar_color": null,
            "_model_module": "@jupyter-widgets/controls"
          }
        },
        "6e494b8bf4384d37a97a4c8ac97718cb": {
          "model_module": "@jupyter-widgets/base",
          "model_name": "LayoutModel",
          "model_module_version": "1.2.0",
          "state": {
            "_view_name": "LayoutView",
            "grid_template_rows": null,
            "right": null,
            "justify_content": null,
            "_view_module": "@jupyter-widgets/base",
            "overflow": null,
            "_model_module_version": "1.2.0",
            "_view_count": null,
            "flex_flow": null,
            "width": null,
            "min_width": null,
            "border": null,
            "align_items": null,
            "bottom": null,
            "_model_module": "@jupyter-widgets/base",
            "top": null,
            "grid_column": null,
            "overflow_y": null,
            "overflow_x": null,
            "grid_auto_flow": null,
            "grid_area": null,
            "grid_template_columns": null,
            "flex": null,
            "_model_name": "LayoutModel",
            "justify_items": null,
            "grid_row": null,
            "max_height": null,
            "align_content": null,
            "visibility": null,
            "align_self": null,
            "height": null,
            "min_height": null,
            "padding": null,
            "grid_auto_rows": null,
            "grid_gap": null,
            "max_width": null,
            "order": null,
            "_view_module_version": "1.2.0",
            "grid_template_areas": null,
            "object_position": null,
            "object_fit": null,
            "grid_auto_columns": null,
            "margin": null,
            "display": null,
            "left": null
          }
        },
        "ccde85c564374b0dafd84c67cbb5ddb1": {
          "model_module": "@jupyter-widgets/controls",
          "model_name": "DescriptionStyleModel",
          "model_module_version": "1.5.0",
          "state": {
            "_view_name": "StyleView",
            "_model_name": "DescriptionStyleModel",
            "description_width": "",
            "_view_module": "@jupyter-widgets/base",
            "_model_module_version": "1.5.0",
            "_view_count": null,
            "_view_module_version": "1.2.0",
            "_model_module": "@jupyter-widgets/controls"
          }
        },
        "d8046e26e8584481926cd7969f111a95": {
          "model_module": "@jupyter-widgets/base",
          "model_name": "LayoutModel",
          "model_module_version": "1.2.0",
          "state": {
            "_view_name": "LayoutView",
            "grid_template_rows": null,
            "right": null,
            "justify_content": null,
            "_view_module": "@jupyter-widgets/base",
            "overflow": null,
            "_model_module_version": "1.2.0",
            "_view_count": null,
            "flex_flow": null,
            "width": null,
            "min_width": null,
            "border": null,
            "align_items": null,
            "bottom": null,
            "_model_module": "@jupyter-widgets/base",
            "top": null,
            "grid_column": null,
            "overflow_y": null,
            "overflow_x": null,
            "grid_auto_flow": null,
            "grid_area": null,
            "grid_template_columns": null,
            "flex": null,
            "_model_name": "LayoutModel",
            "justify_items": null,
            "grid_row": null,
            "max_height": null,
            "align_content": null,
            "visibility": null,
            "align_self": null,
            "height": null,
            "min_height": null,
            "padding": null,
            "grid_auto_rows": null,
            "grid_gap": null,
            "max_width": null,
            "order": null,
            "_view_module_version": "1.2.0",
            "grid_template_areas": null,
            "object_position": null,
            "object_fit": null,
            "grid_auto_columns": null,
            "margin": null,
            "display": null,
            "left": null
          }
        },
        "7a014a4f2eec43809132af3ca610ce19": {
          "model_module": "@jupyter-widgets/controls",
          "model_name": "HBoxModel",
          "model_module_version": "1.5.0",
          "state": {
            "_view_name": "HBoxView",
            "_dom_classes": [],
            "_model_name": "HBoxModel",
            "_view_module": "@jupyter-widgets/controls",
            "_model_module_version": "1.5.0",
            "_view_count": null,
            "_view_module_version": "1.5.0",
            "box_style": "",
            "layout": "IPY_MODEL_cbe7193992a8404d83dc4460d637f6da",
            "_model_module": "@jupyter-widgets/controls",
            "children": [
              "IPY_MODEL_56ec306654734395bb158cfda6800ed0",
              "IPY_MODEL_557ecd0a1c294306a0bf17341df4bb1d",
              "IPY_MODEL_e4a38f978cb14e25abe44b763e6b2d0f"
            ]
          }
        },
        "cbe7193992a8404d83dc4460d637f6da": {
          "model_module": "@jupyter-widgets/base",
          "model_name": "LayoutModel",
          "model_module_version": "1.2.0",
          "state": {
            "_view_name": "LayoutView",
            "grid_template_rows": null,
            "right": null,
            "justify_content": null,
            "_view_module": "@jupyter-widgets/base",
            "overflow": null,
            "_model_module_version": "1.2.0",
            "_view_count": null,
            "flex_flow": null,
            "width": null,
            "min_width": null,
            "border": null,
            "align_items": null,
            "bottom": null,
            "_model_module": "@jupyter-widgets/base",
            "top": null,
            "grid_column": null,
            "overflow_y": null,
            "overflow_x": null,
            "grid_auto_flow": null,
            "grid_area": null,
            "grid_template_columns": null,
            "flex": null,
            "_model_name": "LayoutModel",
            "justify_items": null,
            "grid_row": null,
            "max_height": null,
            "align_content": null,
            "visibility": null,
            "align_self": null,
            "height": null,
            "min_height": null,
            "padding": null,
            "grid_auto_rows": null,
            "grid_gap": null,
            "max_width": null,
            "order": null,
            "_view_module_version": "1.2.0",
            "grid_template_areas": null,
            "object_position": null,
            "object_fit": null,
            "grid_auto_columns": null,
            "margin": null,
            "display": null,
            "left": null
          }
        },
        "56ec306654734395bb158cfda6800ed0": {
          "model_module": "@jupyter-widgets/controls",
          "model_name": "HTMLModel",
          "model_module_version": "1.5.0",
          "state": {
            "_view_name": "HTMLView",
            "style": "IPY_MODEL_3ffb34fbfa5b4158bc5b8027d1112707",
            "_dom_classes": [],
            "description": "",
            "_model_name": "HTMLModel",
            "placeholder": "​",
            "_view_module": "@jupyter-widgets/controls",
            "_model_module_version": "1.5.0",
            "value": "Downloading: 100%",
            "_view_count": null,
            "_view_module_version": "1.5.0",
            "description_tooltip": null,
            "_model_module": "@jupyter-widgets/controls",
            "layout": "IPY_MODEL_11d94b07f90543ec991dc4f7ec2c0e77"
          }
        },
        "557ecd0a1c294306a0bf17341df4bb1d": {
          "model_module": "@jupyter-widgets/controls",
          "model_name": "FloatProgressModel",
          "model_module_version": "1.5.0",
          "state": {
            "_view_name": "ProgressView",
            "style": "IPY_MODEL_08cb6afa9c524ca29a6d00833b77232e",
            "_dom_classes": [],
            "description": "",
            "_model_name": "FloatProgressModel",
            "bar_style": "success",
            "max": 138,
            "_view_module": "@jupyter-widgets/controls",
            "_model_module_version": "1.5.0",
            "value": 138,
            "_view_count": null,
            "_view_module_version": "1.5.0",
            "orientation": "horizontal",
            "min": 0,
            "description_tooltip": null,
            "_model_module": "@jupyter-widgets/controls",
            "layout": "IPY_MODEL_fff426126cb84fcbb22d0c04755be639"
          }
        },
        "e4a38f978cb14e25abe44b763e6b2d0f": {
          "model_module": "@jupyter-widgets/controls",
          "model_name": "HTMLModel",
          "model_module_version": "1.5.0",
          "state": {
            "_view_name": "HTMLView",
            "style": "IPY_MODEL_f711ad606c154a7a84d79290c7037dad",
            "_dom_classes": [],
            "description": "",
            "_model_name": "HTMLModel",
            "placeholder": "​",
            "_view_module": "@jupyter-widgets/controls",
            "_model_module_version": "1.5.0",
            "value": " 138/138 [00:00&lt;00:00, 5.28kB/s]",
            "_view_count": null,
            "_view_module_version": "1.5.0",
            "description_tooltip": null,
            "_model_module": "@jupyter-widgets/controls",
            "layout": "IPY_MODEL_4cdde4be94bf40ee8241784d5aaeddb7"
          }
        },
        "3ffb34fbfa5b4158bc5b8027d1112707": {
          "model_module": "@jupyter-widgets/controls",
          "model_name": "DescriptionStyleModel",
          "model_module_version": "1.5.0",
          "state": {
            "_view_name": "StyleView",
            "_model_name": "DescriptionStyleModel",
            "description_width": "",
            "_view_module": "@jupyter-widgets/base",
            "_model_module_version": "1.5.0",
            "_view_count": null,
            "_view_module_version": "1.2.0",
            "_model_module": "@jupyter-widgets/controls"
          }
        },
        "11d94b07f90543ec991dc4f7ec2c0e77": {
          "model_module": "@jupyter-widgets/base",
          "model_name": "LayoutModel",
          "model_module_version": "1.2.0",
          "state": {
            "_view_name": "LayoutView",
            "grid_template_rows": null,
            "right": null,
            "justify_content": null,
            "_view_module": "@jupyter-widgets/base",
            "overflow": null,
            "_model_module_version": "1.2.0",
            "_view_count": null,
            "flex_flow": null,
            "width": null,
            "min_width": null,
            "border": null,
            "align_items": null,
            "bottom": null,
            "_model_module": "@jupyter-widgets/base",
            "top": null,
            "grid_column": null,
            "overflow_y": null,
            "overflow_x": null,
            "grid_auto_flow": null,
            "grid_area": null,
            "grid_template_columns": null,
            "flex": null,
            "_model_name": "LayoutModel",
            "justify_items": null,
            "grid_row": null,
            "max_height": null,
            "align_content": null,
            "visibility": null,
            "align_self": null,
            "height": null,
            "min_height": null,
            "padding": null,
            "grid_auto_rows": null,
            "grid_gap": null,
            "max_width": null,
            "order": null,
            "_view_module_version": "1.2.0",
            "grid_template_areas": null,
            "object_position": null,
            "object_fit": null,
            "grid_auto_columns": null,
            "margin": null,
            "display": null,
            "left": null
          }
        },
        "08cb6afa9c524ca29a6d00833b77232e": {
          "model_module": "@jupyter-widgets/controls",
          "model_name": "ProgressStyleModel",
          "model_module_version": "1.5.0",
          "state": {
            "_view_name": "StyleView",
            "_model_name": "ProgressStyleModel",
            "description_width": "",
            "_view_module": "@jupyter-widgets/base",
            "_model_module_version": "1.5.0",
            "_view_count": null,
            "_view_module_version": "1.2.0",
            "bar_color": null,
            "_model_module": "@jupyter-widgets/controls"
          }
        },
        "fff426126cb84fcbb22d0c04755be639": {
          "model_module": "@jupyter-widgets/base",
          "model_name": "LayoutModel",
          "model_module_version": "1.2.0",
          "state": {
            "_view_name": "LayoutView",
            "grid_template_rows": null,
            "right": null,
            "justify_content": null,
            "_view_module": "@jupyter-widgets/base",
            "overflow": null,
            "_model_module_version": "1.2.0",
            "_view_count": null,
            "flex_flow": null,
            "width": null,
            "min_width": null,
            "border": null,
            "align_items": null,
            "bottom": null,
            "_model_module": "@jupyter-widgets/base",
            "top": null,
            "grid_column": null,
            "overflow_y": null,
            "overflow_x": null,
            "grid_auto_flow": null,
            "grid_area": null,
            "grid_template_columns": null,
            "flex": null,
            "_model_name": "LayoutModel",
            "justify_items": null,
            "grid_row": null,
            "max_height": null,
            "align_content": null,
            "visibility": null,
            "align_self": null,
            "height": null,
            "min_height": null,
            "padding": null,
            "grid_auto_rows": null,
            "grid_gap": null,
            "max_width": null,
            "order": null,
            "_view_module_version": "1.2.0",
            "grid_template_areas": null,
            "object_position": null,
            "object_fit": null,
            "grid_auto_columns": null,
            "margin": null,
            "display": null,
            "left": null
          }
        },
        "f711ad606c154a7a84d79290c7037dad": {
          "model_module": "@jupyter-widgets/controls",
          "model_name": "DescriptionStyleModel",
          "model_module_version": "1.5.0",
          "state": {
            "_view_name": "StyleView",
            "_model_name": "DescriptionStyleModel",
            "description_width": "",
            "_view_module": "@jupyter-widgets/base",
            "_model_module_version": "1.5.0",
            "_view_count": null,
            "_view_module_version": "1.2.0",
            "_model_module": "@jupyter-widgets/controls"
          }
        },
        "4cdde4be94bf40ee8241784d5aaeddb7": {
          "model_module": "@jupyter-widgets/base",
          "model_name": "LayoutModel",
          "model_module_version": "1.2.0",
          "state": {
            "_view_name": "LayoutView",
            "grid_template_rows": null,
            "right": null,
            "justify_content": null,
            "_view_module": "@jupyter-widgets/base",
            "overflow": null,
            "_model_module_version": "1.2.0",
            "_view_count": null,
            "flex_flow": null,
            "width": null,
            "min_width": null,
            "border": null,
            "align_items": null,
            "bottom": null,
            "_model_module": "@jupyter-widgets/base",
            "top": null,
            "grid_column": null,
            "overflow_y": null,
            "overflow_x": null,
            "grid_auto_flow": null,
            "grid_area": null,
            "grid_template_columns": null,
            "flex": null,
            "_model_name": "LayoutModel",
            "justify_items": null,
            "grid_row": null,
            "max_height": null,
            "align_content": null,
            "visibility": null,
            "align_self": null,
            "height": null,
            "min_height": null,
            "padding": null,
            "grid_auto_rows": null,
            "grid_gap": null,
            "max_width": null,
            "order": null,
            "_view_module_version": "1.2.0",
            "grid_template_areas": null,
            "object_position": null,
            "object_fit": null,
            "grid_auto_columns": null,
            "margin": null,
            "display": null,
            "left": null
          }
        },
        "f31858a3dab840ffb5bad9e8248b257c": {
          "model_module": "@jupyter-widgets/controls",
          "model_name": "HBoxModel",
          "model_module_version": "1.5.0",
          "state": {
            "_view_name": "HBoxView",
            "_dom_classes": [],
            "_model_name": "HBoxModel",
            "_view_module": "@jupyter-widgets/controls",
            "_model_module_version": "1.5.0",
            "_view_count": null,
            "_view_module_version": "1.5.0",
            "box_style": "",
            "layout": "IPY_MODEL_454d6d2332994753ada7d32fb3c2ae26",
            "_model_module": "@jupyter-widgets/controls",
            "children": [
              "IPY_MODEL_ce7ed9d5df0e4dd19ca2e7f925f25066",
              "IPY_MODEL_8a657cb9bcca4944a6567df6c104c477",
              "IPY_MODEL_c75b29f82bb3441ba6299f105c73f19b"
            ]
          }
        },
        "454d6d2332994753ada7d32fb3c2ae26": {
          "model_module": "@jupyter-widgets/base",
          "model_name": "LayoutModel",
          "model_module_version": "1.2.0",
          "state": {
            "_view_name": "LayoutView",
            "grid_template_rows": null,
            "right": null,
            "justify_content": null,
            "_view_module": "@jupyter-widgets/base",
            "overflow": null,
            "_model_module_version": "1.2.0",
            "_view_count": null,
            "flex_flow": null,
            "width": null,
            "min_width": null,
            "border": null,
            "align_items": null,
            "bottom": null,
            "_model_module": "@jupyter-widgets/base",
            "top": null,
            "grid_column": null,
            "overflow_y": null,
            "overflow_x": null,
            "grid_auto_flow": null,
            "grid_area": null,
            "grid_template_columns": null,
            "flex": null,
            "_model_name": "LayoutModel",
            "justify_items": null,
            "grid_row": null,
            "max_height": null,
            "align_content": null,
            "visibility": null,
            "align_self": null,
            "height": null,
            "min_height": null,
            "padding": null,
            "grid_auto_rows": null,
            "grid_gap": null,
            "max_width": null,
            "order": null,
            "_view_module_version": "1.2.0",
            "grid_template_areas": null,
            "object_position": null,
            "object_fit": null,
            "grid_auto_columns": null,
            "margin": null,
            "display": null,
            "left": null
          }
        },
        "ce7ed9d5df0e4dd19ca2e7f925f25066": {
          "model_module": "@jupyter-widgets/controls",
          "model_name": "HTMLModel",
          "model_module_version": "1.5.0",
          "state": {
            "_view_name": "HTMLView",
            "style": "IPY_MODEL_5f43ad67cae5479f88a96c11388de19f",
            "_dom_classes": [],
            "description": "",
            "_model_name": "HTMLModel",
            "placeholder": "​",
            "_view_module": "@jupyter-widgets/controls",
            "_model_module_version": "1.5.0",
            "value": "Downloading: 100%",
            "_view_count": null,
            "_view_module_version": "1.5.0",
            "description_tooltip": null,
            "_model_module": "@jupyter-widgets/controls",
            "layout": "IPY_MODEL_85a14b8f509c4c8cb675d726d6a6b615"
          }
        },
        "8a657cb9bcca4944a6567df6c104c477": {
          "model_module": "@jupyter-widgets/controls",
          "model_name": "FloatProgressModel",
          "model_module_version": "1.5.0",
          "state": {
            "_view_name": "ProgressView",
            "style": "IPY_MODEL_226075549432490ca463c2d34d194e7f",
            "_dom_classes": [],
            "description": "",
            "_model_name": "FloatProgressModel",
            "bar_style": "success",
            "max": 1487,
            "_view_module": "@jupyter-widgets/controls",
            "_model_module_version": "1.5.0",
            "value": 1487,
            "_view_count": null,
            "_view_module_version": "1.5.0",
            "orientation": "horizontal",
            "min": 0,
            "description_tooltip": null,
            "_model_module": "@jupyter-widgets/controls",
            "layout": "IPY_MODEL_d6d83c9565ce4450aec4944a38261a7b"
          }
        },
        "c75b29f82bb3441ba6299f105c73f19b": {
          "model_module": "@jupyter-widgets/controls",
          "model_name": "HTMLModel",
          "model_module_version": "1.5.0",
          "state": {
            "_view_name": "HTMLView",
            "style": "IPY_MODEL_8eaa7ed8ecc34260a21f5dd21c7fc0df",
            "_dom_classes": [],
            "description": "",
            "_model_name": "HTMLModel",
            "placeholder": "​",
            "_view_module": "@jupyter-widgets/controls",
            "_model_module_version": "1.5.0",
            "value": " 1.45k/1.45k [00:00&lt;00:00, 63.3kB/s]",
            "_view_count": null,
            "_view_module_version": "1.5.0",
            "description_tooltip": null,
            "_model_module": "@jupyter-widgets/controls",
            "layout": "IPY_MODEL_fd736d25de4346598ba7c8434541775b"
          }
        },
        "5f43ad67cae5479f88a96c11388de19f": {
          "model_module": "@jupyter-widgets/controls",
          "model_name": "DescriptionStyleModel",
          "model_module_version": "1.5.0",
          "state": {
            "_view_name": "StyleView",
            "_model_name": "DescriptionStyleModel",
            "description_width": "",
            "_view_module": "@jupyter-widgets/base",
            "_model_module_version": "1.5.0",
            "_view_count": null,
            "_view_module_version": "1.2.0",
            "_model_module": "@jupyter-widgets/controls"
          }
        },
        "85a14b8f509c4c8cb675d726d6a6b615": {
          "model_module": "@jupyter-widgets/base",
          "model_name": "LayoutModel",
          "model_module_version": "1.2.0",
          "state": {
            "_view_name": "LayoutView",
            "grid_template_rows": null,
            "right": null,
            "justify_content": null,
            "_view_module": "@jupyter-widgets/base",
            "overflow": null,
            "_model_module_version": "1.2.0",
            "_view_count": null,
            "flex_flow": null,
            "width": null,
            "min_width": null,
            "border": null,
            "align_items": null,
            "bottom": null,
            "_model_module": "@jupyter-widgets/base",
            "top": null,
            "grid_column": null,
            "overflow_y": null,
            "overflow_x": null,
            "grid_auto_flow": null,
            "grid_area": null,
            "grid_template_columns": null,
            "flex": null,
            "_model_name": "LayoutModel",
            "justify_items": null,
            "grid_row": null,
            "max_height": null,
            "align_content": null,
            "visibility": null,
            "align_self": null,
            "height": null,
            "min_height": null,
            "padding": null,
            "grid_auto_rows": null,
            "grid_gap": null,
            "max_width": null,
            "order": null,
            "_view_module_version": "1.2.0",
            "grid_template_areas": null,
            "object_position": null,
            "object_fit": null,
            "grid_auto_columns": null,
            "margin": null,
            "display": null,
            "left": null
          }
        },
        "226075549432490ca463c2d34d194e7f": {
          "model_module": "@jupyter-widgets/controls",
          "model_name": "ProgressStyleModel",
          "model_module_version": "1.5.0",
          "state": {
            "_view_name": "StyleView",
            "_model_name": "ProgressStyleModel",
            "description_width": "",
            "_view_module": "@jupyter-widgets/base",
            "_model_module_version": "1.5.0",
            "_view_count": null,
            "_view_module_version": "1.2.0",
            "bar_color": null,
            "_model_module": "@jupyter-widgets/controls"
          }
        },
        "d6d83c9565ce4450aec4944a38261a7b": {
          "model_module": "@jupyter-widgets/base",
          "model_name": "LayoutModel",
          "model_module_version": "1.2.0",
          "state": {
            "_view_name": "LayoutView",
            "grid_template_rows": null,
            "right": null,
            "justify_content": null,
            "_view_module": "@jupyter-widgets/base",
            "overflow": null,
            "_model_module_version": "1.2.0",
            "_view_count": null,
            "flex_flow": null,
            "width": null,
            "min_width": null,
            "border": null,
            "align_items": null,
            "bottom": null,
            "_model_module": "@jupyter-widgets/base",
            "top": null,
            "grid_column": null,
            "overflow_y": null,
            "overflow_x": null,
            "grid_auto_flow": null,
            "grid_area": null,
            "grid_template_columns": null,
            "flex": null,
            "_model_name": "LayoutModel",
            "justify_items": null,
            "grid_row": null,
            "max_height": null,
            "align_content": null,
            "visibility": null,
            "align_self": null,
            "height": null,
            "min_height": null,
            "padding": null,
            "grid_auto_rows": null,
            "grid_gap": null,
            "max_width": null,
            "order": null,
            "_view_module_version": "1.2.0",
            "grid_template_areas": null,
            "object_position": null,
            "object_fit": null,
            "grid_auto_columns": null,
            "margin": null,
            "display": null,
            "left": null
          }
        },
        "8eaa7ed8ecc34260a21f5dd21c7fc0df": {
          "model_module": "@jupyter-widgets/controls",
          "model_name": "DescriptionStyleModel",
          "model_module_version": "1.5.0",
          "state": {
            "_view_name": "StyleView",
            "_model_name": "DescriptionStyleModel",
            "description_width": "",
            "_view_module": "@jupyter-widgets/base",
            "_model_module_version": "1.5.0",
            "_view_count": null,
            "_view_module_version": "1.2.0",
            "_model_module": "@jupyter-widgets/controls"
          }
        },
        "fd736d25de4346598ba7c8434541775b": {
          "model_module": "@jupyter-widgets/base",
          "model_name": "LayoutModel",
          "model_module_version": "1.2.0",
          "state": {
            "_view_name": "LayoutView",
            "grid_template_rows": null,
            "right": null,
            "justify_content": null,
            "_view_module": "@jupyter-widgets/base",
            "overflow": null,
            "_model_module_version": "1.2.0",
            "_view_count": null,
            "flex_flow": null,
            "width": null,
            "min_width": null,
            "border": null,
            "align_items": null,
            "bottom": null,
            "_model_module": "@jupyter-widgets/base",
            "top": null,
            "grid_column": null,
            "overflow_y": null,
            "overflow_x": null,
            "grid_auto_flow": null,
            "grid_area": null,
            "grid_template_columns": null,
            "flex": null,
            "_model_name": "LayoutModel",
            "justify_items": null,
            "grid_row": null,
            "max_height": null,
            "align_content": null,
            "visibility": null,
            "align_self": null,
            "height": null,
            "min_height": null,
            "padding": null,
            "grid_auto_rows": null,
            "grid_gap": null,
            "max_width": null,
            "order": null,
            "_view_module_version": "1.2.0",
            "grid_template_areas": null,
            "object_position": null,
            "object_fit": null,
            "grid_auto_columns": null,
            "margin": null,
            "display": null,
            "left": null
          }
        },
        "63088aca407841828907d1871dfd0454": {
          "model_module": "@jupyter-widgets/controls",
          "model_name": "HBoxModel",
          "model_module_version": "1.5.0",
          "state": {
            "_view_name": "HBoxView",
            "_dom_classes": [],
            "_model_name": "HBoxModel",
            "_view_module": "@jupyter-widgets/controls",
            "_model_module_version": "1.5.0",
            "_view_count": null,
            "_view_module_version": "1.5.0",
            "box_style": "",
            "layout": "IPY_MODEL_185e22bc0250439cbf3200b11b1061aa",
            "_model_module": "@jupyter-widgets/controls",
            "children": [
              "IPY_MODEL_ef2fe665d3404c64ad5c338614db8196",
              "IPY_MODEL_4fcffeba3f9949bdbb51aedadff2c732",
              "IPY_MODEL_b029e62ca7ec459a8095bca448a35a30"
            ]
          }
        },
        "185e22bc0250439cbf3200b11b1061aa": {
          "model_module": "@jupyter-widgets/base",
          "model_name": "LayoutModel",
          "model_module_version": "1.2.0",
          "state": {
            "_view_name": "LayoutView",
            "grid_template_rows": null,
            "right": null,
            "justify_content": null,
            "_view_module": "@jupyter-widgets/base",
            "overflow": null,
            "_model_module_version": "1.2.0",
            "_view_count": null,
            "flex_flow": null,
            "width": null,
            "min_width": null,
            "border": null,
            "align_items": null,
            "bottom": null,
            "_model_module": "@jupyter-widgets/base",
            "top": null,
            "grid_column": null,
            "overflow_y": null,
            "overflow_x": null,
            "grid_auto_flow": null,
            "grid_area": null,
            "grid_template_columns": null,
            "flex": null,
            "_model_name": "LayoutModel",
            "justify_items": null,
            "grid_row": null,
            "max_height": null,
            "align_content": null,
            "visibility": null,
            "align_self": null,
            "height": null,
            "min_height": null,
            "padding": null,
            "grid_auto_rows": null,
            "grid_gap": null,
            "max_width": null,
            "order": null,
            "_view_module_version": "1.2.0",
            "grid_template_areas": null,
            "object_position": null,
            "object_fit": null,
            "grid_auto_columns": null,
            "margin": null,
            "display": null,
            "left": null
          }
        },
        "ef2fe665d3404c64ad5c338614db8196": {
          "model_module": "@jupyter-widgets/controls",
          "model_name": "HTMLModel",
          "model_module_version": "1.5.0",
          "state": {
            "_view_name": "HTMLView",
            "style": "IPY_MODEL_3bcb811cae4a4e1d9bc9f52f1045159b",
            "_dom_classes": [],
            "description": "",
            "_model_name": "HTMLModel",
            "placeholder": "​",
            "_view_module": "@jupyter-widgets/controls",
            "_model_module_version": "1.5.0",
            "value": "Downloading: 100%",
            "_view_count": null,
            "_view_module_version": "1.5.0",
            "description_tooltip": null,
            "_model_module": "@jupyter-widgets/controls",
            "layout": "IPY_MODEL_8641b642c9e8423c90eb42e364d715a3"
          }
        },
        "4fcffeba3f9949bdbb51aedadff2c732": {
          "model_module": "@jupyter-widgets/controls",
          "model_name": "FloatProgressModel",
          "model_module_version": "1.5.0",
          "state": {
            "_view_name": "ProgressView",
            "style": "IPY_MODEL_142518b13ef3459e8dfd0c6c1321ed01",
            "_dom_classes": [],
            "description": "",
            "_model_name": "FloatProgressModel",
            "bar_style": "success",
            "max": 292,
            "_view_module": "@jupyter-widgets/controls",
            "_model_module_version": "1.5.0",
            "value": 292,
            "_view_count": null,
            "_view_module_version": "1.5.0",
            "orientation": "horizontal",
            "min": 0,
            "description_tooltip": null,
            "_model_module": "@jupyter-widgets/controls",
            "layout": "IPY_MODEL_8086541194884153b1f287de295c7a43"
          }
        },
        "b029e62ca7ec459a8095bca448a35a30": {
          "model_module": "@jupyter-widgets/controls",
          "model_name": "HTMLModel",
          "model_module_version": "1.5.0",
          "state": {
            "_view_name": "HTMLView",
            "style": "IPY_MODEL_dc811288c64c40589bb68d58f3a2705e",
            "_dom_classes": [],
            "description": "",
            "_model_name": "HTMLModel",
            "placeholder": "​",
            "_view_module": "@jupyter-widgets/controls",
            "_model_module_version": "1.5.0",
            "value": " 292/292 [00:00&lt;00:00, 10.4kB/s]",
            "_view_count": null,
            "_view_module_version": "1.5.0",
            "description_tooltip": null,
            "_model_module": "@jupyter-widgets/controls",
            "layout": "IPY_MODEL_e7b1b8919dc441e8a70e8e056442c418"
          }
        },
        "3bcb811cae4a4e1d9bc9f52f1045159b": {
          "model_module": "@jupyter-widgets/controls",
          "model_name": "DescriptionStyleModel",
          "model_module_version": "1.5.0",
          "state": {
            "_view_name": "StyleView",
            "_model_name": "DescriptionStyleModel",
            "description_width": "",
            "_view_module": "@jupyter-widgets/base",
            "_model_module_version": "1.5.0",
            "_view_count": null,
            "_view_module_version": "1.2.0",
            "_model_module": "@jupyter-widgets/controls"
          }
        },
        "8641b642c9e8423c90eb42e364d715a3": {
          "model_module": "@jupyter-widgets/base",
          "model_name": "LayoutModel",
          "model_module_version": "1.2.0",
          "state": {
            "_view_name": "LayoutView",
            "grid_template_rows": null,
            "right": null,
            "justify_content": null,
            "_view_module": "@jupyter-widgets/base",
            "overflow": null,
            "_model_module_version": "1.2.0",
            "_view_count": null,
            "flex_flow": null,
            "width": null,
            "min_width": null,
            "border": null,
            "align_items": null,
            "bottom": null,
            "_model_module": "@jupyter-widgets/base",
            "top": null,
            "grid_column": null,
            "overflow_y": null,
            "overflow_x": null,
            "grid_auto_flow": null,
            "grid_area": null,
            "grid_template_columns": null,
            "flex": null,
            "_model_name": "LayoutModel",
            "justify_items": null,
            "grid_row": null,
            "max_height": null,
            "align_content": null,
            "visibility": null,
            "align_self": null,
            "height": null,
            "min_height": null,
            "padding": null,
            "grid_auto_rows": null,
            "grid_gap": null,
            "max_width": null,
            "order": null,
            "_view_module_version": "1.2.0",
            "grid_template_areas": null,
            "object_position": null,
            "object_fit": null,
            "grid_auto_columns": null,
            "margin": null,
            "display": null,
            "left": null
          }
        },
        "142518b13ef3459e8dfd0c6c1321ed01": {
          "model_module": "@jupyter-widgets/controls",
          "model_name": "ProgressStyleModel",
          "model_module_version": "1.5.0",
          "state": {
            "_view_name": "StyleView",
            "_model_name": "ProgressStyleModel",
            "description_width": "",
            "_view_module": "@jupyter-widgets/base",
            "_model_module_version": "1.5.0",
            "_view_count": null,
            "_view_module_version": "1.2.0",
            "bar_color": null,
            "_model_module": "@jupyter-widgets/controls"
          }
        },
        "8086541194884153b1f287de295c7a43": {
          "model_module": "@jupyter-widgets/base",
          "model_name": "LayoutModel",
          "model_module_version": "1.2.0",
          "state": {
            "_view_name": "LayoutView",
            "grid_template_rows": null,
            "right": null,
            "justify_content": null,
            "_view_module": "@jupyter-widgets/base",
            "overflow": null,
            "_model_module_version": "1.2.0",
            "_view_count": null,
            "flex_flow": null,
            "width": null,
            "min_width": null,
            "border": null,
            "align_items": null,
            "bottom": null,
            "_model_module": "@jupyter-widgets/base",
            "top": null,
            "grid_column": null,
            "overflow_y": null,
            "overflow_x": null,
            "grid_auto_flow": null,
            "grid_area": null,
            "grid_template_columns": null,
            "flex": null,
            "_model_name": "LayoutModel",
            "justify_items": null,
            "grid_row": null,
            "max_height": null,
            "align_content": null,
            "visibility": null,
            "align_self": null,
            "height": null,
            "min_height": null,
            "padding": null,
            "grid_auto_rows": null,
            "grid_gap": null,
            "max_width": null,
            "order": null,
            "_view_module_version": "1.2.0",
            "grid_template_areas": null,
            "object_position": null,
            "object_fit": null,
            "grid_auto_columns": null,
            "margin": null,
            "display": null,
            "left": null
          }
        },
        "dc811288c64c40589bb68d58f3a2705e": {
          "model_module": "@jupyter-widgets/controls",
          "model_name": "DescriptionStyleModel",
          "model_module_version": "1.5.0",
          "state": {
            "_view_name": "StyleView",
            "_model_name": "DescriptionStyleModel",
            "description_width": "",
            "_view_module": "@jupyter-widgets/base",
            "_model_module_version": "1.5.0",
            "_view_count": null,
            "_view_module_version": "1.2.0",
            "_model_module": "@jupyter-widgets/controls"
          }
        },
        "e7b1b8919dc441e8a70e8e056442c418": {
          "model_module": "@jupyter-widgets/base",
          "model_name": "LayoutModel",
          "model_module_version": "1.2.0",
          "state": {
            "_view_name": "LayoutView",
            "grid_template_rows": null,
            "right": null,
            "justify_content": null,
            "_view_module": "@jupyter-widgets/base",
            "overflow": null,
            "_model_module_version": "1.2.0",
            "_view_count": null,
            "flex_flow": null,
            "width": null,
            "min_width": null,
            "border": null,
            "align_items": null,
            "bottom": null,
            "_model_module": "@jupyter-widgets/base",
            "top": null,
            "grid_column": null,
            "overflow_y": null,
            "overflow_x": null,
            "grid_auto_flow": null,
            "grid_area": null,
            "grid_template_columns": null,
            "flex": null,
            "_model_name": "LayoutModel",
            "justify_items": null,
            "grid_row": null,
            "max_height": null,
            "align_content": null,
            "visibility": null,
            "align_self": null,
            "height": null,
            "min_height": null,
            "padding": null,
            "grid_auto_rows": null,
            "grid_gap": null,
            "max_width": null,
            "order": null,
            "_view_module_version": "1.2.0",
            "grid_template_areas": null,
            "object_position": null,
            "object_fit": null,
            "grid_auto_columns": null,
            "margin": null,
            "display": null,
            "left": null
          }
        },
        "270eb9b3065e49e0a612cb2f146e9e4b": {
          "model_module": "@jupyter-widgets/controls",
          "model_name": "HBoxModel",
          "model_module_version": "1.5.0",
          "state": {
            "_view_name": "HBoxView",
            "_dom_classes": [],
            "_model_name": "HBoxModel",
            "_view_module": "@jupyter-widgets/controls",
            "_model_module_version": "1.5.0",
            "_view_count": null,
            "_view_module_version": "1.5.0",
            "box_style": "",
            "layout": "IPY_MODEL_c6eb4597cefb4b27afeb5831370a577c",
            "_model_module": "@jupyter-widgets/controls",
            "children": [
              "IPY_MODEL_5fc210d72b24467a8083301a3a3b99c0",
              "IPY_MODEL_1048d600cae541719f85c3a2ea410ccf",
              "IPY_MODEL_2990f0e2b10f41beab4ba73da5b27ff9"
            ]
          }
        },
        "c6eb4597cefb4b27afeb5831370a577c": {
          "model_module": "@jupyter-widgets/base",
          "model_name": "LayoutModel",
          "model_module_version": "1.2.0",
          "state": {
            "_view_name": "LayoutView",
            "grid_template_rows": null,
            "right": null,
            "justify_content": null,
            "_view_module": "@jupyter-widgets/base",
            "overflow": null,
            "_model_module_version": "1.2.0",
            "_view_count": null,
            "flex_flow": null,
            "width": null,
            "min_width": null,
            "border": null,
            "align_items": null,
            "bottom": null,
            "_model_module": "@jupyter-widgets/base",
            "top": null,
            "grid_column": null,
            "overflow_y": null,
            "overflow_x": null,
            "grid_auto_flow": null,
            "grid_area": null,
            "grid_template_columns": null,
            "flex": null,
            "_model_name": "LayoutModel",
            "justify_items": null,
            "grid_row": null,
            "max_height": null,
            "align_content": null,
            "visibility": null,
            "align_self": null,
            "height": null,
            "min_height": null,
            "padding": null,
            "grid_auto_rows": null,
            "grid_gap": null,
            "max_width": null,
            "order": null,
            "_view_module_version": "1.2.0",
            "grid_template_areas": null,
            "object_position": null,
            "object_fit": null,
            "grid_auto_columns": null,
            "margin": null,
            "display": null,
            "left": null
          }
        },
        "5fc210d72b24467a8083301a3a3b99c0": {
          "model_module": "@jupyter-widgets/controls",
          "model_name": "HTMLModel",
          "model_module_version": "1.5.0",
          "state": {
            "_view_name": "HTMLView",
            "style": "IPY_MODEL_a6e585d6038d4938980603e5a64970fb",
            "_dom_classes": [],
            "description": "",
            "_model_name": "HTMLModel",
            "placeholder": "​",
            "_view_module": "@jupyter-widgets/controls",
            "_model_module_version": "1.5.0",
            "value": "Downloading: 100%",
            "_view_count": null,
            "_view_module_version": "1.5.0",
            "description_tooltip": null,
            "_model_module": "@jupyter-widgets/controls",
            "layout": "IPY_MODEL_5af2561b02b44d82af60a126f8c686d9"
          }
        },
        "1048d600cae541719f85c3a2ea410ccf": {
          "model_module": "@jupyter-widgets/controls",
          "model_name": "FloatProgressModel",
          "model_module_version": "1.5.0",
          "state": {
            "_view_name": "ProgressView",
            "style": "IPY_MODEL_3b7231fbce6c42e7b796d03dfe279d83",
            "_dom_classes": [],
            "description": "",
            "_model_name": "FloatProgressModel",
            "bar_style": "success",
            "max": 85,
            "_view_module": "@jupyter-widgets/controls",
            "_model_module_version": "1.5.0",
            "value": 85,
            "_view_count": null,
            "_view_module_version": "1.5.0",
            "orientation": "horizontal",
            "min": 0,
            "description_tooltip": null,
            "_model_module": "@jupyter-widgets/controls",
            "layout": "IPY_MODEL_426a29852b3a405db448b5837cc448de"
          }
        },
        "2990f0e2b10f41beab4ba73da5b27ff9": {
          "model_module": "@jupyter-widgets/controls",
          "model_name": "HTMLModel",
          "model_module_version": "1.5.0",
          "state": {
            "_view_name": "HTMLView",
            "style": "IPY_MODEL_a0f8c1887e2940849fd990a577783c80",
            "_dom_classes": [],
            "description": "",
            "_model_name": "HTMLModel",
            "placeholder": "​",
            "_view_module": "@jupyter-widgets/controls",
            "_model_module_version": "1.5.0",
            "value": " 85.0/85.0 [00:00&lt;00:00, 3.18kB/s]",
            "_view_count": null,
            "_view_module_version": "1.5.0",
            "description_tooltip": null,
            "_model_module": "@jupyter-widgets/controls",
            "layout": "IPY_MODEL_440cd4d83edf457aa68d3faf58b556d5"
          }
        },
        "a6e585d6038d4938980603e5a64970fb": {
          "model_module": "@jupyter-widgets/controls",
          "model_name": "DescriptionStyleModel",
          "model_module_version": "1.5.0",
          "state": {
            "_view_name": "StyleView",
            "_model_name": "DescriptionStyleModel",
            "description_width": "",
            "_view_module": "@jupyter-widgets/base",
            "_model_module_version": "1.5.0",
            "_view_count": null,
            "_view_module_version": "1.2.0",
            "_model_module": "@jupyter-widgets/controls"
          }
        },
        "5af2561b02b44d82af60a126f8c686d9": {
          "model_module": "@jupyter-widgets/base",
          "model_name": "LayoutModel",
          "model_module_version": "1.2.0",
          "state": {
            "_view_name": "LayoutView",
            "grid_template_rows": null,
            "right": null,
            "justify_content": null,
            "_view_module": "@jupyter-widgets/base",
            "overflow": null,
            "_model_module_version": "1.2.0",
            "_view_count": null,
            "flex_flow": null,
            "width": null,
            "min_width": null,
            "border": null,
            "align_items": null,
            "bottom": null,
            "_model_module": "@jupyter-widgets/base",
            "top": null,
            "grid_column": null,
            "overflow_y": null,
            "overflow_x": null,
            "grid_auto_flow": null,
            "grid_area": null,
            "grid_template_columns": null,
            "flex": null,
            "_model_name": "LayoutModel",
            "justify_items": null,
            "grid_row": null,
            "max_height": null,
            "align_content": null,
            "visibility": null,
            "align_self": null,
            "height": null,
            "min_height": null,
            "padding": null,
            "grid_auto_rows": null,
            "grid_gap": null,
            "max_width": null,
            "order": null,
            "_view_module_version": "1.2.0",
            "grid_template_areas": null,
            "object_position": null,
            "object_fit": null,
            "grid_auto_columns": null,
            "margin": null,
            "display": null,
            "left": null
          }
        },
        "3b7231fbce6c42e7b796d03dfe279d83": {
          "model_module": "@jupyter-widgets/controls",
          "model_name": "ProgressStyleModel",
          "model_module_version": "1.5.0",
          "state": {
            "_view_name": "StyleView",
            "_model_name": "ProgressStyleModel",
            "description_width": "",
            "_view_module": "@jupyter-widgets/base",
            "_model_module_version": "1.5.0",
            "_view_count": null,
            "_view_module_version": "1.2.0",
            "bar_color": null,
            "_model_module": "@jupyter-widgets/controls"
          }
        },
        "426a29852b3a405db448b5837cc448de": {
          "model_module": "@jupyter-widgets/base",
          "model_name": "LayoutModel",
          "model_module_version": "1.2.0",
          "state": {
            "_view_name": "LayoutView",
            "grid_template_rows": null,
            "right": null,
            "justify_content": null,
            "_view_module": "@jupyter-widgets/base",
            "overflow": null,
            "_model_module_version": "1.2.0",
            "_view_count": null,
            "flex_flow": null,
            "width": null,
            "min_width": null,
            "border": null,
            "align_items": null,
            "bottom": null,
            "_model_module": "@jupyter-widgets/base",
            "top": null,
            "grid_column": null,
            "overflow_y": null,
            "overflow_x": null,
            "grid_auto_flow": null,
            "grid_area": null,
            "grid_template_columns": null,
            "flex": null,
            "_model_name": "LayoutModel",
            "justify_items": null,
            "grid_row": null,
            "max_height": null,
            "align_content": null,
            "visibility": null,
            "align_self": null,
            "height": null,
            "min_height": null,
            "padding": null,
            "grid_auto_rows": null,
            "grid_gap": null,
            "max_width": null,
            "order": null,
            "_view_module_version": "1.2.0",
            "grid_template_areas": null,
            "object_position": null,
            "object_fit": null,
            "grid_auto_columns": null,
            "margin": null,
            "display": null,
            "left": null
          }
        },
        "a0f8c1887e2940849fd990a577783c80": {
          "model_module": "@jupyter-widgets/controls",
          "model_name": "DescriptionStyleModel",
          "model_module_version": "1.5.0",
          "state": {
            "_view_name": "StyleView",
            "_model_name": "DescriptionStyleModel",
            "description_width": "",
            "_view_module": "@jupyter-widgets/base",
            "_model_module_version": "1.5.0",
            "_view_count": null,
            "_view_module_version": "1.2.0",
            "_model_module": "@jupyter-widgets/controls"
          }
        },
        "440cd4d83edf457aa68d3faf58b556d5": {
          "model_module": "@jupyter-widgets/base",
          "model_name": "LayoutModel",
          "model_module_version": "1.2.0",
          "state": {
            "_view_name": "LayoutView",
            "grid_template_rows": null,
            "right": null,
            "justify_content": null,
            "_view_module": "@jupyter-widgets/base",
            "overflow": null,
            "_model_module_version": "1.2.0",
            "_view_count": null,
            "flex_flow": null,
            "width": null,
            "min_width": null,
            "border": null,
            "align_items": null,
            "bottom": null,
            "_model_module": "@jupyter-widgets/base",
            "top": null,
            "grid_column": null,
            "overflow_y": null,
            "overflow_x": null,
            "grid_auto_flow": null,
            "grid_area": null,
            "grid_template_columns": null,
            "flex": null,
            "_model_name": "LayoutModel",
            "justify_items": null,
            "grid_row": null,
            "max_height": null,
            "align_content": null,
            "visibility": null,
            "align_self": null,
            "height": null,
            "min_height": null,
            "padding": null,
            "grid_auto_rows": null,
            "grid_gap": null,
            "max_width": null,
            "order": null,
            "_view_module_version": "1.2.0",
            "grid_template_areas": null,
            "object_position": null,
            "object_fit": null,
            "grid_auto_columns": null,
            "margin": null,
            "display": null,
            "left": null
          }
        },
        "e86c740ca1164721984e8f9f5685e0d5": {
          "model_module": "@jupyter-widgets/controls",
          "model_name": "HBoxModel",
          "model_module_version": "1.5.0",
          "state": {
            "_view_name": "HBoxView",
            "_dom_classes": [],
            "_model_name": "HBoxModel",
            "_view_module": "@jupyter-widgets/controls",
            "_model_module_version": "1.5.0",
            "_view_count": null,
            "_view_module_version": "1.5.0",
            "box_style": "",
            "layout": "IPY_MODEL_04d158ce6ef44a6e874499fa94900958",
            "_model_module": "@jupyter-widgets/controls",
            "children": [
              "IPY_MODEL_23718ab59e974395add2e5eacc3f1255",
              "IPY_MODEL_816d85ee5ed54f2d8f6d70a5785a108f",
              "IPY_MODEL_b0e64e63203d411e9fd0a21db332d6de"
            ]
          }
        },
        "04d158ce6ef44a6e874499fa94900958": {
          "model_module": "@jupyter-widgets/base",
          "model_name": "LayoutModel",
          "model_module_version": "1.2.0",
          "state": {
            "_view_name": "LayoutView",
            "grid_template_rows": null,
            "right": null,
            "justify_content": null,
            "_view_module": "@jupyter-widgets/base",
            "overflow": null,
            "_model_module_version": "1.2.0",
            "_view_count": null,
            "flex_flow": null,
            "width": null,
            "min_width": null,
            "border": null,
            "align_items": null,
            "bottom": null,
            "_model_module": "@jupyter-widgets/base",
            "top": null,
            "grid_column": null,
            "overflow_y": null,
            "overflow_x": null,
            "grid_auto_flow": null,
            "grid_area": null,
            "grid_template_columns": null,
            "flex": null,
            "_model_name": "LayoutModel",
            "justify_items": null,
            "grid_row": null,
            "max_height": null,
            "align_content": null,
            "visibility": null,
            "align_self": null,
            "height": null,
            "min_height": null,
            "padding": null,
            "grid_auto_rows": null,
            "grid_gap": null,
            "max_width": null,
            "order": null,
            "_view_module_version": "1.2.0",
            "grid_template_areas": null,
            "object_position": null,
            "object_fit": null,
            "grid_auto_columns": null,
            "margin": null,
            "display": null,
            "left": null
          }
        },
        "23718ab59e974395add2e5eacc3f1255": {
          "model_module": "@jupyter-widgets/controls",
          "model_name": "HTMLModel",
          "model_module_version": "1.5.0",
          "state": {
            "_view_name": "HTMLView",
            "style": "IPY_MODEL_23fcd017787d4b7595bf02dd2da9b549",
            "_dom_classes": [],
            "description": "",
            "_model_name": "HTMLModel",
            "placeholder": "​",
            "_view_module": "@jupyter-widgets/controls",
            "_model_module_version": "1.5.0",
            "value": "Downloading: 100%",
            "_view_count": null,
            "_view_module_version": "1.5.0",
            "description_tooltip": null,
            "_model_module": "@jupyter-widgets/controls",
            "layout": "IPY_MODEL_b0ffd48c9fc04a448274473628bf8da7"
          }
        },
        "816d85ee5ed54f2d8f6d70a5785a108f": {
          "model_module": "@jupyter-widgets/controls",
          "model_name": "FloatProgressModel",
          "model_module_version": "1.5.0",
          "state": {
            "_view_name": "ProgressView",
            "style": "IPY_MODEL_18c847d4909444668f285a66d3c63a52",
            "_dom_classes": [],
            "description": "",
            "_model_name": "FloatProgressModel",
            "bar_style": "success",
            "max": 3850480983,
            "_view_module": "@jupyter-widgets/controls",
            "_model_module_version": "1.5.0",
            "value": 3850480983,
            "_view_count": null,
            "_view_module_version": "1.5.0",
            "orientation": "horizontal",
            "min": 0,
            "description_tooltip": null,
            "_model_module": "@jupyter-widgets/controls",
            "layout": "IPY_MODEL_41dc70a96aac430c99a13b23e918fc0a"
          }
        },
        "b0e64e63203d411e9fd0a21db332d6de": {
          "model_module": "@jupyter-widgets/controls",
          "model_name": "HTMLModel",
          "model_module_version": "1.5.0",
          "state": {
            "_view_name": "HTMLView",
            "style": "IPY_MODEL_8debc7d4a2eb45eea8d23d7cd716b2fc",
            "_dom_classes": [],
            "description": "",
            "_model_name": "HTMLModel",
            "placeholder": "​",
            "_view_module": "@jupyter-widgets/controls",
            "_model_module_version": "1.5.0",
            "value": " 3.59G/3.59G [02:54&lt;00:00, 25.1MB/s]",
            "_view_count": null,
            "_view_module_version": "1.5.0",
            "description_tooltip": null,
            "_model_module": "@jupyter-widgets/controls",
            "layout": "IPY_MODEL_110a5439bc5240d7b94cfab912c3b09d"
          }
        },
        "23fcd017787d4b7595bf02dd2da9b549": {
          "model_module": "@jupyter-widgets/controls",
          "model_name": "DescriptionStyleModel",
          "model_module_version": "1.5.0",
          "state": {
            "_view_name": "StyleView",
            "_model_name": "DescriptionStyleModel",
            "description_width": "",
            "_view_module": "@jupyter-widgets/base",
            "_model_module_version": "1.5.0",
            "_view_count": null,
            "_view_module_version": "1.2.0",
            "_model_module": "@jupyter-widgets/controls"
          }
        },
        "b0ffd48c9fc04a448274473628bf8da7": {
          "model_module": "@jupyter-widgets/base",
          "model_name": "LayoutModel",
          "model_module_version": "1.2.0",
          "state": {
            "_view_name": "LayoutView",
            "grid_template_rows": null,
            "right": null,
            "justify_content": null,
            "_view_module": "@jupyter-widgets/base",
            "overflow": null,
            "_model_module_version": "1.2.0",
            "_view_count": null,
            "flex_flow": null,
            "width": null,
            "min_width": null,
            "border": null,
            "align_items": null,
            "bottom": null,
            "_model_module": "@jupyter-widgets/base",
            "top": null,
            "grid_column": null,
            "overflow_y": null,
            "overflow_x": null,
            "grid_auto_flow": null,
            "grid_area": null,
            "grid_template_columns": null,
            "flex": null,
            "_model_name": "LayoutModel",
            "justify_items": null,
            "grid_row": null,
            "max_height": null,
            "align_content": null,
            "visibility": null,
            "align_self": null,
            "height": null,
            "min_height": null,
            "padding": null,
            "grid_auto_rows": null,
            "grid_gap": null,
            "max_width": null,
            "order": null,
            "_view_module_version": "1.2.0",
            "grid_template_areas": null,
            "object_position": null,
            "object_fit": null,
            "grid_auto_columns": null,
            "margin": null,
            "display": null,
            "left": null
          }
        },
        "18c847d4909444668f285a66d3c63a52": {
          "model_module": "@jupyter-widgets/controls",
          "model_name": "ProgressStyleModel",
          "model_module_version": "1.5.0",
          "state": {
            "_view_name": "StyleView",
            "_model_name": "ProgressStyleModel",
            "description_width": "",
            "_view_module": "@jupyter-widgets/base",
            "_model_module_version": "1.5.0",
            "_view_count": null,
            "_view_module_version": "1.2.0",
            "bar_color": null,
            "_model_module": "@jupyter-widgets/controls"
          }
        },
        "41dc70a96aac430c99a13b23e918fc0a": {
          "model_module": "@jupyter-widgets/base",
          "model_name": "LayoutModel",
          "model_module_version": "1.2.0",
          "state": {
            "_view_name": "LayoutView",
            "grid_template_rows": null,
            "right": null,
            "justify_content": null,
            "_view_module": "@jupyter-widgets/base",
            "overflow": null,
            "_model_module_version": "1.2.0",
            "_view_count": null,
            "flex_flow": null,
            "width": null,
            "min_width": null,
            "border": null,
            "align_items": null,
            "bottom": null,
            "_model_module": "@jupyter-widgets/base",
            "top": null,
            "grid_column": null,
            "overflow_y": null,
            "overflow_x": null,
            "grid_auto_flow": null,
            "grid_area": null,
            "grid_template_columns": null,
            "flex": null,
            "_model_name": "LayoutModel",
            "justify_items": null,
            "grid_row": null,
            "max_height": null,
            "align_content": null,
            "visibility": null,
            "align_self": null,
            "height": null,
            "min_height": null,
            "padding": null,
            "grid_auto_rows": null,
            "grid_gap": null,
            "max_width": null,
            "order": null,
            "_view_module_version": "1.2.0",
            "grid_template_areas": null,
            "object_position": null,
            "object_fit": null,
            "grid_auto_columns": null,
            "margin": null,
            "display": null,
            "left": null
          }
        },
        "8debc7d4a2eb45eea8d23d7cd716b2fc": {
          "model_module": "@jupyter-widgets/controls",
          "model_name": "DescriptionStyleModel",
          "model_module_version": "1.5.0",
          "state": {
            "_view_name": "StyleView",
            "_model_name": "DescriptionStyleModel",
            "description_width": "",
            "_view_module": "@jupyter-widgets/base",
            "_model_module_version": "1.5.0",
            "_view_count": null,
            "_view_module_version": "1.2.0",
            "_model_module": "@jupyter-widgets/controls"
          }
        },
        "110a5439bc5240d7b94cfab912c3b09d": {
          "model_module": "@jupyter-widgets/base",
          "model_name": "LayoutModel",
          "model_module_version": "1.2.0",
          "state": {
            "_view_name": "LayoutView",
            "grid_template_rows": null,
            "right": null,
            "justify_content": null,
            "_view_module": "@jupyter-widgets/base",
            "overflow": null,
            "_model_module_version": "1.2.0",
            "_view_count": null,
            "flex_flow": null,
            "width": null,
            "min_width": null,
            "border": null,
            "align_items": null,
            "bottom": null,
            "_model_module": "@jupyter-widgets/base",
            "top": null,
            "grid_column": null,
            "overflow_y": null,
            "overflow_x": null,
            "grid_auto_flow": null,
            "grid_area": null,
            "grid_template_columns": null,
            "flex": null,
            "_model_name": "LayoutModel",
            "justify_items": null,
            "grid_row": null,
            "max_height": null,
            "align_content": null,
            "visibility": null,
            "align_self": null,
            "height": null,
            "min_height": null,
            "padding": null,
            "grid_auto_rows": null,
            "grid_gap": null,
            "max_width": null,
            "order": null,
            "_view_module_version": "1.2.0",
            "grid_template_areas": null,
            "object_position": null,
            "object_fit": null,
            "grid_auto_columns": null,
            "margin": null,
            "display": null,
            "left": null
          }
        },
        "484af60f9fa84c1eabc13cef6016cf6a": {
          "model_module": "@jupyter-widgets/controls",
          "model_name": "HBoxModel",
          "model_module_version": "1.5.0",
          "state": {
            "_view_name": "HBoxView",
            "_dom_classes": [],
            "_model_name": "HBoxModel",
            "_view_module": "@jupyter-widgets/controls",
            "_model_module_version": "1.5.0",
            "_view_count": null,
            "_view_module_version": "1.5.0",
            "box_style": "",
            "layout": "IPY_MODEL_4cc9043876e7444b9c5852167fe142fb",
            "_model_module": "@jupyter-widgets/controls",
            "children": [
              "IPY_MODEL_9ac5cae02fcc48ac817a9b1b1c65fde7",
              "IPY_MODEL_e7936c56be2042ac9dd928145a55bb69",
              "IPY_MODEL_2d2840e66467415fa8941d3a2dabddc0"
            ]
          }
        },
        "4cc9043876e7444b9c5852167fe142fb": {
          "model_module": "@jupyter-widgets/base",
          "model_name": "LayoutModel",
          "model_module_version": "1.2.0",
          "state": {
            "_view_name": "LayoutView",
            "grid_template_rows": null,
            "right": null,
            "justify_content": null,
            "_view_module": "@jupyter-widgets/base",
            "overflow": null,
            "_model_module_version": "1.2.0",
            "_view_count": null,
            "flex_flow": null,
            "width": null,
            "min_width": null,
            "border": null,
            "align_items": null,
            "bottom": null,
            "_model_module": "@jupyter-widgets/base",
            "top": null,
            "grid_column": null,
            "overflow_y": null,
            "overflow_x": null,
            "grid_auto_flow": null,
            "grid_area": null,
            "grid_template_columns": null,
            "flex": null,
            "_model_name": "LayoutModel",
            "justify_items": null,
            "grid_row": null,
            "max_height": null,
            "align_content": null,
            "visibility": null,
            "align_self": null,
            "height": null,
            "min_height": null,
            "padding": null,
            "grid_auto_rows": null,
            "grid_gap": null,
            "max_width": null,
            "order": null,
            "_view_module_version": "1.2.0",
            "grid_template_areas": null,
            "object_position": null,
            "object_fit": null,
            "grid_auto_columns": null,
            "margin": null,
            "display": null,
            "left": null
          }
        },
        "9ac5cae02fcc48ac817a9b1b1c65fde7": {
          "model_module": "@jupyter-widgets/controls",
          "model_name": "HTMLModel",
          "model_module_version": "1.5.0",
          "state": {
            "_view_name": "HTMLView",
            "style": "IPY_MODEL_e36413c2943e4f39a13423674eab74e9",
            "_dom_classes": [],
            "description": "",
            "_model_name": "HTMLModel",
            "placeholder": "​",
            "_view_module": "@jupyter-widgets/controls",
            "_model_module_version": "1.5.0",
            "value": "Main Proc: \t: 100%",
            "_view_count": null,
            "_view_module_version": "1.5.0",
            "description_tooltip": null,
            "_model_module": "@jupyter-widgets/controls",
            "layout": "IPY_MODEL_0db1764e88374933b9c985caaa18f91e"
          }
        },
        "e7936c56be2042ac9dd928145a55bb69": {
          "model_module": "@jupyter-widgets/controls",
          "model_name": "FloatProgressModel",
          "model_module_version": "1.5.0",
          "state": {
            "_view_name": "ProgressView",
            "style": "IPY_MODEL_aef61738cab54fcb9d21d04ae8cd1dc6",
            "_dom_classes": [],
            "description": "",
            "_model_name": "FloatProgressModel",
            "bar_style": "success",
            "max": 1,
            "_view_module": "@jupyter-widgets/controls",
            "_model_module_version": "1.5.0",
            "value": 1,
            "_view_count": null,
            "_view_module_version": "1.5.0",
            "orientation": "horizontal",
            "min": 0,
            "description_tooltip": null,
            "_model_module": "@jupyter-widgets/controls",
            "layout": "IPY_MODEL_33aaefd908fb45439f2605921c3da25c"
          }
        },
        "2d2840e66467415fa8941d3a2dabddc0": {
          "model_module": "@jupyter-widgets/controls",
          "model_name": "HTMLModel",
          "model_module_version": "1.5.0",
          "state": {
            "_view_name": "HTMLView",
            "style": "IPY_MODEL_b3092828f45f4096a2fce0bdc3d8b876",
            "_dom_classes": [],
            "description": "",
            "_model_name": "HTMLModel",
            "placeholder": "​",
            "_view_module": "@jupyter-widgets/controls",
            "_model_module_version": "1.5.0",
            "value": " 1/1 [00:34&lt;00:00, 34.14s/it]",
            "_view_count": null,
            "_view_module_version": "1.5.0",
            "description_tooltip": null,
            "_model_module": "@jupyter-widgets/controls",
            "layout": "IPY_MODEL_86bc04a4994b4e84bd139af3839bac62"
          }
        },
        "e36413c2943e4f39a13423674eab74e9": {
          "model_module": "@jupyter-widgets/controls",
          "model_name": "DescriptionStyleModel",
          "model_module_version": "1.5.0",
          "state": {
            "_view_name": "StyleView",
            "_model_name": "DescriptionStyleModel",
            "description_width": "",
            "_view_module": "@jupyter-widgets/base",
            "_model_module_version": "1.5.0",
            "_view_count": null,
            "_view_module_version": "1.2.0",
            "_model_module": "@jupyter-widgets/controls"
          }
        },
        "0db1764e88374933b9c985caaa18f91e": {
          "model_module": "@jupyter-widgets/base",
          "model_name": "LayoutModel",
          "model_module_version": "1.2.0",
          "state": {
            "_view_name": "LayoutView",
            "grid_template_rows": null,
            "right": null,
            "justify_content": null,
            "_view_module": "@jupyter-widgets/base",
            "overflow": null,
            "_model_module_version": "1.2.0",
            "_view_count": null,
            "flex_flow": null,
            "width": null,
            "min_width": null,
            "border": null,
            "align_items": null,
            "bottom": null,
            "_model_module": "@jupyter-widgets/base",
            "top": null,
            "grid_column": null,
            "overflow_y": null,
            "overflow_x": null,
            "grid_auto_flow": null,
            "grid_area": null,
            "grid_template_columns": null,
            "flex": null,
            "_model_name": "LayoutModel",
            "justify_items": null,
            "grid_row": null,
            "max_height": null,
            "align_content": null,
            "visibility": null,
            "align_self": null,
            "height": null,
            "min_height": null,
            "padding": null,
            "grid_auto_rows": null,
            "grid_gap": null,
            "max_width": null,
            "order": null,
            "_view_module_version": "1.2.0",
            "grid_template_areas": null,
            "object_position": null,
            "object_fit": null,
            "grid_auto_columns": null,
            "margin": null,
            "display": null,
            "left": null
          }
        },
        "aef61738cab54fcb9d21d04ae8cd1dc6": {
          "model_module": "@jupyter-widgets/controls",
          "model_name": "ProgressStyleModel",
          "model_module_version": "1.5.0",
          "state": {
            "_view_name": "StyleView",
            "_model_name": "ProgressStyleModel",
            "description_width": "",
            "_view_module": "@jupyter-widgets/base",
            "_model_module_version": "1.5.0",
            "_view_count": null,
            "_view_module_version": "1.2.0",
            "bar_color": null,
            "_model_module": "@jupyter-widgets/controls"
          }
        },
        "33aaefd908fb45439f2605921c3da25c": {
          "model_module": "@jupyter-widgets/base",
          "model_name": "LayoutModel",
          "model_module_version": "1.2.0",
          "state": {
            "_view_name": "LayoutView",
            "grid_template_rows": null,
            "right": null,
            "justify_content": null,
            "_view_module": "@jupyter-widgets/base",
            "overflow": null,
            "_model_module_version": "1.2.0",
            "_view_count": null,
            "flex_flow": null,
            "width": null,
            "min_width": null,
            "border": null,
            "align_items": null,
            "bottom": null,
            "_model_module": "@jupyter-widgets/base",
            "top": null,
            "grid_column": null,
            "overflow_y": null,
            "overflow_x": null,
            "grid_auto_flow": null,
            "grid_area": null,
            "grid_template_columns": null,
            "flex": null,
            "_model_name": "LayoutModel",
            "justify_items": null,
            "grid_row": null,
            "max_height": null,
            "align_content": null,
            "visibility": null,
            "align_self": null,
            "height": null,
            "min_height": null,
            "padding": null,
            "grid_auto_rows": null,
            "grid_gap": null,
            "max_width": null,
            "order": null,
            "_view_module_version": "1.2.0",
            "grid_template_areas": null,
            "object_position": null,
            "object_fit": null,
            "grid_auto_columns": null,
            "margin": null,
            "display": null,
            "left": null
          }
        },
        "b3092828f45f4096a2fce0bdc3d8b876": {
          "model_module": "@jupyter-widgets/controls",
          "model_name": "DescriptionStyleModel",
          "model_module_version": "1.5.0",
          "state": {
            "_view_name": "StyleView",
            "_model_name": "DescriptionStyleModel",
            "description_width": "",
            "_view_module": "@jupyter-widgets/base",
            "_model_module_version": "1.5.0",
            "_view_count": null,
            "_view_module_version": "1.2.0",
            "_model_module": "@jupyter-widgets/controls"
          }
        },
        "86bc04a4994b4e84bd139af3839bac62": {
          "model_module": "@jupyter-widgets/base",
          "model_name": "LayoutModel",
          "model_module_version": "1.2.0",
          "state": {
            "_view_name": "LayoutView",
            "grid_template_rows": null,
            "right": null,
            "justify_content": null,
            "_view_module": "@jupyter-widgets/base",
            "overflow": null,
            "_model_module_version": "1.2.0",
            "_view_count": null,
            "flex_flow": null,
            "width": null,
            "min_width": null,
            "border": null,
            "align_items": null,
            "bottom": null,
            "_model_module": "@jupyter-widgets/base",
            "top": null,
            "grid_column": null,
            "overflow_y": null,
            "overflow_x": null,
            "grid_auto_flow": null,
            "grid_area": null,
            "grid_template_columns": null,
            "flex": null,
            "_model_name": "LayoutModel",
            "justify_items": null,
            "grid_row": null,
            "max_height": null,
            "align_content": null,
            "visibility": null,
            "align_self": null,
            "height": null,
            "min_height": null,
            "padding": null,
            "grid_auto_rows": null,
            "grid_gap": null,
            "max_width": null,
            "order": null,
            "_view_module_version": "1.2.0",
            "grid_template_areas": null,
            "object_position": null,
            "object_fit": null,
            "grid_auto_columns": null,
            "margin": null,
            "display": null,
            "left": null
          }
        },
        "0a4894bf11bb4dfebefe588715af6fad": {
          "model_module": "@jupyter-widgets/controls",
          "model_name": "HBoxModel",
          "model_module_version": "1.5.0",
          "state": {
            "_view_name": "HBoxView",
            "_dom_classes": [],
            "_model_name": "HBoxModel",
            "_view_module": "@jupyter-widgets/controls",
            "_model_module_version": "1.5.0",
            "_view_count": null,
            "_view_module_version": "1.5.0",
            "box_style": "",
            "layout": "IPY_MODEL_cffa26ba77734db892e926a4791036d8",
            "_model_module": "@jupyter-widgets/controls",
            "children": [
              "IPY_MODEL_30fe8646c62b41578d78c1642d537388",
              "IPY_MODEL_a0b98caa4863447ca2323b0f6e7e45d7",
              "IPY_MODEL_fa7a29fe65094e04aad54a893ec89774"
            ]
          }
        },
        "cffa26ba77734db892e926a4791036d8": {
          "model_module": "@jupyter-widgets/base",
          "model_name": "LayoutModel",
          "model_module_version": "1.2.0",
          "state": {
            "_view_name": "LayoutView",
            "grid_template_rows": null,
            "right": null,
            "justify_content": null,
            "_view_module": "@jupyter-widgets/base",
            "overflow": null,
            "_model_module_version": "1.2.0",
            "_view_count": null,
            "flex_flow": null,
            "width": null,
            "min_width": null,
            "border": null,
            "align_items": null,
            "bottom": null,
            "_model_module": "@jupyter-widgets/base",
            "top": null,
            "grid_column": null,
            "overflow_y": null,
            "overflow_x": null,
            "grid_auto_flow": null,
            "grid_area": null,
            "grid_template_columns": null,
            "flex": null,
            "_model_name": "LayoutModel",
            "justify_items": null,
            "grid_row": null,
            "max_height": null,
            "align_content": null,
            "visibility": null,
            "align_self": null,
            "height": null,
            "min_height": null,
            "padding": null,
            "grid_auto_rows": null,
            "grid_gap": null,
            "max_width": null,
            "order": null,
            "_view_module_version": "1.2.0",
            "grid_template_areas": null,
            "object_position": null,
            "object_fit": null,
            "grid_auto_columns": null,
            "margin": null,
            "display": null,
            "left": null
          }
        },
        "30fe8646c62b41578d78c1642d537388": {
          "model_module": "@jupyter-widgets/controls",
          "model_name": "HTMLModel",
          "model_module_version": "1.5.0",
          "state": {
            "_view_name": "HTMLView",
            "style": "IPY_MODEL_4dd036e6df9f4e24b3002b6f53a3bb9e",
            "_dom_classes": [],
            "description": "",
            "_model_name": "HTMLModel",
            "placeholder": "​",
            "_view_module": "@jupyter-widgets/controls",
            "_model_module_version": "1.5.0",
            "value": "transcribing /content/President%2...:\t: 100%",
            "_view_count": null,
            "_view_module_version": "1.5.0",
            "description_tooltip": null,
            "_model_module": "@jupyter-widgets/controls",
            "layout": "IPY_MODEL_bb6c0b6b2cf34084814b244c16460a5c"
          }
        },
        "a0b98caa4863447ca2323b0f6e7e45d7": {
          "model_module": "@jupyter-widgets/controls",
          "model_name": "FloatProgressModel",
          "model_module_version": "1.5.0",
          "state": {
            "_view_name": "ProgressView",
            "style": "IPY_MODEL_d4c08ec999ef43cda6dc77a65fac38d5",
            "_dom_classes": [],
            "description": "",
            "_model_name": "FloatProgressModel",
            "bar_style": "success",
            "max": 16,
            "_view_module": "@jupyter-widgets/controls",
            "_model_module_version": "1.5.0",
            "value": 16,
            "_view_count": null,
            "_view_module_version": "1.5.0",
            "orientation": "horizontal",
            "min": 0,
            "description_tooltip": null,
            "_model_module": "@jupyter-widgets/controls",
            "layout": "IPY_MODEL_fa2e9672ea114a64818d6f4edb6bfd9a"
          }
        },
        "fa7a29fe65094e04aad54a893ec89774": {
          "model_module": "@jupyter-widgets/controls",
          "model_name": "HTMLModel",
          "model_module_version": "1.5.0",
          "state": {
            "_view_name": "HTMLView",
            "style": "IPY_MODEL_b70c8cb21b124147ba41539e62264431",
            "_dom_classes": [],
            "description": "",
            "_model_name": "HTMLModel",
            "placeholder": "​",
            "_view_module": "@jupyter-widgets/controls",
            "_model_module_version": "1.5.0",
            "value": " 16/16 [00:32&lt;00:00,  1.05it/s]",
            "_view_count": null,
            "_view_module_version": "1.5.0",
            "description_tooltip": null,
            "_model_module": "@jupyter-widgets/controls",
            "layout": "IPY_MODEL_959e465783834b48965f9d2cb514a7da"
          }
        },
        "4dd036e6df9f4e24b3002b6f53a3bb9e": {
          "model_module": "@jupyter-widgets/controls",
          "model_name": "DescriptionStyleModel",
          "model_module_version": "1.5.0",
          "state": {
            "_view_name": "StyleView",
            "_model_name": "DescriptionStyleModel",
            "description_width": "",
            "_view_module": "@jupyter-widgets/base",
            "_model_module_version": "1.5.0",
            "_view_count": null,
            "_view_module_version": "1.2.0",
            "_model_module": "@jupyter-widgets/controls"
          }
        },
        "bb6c0b6b2cf34084814b244c16460a5c": {
          "model_module": "@jupyter-widgets/base",
          "model_name": "LayoutModel",
          "model_module_version": "1.2.0",
          "state": {
            "_view_name": "LayoutView",
            "grid_template_rows": null,
            "right": null,
            "justify_content": null,
            "_view_module": "@jupyter-widgets/base",
            "overflow": null,
            "_model_module_version": "1.2.0",
            "_view_count": null,
            "flex_flow": null,
            "width": null,
            "min_width": null,
            "border": null,
            "align_items": null,
            "bottom": null,
            "_model_module": "@jupyter-widgets/base",
            "top": null,
            "grid_column": null,
            "overflow_y": null,
            "overflow_x": null,
            "grid_auto_flow": null,
            "grid_area": null,
            "grid_template_columns": null,
            "flex": null,
            "_model_name": "LayoutModel",
            "justify_items": null,
            "grid_row": null,
            "max_height": null,
            "align_content": null,
            "visibility": null,
            "align_self": null,
            "height": null,
            "min_height": null,
            "padding": null,
            "grid_auto_rows": null,
            "grid_gap": null,
            "max_width": null,
            "order": null,
            "_view_module_version": "1.2.0",
            "grid_template_areas": null,
            "object_position": null,
            "object_fit": null,
            "grid_auto_columns": null,
            "margin": null,
            "display": null,
            "left": null
          }
        },
        "d4c08ec999ef43cda6dc77a65fac38d5": {
          "model_module": "@jupyter-widgets/controls",
          "model_name": "ProgressStyleModel",
          "model_module_version": "1.5.0",
          "state": {
            "_view_name": "StyleView",
            "_model_name": "ProgressStyleModel",
            "description_width": "",
            "_view_module": "@jupyter-widgets/base",
            "_model_module_version": "1.5.0",
            "_view_count": null,
            "_view_module_version": "1.2.0",
            "bar_color": null,
            "_model_module": "@jupyter-widgets/controls"
          }
        },
        "fa2e9672ea114a64818d6f4edb6bfd9a": {
          "model_module": "@jupyter-widgets/base",
          "model_name": "LayoutModel",
          "model_module_version": "1.2.0",
          "state": {
            "_view_name": "LayoutView",
            "grid_template_rows": null,
            "right": null,
            "justify_content": null,
            "_view_module": "@jupyter-widgets/base",
            "overflow": null,
            "_model_module_version": "1.2.0",
            "_view_count": null,
            "flex_flow": null,
            "width": null,
            "min_width": null,
            "border": null,
            "align_items": null,
            "bottom": null,
            "_model_module": "@jupyter-widgets/base",
            "top": null,
            "grid_column": null,
            "overflow_y": null,
            "overflow_x": null,
            "grid_auto_flow": null,
            "grid_area": null,
            "grid_template_columns": null,
            "flex": null,
            "_model_name": "LayoutModel",
            "justify_items": null,
            "grid_row": null,
            "max_height": null,
            "align_content": null,
            "visibility": null,
            "align_self": null,
            "height": null,
            "min_height": null,
            "padding": null,
            "grid_auto_rows": null,
            "grid_gap": null,
            "max_width": null,
            "order": null,
            "_view_module_version": "1.2.0",
            "grid_template_areas": null,
            "object_position": null,
            "object_fit": null,
            "grid_auto_columns": null,
            "margin": null,
            "display": null,
            "left": null
          }
        },
        "b70c8cb21b124147ba41539e62264431": {
          "model_module": "@jupyter-widgets/controls",
          "model_name": "DescriptionStyleModel",
          "model_module_version": "1.5.0",
          "state": {
            "_view_name": "StyleView",
            "_model_name": "DescriptionStyleModel",
            "description_width": "",
            "_view_module": "@jupyter-widgets/base",
            "_model_module_version": "1.5.0",
            "_view_count": null,
            "_view_module_version": "1.2.0",
            "_model_module": "@jupyter-widgets/controls"
          }
        },
        "959e465783834b48965f9d2cb514a7da": {
          "model_module": "@jupyter-widgets/base",
          "model_name": "LayoutModel",
          "model_module_version": "1.2.0",
          "state": {
            "_view_name": "LayoutView",
            "grid_template_rows": null,
            "right": null,
            "justify_content": null,
            "_view_module": "@jupyter-widgets/base",
            "overflow": null,
            "_model_module_version": "1.2.0",
            "_view_count": null,
            "flex_flow": null,
            "width": null,
            "min_width": null,
            "border": null,
            "align_items": null,
            "bottom": null,
            "_model_module": "@jupyter-widgets/base",
            "top": null,
            "grid_column": null,
            "overflow_y": null,
            "overflow_x": null,
            "grid_auto_flow": null,
            "grid_area": null,
            "grid_template_columns": null,
            "flex": null,
            "_model_name": "LayoutModel",
            "justify_items": null,
            "grid_row": null,
            "max_height": null,
            "align_content": null,
            "visibility": null,
            "align_self": null,
            "height": null,
            "min_height": null,
            "padding": null,
            "grid_auto_rows": null,
            "grid_gap": null,
            "max_width": null,
            "order": null,
            "_view_module_version": "1.2.0",
            "grid_template_areas": null,
            "object_position": null,
            "object_fit": null,
            "grid_auto_columns": null,
            "margin": null,
            "display": null,
            "left": null
          }
        },
        "49ebb609df7c4a17ab2520c33255f107": {
          "model_module": "@jupyter-widgets/controls",
          "model_name": "HBoxModel",
          "model_module_version": "1.5.0",
          "state": {
            "_view_name": "HBoxView",
            "_dom_classes": [],
            "_model_name": "HBoxModel",
            "_view_module": "@jupyter-widgets/controls",
            "_model_module_version": "1.5.0",
            "_view_count": null,
            "_view_module_version": "1.5.0",
            "box_style": "",
            "layout": "IPY_MODEL_c52541e3ba974e70a542176a0da11cf0",
            "_model_module": "@jupyter-widgets/controls",
            "children": [
              "IPY_MODEL_c7177cadae0c408b9cba96f7ab586171",
              "IPY_MODEL_c3f6df16fae948bba3ed671285c4dc25",
              "IPY_MODEL_2b1fa4b54f7c4f0e92e2df7775dcb932"
            ]
          }
        },
        "c52541e3ba974e70a542176a0da11cf0": {
          "model_module": "@jupyter-widgets/base",
          "model_name": "LayoutModel",
          "model_module_version": "1.2.0",
          "state": {
            "_view_name": "LayoutView",
            "grid_template_rows": null,
            "right": null,
            "justify_content": null,
            "_view_module": "@jupyter-widgets/base",
            "overflow": null,
            "_model_module_version": "1.2.0",
            "_view_count": null,
            "flex_flow": null,
            "width": null,
            "min_width": null,
            "border": null,
            "align_items": null,
            "bottom": null,
            "_model_module": "@jupyter-widgets/base",
            "top": null,
            "grid_column": null,
            "overflow_y": null,
            "overflow_x": null,
            "grid_auto_flow": null,
            "grid_area": null,
            "grid_template_columns": null,
            "flex": null,
            "_model_name": "LayoutModel",
            "justify_items": null,
            "grid_row": null,
            "max_height": null,
            "align_content": null,
            "visibility": null,
            "align_self": null,
            "height": null,
            "min_height": null,
            "padding": null,
            "grid_auto_rows": null,
            "grid_gap": null,
            "max_width": null,
            "order": null,
            "_view_module_version": "1.2.0",
            "grid_template_areas": null,
            "object_position": null,
            "object_fit": null,
            "grid_auto_columns": null,
            "margin": null,
            "display": null,
            "left": null
          }
        },
        "c7177cadae0c408b9cba96f7ab586171": {
          "model_module": "@jupyter-widgets/controls",
          "model_name": "HTMLModel",
          "model_module_version": "1.5.0",
          "state": {
            "_view_name": "HTMLView",
            "style": "IPY_MODEL_96d7b3c3686c47a1b9ab0498d543b113",
            "_dom_classes": [],
            "description": "",
            "_model_name": "HTMLModel",
            "placeholder": "​",
            "_view_module": "@jupyter-widgets/controls",
            "_model_module_version": "1.5.0",
            "value": "spellcorrect_pipeline on transcriptions: 100%",
            "_view_count": null,
            "_view_module_version": "1.5.0",
            "description_tooltip": null,
            "_model_module": "@jupyter-widgets/controls",
            "layout": "IPY_MODEL_6135f89983994ca0b93e193f5767647c"
          }
        },
        "c3f6df16fae948bba3ed671285c4dc25": {
          "model_module": "@jupyter-widgets/controls",
          "model_name": "FloatProgressModel",
          "model_module_version": "1.5.0",
          "state": {
            "_view_name": "ProgressView",
            "style": "IPY_MODEL_5c1fbecd6cfa4943827b7f17355f3a93",
            "_dom_classes": [],
            "description": "",
            "_model_name": "FloatProgressModel",
            "bar_style": "success",
            "max": 1,
            "_view_module": "@jupyter-widgets/controls",
            "_model_module_version": "1.5.0",
            "value": 1,
            "_view_count": null,
            "_view_module_version": "1.5.0",
            "orientation": "horizontal",
            "min": 0,
            "description_tooltip": null,
            "_model_module": "@jupyter-widgets/controls",
            "layout": "IPY_MODEL_7801d87655644b8ea5b226681e2e86cf"
          }
        },
        "2b1fa4b54f7c4f0e92e2df7775dcb932": {
          "model_module": "@jupyter-widgets/controls",
          "model_name": "HTMLModel",
          "model_module_version": "1.5.0",
          "state": {
            "_view_name": "HTMLView",
            "style": "IPY_MODEL_c440da19a18e47d48c23a6c5673c0d9f",
            "_dom_classes": [],
            "description": "",
            "_model_name": "HTMLModel",
            "placeholder": "​",
            "_view_module": "@jupyter-widgets/controls",
            "_model_module_version": "1.5.0",
            "value": " 1/1 [00:00&lt;00:00,  1.39it/s]",
            "_view_count": null,
            "_view_module_version": "1.5.0",
            "description_tooltip": null,
            "_model_module": "@jupyter-widgets/controls",
            "layout": "IPY_MODEL_0bb1c9e832b9419d9dc1b90803349311"
          }
        },
        "96d7b3c3686c47a1b9ab0498d543b113": {
          "model_module": "@jupyter-widgets/controls",
          "model_name": "DescriptionStyleModel",
          "model_module_version": "1.5.0",
          "state": {
            "_view_name": "StyleView",
            "_model_name": "DescriptionStyleModel",
            "description_width": "",
            "_view_module": "@jupyter-widgets/base",
            "_model_module_version": "1.5.0",
            "_view_count": null,
            "_view_module_version": "1.2.0",
            "_model_module": "@jupyter-widgets/controls"
          }
        },
        "6135f89983994ca0b93e193f5767647c": {
          "model_module": "@jupyter-widgets/base",
          "model_name": "LayoutModel",
          "model_module_version": "1.2.0",
          "state": {
            "_view_name": "LayoutView",
            "grid_template_rows": null,
            "right": null,
            "justify_content": null,
            "_view_module": "@jupyter-widgets/base",
            "overflow": null,
            "_model_module_version": "1.2.0",
            "_view_count": null,
            "flex_flow": null,
            "width": null,
            "min_width": null,
            "border": null,
            "align_items": null,
            "bottom": null,
            "_model_module": "@jupyter-widgets/base",
            "top": null,
            "grid_column": null,
            "overflow_y": null,
            "overflow_x": null,
            "grid_auto_flow": null,
            "grid_area": null,
            "grid_template_columns": null,
            "flex": null,
            "_model_name": "LayoutModel",
            "justify_items": null,
            "grid_row": null,
            "max_height": null,
            "align_content": null,
            "visibility": null,
            "align_self": null,
            "height": null,
            "min_height": null,
            "padding": null,
            "grid_auto_rows": null,
            "grid_gap": null,
            "max_width": null,
            "order": null,
            "_view_module_version": "1.2.0",
            "grid_template_areas": null,
            "object_position": null,
            "object_fit": null,
            "grid_auto_columns": null,
            "margin": null,
            "display": null,
            "left": null
          }
        },
        "5c1fbecd6cfa4943827b7f17355f3a93": {
          "model_module": "@jupyter-widgets/controls",
          "model_name": "ProgressStyleModel",
          "model_module_version": "1.5.0",
          "state": {
            "_view_name": "StyleView",
            "_model_name": "ProgressStyleModel",
            "description_width": "",
            "_view_module": "@jupyter-widgets/base",
            "_model_module_version": "1.5.0",
            "_view_count": null,
            "_view_module_version": "1.2.0",
            "bar_color": null,
            "_model_module": "@jupyter-widgets/controls"
          }
        },
        "7801d87655644b8ea5b226681e2e86cf": {
          "model_module": "@jupyter-widgets/base",
          "model_name": "LayoutModel",
          "model_module_version": "1.2.0",
          "state": {
            "_view_name": "LayoutView",
            "grid_template_rows": null,
            "right": null,
            "justify_content": null,
            "_view_module": "@jupyter-widgets/base",
            "overflow": null,
            "_model_module_version": "1.2.0",
            "_view_count": null,
            "flex_flow": null,
            "width": null,
            "min_width": null,
            "border": null,
            "align_items": null,
            "bottom": null,
            "_model_module": "@jupyter-widgets/base",
            "top": null,
            "grid_column": null,
            "overflow_y": null,
            "overflow_x": null,
            "grid_auto_flow": null,
            "grid_area": null,
            "grid_template_columns": null,
            "flex": null,
            "_model_name": "LayoutModel",
            "justify_items": null,
            "grid_row": null,
            "max_height": null,
            "align_content": null,
            "visibility": null,
            "align_self": null,
            "height": null,
            "min_height": null,
            "padding": null,
            "grid_auto_rows": null,
            "grid_gap": null,
            "max_width": null,
            "order": null,
            "_view_module_version": "1.2.0",
            "grid_template_areas": null,
            "object_position": null,
            "object_fit": null,
            "grid_auto_columns": null,
            "margin": null,
            "display": null,
            "left": null
          }
        },
        "c440da19a18e47d48c23a6c5673c0d9f": {
          "model_module": "@jupyter-widgets/controls",
          "model_name": "DescriptionStyleModel",
          "model_module_version": "1.5.0",
          "state": {
            "_view_name": "StyleView",
            "_model_name": "DescriptionStyleModel",
            "description_width": "",
            "_view_module": "@jupyter-widgets/base",
            "_model_module_version": "1.5.0",
            "_view_count": null,
            "_view_module_version": "1.2.0",
            "_model_module": "@jupyter-widgets/controls"
          }
        },
        "0bb1c9e832b9419d9dc1b90803349311": {
          "model_module": "@jupyter-widgets/base",
          "model_name": "LayoutModel",
          "model_module_version": "1.2.0",
          "state": {
            "_view_name": "LayoutView",
            "grid_template_rows": null,
            "right": null,
            "justify_content": null,
            "_view_module": "@jupyter-widgets/base",
            "overflow": null,
            "_model_module_version": "1.2.0",
            "_view_count": null,
            "flex_flow": null,
            "width": null,
            "min_width": null,
            "border": null,
            "align_items": null,
            "bottom": null,
            "_model_module": "@jupyter-widgets/base",
            "top": null,
            "grid_column": null,
            "overflow_y": null,
            "overflow_x": null,
            "grid_auto_flow": null,
            "grid_area": null,
            "grid_template_columns": null,
            "flex": null,
            "_model_name": "LayoutModel",
            "justify_items": null,
            "grid_row": null,
            "max_height": null,
            "align_content": null,
            "visibility": null,
            "align_self": null,
            "height": null,
            "min_height": null,
            "padding": null,
            "grid_auto_rows": null,
            "grid_gap": null,
            "max_width": null,
            "order": null,
            "_view_module_version": "1.2.0",
            "grid_template_areas": null,
            "object_position": null,
            "object_fit": null,
            "grid_auto_columns": null,
            "margin": null,
            "display": null,
            "left": null
          }
        }
      }
    }
  },
  "nbformat": 4,
  "nbformat_minor": 0
}